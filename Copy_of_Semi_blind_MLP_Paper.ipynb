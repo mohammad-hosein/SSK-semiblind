{
  "nbformat": 4,
  "nbformat_minor": 0,
  "metadata": {
    "colab": {
      "name": "Copy of Semi blind MLP_Paper.ipynb",
      "provenance": [],
      "collapsed_sections": [],
      "authorship_tag": "ABX9TyO56fHj23bI//FJWO2h2Iit",
      "include_colab_link": true
    },
    "kernelspec": {
      "name": "python3",
      "display_name": "Python 3"
    },
    "language_info": {
      "name": "python"
    }
  },
  "cells": [
    {
      "cell_type": "markdown",
      "metadata": {
        "id": "view-in-github",
        "colab_type": "text"
      },
      "source": [
        "<a href=\"https://colab.research.google.com/github/mohammad-hosein/Semi-Blind-MLP/blob/main/Copy_of_Semi_blind_MLP_Paper.ipynb\" target=\"_parent\"><img src=\"https://colab.research.google.com/assets/colab-badge.svg\" alt=\"Open In Colab\"/></a>"
      ]
    },
    {
      "cell_type": "code",
      "execution_count": null,
      "metadata": {
        "id": "lScAEC5buZ19"
      },
      "outputs": [],
      "source": [
        "import numpy as np\n",
        "import math\n",
        "import pandas as pd\n",
        "import tensorflow as tf\n",
        "import random\n",
        "from tensorflow.keras.layers import Dense, Input,Dropout\n",
        "from tensorflow.keras.models import Sequential\n",
        "from tensorflow.keras.utils import to_categorical\n",
        "from sklearn.model_selection import train_test_split\n",
        "from sklearn import svm\n",
        "import matplotlib.pyplot as plt\n",
        "from sklearn.metrics import accuracy_score\n",
        "from sklearn.metrics import f1_score\n",
        "from sklearn.neighbors import KNeighborsClassifier"
      ]
    },
    {
      "cell_type": "markdown",
      "source": [
        "# Generating datasets and preprocessing"
      ],
      "metadata": {
        "id": "_ghXxUqWtzCO"
      }
    },
    {
      "cell_type": "code",
      "source": [
        "'''Fading channel for specific number of antennas at transmitter and receiver side'''\n",
        "j=complex(0,1)\n",
        "def fading_channel (Nt,Nr):\n",
        "  h_real=np.random.normal(0, 0.5, size=(Nr, Nt))\n",
        "  h_img=np.random.normal(0, 0.5, size=(Nr, Nt))\n",
        "  H=np.array(h_real + h_img*j, dtype=complex)\n",
        "  return H"
      ],
      "metadata": {
        "id": "HIpX9raqush5"
      },
      "execution_count": null,
      "outputs": []
    },
    {
      "cell_type": "code",
      "source": [
        "'''SSK Constellation set'''\n",
        "Constellation_set= np.zeros(shape= (4,4))\n",
        "Constellation_set[0]= np.array([1,0,0,0])\n",
        "Constellation_set[1]= np.array([0,1,0,0])\n",
        "Constellation_set[2]= np.array([0,0,1,0])\n",
        "Constellation_set[3]= np.array([0,0,0,1])"
      ],
      "metadata": {
        "id": "smFQAvvMuu_2"
      },
      "execution_count": null,
      "outputs": []
    },
    {
      "cell_type": "code",
      "source": [
        "H=fading_channel (4,2)"
      ],
      "metadata": {
        "id": "TNAkbVUmuzOw"
      },
      "execution_count": null,
      "outputs": []
    },
    {
      "cell_type": "code",
      "source": [
        "'''Complex noise'''\n",
        "def noise (N0,Nr):\n",
        "  n_real=np.random.normal(0, N0, size=Nr)\n",
        "  n_img=np.random.normal(0, N0, size=Nr)\n",
        "  noise=np.array(n_real + n_img*j, dtype=complex)\n",
        "  return noise"
      ],
      "metadata": {
        "id": "djASxRIhu2P1"
      },
      "execution_count": null,
      "outputs": []
    },
    {
      "cell_type": "code",
      "source": [
        "'''Creating pilot signals'''\n",
        "def training (Label):\n",
        "  i= 0\n",
        "  y= np.zeros(shape= (4,2),dtype = \"complex_\")\n",
        "  for i in range(Label):\n",
        "    y[i]=np.dot(H, Constellation_set[i], out=None)+noise (0.3,2)\n",
        "    i=i+1\n",
        "  y_real=y.real\n",
        "  y_imag=y.imag\n",
        "  y1= np.concatenate((y_real,y_imag), axis=1)\n",
        "  y2= pd.DataFrame(y1, columns=['Ant1_real','Ant2_real','Ant1_imag','Ant2_imag'])\n",
        "  y2['Label']=np.arange(0,4)\n",
        "  return y2"
      ],
      "metadata": {
        "id": "EmzyzlK2u3rF"
      },
      "execution_count": null,
      "outputs": []
    },
    {
      "cell_type": "code",
      "source": [
        "training (4)"
      ],
      "metadata": {
        "colab": {
          "base_uri": "https://localhost:8080/",
          "height": 174
        },
        "id": "pmVWjiYMcN5R",
        "outputId": "21041d09-27af-4adc-854c-d9910a7c393a"
      },
      "execution_count": null,
      "outputs": [
        {
          "output_type": "execute_result",
          "data": {
            "text/html": [
              "<div>\n",
              "<style scoped>\n",
              "    .dataframe tbody tr th:only-of-type {\n",
              "        vertical-align: middle;\n",
              "    }\n",
              "\n",
              "    .dataframe tbody tr th {\n",
              "        vertical-align: top;\n",
              "    }\n",
              "\n",
              "    .dataframe thead th {\n",
              "        text-align: right;\n",
              "    }\n",
              "</style>\n",
              "<table border=\"1\" class=\"dataframe\">\n",
              "  <thead>\n",
              "    <tr style=\"text-align: right;\">\n",
              "      <th></th>\n",
              "      <th>Ant1_real</th>\n",
              "      <th>Ant2_real</th>\n",
              "      <th>Ant1_imag</th>\n",
              "      <th>Ant2_imag</th>\n",
              "      <th>Label</th>\n",
              "    </tr>\n",
              "  </thead>\n",
              "  <tbody>\n",
              "    <tr>\n",
              "      <th>0</th>\n",
              "      <td>0.911633</td>\n",
              "      <td>1.487851</td>\n",
              "      <td>-0.352323</td>\n",
              "      <td>-0.290797</td>\n",
              "      <td>0</td>\n",
              "    </tr>\n",
              "    <tr>\n",
              "      <th>1</th>\n",
              "      <td>0.922463</td>\n",
              "      <td>0.399867</td>\n",
              "      <td>-0.495622</td>\n",
              "      <td>-0.129701</td>\n",
              "      <td>1</td>\n",
              "    </tr>\n",
              "    <tr>\n",
              "      <th>2</th>\n",
              "      <td>-0.215056</td>\n",
              "      <td>0.442316</td>\n",
              "      <td>0.361124</td>\n",
              "      <td>0.288289</td>\n",
              "      <td>2</td>\n",
              "    </tr>\n",
              "    <tr>\n",
              "      <th>3</th>\n",
              "      <td>0.794832</td>\n",
              "      <td>-0.142618</td>\n",
              "      <td>0.309549</td>\n",
              "      <td>0.010833</td>\n",
              "      <td>3</td>\n",
              "    </tr>\n",
              "  </tbody>\n",
              "</table>\n",
              "</div>"
            ],
            "text/plain": [
              "   Ant1_real  Ant2_real  Ant1_imag  Ant2_imag  Label\n",
              "0   0.911633   1.487851  -0.352323  -0.290797      0\n",
              "1   0.922463   0.399867  -0.495622  -0.129701      1\n",
              "2  -0.215056   0.442316   0.361124   0.288289      2\n",
              "3   0.794832  -0.142618   0.309549   0.010833      3"
            ]
          },
          "metadata": {},
          "execution_count": 7
        }
      ]
    },
    {
      "cell_type": "code",
      "source": [
        "'''Creating test signals'''\n",
        "def test_ (size):\n",
        "  y3=pd.DataFrame()\n",
        "  for i in range(size):\n",
        "    y= np.zeros(shape=(1,2),dtype = \"complex_\")\n",
        "    rand=random.randrange(0, 4, 1)\n",
        "    y=np.dot(H, Constellation_set[rand], out=None)+noise (0.3,2)\n",
        "    y_real=y.real\n",
        "    y_imag=y.imag\n",
        "    y1= np.concatenate((y_real,y_imag), axis=None)\n",
        "    y2=pd.DataFrame(y1.reshape((1,4)),columns=['Ant1_real','Ant2_real','Ant1_imag','Ant2_imag'])\n",
        "    if rand == 0 :\n",
        "      y2['Label']= 0\n",
        "    elif rand == 1 :\n",
        "      y2['Label']= 1\n",
        "    elif rand == 2 :\n",
        "      y2['Label']= 2\n",
        "    elif rand == 3 :\n",
        "      y2['Label']= 3\n",
        "    y3=pd.concat([y3,y2])\n",
        "  return y3"
      ],
      "metadata": {
        "id": "0m-sl6Dmu6x1"
      },
      "execution_count": null,
      "outputs": []
    },
    {
      "cell_type": "code",
      "source": [
        "test=test_ (2000)"
      ],
      "metadata": {
        "id": "2O0i-q4tL5XT"
      },
      "execution_count": null,
      "outputs": []
    },
    {
      "cell_type": "code",
      "source": [
        "test"
      ],
      "metadata": {
        "colab": {
          "base_uri": "https://localhost:8080/",
          "height": 423
        },
        "id": "N2ARU2w8c9Fy",
        "outputId": "afb820b1-2c7b-4cce-ead3-f27714883350"
      },
      "execution_count": null,
      "outputs": [
        {
          "output_type": "execute_result",
          "data": {
            "text/html": [
              "<div>\n",
              "<style scoped>\n",
              "    .dataframe tbody tr th:only-of-type {\n",
              "        vertical-align: middle;\n",
              "    }\n",
              "\n",
              "    .dataframe tbody tr th {\n",
              "        vertical-align: top;\n",
              "    }\n",
              "\n",
              "    .dataframe thead th {\n",
              "        text-align: right;\n",
              "    }\n",
              "</style>\n",
              "<table border=\"1\" class=\"dataframe\">\n",
              "  <thead>\n",
              "    <tr style=\"text-align: right;\">\n",
              "      <th></th>\n",
              "      <th>Ant1_real</th>\n",
              "      <th>Ant2_real</th>\n",
              "      <th>Ant1_imag</th>\n",
              "      <th>Ant2_imag</th>\n",
              "      <th>Label</th>\n",
              "    </tr>\n",
              "  </thead>\n",
              "  <tbody>\n",
              "    <tr>\n",
              "      <th>0</th>\n",
              "      <td>0.156717</td>\n",
              "      <td>1.021314</td>\n",
              "      <td>0.430401</td>\n",
              "      <td>0.316594</td>\n",
              "      <td>2</td>\n",
              "    </tr>\n",
              "    <tr>\n",
              "      <th>0</th>\n",
              "      <td>-0.134858</td>\n",
              "      <td>0.216980</td>\n",
              "      <td>0.157523</td>\n",
              "      <td>0.190325</td>\n",
              "      <td>2</td>\n",
              "    </tr>\n",
              "    <tr>\n",
              "      <th>0</th>\n",
              "      <td>0.818344</td>\n",
              "      <td>1.500191</td>\n",
              "      <td>-0.011949</td>\n",
              "      <td>-0.694231</td>\n",
              "      <td>0</td>\n",
              "    </tr>\n",
              "    <tr>\n",
              "      <th>0</th>\n",
              "      <td>0.037649</td>\n",
              "      <td>0.467689</td>\n",
              "      <td>-0.988157</td>\n",
              "      <td>-0.153773</td>\n",
              "      <td>1</td>\n",
              "    </tr>\n",
              "    <tr>\n",
              "      <th>0</th>\n",
              "      <td>0.120657</td>\n",
              "      <td>0.769165</td>\n",
              "      <td>-0.770513</td>\n",
              "      <td>0.549457</td>\n",
              "      <td>1</td>\n",
              "    </tr>\n",
              "    <tr>\n",
              "      <th>...</th>\n",
              "      <td>...</td>\n",
              "      <td>...</td>\n",
              "      <td>...</td>\n",
              "      <td>...</td>\n",
              "      <td>...</td>\n",
              "    </tr>\n",
              "    <tr>\n",
              "      <th>0</th>\n",
              "      <td>-0.273758</td>\n",
              "      <td>-0.134281</td>\n",
              "      <td>0.232637</td>\n",
              "      <td>-0.033292</td>\n",
              "      <td>2</td>\n",
              "    </tr>\n",
              "    <tr>\n",
              "      <th>0</th>\n",
              "      <td>-0.137803</td>\n",
              "      <td>-0.236525</td>\n",
              "      <td>0.473641</td>\n",
              "      <td>-0.070717</td>\n",
              "      <td>3</td>\n",
              "    </tr>\n",
              "    <tr>\n",
              "      <th>0</th>\n",
              "      <td>0.700472</td>\n",
              "      <td>-0.473087</td>\n",
              "      <td>0.207076</td>\n",
              "      <td>-0.172992</td>\n",
              "      <td>3</td>\n",
              "    </tr>\n",
              "    <tr>\n",
              "      <th>0</th>\n",
              "      <td>-0.661386</td>\n",
              "      <td>0.288964</td>\n",
              "      <td>0.495931</td>\n",
              "      <td>0.329054</td>\n",
              "      <td>2</td>\n",
              "    </tr>\n",
              "    <tr>\n",
              "      <th>0</th>\n",
              "      <td>0.249982</td>\n",
              "      <td>-0.186807</td>\n",
              "      <td>0.119211</td>\n",
              "      <td>-0.264214</td>\n",
              "      <td>3</td>\n",
              "    </tr>\n",
              "  </tbody>\n",
              "</table>\n",
              "<p>2000 rows × 5 columns</p>\n",
              "</div>"
            ],
            "text/plain": [
              "    Ant1_real  Ant2_real  Ant1_imag  Ant2_imag  Label\n",
              "0    0.156717   1.021314   0.430401   0.316594      2\n",
              "0   -0.134858   0.216980   0.157523   0.190325      2\n",
              "0    0.818344   1.500191  -0.011949  -0.694231      0\n",
              "0    0.037649   0.467689  -0.988157  -0.153773      1\n",
              "0    0.120657   0.769165  -0.770513   0.549457      1\n",
              "..        ...        ...        ...        ...    ...\n",
              "0   -0.273758  -0.134281   0.232637  -0.033292      2\n",
              "0   -0.137803  -0.236525   0.473641  -0.070717      3\n",
              "0    0.700472  -0.473087   0.207076  -0.172992      3\n",
              "0   -0.661386   0.288964   0.495931   0.329054      2\n",
              "0    0.249982  -0.186807   0.119211  -0.264214      3\n",
              "\n",
              "[2000 rows x 5 columns]"
            ]
          },
          "metadata": {},
          "execution_count": 10
        }
      ]
    },
    {
      "cell_type": "code",
      "source": [
        "m1=test[['Ant1_real','Ant2_real','Ant1_imag','Ant2_imag']]\n",
        "n1=test['Label']\n",
        "m1_NN=test[['Ant1_real','Ant2_real','Ant1_imag','Ant2_imag']]\n",
        "n1_NN=test['Label']\n",
        "n1_NN=to_categorical(n1, num_classes=4)"
      ],
      "metadata": {
        "id": "h2UU9WO7u8Vf"
      },
      "execution_count": null,
      "outputs": []
    },
    {
      "cell_type": "markdown",
      "source": [
        "# Generating virtual pilots (data augmentation)"
      ],
      "metadata": {
        "id": "U6thg7qouQJT"
      }
    },
    {
      "cell_type": "code",
      "source": [
        "'''Noise for data augmentation'''\n",
        "def noise_real (N0,Nr):\n",
        "  n_real=np.random.normal(0, N0, size=Nr)\n",
        "  return n_real"
      ],
      "metadata": {
        "id": "O8cCcZB2u-FF"
      },
      "execution_count": null,
      "outputs": []
    },
    {
      "cell_type": "code",
      "source": [
        "'''Data augmentation'''\n",
        "q1=training (4)\n",
        "l=pd.DataFrame()\n",
        "for i in range(500):\n",
        "  qs=q1[['Ant1_real','Ant2_real','Ant1_imag','Ant2_imag']]+noise_real(0.08,4)\n",
        "  qs['Label']=np.arange(0,4)\n",
        "  l = l.append(qs)\n",
        "  i=i+1"
      ],
      "metadata": {
        "id": "_1iiehyLu-gd"
      },
      "execution_count": null,
      "outputs": []
    },
    {
      "cell_type": "code",
      "source": [
        "'''Data augmentation\n",
        "q2=training (4)\n",
        "i=0\n",
        "for i in range(10):\n",
        "  qs=q2[['Ant1_real','Ant2_real','Ant3_real','Ant4_real','Ant1_imag','Ant2_imag','Ant3_imag','Ant4_imag']]+noise_real(0.05,8)\n",
        "  qs['Label']=np.arange(0,4)\n",
        "  l = l.append(qs)\n",
        "  i=i+1'''"
      ],
      "metadata": {
        "id": "qXkDSM5flmyT",
        "colab": {
          "base_uri": "https://localhost:8080/",
          "height": 54
        },
        "outputId": "83e33bb5-af02-4a67-ac42-43fe6d2e56ff"
      },
      "execution_count": null,
      "outputs": [
        {
          "output_type": "execute_result",
          "data": {
            "application/vnd.google.colaboratory.intrinsic+json": {
              "type": "string"
            },
            "text/plain": [
              "\"Data augmentation\\nq2=training (4)\\ni=0\\nfor i in range(10):\\n  qs=q2[['Ant1_real','Ant2_real','Ant3_real','Ant4_real','Ant1_imag','Ant2_imag','Ant3_imag','Ant4_imag']]+noise_real(0.05,8)\\n  qs['Label']=np.arange(0,4)\\n  l = l.append(qs)\\n  i=i+1\""
            ]
          },
          "metadata": {},
          "execution_count": 14
        }
      ]
    },
    {
      "cell_type": "code",
      "source": [
        "'''Data augmentation\n",
        "q3=training (4)\n",
        "i=0\n",
        "for i in range(10):\n",
        "  qs=q3[['Ant1_real','Ant2_real','Ant3_real','Ant4_real','Ant1_imag','Ant2_imag','Ant3_imag','Ant4_imag']]+noise_real(0.05,8)\n",
        "  qs['Label']=np.arange(0,4)\n",
        "  l = l.append(qs)\n",
        "  i=i+1'''"
      ],
      "metadata": {
        "id": "tyJ1k0EClp3J",
        "colab": {
          "base_uri": "https://localhost:8080/",
          "height": 54
        },
        "outputId": "13ac0321-2b6a-4b9c-8791-0d01a4ae81b9"
      },
      "execution_count": null,
      "outputs": [
        {
          "output_type": "execute_result",
          "data": {
            "application/vnd.google.colaboratory.intrinsic+json": {
              "type": "string"
            },
            "text/plain": [
              "\"Data augmentation\\nq3=training (4)\\ni=0\\nfor i in range(10):\\n  qs=q3[['Ant1_real','Ant2_real','Ant3_real','Ant4_real','Ant1_imag','Ant2_imag','Ant3_imag','Ant4_imag']]+noise_real(0.05,8)\\n  qs['Label']=np.arange(0,4)\\n  l = l.append(qs)\\n  i=i+1\""
            ]
          },
          "metadata": {},
          "execution_count": 15
        }
      ]
    },
    {
      "cell_type": "code",
      "source": [
        "'''Data augmentation\n",
        "q4=training (4)\n",
        "i=0\n",
        "for i in range(10):\n",
        "  qs=q4[['Ant1_real','Ant2_real','Ant3_real','Ant4_real','Ant1_imag','Ant2_imag','Ant3_imag','Ant4_imag']]+noise_real(0.03,8)\n",
        "  qs['Label']=np.arange(0,4)\n",
        "  l = l.append(qs)\n",
        "  i=i+1'''"
      ],
      "metadata": {
        "id": "uu6I8w4vlqg5",
        "colab": {
          "base_uri": "https://localhost:8080/",
          "height": 54
        },
        "outputId": "4601b984-8ed2-4a47-f948-1d204578dbc3"
      },
      "execution_count": null,
      "outputs": [
        {
          "output_type": "execute_result",
          "data": {
            "application/vnd.google.colaboratory.intrinsic+json": {
              "type": "string"
            },
            "text/plain": [
              "\"Data augmentation\\nq4=training (4)\\ni=0\\nfor i in range(10):\\n  qs=q4[['Ant1_real','Ant2_real','Ant3_real','Ant4_real','Ant1_imag','Ant2_imag','Ant3_imag','Ant4_imag']]+noise_real(0.03,8)\\n  qs['Label']=np.arange(0,4)\\n  l = l.append(qs)\\n  i=i+1\""
            ]
          },
          "metadata": {},
          "execution_count": 16
        }
      ]
    },
    {
      "cell_type": "markdown",
      "source": [
        "# Split dataset to train and test"
      ],
      "metadata": {
        "id": "5TuUK_qwulth"
      }
    },
    {
      "cell_type": "code",
      "source": [
        "'''Spliting features and labels'''\n",
        "#xy=pd.concat([l,q1])       #Enable when you want vp for SVM & KNN\n",
        "xy=q1                       #Enable when you dont want vp for SVM & KNN\n",
        "xy_NN=pd.concat([l,q1])     #Enable when you want vp for NN\n",
        "#xy_NN=q1                   #Enable when you dont want vp for NN"
      ],
      "metadata": {
        "id": "fIBCensrvCPd"
      },
      "execution_count": null,
      "outputs": []
    },
    {
      "cell_type": "code",
      "source": [
        "xy"
      ],
      "metadata": {
        "colab": {
          "base_uri": "https://localhost:8080/",
          "height": 174
        },
        "id": "0a42O1IoyBHx",
        "outputId": "91af698a-062c-4e7b-af9d-c06258157172"
      },
      "execution_count": null,
      "outputs": [
        {
          "output_type": "execute_result",
          "data": {
            "text/html": [
              "<div>\n",
              "<style scoped>\n",
              "    .dataframe tbody tr th:only-of-type {\n",
              "        vertical-align: middle;\n",
              "    }\n",
              "\n",
              "    .dataframe tbody tr th {\n",
              "        vertical-align: top;\n",
              "    }\n",
              "\n",
              "    .dataframe thead th {\n",
              "        text-align: right;\n",
              "    }\n",
              "</style>\n",
              "<table border=\"1\" class=\"dataframe\">\n",
              "  <thead>\n",
              "    <tr style=\"text-align: right;\">\n",
              "      <th></th>\n",
              "      <th>Ant1_real</th>\n",
              "      <th>Ant2_real</th>\n",
              "      <th>Ant1_imag</th>\n",
              "      <th>Ant2_imag</th>\n",
              "      <th>Label</th>\n",
              "    </tr>\n",
              "  </thead>\n",
              "  <tbody>\n",
              "    <tr>\n",
              "      <th>0</th>\n",
              "      <td>1.055780</td>\n",
              "      <td>1.361979</td>\n",
              "      <td>-0.038268</td>\n",
              "      <td>-0.337070</td>\n",
              "      <td>0</td>\n",
              "    </tr>\n",
              "    <tr>\n",
              "      <th>1</th>\n",
              "      <td>0.875746</td>\n",
              "      <td>0.939822</td>\n",
              "      <td>-0.759560</td>\n",
              "      <td>0.041247</td>\n",
              "      <td>1</td>\n",
              "    </tr>\n",
              "    <tr>\n",
              "      <th>2</th>\n",
              "      <td>0.126277</td>\n",
              "      <td>0.569460</td>\n",
              "      <td>0.519777</td>\n",
              "      <td>0.750072</td>\n",
              "      <td>2</td>\n",
              "    </tr>\n",
              "    <tr>\n",
              "      <th>3</th>\n",
              "      <td>0.551574</td>\n",
              "      <td>0.256281</td>\n",
              "      <td>0.124663</td>\n",
              "      <td>-0.049464</td>\n",
              "      <td>3</td>\n",
              "    </tr>\n",
              "  </tbody>\n",
              "</table>\n",
              "</div>"
            ],
            "text/plain": [
              "   Ant1_real  Ant2_real  Ant1_imag  Ant2_imag  Label\n",
              "0   1.055780   1.361979  -0.038268  -0.337070      0\n",
              "1   0.875746   0.939822  -0.759560   0.041247      1\n",
              "2   0.126277   0.569460   0.519777   0.750072      2\n",
              "3   0.551574   0.256281   0.124663  -0.049464      3"
            ]
          },
          "metadata": {},
          "execution_count": 18
        }
      ]
    },
    {
      "cell_type": "code",
      "source": [
        "xy_NN"
      ],
      "metadata": {
        "colab": {
          "base_uri": "https://localhost:8080/",
          "height": 423
        },
        "id": "m88R0xiBw5zl",
        "outputId": "cf3ff57d-a917-44b4-8e12-1c3174d662a2"
      },
      "execution_count": null,
      "outputs": [
        {
          "output_type": "execute_result",
          "data": {
            "text/html": [
              "<div>\n",
              "<style scoped>\n",
              "    .dataframe tbody tr th:only-of-type {\n",
              "        vertical-align: middle;\n",
              "    }\n",
              "\n",
              "    .dataframe tbody tr th {\n",
              "        vertical-align: top;\n",
              "    }\n",
              "\n",
              "    .dataframe thead th {\n",
              "        text-align: right;\n",
              "    }\n",
              "</style>\n",
              "<table border=\"1\" class=\"dataframe\">\n",
              "  <thead>\n",
              "    <tr style=\"text-align: right;\">\n",
              "      <th></th>\n",
              "      <th>Ant1_real</th>\n",
              "      <th>Ant2_real</th>\n",
              "      <th>Ant1_imag</th>\n",
              "      <th>Ant2_imag</th>\n",
              "      <th>Label</th>\n",
              "    </tr>\n",
              "  </thead>\n",
              "  <tbody>\n",
              "    <tr>\n",
              "      <th>0</th>\n",
              "      <td>1.097513</td>\n",
              "      <td>1.330416</td>\n",
              "      <td>0.049237</td>\n",
              "      <td>-0.449648</td>\n",
              "      <td>0</td>\n",
              "    </tr>\n",
              "    <tr>\n",
              "      <th>1</th>\n",
              "      <td>0.917479</td>\n",
              "      <td>0.908258</td>\n",
              "      <td>-0.672055</td>\n",
              "      <td>-0.071331</td>\n",
              "      <td>1</td>\n",
              "    </tr>\n",
              "    <tr>\n",
              "      <th>2</th>\n",
              "      <td>0.168010</td>\n",
              "      <td>0.537896</td>\n",
              "      <td>0.607282</td>\n",
              "      <td>0.637494</td>\n",
              "      <td>2</td>\n",
              "    </tr>\n",
              "    <tr>\n",
              "      <th>3</th>\n",
              "      <td>0.593307</td>\n",
              "      <td>0.224717</td>\n",
              "      <td>0.212168</td>\n",
              "      <td>-0.162043</td>\n",
              "      <td>3</td>\n",
              "    </tr>\n",
              "    <tr>\n",
              "      <th>0</th>\n",
              "      <td>1.039448</td>\n",
              "      <td>1.505742</td>\n",
              "      <td>-0.045933</td>\n",
              "      <td>-0.351884</td>\n",
              "      <td>0</td>\n",
              "    </tr>\n",
              "    <tr>\n",
              "      <th>...</th>\n",
              "      <td>...</td>\n",
              "      <td>...</td>\n",
              "      <td>...</td>\n",
              "      <td>...</td>\n",
              "      <td>...</td>\n",
              "    </tr>\n",
              "    <tr>\n",
              "      <th>3</th>\n",
              "      <td>0.536157</td>\n",
              "      <td>0.171276</td>\n",
              "      <td>0.095068</td>\n",
              "      <td>-0.085200</td>\n",
              "      <td>3</td>\n",
              "    </tr>\n",
              "    <tr>\n",
              "      <th>0</th>\n",
              "      <td>1.055780</td>\n",
              "      <td>1.361979</td>\n",
              "      <td>-0.038268</td>\n",
              "      <td>-0.337070</td>\n",
              "      <td>0</td>\n",
              "    </tr>\n",
              "    <tr>\n",
              "      <th>1</th>\n",
              "      <td>0.875746</td>\n",
              "      <td>0.939822</td>\n",
              "      <td>-0.759560</td>\n",
              "      <td>0.041247</td>\n",
              "      <td>1</td>\n",
              "    </tr>\n",
              "    <tr>\n",
              "      <th>2</th>\n",
              "      <td>0.126277</td>\n",
              "      <td>0.569460</td>\n",
              "      <td>0.519777</td>\n",
              "      <td>0.750072</td>\n",
              "      <td>2</td>\n",
              "    </tr>\n",
              "    <tr>\n",
              "      <th>3</th>\n",
              "      <td>0.551574</td>\n",
              "      <td>0.256281</td>\n",
              "      <td>0.124663</td>\n",
              "      <td>-0.049464</td>\n",
              "      <td>3</td>\n",
              "    </tr>\n",
              "  </tbody>\n",
              "</table>\n",
              "<p>2004 rows × 5 columns</p>\n",
              "</div>"
            ],
            "text/plain": [
              "    Ant1_real  Ant2_real  Ant1_imag  Ant2_imag  Label\n",
              "0    1.097513   1.330416   0.049237  -0.449648      0\n",
              "1    0.917479   0.908258  -0.672055  -0.071331      1\n",
              "2    0.168010   0.537896   0.607282   0.637494      2\n",
              "3    0.593307   0.224717   0.212168  -0.162043      3\n",
              "0    1.039448   1.505742  -0.045933  -0.351884      0\n",
              "..        ...        ...        ...        ...    ...\n",
              "3    0.536157   0.171276   0.095068  -0.085200      3\n",
              "0    1.055780   1.361979  -0.038268  -0.337070      0\n",
              "1    0.875746   0.939822  -0.759560   0.041247      1\n",
              "2    0.126277   0.569460   0.519777   0.750072      2\n",
              "3    0.551574   0.256281   0.124663  -0.049464      3\n",
              "\n",
              "[2004 rows x 5 columns]"
            ]
          },
          "metadata": {},
          "execution_count": 19
        }
      ]
    },
    {
      "cell_type": "code",
      "source": [
        "'''preprocessing for NN'''\n",
        "x_NN=xy_NN[['Ant1_real','Ant2_real','Ant1_imag','Ant2_imag']]\n",
        "y_NN=xy_NN['Label']\n",
        "'''Labels one hot encoding'''\n",
        "y_NN=to_categorical(y_NN, num_classes=4)\n",
        "'''Spliting data to train and validation'''\n",
        "X_train_NN, X_test_NN, y_train_NN, y_test_NN = train_test_split(x_NN, y_NN, test_size=0.01, random_state=101)"
      ],
      "metadata": {
        "id": "PoetTn9uxIBM"
      },
      "execution_count": null,
      "outputs": []
    },
    {
      "cell_type": "code",
      "source": [
        "'''Spliting features and labels for SVM & KNN'''\n",
        "x=xy[['Ant1_real','Ant2_real','Ant1_imag','Ant2_imag']]\n",
        "y=xy['Label']"
      ],
      "metadata": {
        "id": "QQPFkgHvvDIF"
      },
      "execution_count": null,
      "outputs": []
    },
    {
      "cell_type": "code",
      "source": [
        "xy"
      ],
      "metadata": {
        "colab": {
          "base_uri": "https://localhost:8080/",
          "height": 174
        },
        "id": "tkKScYCtvDQj",
        "outputId": "a1f03f8b-0cc6-4056-e247-591f6357b886"
      },
      "execution_count": null,
      "outputs": [
        {
          "output_type": "execute_result",
          "data": {
            "text/html": [
              "<div>\n",
              "<style scoped>\n",
              "    .dataframe tbody tr th:only-of-type {\n",
              "        vertical-align: middle;\n",
              "    }\n",
              "\n",
              "    .dataframe tbody tr th {\n",
              "        vertical-align: top;\n",
              "    }\n",
              "\n",
              "    .dataframe thead th {\n",
              "        text-align: right;\n",
              "    }\n",
              "</style>\n",
              "<table border=\"1\" class=\"dataframe\">\n",
              "  <thead>\n",
              "    <tr style=\"text-align: right;\">\n",
              "      <th></th>\n",
              "      <th>Ant1_real</th>\n",
              "      <th>Ant2_real</th>\n",
              "      <th>Ant1_imag</th>\n",
              "      <th>Ant2_imag</th>\n",
              "      <th>Label</th>\n",
              "    </tr>\n",
              "  </thead>\n",
              "  <tbody>\n",
              "    <tr>\n",
              "      <th>0</th>\n",
              "      <td>1.055780</td>\n",
              "      <td>1.361979</td>\n",
              "      <td>-0.038268</td>\n",
              "      <td>-0.337070</td>\n",
              "      <td>0</td>\n",
              "    </tr>\n",
              "    <tr>\n",
              "      <th>1</th>\n",
              "      <td>0.875746</td>\n",
              "      <td>0.939822</td>\n",
              "      <td>-0.759560</td>\n",
              "      <td>0.041247</td>\n",
              "      <td>1</td>\n",
              "    </tr>\n",
              "    <tr>\n",
              "      <th>2</th>\n",
              "      <td>0.126277</td>\n",
              "      <td>0.569460</td>\n",
              "      <td>0.519777</td>\n",
              "      <td>0.750072</td>\n",
              "      <td>2</td>\n",
              "    </tr>\n",
              "    <tr>\n",
              "      <th>3</th>\n",
              "      <td>0.551574</td>\n",
              "      <td>0.256281</td>\n",
              "      <td>0.124663</td>\n",
              "      <td>-0.049464</td>\n",
              "      <td>3</td>\n",
              "    </tr>\n",
              "  </tbody>\n",
              "</table>\n",
              "</div>"
            ],
            "text/plain": [
              "   Ant1_real  Ant2_real  Ant1_imag  Ant2_imag  Label\n",
              "0   1.055780   1.361979  -0.038268  -0.337070      0\n",
              "1   0.875746   0.939822  -0.759560   0.041247      1\n",
              "2   0.126277   0.569460   0.519777   0.750072      2\n",
              "3   0.551574   0.256281   0.124663  -0.049464      3"
            ]
          },
          "metadata": {},
          "execution_count": 22
        }
      ]
    },
    {
      "cell_type": "code",
      "source": [
        "'''Spliting data to train and validation'''\n",
        "#X_train, X_test, y_train, y_test = train_test_split(x, y, test_size=0.000001, random_state=101)\n",
        "X_train=x\n",
        "y_train=y"
      ],
      "metadata": {
        "id": "CyRdviGDvDVk"
      },
      "execution_count": null,
      "outputs": []
    },
    {
      "cell_type": "code",
      "source": [
        "X_train.shape"
      ],
      "metadata": {
        "colab": {
          "base_uri": "https://localhost:8080/"
        },
        "id": "qidmMccBvDX5",
        "outputId": "9e3ee70b-00e3-4ce7-f567-0ebce3ca76c0"
      },
      "execution_count": null,
      "outputs": [
        {
          "output_type": "execute_result",
          "data": {
            "text/plain": [
              "(4, 4)"
            ]
          },
          "metadata": {},
          "execution_count": 24
        }
      ]
    },
    {
      "cell_type": "code",
      "source": [
        "y_train.shape"
      ],
      "metadata": {
        "colab": {
          "base_uri": "https://localhost:8080/"
        },
        "id": "bGEZXDgdvDao",
        "outputId": "033a5e40-e037-4ae4-eb66-f423a9270060"
      },
      "execution_count": null,
      "outputs": [
        {
          "output_type": "execute_result",
          "data": {
            "text/plain": [
              "(4,)"
            ]
          },
          "metadata": {},
          "execution_count": 25
        }
      ]
    },
    {
      "cell_type": "markdown",
      "source": [
        "# Building neural network and training"
      ],
      "metadata": {
        "id": "h8YwCz66u46S"
      }
    },
    {
      "cell_type": "code",
      "source": [
        "'''Creating neural network'''\n",
        "model = Sequential()\n",
        "'''Creating neural network'''\n",
        "model = Sequential()\n",
        "model.add(Input(shape=(4)))\n",
        "model.add(Dense(32, activation='relu'))\n",
        "model.add(Dense(64, activation='relu'))\n",
        "model.add(Dense(64, activation='relu'))\n",
        "model.add(Dense(32, activation='relu'))\n",
        "model.add(Dense(4, activation='softmax'))"
      ],
      "metadata": {
        "id": "90leyV_jQ1wQ"
      },
      "execution_count": null,
      "outputs": []
    },
    {
      "cell_type": "code",
      "source": [
        "model.summary()\n"
      ],
      "metadata": {
        "colab": {
          "base_uri": "https://localhost:8080/"
        },
        "id": "gvjX5EpfQ223",
        "outputId": "88e26d6f-3394-496e-84a4-d2b3388d9901"
      },
      "execution_count": null,
      "outputs": [
        {
          "output_type": "stream",
          "name": "stdout",
          "text": [
            "Model: \"sequential_1\"\n",
            "_________________________________________________________________\n",
            " Layer (type)                Output Shape              Param #   \n",
            "=================================================================\n",
            " dense (Dense)               (None, 32)                160       \n",
            "                                                                 \n",
            " dense_1 (Dense)             (None, 64)                2112      \n",
            "                                                                 \n",
            " dense_2 (Dense)             (None, 64)                4160      \n",
            "                                                                 \n",
            " dense_3 (Dense)             (None, 32)                2080      \n",
            "                                                                 \n",
            " dense_4 (Dense)             (None, 4)                 132       \n",
            "                                                                 \n",
            "=================================================================\n",
            "Total params: 8,644\n",
            "Trainable params: 8,644\n",
            "Non-trainable params: 0\n",
            "_________________________________________________________________\n"
          ]
        }
      ]
    },
    {
      "cell_type": "code",
      "source": [
        "model.compile(loss='categorical_crossentropy', optimizer='adam', metrics=['accuracy'])"
      ],
      "metadata": {
        "id": "N2QwheWqQ4zA"
      },
      "execution_count": null,
      "outputs": []
    },
    {
      "cell_type": "code",
      "source": [
        "NN=model.fit(X_train_NN, y_train_NN, batch_size=16, epochs=2, validation_data=(X_test_NN,y_test_NN))"
      ],
      "metadata": {
        "colab": {
          "base_uri": "https://localhost:8080/"
        },
        "id": "G_kHgmeyQ7UX",
        "outputId": "15520dc5-e342-4c59-c3a2-22ff92ebd850"
      },
      "execution_count": null,
      "outputs": [
        {
          "output_type": "stream",
          "name": "stdout",
          "text": [
            "Epoch 1/2\n",
            "124/124 [==============================] - 3s 9ms/step - loss: 0.5619 - accuracy: 0.8185 - val_loss: 0.0257 - val_accuracy: 1.0000\n",
            "Epoch 2/2\n",
            "124/124 [==============================] - 1s 5ms/step - loss: 0.0059 - accuracy: 1.0000 - val_loss: 0.0072 - val_accuracy: 1.0000\n"
          ]
        }
      ]
    },
    {
      "cell_type": "markdown",
      "source": [
        "# Training KNN and SVM model"
      ],
      "metadata": {
        "id": "tfUo1jOZvEfx"
      }
    },
    {
      "cell_type": "code",
      "source": [
        "rbf = svm.SVC(kernel='rbf', gamma=0.5, C=0.1).fit(X_train, y_train)\n",
        "poly = svm.SVC(kernel='poly', degree=3, C=1).fit(X_train, y_train)\n",
        "knn = KNeighborsClassifier(n_neighbors=1).fit(X_train,y_train)"
      ],
      "metadata": {
        "id": "CrNclVpqvlbM"
      },
      "execution_count": null,
      "outputs": []
    },
    {
      "cell_type": "markdown",
      "source": [
        "# Testing models on test dataset "
      ],
      "metadata": {
        "id": "dCpcNEsovVqY"
      }
    },
    {
      "cell_type": "code",
      "source": [
        "poly_pred = poly.predict(m1)\n",
        "rbf_pred = rbf.predict(m1)\n",
        "knn_pred = knn.predict(m1)"
      ],
      "metadata": {
        "id": "gKG7WPpWvpKk"
      },
      "execution_count": null,
      "outputs": []
    },
    {
      "cell_type": "code",
      "source": [
        "m1"
      ],
      "metadata": {
        "colab": {
          "base_uri": "https://localhost:8080/",
          "height": 423
        },
        "id": "R6rLNQa3Cqa4",
        "outputId": "b5948332-8efd-4348-da8d-6a0df117b1bb"
      },
      "execution_count": null,
      "outputs": [
        {
          "output_type": "execute_result",
          "data": {
            "text/html": [
              "<div>\n",
              "<style scoped>\n",
              "    .dataframe tbody tr th:only-of-type {\n",
              "        vertical-align: middle;\n",
              "    }\n",
              "\n",
              "    .dataframe tbody tr th {\n",
              "        vertical-align: top;\n",
              "    }\n",
              "\n",
              "    .dataframe thead th {\n",
              "        text-align: right;\n",
              "    }\n",
              "</style>\n",
              "<table border=\"1\" class=\"dataframe\">\n",
              "  <thead>\n",
              "    <tr style=\"text-align: right;\">\n",
              "      <th></th>\n",
              "      <th>Ant1_real</th>\n",
              "      <th>Ant2_real</th>\n",
              "      <th>Ant1_imag</th>\n",
              "      <th>Ant2_imag</th>\n",
              "    </tr>\n",
              "  </thead>\n",
              "  <tbody>\n",
              "    <tr>\n",
              "      <th>0</th>\n",
              "      <td>0.156717</td>\n",
              "      <td>1.021314</td>\n",
              "      <td>0.430401</td>\n",
              "      <td>0.316594</td>\n",
              "    </tr>\n",
              "    <tr>\n",
              "      <th>0</th>\n",
              "      <td>-0.134858</td>\n",
              "      <td>0.216980</td>\n",
              "      <td>0.157523</td>\n",
              "      <td>0.190325</td>\n",
              "    </tr>\n",
              "    <tr>\n",
              "      <th>0</th>\n",
              "      <td>0.818344</td>\n",
              "      <td>1.500191</td>\n",
              "      <td>-0.011949</td>\n",
              "      <td>-0.694231</td>\n",
              "    </tr>\n",
              "    <tr>\n",
              "      <th>0</th>\n",
              "      <td>0.037649</td>\n",
              "      <td>0.467689</td>\n",
              "      <td>-0.988157</td>\n",
              "      <td>-0.153773</td>\n",
              "    </tr>\n",
              "    <tr>\n",
              "      <th>0</th>\n",
              "      <td>0.120657</td>\n",
              "      <td>0.769165</td>\n",
              "      <td>-0.770513</td>\n",
              "      <td>0.549457</td>\n",
              "    </tr>\n",
              "    <tr>\n",
              "      <th>...</th>\n",
              "      <td>...</td>\n",
              "      <td>...</td>\n",
              "      <td>...</td>\n",
              "      <td>...</td>\n",
              "    </tr>\n",
              "    <tr>\n",
              "      <th>0</th>\n",
              "      <td>-0.273758</td>\n",
              "      <td>-0.134281</td>\n",
              "      <td>0.232637</td>\n",
              "      <td>-0.033292</td>\n",
              "    </tr>\n",
              "    <tr>\n",
              "      <th>0</th>\n",
              "      <td>-0.137803</td>\n",
              "      <td>-0.236525</td>\n",
              "      <td>0.473641</td>\n",
              "      <td>-0.070717</td>\n",
              "    </tr>\n",
              "    <tr>\n",
              "      <th>0</th>\n",
              "      <td>0.700472</td>\n",
              "      <td>-0.473087</td>\n",
              "      <td>0.207076</td>\n",
              "      <td>-0.172992</td>\n",
              "    </tr>\n",
              "    <tr>\n",
              "      <th>0</th>\n",
              "      <td>-0.661386</td>\n",
              "      <td>0.288964</td>\n",
              "      <td>0.495931</td>\n",
              "      <td>0.329054</td>\n",
              "    </tr>\n",
              "    <tr>\n",
              "      <th>0</th>\n",
              "      <td>0.249982</td>\n",
              "      <td>-0.186807</td>\n",
              "      <td>0.119211</td>\n",
              "      <td>-0.264214</td>\n",
              "    </tr>\n",
              "  </tbody>\n",
              "</table>\n",
              "<p>2000 rows × 4 columns</p>\n",
              "</div>"
            ],
            "text/plain": [
              "    Ant1_real  Ant2_real  Ant1_imag  Ant2_imag\n",
              "0    0.156717   1.021314   0.430401   0.316594\n",
              "0   -0.134858   0.216980   0.157523   0.190325\n",
              "0    0.818344   1.500191  -0.011949  -0.694231\n",
              "0    0.037649   0.467689  -0.988157  -0.153773\n",
              "0    0.120657   0.769165  -0.770513   0.549457\n",
              "..        ...        ...        ...        ...\n",
              "0   -0.273758  -0.134281   0.232637  -0.033292\n",
              "0   -0.137803  -0.236525   0.473641  -0.070717\n",
              "0    0.700472  -0.473087   0.207076  -0.172992\n",
              "0   -0.661386   0.288964   0.495931   0.329054\n",
              "0    0.249982  -0.186807   0.119211  -0.264214\n",
              "\n",
              "[2000 rows x 4 columns]"
            ]
          },
          "metadata": {},
          "execution_count": 32
        }
      ]
    },
    {
      "cell_type": "code",
      "source": [
        "knn_accuracy = accuracy_score(n1, knn_pred)\n",
        "knn_f1 = f1_score(n1, knn_pred, average='weighted')\n",
        "print('Accuracy (KNN): ', \"%.2f\" % (knn_accuracy*100))\n",
        "print('F1 (KNN): ', \"%.2f\" % (knn_f1*100))"
      ],
      "metadata": {
        "id": "rqpC4utgvPp-",
        "colab": {
          "base_uri": "https://localhost:8080/"
        },
        "outputId": "607936da-b190-4733-fcc1-7b6fb9c57a58"
      },
      "execution_count": null,
      "outputs": [
        {
          "output_type": "stream",
          "name": "stdout",
          "text": [
            "Accuracy (KNN):  83.55\n",
            "F1 (KNN):  84.12\n"
          ]
        }
      ]
    },
    {
      "cell_type": "code",
      "source": [
        "poly_accuracy = accuracy_score(n1, poly_pred)\n",
        "poly_f1 = f1_score(n1, poly_pred, average='weighted')\n",
        "print('Accuracy (Polynomial Kernel): ', \"%.2f\" % (poly_accuracy*100))\n",
        "print('F1 (Polynomial Kernel): ', \"%.2f\" % (poly_f1*100))"
      ],
      "metadata": {
        "colab": {
          "base_uri": "https://localhost:8080/"
        },
        "id": "t2TRhEj2vpNO",
        "outputId": "2f26149c-f419-4b76-fa86-58e3b1b77bc4"
      },
      "execution_count": null,
      "outputs": [
        {
          "output_type": "stream",
          "name": "stdout",
          "text": [
            "Accuracy (Polynomial Kernel):  58.40\n",
            "F1 (Polynomial Kernel):  57.69\n"
          ]
        }
      ]
    },
    {
      "cell_type": "code",
      "source": [
        "rbf_accuracy = accuracy_score(n1, rbf_pred)\n",
        "rbf_f1 = f1_score(n1, rbf_pred, average='weighted')\n",
        "print('Accuracy (RBF Kernel): ', \"%.2f\" % (rbf_accuracy*100))\n",
        "print('F1 (RBF Kernel): ', \"%.2f\" % (rbf_f1*100))"
      ],
      "metadata": {
        "colab": {
          "base_uri": "https://localhost:8080/"
        },
        "id": "5Fzn97D1vpQE",
        "outputId": "395dc169-30ad-46ff-98b7-38daaddb7de8"
      },
      "execution_count": null,
      "outputs": [
        {
          "output_type": "stream",
          "name": "stdout",
          "text": [
            "Accuracy (RBF Kernel):  83.55\n",
            "F1 (RBF Kernel):  84.12\n"
          ]
        }
      ]
    },
    {
      "cell_type": "code",
      "source": [
        "'''Test the model'''\n",
        "NN_Accuracy=model.evaluate(m1_NN, n1_NN)"
      ],
      "metadata": {
        "colab": {
          "base_uri": "https://localhost:8080/"
        },
        "id": "qY-8zh_ZQ-e3",
        "outputId": "c3ddb6cb-a186-478a-80c4-4fffb50ff28f"
      },
      "execution_count": null,
      "outputs": [
        {
          "output_type": "stream",
          "name": "stdout",
          "text": [
            "63/63 [==============================] - 0s 4ms/step - loss: 0.5454 - accuracy: 0.8380\n"
          ]
        }
      ]
    },
    {
      "cell_type": "markdown",
      "source": [
        "#Choosing K value"
      ],
      "metadata": {
        "id": "NeoiTpR6t09x"
      }
    },
    {
      "cell_type": "code",
      "source": [
        "'''error_rate = []\n",
        "\n",
        "for i in range(1,40):\n",
        "    knn = KNeighborsClassifier(n_neighbors=i)\n",
        "    knn.fit(X_train,y_train)\n",
        "    pred_i = knn.predict(m1)\n",
        "    error_rate.append(np.mean(pred_i != n1))'''"
      ],
      "metadata": {
        "colab": {
          "base_uri": "https://localhost:8080/",
          "height": 54
        },
        "id": "j6DXbwLPt0IT",
        "outputId": "c603d5b0-8608-44e8-f522-39f15dde74ab"
      },
      "execution_count": null,
      "outputs": [
        {
          "output_type": "execute_result",
          "data": {
            "application/vnd.google.colaboratory.intrinsic+json": {
              "type": "string"
            },
            "text/plain": [
              "'error_rate = []\\n\\nfor i in range(1,40):\\n    knn = KNeighborsClassifier(n_neighbors=i)\\n    knn.fit(X_train,y_train)\\n    pred_i = knn.predict(m1)\\n    error_rate.append(np.mean(pred_i != n1))'"
            ]
          },
          "metadata": {},
          "execution_count": 37
        }
      ]
    },
    {
      "cell_type": "code",
      "source": [
        "'''plt.figure(figsize=(10,6))\n",
        "plt.plot(range(1,40),error_rate,color='blue',ls='--',marker='o',markerfacecolor='red',markersize=10)\n",
        "plt.title('Error Rate vs. K Values')\n",
        "plt.xlabel('K')\n",
        "plt.ylabel('Error Rate')'''"
      ],
      "metadata": {
        "id": "JQlQKs_-t80B",
        "colab": {
          "base_uri": "https://localhost:8080/",
          "height": 54
        },
        "outputId": "85e1eebd-2c45-4f35-8434-f6da11465e75"
      },
      "execution_count": null,
      "outputs": [
        {
          "output_type": "execute_result",
          "data": {
            "application/vnd.google.colaboratory.intrinsic+json": {
              "type": "string"
            },
            "text/plain": [
              "\"plt.figure(figsize=(10,6))\\nplt.plot(range(1,40),error_rate,color='blue',ls='--',marker='o',markerfacecolor='red',markersize=10)\\nplt.title('Error Rate vs. K Values')\\nplt.xlabel('K')\\nplt.ylabel('Error Rate')\""
            ]
          },
          "metadata": {},
          "execution_count": 38
        }
      ]
    }
  ]
}