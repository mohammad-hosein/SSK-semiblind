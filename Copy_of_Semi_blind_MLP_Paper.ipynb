{
  "nbformat": 4,
  "nbformat_minor": 0,
  "metadata": {
    "colab": {
      "name": "Copy of Semi blind MLP_Paper.ipynb",
      "provenance": [],
      "collapsed_sections": [],
      "authorship_tag": "ABX9TyMhrOAjzzKAYJ7IxoA8xPQ/",
      "include_colab_link": true
    },
    "kernelspec": {
      "name": "python3",
      "display_name": "Python 3"
    },
    "language_info": {
      "name": "python"
    }
  },
  "cells": [
    {
      "cell_type": "markdown",
      "metadata": {
        "id": "view-in-github",
        "colab_type": "text"
      },
      "source": [
        "<a href=\"https://colab.research.google.com/github/mohammad-hosein/Semi-Blind-MLP/blob/main/Copy_of_Semi_blind_MLP_Paper.ipynb\" target=\"_parent\"><img src=\"https://colab.research.google.com/assets/colab-badge.svg\" alt=\"Open In Colab\"/></a>"
      ]
    },
    {
      "cell_type": "code",
      "execution_count": 1,
      "metadata": {
        "id": "lScAEC5buZ19"
      },
      "outputs": [],
      "source": [
        "import numpy as np\n",
        "import math\n",
        "import pandas as pd\n",
        "import tensorflow as tf\n",
        "import random\n",
        "from tensorflow import keras\n",
        "from tensorflow.keras import layers\n",
        "from tensorflow.keras.layers import Dense, Input,Dropout\n",
        "from tensorflow.keras.models import Sequential\n",
        "from tensorflow.keras.utils import to_categorical\n",
        "from sklearn.model_selection import train_test_split\n",
        "from sklearn import svm\n",
        "from sklearn.preprocessing import StandardScaler\n",
        "import matplotlib.pyplot as plt\n",
        "from sklearn.metrics import accuracy_score\n",
        "from sklearn.metrics import f1_score\n",
        "from sklearn.neighbors import KNeighborsClassifier"
      ]
    },
    {
      "cell_type": "markdown",
      "source": [
        "# Generating datasets and preprocessing"
      ],
      "metadata": {
        "id": "_ghXxUqWtzCO"
      }
    },
    {
      "cell_type": "code",
      "source": [
        "'''Fading channel for specific number of antennas at transmitter and receiver side'''\n",
        "j = complex(0, 1) #Imaginary part\n",
        "def fading_channel (Nt, Nr):\n",
        "  h_real = np.random.normal(0, 0.5, size = (Nr, Nt))\n",
        "  h_img = np.random.normal(0, 0.5, size = (Nr, Nt))\n",
        "  H_Rayleigh = np.array(h_real + h_img*j, dtype = complex)\n",
        "  \n",
        "  return H_Rayleigh"
      ],
      "metadata": {
        "id": "HIpX9raqush5"
      },
      "execution_count": 2,
      "outputs": []
    },
    {
      "cell_type": "code",
      "source": [
        "'''SSK Constellation set'''\n",
        "Constellation_set= np.zeros(shape= (4, 4))\n",
        "Constellation_set[0] = np.array([1, 0, 0, 0])\n",
        "Constellation_set[1] = np.array([0, 1, 0, 0])\n",
        "Constellation_set[2] = np.array([0, 0, 1, 0])\n",
        "Constellation_set[3] = np.array([0, 0, 0, 1])"
      ],
      "metadata": {
        "id": "smFQAvvMuu_2"
      },
      "execution_count": 3,
      "outputs": []
    },
    {
      "cell_type": "code",
      "source": [
        "H_Rayleigh = fading_channel (4,2)"
      ],
      "metadata": {
        "id": "TNAkbVUmuzOw"
      },
      "execution_count": 4,
      "outputs": []
    },
    {
      "cell_type": "code",
      "source": [
        "'''Complex noise'''\n",
        "def noise_complex (N0, Nr):\n",
        "  n_real = np.random.normal(0, N0, size = Nr)\n",
        "  n_img=np.random.normal(0, N0, size = Nr)\n",
        "  noise_complex=np.array(n_real + n_img*j, dtype = complex)\n",
        "  \n",
        "  return noise_complex"
      ],
      "metadata": {
        "id": "djASxRIhu2P1"
      },
      "execution_count": 5,
      "outputs": []
    },
    {
      "cell_type": "code",
      "source": [
        "'''Creating pilot signals'''\n",
        "def training_pilots_at_receiver (Label):\n",
        "  i = 0\n",
        "  \n",
        "  y_receiver = np.zeros(shape = (4, 2), dtype = \"complex_\")\n",
        "  for i in range(Label):\n",
        "    y_receiver[i] = np.dot(H_Rayleigh, Constellation_set[i], out = None) + noise_complex (0.125, 2)\n",
        "    i += 1\n",
        "\n",
        "  y_receiver_real = y_receiver.real\n",
        "  y_receiver_imag = y_receiver.imag\n",
        "  y_receiver = np.concatenate((y_receiver_real, y_receiver_imag), axis = 1)\n",
        "  y_receiver_complex = pd.DataFrame(y_receiver, columns=['Ant1_real', 'Ant2_real', 'Ant1_imag', 'Ant2_imag'])\n",
        "  y_receiver_complex['Label'] = np.arange(0, 4) \n",
        "\n",
        "  return y_receiver_complex"
      ],
      "metadata": {
        "id": "EmzyzlK2u3rF"
      },
      "execution_count": 6,
      "outputs": []
    },
    {
      "cell_type": "code",
      "source": [
        "training_pilots_at_receiver = training_pilots_at_receiver (4)"
      ],
      "metadata": {
        "id": "pmVWjiYMcN5R"
      },
      "execution_count": 7,
      "outputs": []
    },
    {
      "cell_type": "code",
      "source": [
        "'''Creating test signals'''\n",
        "def test_ (packet_length):\n",
        "  #Define an empty dataframe\n",
        "  y_receive_test = pd.DataFrame()\n",
        "\n",
        "  for i in range(packet_length):\n",
        "    #Generating received signals\n",
        "    y_one_receive_signal = np.zeros(shape = (1, 2), dtype = \"complex_\")\n",
        "    \n",
        "    #Choosing a random constellation point\n",
        "    rand = random.randrange(0, 4, 1)\n",
        "    \n",
        "    #Y = HX+N \n",
        "    y_one_receive_signal = np.dot(H_Rayleigh, Constellation_set[rand], out = None) + noise_complex (0.125, 2)\n",
        "    \n",
        "    #Transforming complex signal to a two dimension integer\n",
        "    y_one_receive_signal_real = y_one_receive_signal.real\n",
        "    y_one_receive_signal_imag = y_one_receive_signal.imag\n",
        "    y_receive = np.concatenate((y_one_receive_signal_real,y_one_receive_signal_imag), axis = None)\n",
        "    \n",
        "    #Filling dataframe rows\n",
        "    y_receive_without_label = pd.DataFrame(y_receive.reshape((1, 4)), columns = ['Ant1_real', 'Ant2_real', 'Ant1_imag', 'Ant2_imag'])\n",
        "    \n",
        "    #Assigning related label to received pilots\n",
        "    if rand == 0 :\n",
        "      y_receive_without_label['Label']= 0\n",
        "    elif rand == 1 :\n",
        "      y_receive_without_label['Label']= 1\n",
        "    elif rand == 2 :\n",
        "      y_receive_without_label['Label']= 2\n",
        "    elif rand == 3 :\n",
        "      y_receive_without_label['Label']= 3\n",
        "    \n",
        "    #Join all test signals to data set\n",
        "    y_receive_test = pd.concat([y_receive_test, y_receive_without_label])\n",
        "\n",
        "  return y_receive_test"
      ],
      "metadata": {
        "id": "0m-sl6Dmu6x1"
      },
      "execution_count": 8,
      "outputs": []
    },
    {
      "cell_type": "code",
      "source": [
        "def test_label (KNN_or_NN): #Depend on model\n",
        "  test = test_ (2000)\n",
        "\n",
        "  #Test data for KNN\n",
        "  if KNN_or_NN == 1 :\n",
        "    test_features = test[['Ant1_real', 'Ant2_real', 'Ant1_imag', 'Ant2_imag']]\n",
        "    test_label = test['Label']\n",
        "    return test_features, test_label\n",
        "\n",
        "  #Test data for NN\n",
        "  elif KNN_or_NN == 0:\n",
        "    test_features = test[['Ant1_real', 'Ant2_real', 'Ant1_imag', 'Ant2_imag']]\n",
        "    test_label = test['Label']\n",
        "    test_label_categorical = to_categorical(test_label, num_classes = 4)\n",
        "    return test_features, test_label_categorical"
      ],
      "metadata": {
        "id": "ich16KhGJ9Iz"
      },
      "execution_count": 9,
      "outputs": []
    },
    {
      "cell_type": "code",
      "source": [
        "test_label (1)"
      ],
      "metadata": {
        "colab": {
          "base_uri": "https://localhost:8080/"
        },
        "id": "T-3L-P8hZ9wT",
        "outputId": "0786c022-0f94-42ab-987e-cfa5a805c4e7"
      },
      "execution_count": 10,
      "outputs": [
        {
          "output_type": "execute_result",
          "data": {
            "text/plain": [
              "(    Ant1_real  Ant2_real  Ant1_imag  Ant2_imag\n",
              " 0   -0.856114  -0.344164   0.907159   0.773764\n",
              " 0   -0.332707  -0.506928  -0.410155   0.078732\n",
              " 0   -0.175042  -0.546794  -0.494274   0.025536\n",
              " 0   -0.743285  -0.479061   0.826285   1.163410\n",
              " 0   -0.127160   0.171018   0.014731  -0.118574\n",
              " ..        ...        ...        ...        ...\n",
              " 0    0.667080   1.065540  -0.545652   0.065518\n",
              " 0    0.776965   1.053215  -0.254048  -0.088903\n",
              " 0    0.120220   0.305397   0.077749  -0.038119\n",
              " 0    0.020923  -0.642162  -0.502672   0.155027\n",
              " 0    0.722815   1.136862  -0.246725   0.038804\n",
              " \n",
              " [2000 rows x 4 columns], 0    3\n",
              " 0    2\n",
              " 0    2\n",
              " 0    3\n",
              " 0    0\n",
              "     ..\n",
              " 0    1\n",
              " 0    1\n",
              " 0    0\n",
              " 0    2\n",
              " 0    1\n",
              " Name: Label, Length: 2000, dtype: int64)"
            ]
          },
          "metadata": {},
          "execution_count": 10
        }
      ]
    },
    {
      "cell_type": "code",
      "source": [
        "test_label (0)"
      ],
      "metadata": {
        "colab": {
          "base_uri": "https://localhost:8080/"
        },
        "id": "Yso1D5-dcv-I",
        "outputId": "85c652b1-4d63-409e-fc78-110656e7ac7c"
      },
      "execution_count": 11,
      "outputs": [
        {
          "output_type": "execute_result",
          "data": {
            "text/plain": [
              "(    Ant1_real  Ant2_real  Ant1_imag  Ant2_imag\n",
              " 0   -0.188809  -0.607321  -0.503751   0.119441\n",
              " 0   -0.070592  -0.643374  -0.333775   0.266426\n",
              " 0   -0.533375  -0.239119   0.985562   1.123412\n",
              " 0   -0.610255  -0.311948   1.073597   0.958784\n",
              " 0   -0.004273   0.429668   0.128100  -0.312671\n",
              " ..        ...        ...        ...        ...\n",
              " 0   -0.871003  -0.376017   0.849274   0.881685\n",
              " 0   -0.072468   0.216846  -0.043437  -0.327736\n",
              " 0    0.817279   0.892804  -0.022251  -0.081220\n",
              " 0   -0.024746   0.257008  -0.403140  -0.147276\n",
              " 0    0.003561   0.576559  -0.050196  -0.051164\n",
              " \n",
              " [2000 rows x 4 columns], array([[0., 0., 1., 0.],\n",
              "        [0., 0., 1., 0.],\n",
              "        [0., 0., 0., 1.],\n",
              "        ...,\n",
              "        [0., 1., 0., 0.],\n",
              "        [1., 0., 0., 0.],\n",
              "        [1., 0., 0., 0.]], dtype=float32))"
            ]
          },
          "metadata": {},
          "execution_count": 11
        }
      ]
    },
    {
      "cell_type": "code",
      "source": [
        "x_test_svm, y_test_svm = test_label (1)\n",
        "x_test_nn, y_test_nn = test_label (0)\n"
      ],
      "metadata": {
        "id": "VDwd_iHvLuOR"
      },
      "execution_count": 12,
      "outputs": []
    },
    {
      "cell_type": "markdown",
      "source": [
        "# Generating virtual pilots (data augmentation)"
      ],
      "metadata": {
        "id": "U6thg7qouQJT"
      }
    },
    {
      "cell_type": "code",
      "source": [
        "'''Noise for data augmentation'''\n",
        "def noise_real (N0,Nr):\n",
        "  noise_real=np.random.normal(0, N0, size=Nr)\n",
        "  \n",
        "  return noise_real"
      ],
      "metadata": {
        "id": "O8cCcZB2u-FF"
      },
      "execution_count": 13,
      "outputs": []
    },
    {
      "cell_type": "code",
      "source": [
        "def data_augmentation (sample_size, noise_variance):\n",
        "  #Generating virtual pilots based on actual pilots\n",
        "  augmented_data = pd.DataFrame()\n",
        "\n",
        "  for i in range(sample_size):\n",
        "    frame_augmented = training_pilots_at_receiver[['Ant1_real', 'Ant2_real', 'Ant1_imag', 'Ant2_imag']] + noise_real(noise_variance, 4)\n",
        "    frame_augmented['Label'] = np.arange(0, 4)\n",
        "    augmented_data = augmented_data.append(frame_augmented)\n",
        "    i += 1\n",
        "\n",
        "  return augmented_data"
      ],
      "metadata": {
        "id": "pbctavMGRjeo"
      },
      "execution_count": 14,
      "outputs": []
    },
    {
      "cell_type": "code",
      "source": [
        "data_augmentation = data_augmentation(100, 0.03)"
      ],
      "metadata": {
        "id": "xzr5IG_FU73k"
      },
      "execution_count": 15,
      "outputs": []
    },
    {
      "cell_type": "code",
      "source": [
        "print(data_augmentation.describe())\n",
        "print(training_pilots_at_receiver.describe())"
      ],
      "metadata": {
        "colab": {
          "base_uri": "https://localhost:8080/"
        },
        "id": "39hwDiYvAoXx",
        "outputId": "b44f8bff-54e3-4ee5-878d-52f11decfa8f"
      },
      "execution_count": 16,
      "outputs": [
        {
          "output_type": "stream",
          "name": "stdout",
          "text": [
            "        Ant1_real   Ant2_real   Ant1_imag   Ant2_imag      Label\n",
            "count  200.000000  200.000000  200.000000  200.000000  200.00000\n",
            "mean    -0.098847    0.113772    0.074211    0.057166    1.50000\n",
            "std      0.397495    0.678374    0.482940    0.558470    1.12084\n",
            "min     -0.687566   -0.573635   -0.441796   -0.387693    0.00000\n",
            "25%     -0.357358   -0.474591   -0.294604   -0.277388    0.75000\n",
            "50%     -0.118179   -0.088410   -0.074925   -0.247907    1.50000\n",
            "75%      0.141125    0.505384    0.309222    0.103390    2.25000\n",
            "max      0.531705    1.235156    0.956736    1.091829    3.00000\n",
            "       Ant1_real  Ant2_real  Ant1_imag  Ant2_imag     Label\n",
            "count   4.000000   4.000000   4.000000   4.000000  4.000000\n",
            "mean   -0.097410   0.115766   0.080087   0.061724  1.500000\n",
            "std     0.456530   0.780589   0.555046   0.642208  1.290994\n",
            "min    -0.625053  -0.521069  -0.375464  -0.276218  0.000000\n",
            "25%    -0.325780  -0.449041  -0.265302  -0.269908  0.750000\n",
            "50%    -0.117534  -0.093819  -0.086110  -0.250764  1.500000\n",
            "75%     0.110836   0.470987   0.259279   0.080867  2.250000\n",
            "max     0.470483   1.171771   0.868034   1.024641  3.000000\n"
          ]
        }
      ]
    },
    {
      "cell_type": "markdown",
      "source": [
        "# Split dataset to train and test"
      ],
      "metadata": {
        "id": "5TuUK_qwulth"
      }
    },
    {
      "cell_type": "code",
      "source": [
        "'''Spliting features and labels'''\n",
        "#xy=pd.concat([data_augmentation, training_pilots_at_receiver])       #Enable when you want vp for SVM & KNN\n",
        "xy = training_pilots_at_receiver                      #Enable when you dont want vp for SVM & KNN\n",
        "xy_NN = pd.concat([data_augmentation, training_pilots_at_receiver])     #Enable when you want vp for NN\n",
        "#xy_NN = training_pilots_at_receiver                   #Enable when you dont want vp for NN"
      ],
      "metadata": {
        "id": "fIBCensrvCPd"
      },
      "execution_count": 17,
      "outputs": []
    },
    {
      "cell_type": "code",
      "source": [
        "xy"
      ],
      "metadata": {
        "colab": {
          "base_uri": "https://localhost:8080/",
          "height": 175
        },
        "id": "0a42O1IoyBHx",
        "outputId": "ff47ab34-fabb-436c-9864-c27a36217b82"
      },
      "execution_count": 18,
      "outputs": [
        {
          "output_type": "execute_result",
          "data": {
            "text/html": [
              "\n",
              "  <div id=\"df-ba8cd5bd-94ee-4f25-9e3e-4cc98ea55753\">\n",
              "    <div class=\"colab-df-container\">\n",
              "      <div>\n",
              "<style scoped>\n",
              "    .dataframe tbody tr th:only-of-type {\n",
              "        vertical-align: middle;\n",
              "    }\n",
              "\n",
              "    .dataframe tbody tr th {\n",
              "        vertical-align: top;\n",
              "    }\n",
              "\n",
              "    .dataframe thead th {\n",
              "        text-align: right;\n",
              "    }\n",
              "</style>\n",
              "<table border=\"1\" class=\"dataframe\">\n",
              "  <thead>\n",
              "    <tr style=\"text-align: right;\">\n",
              "      <th></th>\n",
              "      <th>Ant1_real</th>\n",
              "      <th>Ant2_real</th>\n",
              "      <th>Ant1_imag</th>\n",
              "      <th>Ant2_imag</th>\n",
              "      <th>Label</th>\n",
              "    </tr>\n",
              "  </thead>\n",
              "  <tbody>\n",
              "    <tr>\n",
              "      <th>0</th>\n",
              "      <td>-0.009046</td>\n",
              "      <td>0.237392</td>\n",
              "      <td>0.056360</td>\n",
              "      <td>-0.267805</td>\n",
              "      <td>0</td>\n",
              "    </tr>\n",
              "    <tr>\n",
              "      <th>1</th>\n",
              "      <td>0.470483</td>\n",
              "      <td>1.171771</td>\n",
              "      <td>-0.228581</td>\n",
              "      <td>-0.233724</td>\n",
              "      <td>1</td>\n",
              "    </tr>\n",
              "    <tr>\n",
              "      <th>2</th>\n",
              "      <td>-0.226022</td>\n",
              "      <td>-0.521069</td>\n",
              "      <td>-0.375464</td>\n",
              "      <td>-0.276218</td>\n",
              "      <td>2</td>\n",
              "    </tr>\n",
              "    <tr>\n",
              "      <th>3</th>\n",
              "      <td>-0.625053</td>\n",
              "      <td>-0.425031</td>\n",
              "      <td>0.868034</td>\n",
              "      <td>1.024641</td>\n",
              "      <td>3</td>\n",
              "    </tr>\n",
              "  </tbody>\n",
              "</table>\n",
              "</div>\n",
              "      <button class=\"colab-df-convert\" onclick=\"convertToInteractive('df-ba8cd5bd-94ee-4f25-9e3e-4cc98ea55753')\"\n",
              "              title=\"Convert this dataframe to an interactive table.\"\n",
              "              style=\"display:none;\">\n",
              "        \n",
              "  <svg xmlns=\"http://www.w3.org/2000/svg\" height=\"24px\"viewBox=\"0 0 24 24\"\n",
              "       width=\"24px\">\n",
              "    <path d=\"M0 0h24v24H0V0z\" fill=\"none\"/>\n",
              "    <path d=\"M18.56 5.44l.94 2.06.94-2.06 2.06-.94-2.06-.94-.94-2.06-.94 2.06-2.06.94zm-11 1L8.5 8.5l.94-2.06 2.06-.94-2.06-.94L8.5 2.5l-.94 2.06-2.06.94zm10 10l.94 2.06.94-2.06 2.06-.94-2.06-.94-.94-2.06-.94 2.06-2.06.94z\"/><path d=\"M17.41 7.96l-1.37-1.37c-.4-.4-.92-.59-1.43-.59-.52 0-1.04.2-1.43.59L10.3 9.45l-7.72 7.72c-.78.78-.78 2.05 0 2.83L4 21.41c.39.39.9.59 1.41.59.51 0 1.02-.2 1.41-.59l7.78-7.78 2.81-2.81c.8-.78.8-2.07 0-2.86zM5.41 20L4 18.59l7.72-7.72 1.47 1.35L5.41 20z\"/>\n",
              "  </svg>\n",
              "      </button>\n",
              "      \n",
              "  <style>\n",
              "    .colab-df-container {\n",
              "      display:flex;\n",
              "      flex-wrap:wrap;\n",
              "      gap: 12px;\n",
              "    }\n",
              "\n",
              "    .colab-df-convert {\n",
              "      background-color: #E8F0FE;\n",
              "      border: none;\n",
              "      border-radius: 50%;\n",
              "      cursor: pointer;\n",
              "      display: none;\n",
              "      fill: #1967D2;\n",
              "      height: 32px;\n",
              "      padding: 0 0 0 0;\n",
              "      width: 32px;\n",
              "    }\n",
              "\n",
              "    .colab-df-convert:hover {\n",
              "      background-color: #E2EBFA;\n",
              "      box-shadow: 0px 1px 2px rgba(60, 64, 67, 0.3), 0px 1px 3px 1px rgba(60, 64, 67, 0.15);\n",
              "      fill: #174EA6;\n",
              "    }\n",
              "\n",
              "    [theme=dark] .colab-df-convert {\n",
              "      background-color: #3B4455;\n",
              "      fill: #D2E3FC;\n",
              "    }\n",
              "\n",
              "    [theme=dark] .colab-df-convert:hover {\n",
              "      background-color: #434B5C;\n",
              "      box-shadow: 0px 1px 3px 1px rgba(0, 0, 0, 0.15);\n",
              "      filter: drop-shadow(0px 1px 2px rgba(0, 0, 0, 0.3));\n",
              "      fill: #FFFFFF;\n",
              "    }\n",
              "  </style>\n",
              "\n",
              "      <script>\n",
              "        const buttonEl =\n",
              "          document.querySelector('#df-ba8cd5bd-94ee-4f25-9e3e-4cc98ea55753 button.colab-df-convert');\n",
              "        buttonEl.style.display =\n",
              "          google.colab.kernel.accessAllowed ? 'block' : 'none';\n",
              "\n",
              "        async function convertToInteractive(key) {\n",
              "          const element = document.querySelector('#df-ba8cd5bd-94ee-4f25-9e3e-4cc98ea55753');\n",
              "          const dataTable =\n",
              "            await google.colab.kernel.invokeFunction('convertToInteractive',\n",
              "                                                     [key], {});\n",
              "          if (!dataTable) return;\n",
              "\n",
              "          const docLinkHtml = 'Like what you see? Visit the ' +\n",
              "            '<a target=\"_blank\" href=https://colab.research.google.com/notebooks/data_table.ipynb>data table notebook</a>'\n",
              "            + ' to learn more about interactive tables.';\n",
              "          element.innerHTML = '';\n",
              "          dataTable['output_type'] = 'display_data';\n",
              "          await google.colab.output.renderOutput(dataTable, element);\n",
              "          const docLink = document.createElement('div');\n",
              "          docLink.innerHTML = docLinkHtml;\n",
              "          element.appendChild(docLink);\n",
              "        }\n",
              "      </script>\n",
              "    </div>\n",
              "  </div>\n",
              "  "
            ],
            "text/plain": [
              "   Ant1_real  Ant2_real  Ant1_imag  Ant2_imag  Label\n",
              "0  -0.009046   0.237392   0.056360  -0.267805      0\n",
              "1   0.470483   1.171771  -0.228581  -0.233724      1\n",
              "2  -0.226022  -0.521069  -0.375464  -0.276218      2\n",
              "3  -0.625053  -0.425031   0.868034   1.024641      3"
            ]
          },
          "metadata": {},
          "execution_count": 18
        }
      ]
    },
    {
      "cell_type": "markdown",
      "source": [
        "#Preprocessing for KNN & SVM"
      ],
      "metadata": {
        "id": "ZTV_I4tBt83G"
      }
    },
    {
      "cell_type": "code",
      "source": [
        "scaler = StandardScaler()"
      ],
      "metadata": {
        "id": "kKGZbuZDt8Wh"
      },
      "execution_count": 19,
      "outputs": []
    },
    {
      "cell_type": "code",
      "source": [
        "scaler.fit(xy.drop('Label',axis=1))"
      ],
      "metadata": {
        "colab": {
          "base_uri": "https://localhost:8080/"
        },
        "id": "TECqsW20u2Bn",
        "outputId": "4a5520be-686b-4795-c297-f9e17bbdba55"
      },
      "execution_count": 20,
      "outputs": [
        {
          "output_type": "execute_result",
          "data": {
            "text/plain": [
              "StandardScaler()"
            ]
          },
          "metadata": {},
          "execution_count": 20
        }
      ]
    },
    {
      "cell_type": "code",
      "source": [
        "scaled_features = scaler.transform(xy.drop('Label',axis=1))"
      ],
      "metadata": {
        "id": "NZDjbYmvvHx1"
      },
      "execution_count": 21,
      "outputs": []
    },
    {
      "cell_type": "code",
      "source": [
        "xy = pd.DataFrame(scaled_features,columns=xy.columns[:-1])\n",
        "xy['Label']=np.arange(0,4)\n",
        "xy"
      ],
      "metadata": {
        "colab": {
          "base_uri": "https://localhost:8080/",
          "height": 175
        },
        "id": "i7-PEREivI83",
        "outputId": "b11bb1bb-690f-473b-bd89-842c5ea19b2b"
      },
      "execution_count": 22,
      "outputs": [
        {
          "output_type": "execute_result",
          "data": {
            "text/html": [
              "\n",
              "  <div id=\"df-1eb0bb4b-8417-47e9-b4e1-63ceaf490f63\">\n",
              "    <div class=\"colab-df-container\">\n",
              "      <div>\n",
              "<style scoped>\n",
              "    .dataframe tbody tr th:only-of-type {\n",
              "        vertical-align: middle;\n",
              "    }\n",
              "\n",
              "    .dataframe tbody tr th {\n",
              "        vertical-align: top;\n",
              "    }\n",
              "\n",
              "    .dataframe thead th {\n",
              "        text-align: right;\n",
              "    }\n",
              "</style>\n",
              "<table border=\"1\" class=\"dataframe\">\n",
              "  <thead>\n",
              "    <tr style=\"text-align: right;\">\n",
              "      <th></th>\n",
              "      <th>Ant1_real</th>\n",
              "      <th>Ant2_real</th>\n",
              "      <th>Ant1_imag</th>\n",
              "      <th>Ant2_imag</th>\n",
              "      <th>Label</th>\n",
              "    </tr>\n",
              "  </thead>\n",
              "  <tbody>\n",
              "    <tr>\n",
              "      <th>0</th>\n",
              "      <td>0.223497</td>\n",
              "      <td>0.179918</td>\n",
              "      <td>-0.049361</td>\n",
              "      <td>-0.592497</td>\n",
              "      <td>0</td>\n",
              "    </tr>\n",
              "    <tr>\n",
              "      <th>1</th>\n",
              "      <td>1.436370</td>\n",
              "      <td>1.562114</td>\n",
              "      <td>-0.642144</td>\n",
              "      <td>-0.531220</td>\n",
              "      <td>1</td>\n",
              "    </tr>\n",
              "    <tr>\n",
              "      <th>2</th>\n",
              "      <td>-0.325298</td>\n",
              "      <td>-0.942049</td>\n",
              "      <td>-0.947717</td>\n",
              "      <td>-0.607625</td>\n",
              "      <td>2</td>\n",
              "    </tr>\n",
              "    <tr>\n",
              "      <th>3</th>\n",
              "      <td>-1.334568</td>\n",
              "      <td>-0.799983</td>\n",
              "      <td>1.639222</td>\n",
              "      <td>1.731342</td>\n",
              "      <td>3</td>\n",
              "    </tr>\n",
              "  </tbody>\n",
              "</table>\n",
              "</div>\n",
              "      <button class=\"colab-df-convert\" onclick=\"convertToInteractive('df-1eb0bb4b-8417-47e9-b4e1-63ceaf490f63')\"\n",
              "              title=\"Convert this dataframe to an interactive table.\"\n",
              "              style=\"display:none;\">\n",
              "        \n",
              "  <svg xmlns=\"http://www.w3.org/2000/svg\" height=\"24px\"viewBox=\"0 0 24 24\"\n",
              "       width=\"24px\">\n",
              "    <path d=\"M0 0h24v24H0V0z\" fill=\"none\"/>\n",
              "    <path d=\"M18.56 5.44l.94 2.06.94-2.06 2.06-.94-2.06-.94-.94-2.06-.94 2.06-2.06.94zm-11 1L8.5 8.5l.94-2.06 2.06-.94-2.06-.94L8.5 2.5l-.94 2.06-2.06.94zm10 10l.94 2.06.94-2.06 2.06-.94-2.06-.94-.94-2.06-.94 2.06-2.06.94z\"/><path d=\"M17.41 7.96l-1.37-1.37c-.4-.4-.92-.59-1.43-.59-.52 0-1.04.2-1.43.59L10.3 9.45l-7.72 7.72c-.78.78-.78 2.05 0 2.83L4 21.41c.39.39.9.59 1.41.59.51 0 1.02-.2 1.41-.59l7.78-7.78 2.81-2.81c.8-.78.8-2.07 0-2.86zM5.41 20L4 18.59l7.72-7.72 1.47 1.35L5.41 20z\"/>\n",
              "  </svg>\n",
              "      </button>\n",
              "      \n",
              "  <style>\n",
              "    .colab-df-container {\n",
              "      display:flex;\n",
              "      flex-wrap:wrap;\n",
              "      gap: 12px;\n",
              "    }\n",
              "\n",
              "    .colab-df-convert {\n",
              "      background-color: #E8F0FE;\n",
              "      border: none;\n",
              "      border-radius: 50%;\n",
              "      cursor: pointer;\n",
              "      display: none;\n",
              "      fill: #1967D2;\n",
              "      height: 32px;\n",
              "      padding: 0 0 0 0;\n",
              "      width: 32px;\n",
              "    }\n",
              "\n",
              "    .colab-df-convert:hover {\n",
              "      background-color: #E2EBFA;\n",
              "      box-shadow: 0px 1px 2px rgba(60, 64, 67, 0.3), 0px 1px 3px 1px rgba(60, 64, 67, 0.15);\n",
              "      fill: #174EA6;\n",
              "    }\n",
              "\n",
              "    [theme=dark] .colab-df-convert {\n",
              "      background-color: #3B4455;\n",
              "      fill: #D2E3FC;\n",
              "    }\n",
              "\n",
              "    [theme=dark] .colab-df-convert:hover {\n",
              "      background-color: #434B5C;\n",
              "      box-shadow: 0px 1px 3px 1px rgba(0, 0, 0, 0.15);\n",
              "      filter: drop-shadow(0px 1px 2px rgba(0, 0, 0, 0.3));\n",
              "      fill: #FFFFFF;\n",
              "    }\n",
              "  </style>\n",
              "\n",
              "      <script>\n",
              "        const buttonEl =\n",
              "          document.querySelector('#df-1eb0bb4b-8417-47e9-b4e1-63ceaf490f63 button.colab-df-convert');\n",
              "        buttonEl.style.display =\n",
              "          google.colab.kernel.accessAllowed ? 'block' : 'none';\n",
              "\n",
              "        async function convertToInteractive(key) {\n",
              "          const element = document.querySelector('#df-1eb0bb4b-8417-47e9-b4e1-63ceaf490f63');\n",
              "          const dataTable =\n",
              "            await google.colab.kernel.invokeFunction('convertToInteractive',\n",
              "                                                     [key], {});\n",
              "          if (!dataTable) return;\n",
              "\n",
              "          const docLinkHtml = 'Like what you see? Visit the ' +\n",
              "            '<a target=\"_blank\" href=https://colab.research.google.com/notebooks/data_table.ipynb>data table notebook</a>'\n",
              "            + ' to learn more about interactive tables.';\n",
              "          element.innerHTML = '';\n",
              "          dataTable['output_type'] = 'display_data';\n",
              "          await google.colab.output.renderOutput(dataTable, element);\n",
              "          const docLink = document.createElement('div');\n",
              "          docLink.innerHTML = docLinkHtml;\n",
              "          element.appendChild(docLink);\n",
              "        }\n",
              "      </script>\n",
              "    </div>\n",
              "  </div>\n",
              "  "
            ],
            "text/plain": [
              "   Ant1_real  Ant2_real  Ant1_imag  Ant2_imag  Label\n",
              "0   0.223497   0.179918  -0.049361  -0.592497      0\n",
              "1   1.436370   1.562114  -0.642144  -0.531220      1\n",
              "2  -0.325298  -0.942049  -0.947717  -0.607625      2\n",
              "3  -1.334568  -0.799983   1.639222   1.731342      3"
            ]
          },
          "metadata": {},
          "execution_count": 22
        }
      ]
    },
    {
      "cell_type": "markdown",
      "source": [
        "#Preprocessing for MLP"
      ],
      "metadata": {
        "id": "NlfIRPKn0-dh"
      }
    },
    {
      "cell_type": "code",
      "source": [
        "xy_NN"
      ],
      "metadata": {
        "colab": {
          "base_uri": "https://localhost:8080/",
          "height": 424
        },
        "id": "m88R0xiBw5zl",
        "outputId": "f6d4e4bd-a1f1-4cda-f8f8-fe1c469b0294"
      },
      "execution_count": 23,
      "outputs": [
        {
          "output_type": "execute_result",
          "data": {
            "text/html": [
              "\n",
              "  <div id=\"df-b4f17070-ec18-49d6-b1f1-70e8312def09\">\n",
              "    <div class=\"colab-df-container\">\n",
              "      <div>\n",
              "<style scoped>\n",
              "    .dataframe tbody tr th:only-of-type {\n",
              "        vertical-align: middle;\n",
              "    }\n",
              "\n",
              "    .dataframe tbody tr th {\n",
              "        vertical-align: top;\n",
              "    }\n",
              "\n",
              "    .dataframe thead th {\n",
              "        text-align: right;\n",
              "    }\n",
              "</style>\n",
              "<table border=\"1\" class=\"dataframe\">\n",
              "  <thead>\n",
              "    <tr style=\"text-align: right;\">\n",
              "      <th></th>\n",
              "      <th>Ant1_real</th>\n",
              "      <th>Ant2_real</th>\n",
              "      <th>Ant1_imag</th>\n",
              "      <th>Ant2_imag</th>\n",
              "      <th>Label</th>\n",
              "    </tr>\n",
              "  </thead>\n",
              "  <tbody>\n",
              "    <tr>\n",
              "      <th>0</th>\n",
              "      <td>0.000803</td>\n",
              "      <td>0.247236</td>\n",
              "      <td>0.024779</td>\n",
              "      <td>-0.252285</td>\n",
              "      <td>0</td>\n",
              "    </tr>\n",
              "    <tr>\n",
              "      <th>1</th>\n",
              "      <td>0.480332</td>\n",
              "      <td>1.181614</td>\n",
              "      <td>-0.260162</td>\n",
              "      <td>-0.218204</td>\n",
              "      <td>1</td>\n",
              "    </tr>\n",
              "    <tr>\n",
              "      <th>2</th>\n",
              "      <td>-0.216172</td>\n",
              "      <td>-0.511226</td>\n",
              "      <td>-0.407046</td>\n",
              "      <td>-0.260699</td>\n",
              "      <td>2</td>\n",
              "    </tr>\n",
              "    <tr>\n",
              "      <th>3</th>\n",
              "      <td>-0.615204</td>\n",
              "      <td>-0.415187</td>\n",
              "      <td>0.836453</td>\n",
              "      <td>1.040160</td>\n",
              "      <td>3</td>\n",
              "    </tr>\n",
              "    <tr>\n",
              "      <th>0</th>\n",
              "      <td>-0.004665</td>\n",
              "      <td>0.277073</td>\n",
              "      <td>0.057779</td>\n",
              "      <td>-0.238250</td>\n",
              "      <td>0</td>\n",
              "    </tr>\n",
              "    <tr>\n",
              "      <th>...</th>\n",
              "      <td>...</td>\n",
              "      <td>...</td>\n",
              "      <td>...</td>\n",
              "      <td>...</td>\n",
              "      <td>...</td>\n",
              "    </tr>\n",
              "    <tr>\n",
              "      <th>3</th>\n",
              "      <td>-0.656707</td>\n",
              "      <td>-0.420142</td>\n",
              "      <td>0.819913</td>\n",
              "      <td>1.045025</td>\n",
              "      <td>3</td>\n",
              "    </tr>\n",
              "    <tr>\n",
              "      <th>0</th>\n",
              "      <td>-0.009046</td>\n",
              "      <td>0.237392</td>\n",
              "      <td>0.056360</td>\n",
              "      <td>-0.267805</td>\n",
              "      <td>0</td>\n",
              "    </tr>\n",
              "    <tr>\n",
              "      <th>1</th>\n",
              "      <td>0.470483</td>\n",
              "      <td>1.171771</td>\n",
              "      <td>-0.228581</td>\n",
              "      <td>-0.233724</td>\n",
              "      <td>1</td>\n",
              "    </tr>\n",
              "    <tr>\n",
              "      <th>2</th>\n",
              "      <td>-0.226022</td>\n",
              "      <td>-0.521069</td>\n",
              "      <td>-0.375464</td>\n",
              "      <td>-0.276218</td>\n",
              "      <td>2</td>\n",
              "    </tr>\n",
              "    <tr>\n",
              "      <th>3</th>\n",
              "      <td>-0.625053</td>\n",
              "      <td>-0.425031</td>\n",
              "      <td>0.868034</td>\n",
              "      <td>1.024641</td>\n",
              "      <td>3</td>\n",
              "    </tr>\n",
              "  </tbody>\n",
              "</table>\n",
              "<p>204 rows × 5 columns</p>\n",
              "</div>\n",
              "      <button class=\"colab-df-convert\" onclick=\"convertToInteractive('df-b4f17070-ec18-49d6-b1f1-70e8312def09')\"\n",
              "              title=\"Convert this dataframe to an interactive table.\"\n",
              "              style=\"display:none;\">\n",
              "        \n",
              "  <svg xmlns=\"http://www.w3.org/2000/svg\" height=\"24px\"viewBox=\"0 0 24 24\"\n",
              "       width=\"24px\">\n",
              "    <path d=\"M0 0h24v24H0V0z\" fill=\"none\"/>\n",
              "    <path d=\"M18.56 5.44l.94 2.06.94-2.06 2.06-.94-2.06-.94-.94-2.06-.94 2.06-2.06.94zm-11 1L8.5 8.5l.94-2.06 2.06-.94-2.06-.94L8.5 2.5l-.94 2.06-2.06.94zm10 10l.94 2.06.94-2.06 2.06-.94-2.06-.94-.94-2.06-.94 2.06-2.06.94z\"/><path d=\"M17.41 7.96l-1.37-1.37c-.4-.4-.92-.59-1.43-.59-.52 0-1.04.2-1.43.59L10.3 9.45l-7.72 7.72c-.78.78-.78 2.05 0 2.83L4 21.41c.39.39.9.59 1.41.59.51 0 1.02-.2 1.41-.59l7.78-7.78 2.81-2.81c.8-.78.8-2.07 0-2.86zM5.41 20L4 18.59l7.72-7.72 1.47 1.35L5.41 20z\"/>\n",
              "  </svg>\n",
              "      </button>\n",
              "      \n",
              "  <style>\n",
              "    .colab-df-container {\n",
              "      display:flex;\n",
              "      flex-wrap:wrap;\n",
              "      gap: 12px;\n",
              "    }\n",
              "\n",
              "    .colab-df-convert {\n",
              "      background-color: #E8F0FE;\n",
              "      border: none;\n",
              "      border-radius: 50%;\n",
              "      cursor: pointer;\n",
              "      display: none;\n",
              "      fill: #1967D2;\n",
              "      height: 32px;\n",
              "      padding: 0 0 0 0;\n",
              "      width: 32px;\n",
              "    }\n",
              "\n",
              "    .colab-df-convert:hover {\n",
              "      background-color: #E2EBFA;\n",
              "      box-shadow: 0px 1px 2px rgba(60, 64, 67, 0.3), 0px 1px 3px 1px rgba(60, 64, 67, 0.15);\n",
              "      fill: #174EA6;\n",
              "    }\n",
              "\n",
              "    [theme=dark] .colab-df-convert {\n",
              "      background-color: #3B4455;\n",
              "      fill: #D2E3FC;\n",
              "    }\n",
              "\n",
              "    [theme=dark] .colab-df-convert:hover {\n",
              "      background-color: #434B5C;\n",
              "      box-shadow: 0px 1px 3px 1px rgba(0, 0, 0, 0.15);\n",
              "      filter: drop-shadow(0px 1px 2px rgba(0, 0, 0, 0.3));\n",
              "      fill: #FFFFFF;\n",
              "    }\n",
              "  </style>\n",
              "\n",
              "      <script>\n",
              "        const buttonEl =\n",
              "          document.querySelector('#df-b4f17070-ec18-49d6-b1f1-70e8312def09 button.colab-df-convert');\n",
              "        buttonEl.style.display =\n",
              "          google.colab.kernel.accessAllowed ? 'block' : 'none';\n",
              "\n",
              "        async function convertToInteractive(key) {\n",
              "          const element = document.querySelector('#df-b4f17070-ec18-49d6-b1f1-70e8312def09');\n",
              "          const dataTable =\n",
              "            await google.colab.kernel.invokeFunction('convertToInteractive',\n",
              "                                                     [key], {});\n",
              "          if (!dataTable) return;\n",
              "\n",
              "          const docLinkHtml = 'Like what you see? Visit the ' +\n",
              "            '<a target=\"_blank\" href=https://colab.research.google.com/notebooks/data_table.ipynb>data table notebook</a>'\n",
              "            + ' to learn more about interactive tables.';\n",
              "          element.innerHTML = '';\n",
              "          dataTable['output_type'] = 'display_data';\n",
              "          await google.colab.output.renderOutput(dataTable, element);\n",
              "          const docLink = document.createElement('div');\n",
              "          docLink.innerHTML = docLinkHtml;\n",
              "          element.appendChild(docLink);\n",
              "        }\n",
              "      </script>\n",
              "    </div>\n",
              "  </div>\n",
              "  "
            ],
            "text/plain": [
              "    Ant1_real  Ant2_real  Ant1_imag  Ant2_imag  Label\n",
              "0    0.000803   0.247236   0.024779  -0.252285      0\n",
              "1    0.480332   1.181614  -0.260162  -0.218204      1\n",
              "2   -0.216172  -0.511226  -0.407046  -0.260699      2\n",
              "3   -0.615204  -0.415187   0.836453   1.040160      3\n",
              "0   -0.004665   0.277073   0.057779  -0.238250      0\n",
              "..        ...        ...        ...        ...    ...\n",
              "3   -0.656707  -0.420142   0.819913   1.045025      3\n",
              "0   -0.009046   0.237392   0.056360  -0.267805      0\n",
              "1    0.470483   1.171771  -0.228581  -0.233724      1\n",
              "2   -0.226022  -0.521069  -0.375464  -0.276218      2\n",
              "3   -0.625053  -0.425031   0.868034   1.024641      3\n",
              "\n",
              "[204 rows x 5 columns]"
            ]
          },
          "metadata": {},
          "execution_count": 23
        }
      ]
    },
    {
      "cell_type": "code",
      "source": [
        "'''preprocessing for NN'''\n",
        "x_NN=xy_NN[['Ant1_real','Ant2_real','Ant1_imag','Ant2_imag']]\n",
        "y_NN=xy_NN['Label']\n",
        "'''Labels one hot encoding'''\n",
        "y_NN=to_categorical(y_NN, num_classes=4)\n",
        "'''Spliting data to train and validation'''\n",
        "X_train_NN, X_test_NN, y_train_NN, y_test_NN = train_test_split(x_NN, y_NN, test_size=0.3, random_state=101)"
      ],
      "metadata": {
        "id": "PoetTn9uxIBM"
      },
      "execution_count": 24,
      "outputs": []
    },
    {
      "cell_type": "code",
      "source": [
        "'''Spliting features and labels for SVM & KNN'''\n",
        "x=xy[['Ant1_real','Ant2_real','Ant1_imag','Ant2_imag']]\n",
        "y=xy['Label']"
      ],
      "metadata": {
        "id": "QQPFkgHvvDIF"
      },
      "execution_count": 25,
      "outputs": []
    },
    {
      "cell_type": "code",
      "source": [
        "xy"
      ],
      "metadata": {
        "colab": {
          "base_uri": "https://localhost:8080/",
          "height": 175
        },
        "id": "tkKScYCtvDQj",
        "outputId": "16b93ddb-b491-4178-e7b4-3d08287fdb4d"
      },
      "execution_count": 26,
      "outputs": [
        {
          "output_type": "execute_result",
          "data": {
            "text/html": [
              "\n",
              "  <div id=\"df-a601cd57-dfb6-46c6-9207-7e5181abb8a1\">\n",
              "    <div class=\"colab-df-container\">\n",
              "      <div>\n",
              "<style scoped>\n",
              "    .dataframe tbody tr th:only-of-type {\n",
              "        vertical-align: middle;\n",
              "    }\n",
              "\n",
              "    .dataframe tbody tr th {\n",
              "        vertical-align: top;\n",
              "    }\n",
              "\n",
              "    .dataframe thead th {\n",
              "        text-align: right;\n",
              "    }\n",
              "</style>\n",
              "<table border=\"1\" class=\"dataframe\">\n",
              "  <thead>\n",
              "    <tr style=\"text-align: right;\">\n",
              "      <th></th>\n",
              "      <th>Ant1_real</th>\n",
              "      <th>Ant2_real</th>\n",
              "      <th>Ant1_imag</th>\n",
              "      <th>Ant2_imag</th>\n",
              "      <th>Label</th>\n",
              "    </tr>\n",
              "  </thead>\n",
              "  <tbody>\n",
              "    <tr>\n",
              "      <th>0</th>\n",
              "      <td>0.223497</td>\n",
              "      <td>0.179918</td>\n",
              "      <td>-0.049361</td>\n",
              "      <td>-0.592497</td>\n",
              "      <td>0</td>\n",
              "    </tr>\n",
              "    <tr>\n",
              "      <th>1</th>\n",
              "      <td>1.436370</td>\n",
              "      <td>1.562114</td>\n",
              "      <td>-0.642144</td>\n",
              "      <td>-0.531220</td>\n",
              "      <td>1</td>\n",
              "    </tr>\n",
              "    <tr>\n",
              "      <th>2</th>\n",
              "      <td>-0.325298</td>\n",
              "      <td>-0.942049</td>\n",
              "      <td>-0.947717</td>\n",
              "      <td>-0.607625</td>\n",
              "      <td>2</td>\n",
              "    </tr>\n",
              "    <tr>\n",
              "      <th>3</th>\n",
              "      <td>-1.334568</td>\n",
              "      <td>-0.799983</td>\n",
              "      <td>1.639222</td>\n",
              "      <td>1.731342</td>\n",
              "      <td>3</td>\n",
              "    </tr>\n",
              "  </tbody>\n",
              "</table>\n",
              "</div>\n",
              "      <button class=\"colab-df-convert\" onclick=\"convertToInteractive('df-a601cd57-dfb6-46c6-9207-7e5181abb8a1')\"\n",
              "              title=\"Convert this dataframe to an interactive table.\"\n",
              "              style=\"display:none;\">\n",
              "        \n",
              "  <svg xmlns=\"http://www.w3.org/2000/svg\" height=\"24px\"viewBox=\"0 0 24 24\"\n",
              "       width=\"24px\">\n",
              "    <path d=\"M0 0h24v24H0V0z\" fill=\"none\"/>\n",
              "    <path d=\"M18.56 5.44l.94 2.06.94-2.06 2.06-.94-2.06-.94-.94-2.06-.94 2.06-2.06.94zm-11 1L8.5 8.5l.94-2.06 2.06-.94-2.06-.94L8.5 2.5l-.94 2.06-2.06.94zm10 10l.94 2.06.94-2.06 2.06-.94-2.06-.94-.94-2.06-.94 2.06-2.06.94z\"/><path d=\"M17.41 7.96l-1.37-1.37c-.4-.4-.92-.59-1.43-.59-.52 0-1.04.2-1.43.59L10.3 9.45l-7.72 7.72c-.78.78-.78 2.05 0 2.83L4 21.41c.39.39.9.59 1.41.59.51 0 1.02-.2 1.41-.59l7.78-7.78 2.81-2.81c.8-.78.8-2.07 0-2.86zM5.41 20L4 18.59l7.72-7.72 1.47 1.35L5.41 20z\"/>\n",
              "  </svg>\n",
              "      </button>\n",
              "      \n",
              "  <style>\n",
              "    .colab-df-container {\n",
              "      display:flex;\n",
              "      flex-wrap:wrap;\n",
              "      gap: 12px;\n",
              "    }\n",
              "\n",
              "    .colab-df-convert {\n",
              "      background-color: #E8F0FE;\n",
              "      border: none;\n",
              "      border-radius: 50%;\n",
              "      cursor: pointer;\n",
              "      display: none;\n",
              "      fill: #1967D2;\n",
              "      height: 32px;\n",
              "      padding: 0 0 0 0;\n",
              "      width: 32px;\n",
              "    }\n",
              "\n",
              "    .colab-df-convert:hover {\n",
              "      background-color: #E2EBFA;\n",
              "      box-shadow: 0px 1px 2px rgba(60, 64, 67, 0.3), 0px 1px 3px 1px rgba(60, 64, 67, 0.15);\n",
              "      fill: #174EA6;\n",
              "    }\n",
              "\n",
              "    [theme=dark] .colab-df-convert {\n",
              "      background-color: #3B4455;\n",
              "      fill: #D2E3FC;\n",
              "    }\n",
              "\n",
              "    [theme=dark] .colab-df-convert:hover {\n",
              "      background-color: #434B5C;\n",
              "      box-shadow: 0px 1px 3px 1px rgba(0, 0, 0, 0.15);\n",
              "      filter: drop-shadow(0px 1px 2px rgba(0, 0, 0, 0.3));\n",
              "      fill: #FFFFFF;\n",
              "    }\n",
              "  </style>\n",
              "\n",
              "      <script>\n",
              "        const buttonEl =\n",
              "          document.querySelector('#df-a601cd57-dfb6-46c6-9207-7e5181abb8a1 button.colab-df-convert');\n",
              "        buttonEl.style.display =\n",
              "          google.colab.kernel.accessAllowed ? 'block' : 'none';\n",
              "\n",
              "        async function convertToInteractive(key) {\n",
              "          const element = document.querySelector('#df-a601cd57-dfb6-46c6-9207-7e5181abb8a1');\n",
              "          const dataTable =\n",
              "            await google.colab.kernel.invokeFunction('convertToInteractive',\n",
              "                                                     [key], {});\n",
              "          if (!dataTable) return;\n",
              "\n",
              "          const docLinkHtml = 'Like what you see? Visit the ' +\n",
              "            '<a target=\"_blank\" href=https://colab.research.google.com/notebooks/data_table.ipynb>data table notebook</a>'\n",
              "            + ' to learn more about interactive tables.';\n",
              "          element.innerHTML = '';\n",
              "          dataTable['output_type'] = 'display_data';\n",
              "          await google.colab.output.renderOutput(dataTable, element);\n",
              "          const docLink = document.createElement('div');\n",
              "          docLink.innerHTML = docLinkHtml;\n",
              "          element.appendChild(docLink);\n",
              "        }\n",
              "      </script>\n",
              "    </div>\n",
              "  </div>\n",
              "  "
            ],
            "text/plain": [
              "   Ant1_real  Ant2_real  Ant1_imag  Ant2_imag  Label\n",
              "0   0.223497   0.179918  -0.049361  -0.592497      0\n",
              "1   1.436370   1.562114  -0.642144  -0.531220      1\n",
              "2  -0.325298  -0.942049  -0.947717  -0.607625      2\n",
              "3  -1.334568  -0.799983   1.639222   1.731342      3"
            ]
          },
          "metadata": {},
          "execution_count": 26
        }
      ]
    },
    {
      "cell_type": "code",
      "source": [
        "'''Spliting data to train and validation'''\n",
        "#X_train, X_test, y_train, y_test = train_test_split(x, y, test_size=0.000001, random_state=101)\n",
        "X_train=x\n",
        "y_train=y"
      ],
      "metadata": {
        "id": "CyRdviGDvDVk"
      },
      "execution_count": 27,
      "outputs": []
    },
    {
      "cell_type": "code",
      "source": [
        "X_train.shape"
      ],
      "metadata": {
        "colab": {
          "base_uri": "https://localhost:8080/"
        },
        "id": "qidmMccBvDX5",
        "outputId": "9be16026-0f2f-45c4-93d5-27a006db77cd"
      },
      "execution_count": 28,
      "outputs": [
        {
          "output_type": "execute_result",
          "data": {
            "text/plain": [
              "(4, 4)"
            ]
          },
          "metadata": {},
          "execution_count": 28
        }
      ]
    },
    {
      "cell_type": "code",
      "source": [
        "y_train.shape"
      ],
      "metadata": {
        "colab": {
          "base_uri": "https://localhost:8080/"
        },
        "id": "bGEZXDgdvDao",
        "outputId": "5f6aa1e6-2990-451c-965e-24857365597d"
      },
      "execution_count": 29,
      "outputs": [
        {
          "output_type": "execute_result",
          "data": {
            "text/plain": [
              "(4,)"
            ]
          },
          "metadata": {},
          "execution_count": 29
        }
      ]
    },
    {
      "cell_type": "markdown",
      "source": [
        "# Building neural network and training"
      ],
      "metadata": {
        "id": "h8YwCz66u46S"
      }
    },
    {
      "cell_type": "code",
      "source": [
        "model = Sequential()\n",
        "model.add(Input(shape=(4)))\n",
        "model.add(Dense(32, activation='relu'))\n",
        "model.add(Dense(64, activation='relu'))\n",
        "#model.add(Dropout(rate=0.1))\n",
        "#model.add(Dense(64, activation='relu'))\n",
        "model.add(Dropout(rate=0.5))\n",
        "model.add(Dense(32, activation='relu'))\n",
        "model.add(Dense(4, activation='softmax'))\n"
      ],
      "metadata": {
        "id": "XPJIXBPuDTZh"
      },
      "execution_count": 30,
      "outputs": []
    },
    {
      "cell_type": "code",
      "source": [
        "model.compile(loss='categorical_crossentropy', optimizer='adam', metrics=['accuracy'])\n",
        "NN=model.fit(X_train_NN, y_train_NN, batch_size=8, epochs=10, validation_data=(X_test_NN,y_test_NN))"
      ],
      "metadata": {
        "colab": {
          "base_uri": "https://localhost:8080/"
        },
        "id": "jXg7zS__KbNp",
        "outputId": "d301d59e-b528-436e-ae90-cacce1dec5dc"
      },
      "execution_count": 31,
      "outputs": [
        {
          "output_type": "stream",
          "name": "stdout",
          "text": [
            "Epoch 1/10\n",
            "18/18 [==============================] - 2s 22ms/step - loss: 1.3004 - accuracy: 0.4085 - val_loss: 1.1646 - val_accuracy: 0.7903\n",
            "Epoch 2/10\n",
            "18/18 [==============================] - 0s 4ms/step - loss: 1.0967 - accuracy: 0.7254 - val_loss: 0.9263 - val_accuracy: 0.8226\n",
            "Epoch 3/10\n",
            "18/18 [==============================] - 0s 5ms/step - loss: 0.8831 - accuracy: 0.8099 - val_loss: 0.6760 - val_accuracy: 0.9194\n",
            "Epoch 4/10\n",
            "18/18 [==============================] - 0s 5ms/step - loss: 0.6548 - accuracy: 0.9085 - val_loss: 0.4582 - val_accuracy: 0.9677\n",
            "Epoch 5/10\n",
            "18/18 [==============================] - 0s 4ms/step - loss: 0.4820 - accuracy: 0.9859 - val_loss: 0.3055 - val_accuracy: 1.0000\n",
            "Epoch 6/10\n",
            "18/18 [==============================] - 0s 5ms/step - loss: 0.3563 - accuracy: 0.9789 - val_loss: 0.2049 - val_accuracy: 1.0000\n",
            "Epoch 7/10\n",
            "18/18 [==============================] - 0s 12ms/step - loss: 0.2481 - accuracy: 1.0000 - val_loss: 0.1337 - val_accuracy: 1.0000\n",
            "Epoch 8/10\n",
            "18/18 [==============================] - 0s 7ms/step - loss: 0.1732 - accuracy: 1.0000 - val_loss: 0.0747 - val_accuracy: 1.0000\n",
            "Epoch 9/10\n",
            "18/18 [==============================] - 0s 8ms/step - loss: 0.1118 - accuracy: 1.0000 - val_loss: 0.0392 - val_accuracy: 1.0000\n",
            "Epoch 10/10\n",
            "18/18 [==============================] - 0s 10ms/step - loss: 0.0759 - accuracy: 1.0000 - val_loss: 0.0225 - val_accuracy: 1.0000\n"
          ]
        }
      ]
    },
    {
      "cell_type": "code",
      "source": [
        "model.summary()\n"
      ],
      "metadata": {
        "colab": {
          "base_uri": "https://localhost:8080/"
        },
        "id": "gvjX5EpfQ223",
        "outputId": "a63311bd-af1c-478e-bd05-d8322d9a7c2d"
      },
      "execution_count": 32,
      "outputs": [
        {
          "output_type": "stream",
          "name": "stdout",
          "text": [
            "Model: \"sequential\"\n",
            "_________________________________________________________________\n",
            " Layer (type)                Output Shape              Param #   \n",
            "=================================================================\n",
            " dense (Dense)               (None, 32)                160       \n",
            "                                                                 \n",
            " dense_1 (Dense)             (None, 64)                2112      \n",
            "                                                                 \n",
            " dropout (Dropout)           (None, 64)                0         \n",
            "                                                                 \n",
            " dense_2 (Dense)             (None, 32)                2080      \n",
            "                                                                 \n",
            " dense_3 (Dense)             (None, 4)                 132       \n",
            "                                                                 \n",
            "=================================================================\n",
            "Total params: 4,484\n",
            "Trainable params: 4,484\n",
            "Non-trainable params: 0\n",
            "_________________________________________________________________\n"
          ]
        }
      ]
    },
    {
      "cell_type": "markdown",
      "source": [
        "# Training KNN and SVM model"
      ],
      "metadata": {
        "id": "tfUo1jOZvEfx"
      }
    },
    {
      "cell_type": "code",
      "source": [
        "rbf = svm.SVC(kernel = 'rbf', gamma = 0.5, C = 0.1).fit(X_train, y_train)\n",
        "poly = svm.SVC(kernel = 'poly', degree = 3, C = 1).fit(X_train, y_train)\n",
        "knn = KNeighborsClassifier(n_neighbors=1).fit(X_train,y_train)"
      ],
      "metadata": {
        "id": "CrNclVpqvlbM"
      },
      "execution_count": 33,
      "outputs": []
    },
    {
      "cell_type": "markdown",
      "source": [
        "# Testing models on test dataset "
      ],
      "metadata": {
        "id": "dCpcNEsovVqY"
      }
    },
    {
      "cell_type": "code",
      "source": [
        "poly_pred = poly.predict(x_test_svm)\n",
        "rbf_pred = rbf.predict(x_test_svm)\n",
        "knn_pred = knn.predict(x_test_svm)"
      ],
      "metadata": {
        "id": "gKG7WPpWvpKk"
      },
      "execution_count": 34,
      "outputs": []
    },
    {
      "cell_type": "code",
      "source": [
        "knn_accuracy = accuracy_score(y_test_svm, knn_pred)\n",
        "knn_f1 = f1_score(y_test_svm, knn_pred, average ='weighted')\n",
        "print('Accuracy (KNN): ', \"%.2f\" % (knn_accuracy*100))\n",
        "print('F1 (KNN): ', \"%.2f\" % (knn_f1*100))"
      ],
      "metadata": {
        "id": "rqpC4utgvPp-",
        "colab": {
          "base_uri": "https://localhost:8080/"
        },
        "outputId": "2bd191f9-8c83-448f-b82e-ba8a173ef426"
      },
      "execution_count": 35,
      "outputs": [
        {
          "output_type": "stream",
          "name": "stdout",
          "text": [
            "Accuracy (KNN):  85.65\n",
            "F1 (KNN):  85.21\n"
          ]
        }
      ]
    },
    {
      "cell_type": "code",
      "source": [
        "poly_accuracy = accuracy_score(y_test_svm, poly_pred)\n",
        "poly_f1 = f1_score(y_test_svm, poly_pred, average = 'weighted')\n",
        "print('Accuracy (Polynomial Kernel): ', \"%.2f\" % (poly_accuracy*100))\n",
        "print('F1 (Polynomial Kernel): ', \"%.2f\" % (poly_f1*100))"
      ],
      "metadata": {
        "colab": {
          "base_uri": "https://localhost:8080/"
        },
        "id": "t2TRhEj2vpNO",
        "outputId": "467cdf09-725c-42e5-d6d9-5789c1ff8b1b"
      },
      "execution_count": 36,
      "outputs": [
        {
          "output_type": "stream",
          "name": "stdout",
          "text": [
            "Accuracy (Polynomial Kernel):  24.50\n",
            "F1 (Polynomial Kernel):  9.64\n"
          ]
        }
      ]
    },
    {
      "cell_type": "code",
      "source": [
        "rbf_accuracy = accuracy_score(y_test_svm, rbf_pred)\n",
        "rbf_f1 = f1_score(y_test_svm, rbf_pred, average = 'weighted')\n",
        "print('Accuracy (RBF Kernel): ', \"%.2f\" % (rbf_accuracy*100))\n",
        "print('F1 (RBF Kernel): ', \"%.2f\" % (rbf_f1*100))"
      ],
      "metadata": {
        "colab": {
          "base_uri": "https://localhost:8080/"
        },
        "id": "5Fzn97D1vpQE",
        "outputId": "d55fc58f-0ff3-48c5-c4ea-7de0685d7bec"
      },
      "execution_count": 37,
      "outputs": [
        {
          "output_type": "stream",
          "name": "stdout",
          "text": [
            "Accuracy (RBF Kernel):  85.65\n",
            "F1 (RBF Kernel):  85.21\n"
          ]
        }
      ]
    },
    {
      "cell_type": "code",
      "source": [
        "'''Test the model'''\n",
        "NN_Accuracy = model.evaluate(x_test_nn, y_test_nn)"
      ],
      "metadata": {
        "colab": {
          "base_uri": "https://localhost:8080/"
        },
        "id": "qY-8zh_ZQ-e3",
        "outputId": "09f9d5a0-be33-4941-fa83-bf993b979255"
      },
      "execution_count": 38,
      "outputs": [
        {
          "output_type": "stream",
          "name": "stdout",
          "text": [
            "63/63 [==============================] - 0s 5ms/step - loss: 0.0655 - accuracy: 0.9880\n"
          ]
        }
      ]
    },
    {
      "cell_type": "markdown",
      "source": [
        "#Choosing K value"
      ],
      "metadata": {
        "id": "NeoiTpR6t09x"
      }
    },
    {
      "cell_type": "code",
      "source": [
        "'''error_rate = []\n",
        "\n",
        "for i in range(1,4):\n",
        "    knn = KNeighborsClassifier(n_neighbors=i)\n",
        "    knn.fit(X_train,y_train)\n",
        "    pred_i = knn.predict(m1)\n",
        "    error_rate.append(np.mean(pred_i != n1))'''"
      ],
      "metadata": {
        "colab": {
          "base_uri": "https://localhost:8080/",
          "height": 53
        },
        "id": "j6DXbwLPt0IT",
        "outputId": "edb2b991-0d80-446c-9625-636c2167767e"
      },
      "execution_count": 39,
      "outputs": [
        {
          "output_type": "execute_result",
          "data": {
            "application/vnd.google.colaboratory.intrinsic+json": {
              "type": "string"
            },
            "text/plain": [
              "'error_rate = []\\n\\nfor i in range(1,4):\\n    knn = KNeighborsClassifier(n_neighbors=i)\\n    knn.fit(X_train,y_train)\\n    pred_i = knn.predict(m1)\\n    error_rate.append(np.mean(pred_i != n1))'"
            ]
          },
          "metadata": {},
          "execution_count": 39
        }
      ]
    },
    {
      "cell_type": "code",
      "source": [
        "'''plt.figure(figsize=(10,6))\n",
        "plt.plot(range(1,40),error_rate,color='blue',ls='--',marker='o',markerfacecolor='red',markersize=10)\n",
        "plt.title('Error Rate vs. K Values')\n",
        "plt.xlabel('K')\n",
        "plt.ylabel('Error Rate')'''"
      ],
      "metadata": {
        "id": "JQlQKs_-t80B",
        "colab": {
          "base_uri": "https://localhost:8080/",
          "height": 53
        },
        "outputId": "e6b6a3e8-b08c-4c38-d73f-5aa671780260"
      },
      "execution_count": 40,
      "outputs": [
        {
          "output_type": "execute_result",
          "data": {
            "application/vnd.google.colaboratory.intrinsic+json": {
              "type": "string"
            },
            "text/plain": [
              "\"plt.figure(figsize=(10,6))\\nplt.plot(range(1,40),error_rate,color='blue',ls='--',marker='o',markerfacecolor='red',markersize=10)\\nplt.title('Error Rate vs. K Values')\\nplt.xlabel('K')\\nplt.ylabel('Error Rate')\""
            ]
          },
          "metadata": {},
          "execution_count": 40
        }
      ]
    }
  ]
}