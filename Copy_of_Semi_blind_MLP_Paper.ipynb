{
  "nbformat": 4,
  "nbformat_minor": 0,
  "metadata": {
    "colab": {
      "name": "Copy of Semi blind MLP_Paper.ipynb",
      "provenance": [],
      "collapsed_sections": [],
      "authorship_tag": "ABX9TyOvt2rbNLozEOQV04erZWtF",
      "include_colab_link": true
    },
    "kernelspec": {
      "name": "python3",
      "display_name": "Python 3"
    },
    "language_info": {
      "name": "python"
    }
  },
  "cells": [
    {
      "cell_type": "markdown",
      "metadata": {
        "id": "view-in-github",
        "colab_type": "text"
      },
      "source": [
        "<a href=\"https://colab.research.google.com/github/mohammad-hosein/Semi-Blind-MLP/blob/main/Copy_of_Semi_blind_MLP_Paper.ipynb\" target=\"_parent\"><img src=\"https://colab.research.google.com/assets/colab-badge.svg\" alt=\"Open In Colab\"/></a>"
      ]
    },
    {
      "cell_type": "code",
      "execution_count": 1,
      "metadata": {
        "id": "lScAEC5buZ19"
      },
      "outputs": [],
      "source": [
        "import numpy as np\n",
        "import math\n",
        "import pandas as pd\n",
        "import tensorflow as tf\n",
        "import random\n",
        "from tensorflow import keras\n",
        "from tensorflow.keras.layers import BatchNormalization\n",
        "from tensorflow.keras import layers\n",
        "from tensorflow.keras.utils import plot_model\n",
        "from tensorflow.keras.layers import Dense, Input,Dropout\n",
        "from tensorflow.keras.models import Sequential\n",
        "from tensorflow.keras.utils import to_categorical\n",
        "from sklearn.model_selection import train_test_split\n",
        "from sklearn import svm\n",
        "from mlxtend.plotting import plot_decision_regions\n",
        "from sklearn.preprocessing import StandardScaler\n",
        "import matplotlib.pyplot as plt\n",
        "from sklearn.metrics import accuracy_score\n",
        "from sklearn.metrics import f1_score\n",
        "from sklearn.neighbors import KNeighborsClassifier"
      ]
    },
    {
      "cell_type": "markdown",
      "source": [
        "# Generating datasets and preprocessing"
      ],
      "metadata": {
        "id": "_ghXxUqWtzCO"
      }
    },
    {
      "cell_type": "code",
      "source": [
        "'''Fading channel for specific number of antennas at transmitter and receiver side'''\n",
        "j = complex(0, 1) #Imaginary part\n",
        "def fading_channel (Nt, Nr):\n",
        "  h_real = np.random.normal(0, 0.5, size = (Nr, Nt))\n",
        "  h_img = np.random.normal(0, 0.5, size = (Nr, Nt))\n",
        "  H_Rayleigh = np.array(h_real + h_img*j, dtype = complex)\n",
        "  \n",
        "  return H_Rayleigh"
      ],
      "metadata": {
        "id": "HIpX9raqush5"
      },
      "execution_count": 2,
      "outputs": []
    },
    {
      "cell_type": "code",
      "source": [
        "'''SSK Constellation set'''\n",
        "Constellation_set= np.zeros(shape= (4, 4))\n",
        "Constellation_set[0] = np.array([1, 0, 0, 0])\n",
        "Constellation_set[1] = np.array([0, 1, 0, 0])\n",
        "Constellation_set[2] = np.array([0, 0, 1, 0])\n",
        "Constellation_set[3] = np.array([0, 0, 0, 1])"
      ],
      "metadata": {
        "id": "smFQAvvMuu_2"
      },
      "execution_count": 3,
      "outputs": []
    },
    {
      "cell_type": "code",
      "source": [
        "H_Rayleigh = fading_channel (4,2)"
      ],
      "metadata": {
        "id": "TNAkbVUmuzOw"
      },
      "execution_count": 4,
      "outputs": []
    },
    {
      "cell_type": "code",
      "source": [
        "'''Complex noise'''\n",
        "def noise_complex (N0, Nr):\n",
        "  n_real = np.random.normal(0, N0, size = Nr)\n",
        "  n_img=np.random.normal(0, N0, size = Nr)\n",
        "  noise_complex=np.array(n_real + n_img*j, dtype = complex)\n",
        "  \n",
        "  return noise_complex"
      ],
      "metadata": {
        "id": "djASxRIhu2P1"
      },
      "execution_count": 5,
      "outputs": []
    },
    {
      "cell_type": "code",
      "source": [
        "'''Creating pilot signals'''\n",
        "def training_pilots_at_receiver (Label):\n",
        "  i = 0\n",
        "  \n",
        "  y_receiver = np.zeros(shape = (4, 2), dtype = \"complex_\")\n",
        "  for i in range(Label):\n",
        "    y_receiver[i] = np.dot(H_Rayleigh, Constellation_set[i], out = None) + noise_complex (0.125, 2)\n",
        "    i += 1\n",
        "\n",
        "  y_receiver_real = y_receiver.real\n",
        "  y_receiver_imag = y_receiver.imag\n",
        "  y_receiver = np.concatenate((y_receiver_real, y_receiver_imag), axis = 1)\n",
        "  y_receiver_complex = pd.DataFrame(y_receiver, columns=['Ant1_real', 'Ant2_real', 'Ant1_imag', 'Ant2_imag'])\n",
        "  y_receiver_complex['Label'] = np.arange(0, 4) \n",
        "\n",
        "  return y_receiver_complex"
      ],
      "metadata": {
        "id": "EmzyzlK2u3rF"
      },
      "execution_count": 6,
      "outputs": []
    },
    {
      "cell_type": "code",
      "source": [
        "training_pilots_at_receiver = training_pilots_at_receiver (4)"
      ],
      "metadata": {
        "id": "pmVWjiYMcN5R"
      },
      "execution_count": 7,
      "outputs": []
    },
    {
      "cell_type": "code",
      "source": [
        "'''Creating test signals'''\n",
        "def test_ (packet_length):\n",
        "  #Define an empty dataframe\n",
        "  y_receive_test = pd.DataFrame()\n",
        "\n",
        "  for i in range(packet_length):\n",
        "    #Generating received signals\n",
        "    y_one_receive_signal = np.zeros(shape = (1, 2), dtype = \"complex_\")\n",
        "    \n",
        "    #Choosing a random constellation point\n",
        "    rand = random.randrange(0, 4, 1)\n",
        "    \n",
        "    #Y = HX+N \n",
        "    y_one_receive_signal = np.dot(H_Rayleigh, Constellation_set[rand], out = None) + noise_complex (0.125, 2)\n",
        "    \n",
        "    #Transforming complex signal to a two dimension integer\n",
        "    y_one_receive_signal_real = y_one_receive_signal.real\n",
        "    y_one_receive_signal_imag = y_one_receive_signal.imag\n",
        "    y_receive = np.concatenate((y_one_receive_signal_real,y_one_receive_signal_imag), axis = None)\n",
        "    \n",
        "    #Filling dataframe rows\n",
        "    y_receive_without_label = pd.DataFrame(y_receive.reshape((1, 4)), columns = ['Ant1_real', 'Ant2_real', 'Ant1_imag', 'Ant2_imag'])\n",
        "    \n",
        "    #Assigning related label to received pilots\n",
        "    if rand == 0 :\n",
        "      y_receive_without_label['Label']= 0\n",
        "    elif rand == 1 :\n",
        "      y_receive_without_label['Label']= 1\n",
        "    elif rand == 2 :\n",
        "      y_receive_without_label['Label']= 2\n",
        "    elif rand == 3 :\n",
        "      y_receive_without_label['Label']= 3\n",
        "    \n",
        "    #Join all test signals to data set\n",
        "    y_receive_test = pd.concat([y_receive_test, y_receive_without_label])\n",
        "\n",
        "  return y_receive_test"
      ],
      "metadata": {
        "id": "0m-sl6Dmu6x1"
      },
      "execution_count": 8,
      "outputs": []
    },
    {
      "cell_type": "code",
      "source": [
        "def test_label (KNN_or_NN): #Depend on model\n",
        "  test = test_ (200)\n",
        "\n",
        "  #Test data for KNN\n",
        "  if KNN_or_NN == 1 :\n",
        "    test_features = test[['Ant1_real', 'Ant2_real', 'Ant1_imag', 'Ant2_imag']]\n",
        "    test_label = test['Label']\n",
        "    return test_features, test_label\n",
        "\n",
        "  #Test data for NN\n",
        "  elif KNN_or_NN == 0:\n",
        "    test_features = test[['Ant1_real', 'Ant2_real', 'Ant1_imag', 'Ant2_imag']]\n",
        "    test_label_NN = test['Label']\n",
        "    #test_label_categorical = to_categorical(test_label, num_classes = 4)\n",
        "    return test_features, test_label_NN"
      ],
      "metadata": {
        "id": "ich16KhGJ9Iz"
      },
      "execution_count": 9,
      "outputs": []
    },
    {
      "cell_type": "code",
      "source": [
        "test_label (1)"
      ],
      "metadata": {
        "colab": {
          "base_uri": "https://localhost:8080/"
        },
        "id": "T-3L-P8hZ9wT",
        "outputId": "c93369e5-8d2a-4037-df9f-553b2f72f982"
      },
      "execution_count": 10,
      "outputs": [
        {
          "output_type": "execute_result",
          "data": {
            "text/plain": [
              "(    Ant1_real  Ant2_real  Ant1_imag  Ant2_imag\n",
              " 0   -0.589252  -0.691312  -1.000278   1.109414\n",
              " 0   -1.175092  -0.453636  -0.036567  -0.189365\n",
              " 0   -0.471246  -0.265696   0.154914  -0.632132\n",
              " 0   -0.606984  -0.574627  -0.781654   1.000116\n",
              " 0   -0.640376  -0.288256  -0.960403   1.144155\n",
              " ..        ...        ...        ...        ...\n",
              " 0    0.422097   0.921447   0.910482  -0.150856\n",
              " 0   -0.641167  -0.293088  -0.022337  -0.382178\n",
              " 0   -0.700402  -0.558711  -0.899244   0.960148\n",
              " 0   -0.865806  -0.408967   0.177121  -0.394829\n",
              " 0    0.520652   0.945241   0.670224  -0.017367\n",
              " \n",
              " [200 rows x 4 columns], 0    2\n",
              " 0    0\n",
              " 0    3\n",
              " 0    2\n",
              " 0    2\n",
              "     ..\n",
              " 0    1\n",
              " 0    3\n",
              " 0    2\n",
              " 0    0\n",
              " 0    1\n",
              " Name: Label, Length: 200, dtype: int64)"
            ]
          },
          "metadata": {},
          "execution_count": 10
        }
      ]
    },
    {
      "cell_type": "code",
      "source": [
        "x_test_svm, y_test_svm = test_label (1)\n",
        "x_test_nn, y_test_nn = test_label (0)\n"
      ],
      "metadata": {
        "id": "VDwd_iHvLuOR"
      },
      "execution_count": 11,
      "outputs": []
    },
    {
      "cell_type": "markdown",
      "source": [
        "# Generating virtual pilots (data augmentation)"
      ],
      "metadata": {
        "id": "U6thg7qouQJT"
      }
    },
    {
      "cell_type": "code",
      "source": [
        "'''Noise for data augmentation'''\n",
        "def noise_real (N0,Nr):\n",
        "  noise_real=np.random.normal(0, N0, size=Nr)\n",
        "  \n",
        "  return noise_real"
      ],
      "metadata": {
        "id": "O8cCcZB2u-FF"
      },
      "execution_count": 12,
      "outputs": []
    },
    {
      "cell_type": "code",
      "source": [
        "def data_augmentation (sample_size, noise_variance):\n",
        "  #Generating virtual pilots based on actual pilots\n",
        "  augmented_data = pd.DataFrame()\n",
        "\n",
        "  for i in range(sample_size):\n",
        "    frame_augmented = training_pilots_at_receiver[['Ant1_real', 'Ant2_real', 'Ant1_imag', 'Ant2_imag']] + noise_real(noise_variance, 4)\n",
        "    frame_augmented['Label'] = np.arange(0, 4)\n",
        "    augmented_data = augmented_data.append(frame_augmented)\n",
        "    i += 1\n",
        "\n",
        "  return augmented_data"
      ],
      "metadata": {
        "id": "pbctavMGRjeo"
      },
      "execution_count": 13,
      "outputs": []
    },
    {
      "cell_type": "code",
      "source": [
        "data_augmentation = data_augmentation(300, 0.03)"
      ],
      "metadata": {
        "id": "xzr5IG_FU73k"
      },
      "execution_count": 14,
      "outputs": []
    },
    {
      "cell_type": "code",
      "source": [
        "print(data_augmentation.describe())\n",
        "print(training_pilots_at_receiver.describe())"
      ],
      "metadata": {
        "colab": {
          "base_uri": "https://localhost:8080/"
        },
        "id": "39hwDiYvAoXx",
        "outputId": "3e0ca006-45b4-4fdd-fa60-d6e90627bb8f"
      },
      "execution_count": 15,
      "outputs": [
        {
          "output_type": "stream",
          "name": "stdout",
          "text": [
            "         Ant1_real    Ant2_real    Ant1_imag    Ant2_imag      Label\n",
            "count  1200.000000  1200.000000  1200.000000  1200.000000  1200.0000\n",
            "mean     -0.435443    -0.102169    -0.039629     0.054158     1.5000\n",
            "std       0.532746     0.567406     0.556908     0.646018     1.1185\n",
            "min      -1.033505    -0.754505    -0.960952    -0.630692     0.0000\n",
            "25%      -0.775351    -0.596097    -0.307337    -0.546300     0.7500\n",
            "50%      -0.611659    -0.243373     0.044600    -0.096831     1.5000\n",
            "75%      -0.237969     0.265149     0.316839     0.544516     2.2500\n",
            "max       0.553343     0.874145     0.731359     1.084072     3.0000\n",
            "       Ant1_real  Ant2_real  Ant1_imag  Ant2_imag     Label\n",
            "count   4.000000   4.000000   4.000000   4.000000  4.000000\n",
            "mean   -0.433702  -0.100598  -0.037804   0.053896  1.500000\n",
            "std     0.613870   0.654009   0.641814   0.744848  1.290994\n",
            "min    -0.961619  -0.670299  -0.887795  -0.554356  0.000000\n",
            "25%    -0.747359  -0.562607  -0.272111  -0.543767  0.750000\n",
            "50%    -0.611421  -0.252195   0.041895  -0.107865  1.500000\n",
            "75%    -0.297764   0.209814   0.276202   0.489798  2.250000\n",
            "max     0.449655   0.772296   0.652791   0.985668  3.000000\n"
          ]
        }
      ]
    },
    {
      "cell_type": "markdown",
      "source": [
        "# Split dataset to train and test"
      ],
      "metadata": {
        "id": "5TuUK_qwulth"
      }
    },
    {
      "cell_type": "code",
      "source": [
        "'''Spliting features and labels'''\n",
        "#xy=pd.concat([data_augmentation, training_pilots_at_receiver])       #Enable when you want vp for SVM & KNN\n",
        "xy = training_pilots_at_receiver                      #Enable when you dont want vp for SVM & KNN\n",
        "xy_NN = pd.concat([data_augmentation, training_pilots_at_receiver])     #Enable when you want vp for NN\n",
        "#xy_NN = training_pilots_at_receiver                   #Enable when you dont want vp for NN"
      ],
      "metadata": {
        "id": "fIBCensrvCPd"
      },
      "execution_count": 16,
      "outputs": []
    },
    {
      "cell_type": "code",
      "source": [
        "xy"
      ],
      "metadata": {
        "colab": {
          "base_uri": "https://localhost:8080/",
          "height": 174
        },
        "id": "0a42O1IoyBHx",
        "outputId": "ca86b928-6478-46d2-b7cc-a9fa774c5f4e"
      },
      "execution_count": 17,
      "outputs": [
        {
          "output_type": "execute_result",
          "data": {
            "text/html": [
              "\n",
              "  <div id=\"df-d2fcd820-a035-48aa-ac8d-26ed1cbbf16f\">\n",
              "    <div class=\"colab-df-container\">\n",
              "      <div>\n",
              "<style scoped>\n",
              "    .dataframe tbody tr th:only-of-type {\n",
              "        vertical-align: middle;\n",
              "    }\n",
              "\n",
              "    .dataframe tbody tr th {\n",
              "        vertical-align: top;\n",
              "    }\n",
              "\n",
              "    .dataframe thead th {\n",
              "        text-align: right;\n",
              "    }\n",
              "</style>\n",
              "<table border=\"1\" class=\"dataframe\">\n",
              "  <thead>\n",
              "    <tr style=\"text-align: right;\">\n",
              "      <th></th>\n",
              "      <th>Ant1_real</th>\n",
              "      <th>Ant2_real</th>\n",
              "      <th>Ant1_imag</th>\n",
              "      <th>Ant2_imag</th>\n",
              "      <th>Label</th>\n",
              "    </tr>\n",
              "  </thead>\n",
              "  <tbody>\n",
              "    <tr>\n",
              "      <th>0</th>\n",
              "      <td>-0.961619</td>\n",
              "      <td>-0.670299</td>\n",
              "      <td>-0.066883</td>\n",
              "      <td>-0.540237</td>\n",
              "      <td>0</td>\n",
              "    </tr>\n",
              "    <tr>\n",
              "      <th>1</th>\n",
              "      <td>0.449655</td>\n",
              "      <td>0.772296</td>\n",
              "      <td>0.652791</td>\n",
              "      <td>0.324508</td>\n",
              "      <td>1</td>\n",
              "    </tr>\n",
              "    <tr>\n",
              "      <th>2</th>\n",
              "      <td>-0.675939</td>\n",
              "      <td>-0.526710</td>\n",
              "      <td>-0.887795</td>\n",
              "      <td>0.985668</td>\n",
              "      <td>2</td>\n",
              "    </tr>\n",
              "    <tr>\n",
              "      <th>3</th>\n",
              "      <td>-0.546904</td>\n",
              "      <td>0.022320</td>\n",
              "      <td>0.150673</td>\n",
              "      <td>-0.554356</td>\n",
              "      <td>3</td>\n",
              "    </tr>\n",
              "  </tbody>\n",
              "</table>\n",
              "</div>\n",
              "      <button class=\"colab-df-convert\" onclick=\"convertToInteractive('df-d2fcd820-a035-48aa-ac8d-26ed1cbbf16f')\"\n",
              "              title=\"Convert this dataframe to an interactive table.\"\n",
              "              style=\"display:none;\">\n",
              "        \n",
              "  <svg xmlns=\"http://www.w3.org/2000/svg\" height=\"24px\"viewBox=\"0 0 24 24\"\n",
              "       width=\"24px\">\n",
              "    <path d=\"M0 0h24v24H0V0z\" fill=\"none\"/>\n",
              "    <path d=\"M18.56 5.44l.94 2.06.94-2.06 2.06-.94-2.06-.94-.94-2.06-.94 2.06-2.06.94zm-11 1L8.5 8.5l.94-2.06 2.06-.94-2.06-.94L8.5 2.5l-.94 2.06-2.06.94zm10 10l.94 2.06.94-2.06 2.06-.94-2.06-.94-.94-2.06-.94 2.06-2.06.94z\"/><path d=\"M17.41 7.96l-1.37-1.37c-.4-.4-.92-.59-1.43-.59-.52 0-1.04.2-1.43.59L10.3 9.45l-7.72 7.72c-.78.78-.78 2.05 0 2.83L4 21.41c.39.39.9.59 1.41.59.51 0 1.02-.2 1.41-.59l7.78-7.78 2.81-2.81c.8-.78.8-2.07 0-2.86zM5.41 20L4 18.59l7.72-7.72 1.47 1.35L5.41 20z\"/>\n",
              "  </svg>\n",
              "      </button>\n",
              "      \n",
              "  <style>\n",
              "    .colab-df-container {\n",
              "      display:flex;\n",
              "      flex-wrap:wrap;\n",
              "      gap: 12px;\n",
              "    }\n",
              "\n",
              "    .colab-df-convert {\n",
              "      background-color: #E8F0FE;\n",
              "      border: none;\n",
              "      border-radius: 50%;\n",
              "      cursor: pointer;\n",
              "      display: none;\n",
              "      fill: #1967D2;\n",
              "      height: 32px;\n",
              "      padding: 0 0 0 0;\n",
              "      width: 32px;\n",
              "    }\n",
              "\n",
              "    .colab-df-convert:hover {\n",
              "      background-color: #E2EBFA;\n",
              "      box-shadow: 0px 1px 2px rgba(60, 64, 67, 0.3), 0px 1px 3px 1px rgba(60, 64, 67, 0.15);\n",
              "      fill: #174EA6;\n",
              "    }\n",
              "\n",
              "    [theme=dark] .colab-df-convert {\n",
              "      background-color: #3B4455;\n",
              "      fill: #D2E3FC;\n",
              "    }\n",
              "\n",
              "    [theme=dark] .colab-df-convert:hover {\n",
              "      background-color: #434B5C;\n",
              "      box-shadow: 0px 1px 3px 1px rgba(0, 0, 0, 0.15);\n",
              "      filter: drop-shadow(0px 1px 2px rgba(0, 0, 0, 0.3));\n",
              "      fill: #FFFFFF;\n",
              "    }\n",
              "  </style>\n",
              "\n",
              "      <script>\n",
              "        const buttonEl =\n",
              "          document.querySelector('#df-d2fcd820-a035-48aa-ac8d-26ed1cbbf16f button.colab-df-convert');\n",
              "        buttonEl.style.display =\n",
              "          google.colab.kernel.accessAllowed ? 'block' : 'none';\n",
              "\n",
              "        async function convertToInteractive(key) {\n",
              "          const element = document.querySelector('#df-d2fcd820-a035-48aa-ac8d-26ed1cbbf16f');\n",
              "          const dataTable =\n",
              "            await google.colab.kernel.invokeFunction('convertToInteractive',\n",
              "                                                     [key], {});\n",
              "          if (!dataTable) return;\n",
              "\n",
              "          const docLinkHtml = 'Like what you see? Visit the ' +\n",
              "            '<a target=\"_blank\" href=https://colab.research.google.com/notebooks/data_table.ipynb>data table notebook</a>'\n",
              "            + ' to learn more about interactive tables.';\n",
              "          element.innerHTML = '';\n",
              "          dataTable['output_type'] = 'display_data';\n",
              "          await google.colab.output.renderOutput(dataTable, element);\n",
              "          const docLink = document.createElement('div');\n",
              "          docLink.innerHTML = docLinkHtml;\n",
              "          element.appendChild(docLink);\n",
              "        }\n",
              "      </script>\n",
              "    </div>\n",
              "  </div>\n",
              "  "
            ],
            "text/plain": [
              "   Ant1_real  Ant2_real  Ant1_imag  Ant2_imag  Label\n",
              "0  -0.961619  -0.670299  -0.066883  -0.540237      0\n",
              "1   0.449655   0.772296   0.652791   0.324508      1\n",
              "2  -0.675939  -0.526710  -0.887795   0.985668      2\n",
              "3  -0.546904   0.022320   0.150673  -0.554356      3"
            ]
          },
          "metadata": {},
          "execution_count": 17
        }
      ]
    },
    {
      "cell_type": "markdown",
      "source": [
        "#Preprocessing for KNN & SVM"
      ],
      "metadata": {
        "id": "ZTV_I4tBt83G"
      }
    },
    {
      "cell_type": "code",
      "source": [
        "scaler = StandardScaler()"
      ],
      "metadata": {
        "id": "kKGZbuZDt8Wh"
      },
      "execution_count": 18,
      "outputs": []
    },
    {
      "cell_type": "code",
      "source": [
        "scaler.fit(xy.drop('Label',axis=1))"
      ],
      "metadata": {
        "id": "TECqsW20u2Bn",
        "colab": {
          "base_uri": "https://localhost:8080/"
        },
        "outputId": "5f96a337-c401-4b0f-877c-a629c78cd375"
      },
      "execution_count": 19,
      "outputs": [
        {
          "output_type": "execute_result",
          "data": {
            "text/plain": [
              "StandardScaler()"
            ]
          },
          "metadata": {},
          "execution_count": 19
        }
      ]
    },
    {
      "cell_type": "code",
      "source": [
        "scaled_features = scaler.transform(xy.drop('Label',axis=1))"
      ],
      "metadata": {
        "id": "NZDjbYmvvHx1"
      },
      "execution_count": 20,
      "outputs": []
    },
    {
      "cell_type": "code",
      "source": [
        "xy = pd.DataFrame(scaled_features,columns=xy.columns[:-1])\n",
        "xy['Label']=np.arange(0,4)\n",
        "xy"
      ],
      "metadata": {
        "id": "i7-PEREivI83",
        "colab": {
          "base_uri": "https://localhost:8080/",
          "height": 174
        },
        "outputId": "c45e8456-6291-40dd-faba-7cb4792cde77"
      },
      "execution_count": 21,
      "outputs": [
        {
          "output_type": "execute_result",
          "data": {
            "text/html": [
              "\n",
              "  <div id=\"df-d207a9cf-c35f-4c3a-8f8e-c13dbee664dc\">\n",
              "    <div class=\"colab-df-container\">\n",
              "      <div>\n",
              "<style scoped>\n",
              "    .dataframe tbody tr th:only-of-type {\n",
              "        vertical-align: middle;\n",
              "    }\n",
              "\n",
              "    .dataframe tbody tr th {\n",
              "        vertical-align: top;\n",
              "    }\n",
              "\n",
              "    .dataframe thead th {\n",
              "        text-align: right;\n",
              "    }\n",
              "</style>\n",
              "<table border=\"1\" class=\"dataframe\">\n",
              "  <thead>\n",
              "    <tr style=\"text-align: right;\">\n",
              "      <th></th>\n",
              "      <th>Ant1_real</th>\n",
              "      <th>Ant2_real</th>\n",
              "      <th>Ant1_imag</th>\n",
              "      <th>Ant2_imag</th>\n",
              "      <th>Label</th>\n",
              "    </tr>\n",
              "  </thead>\n",
              "  <tbody>\n",
              "    <tr>\n",
              "      <th>0</th>\n",
              "      <td>-0.993022</td>\n",
              "      <td>-1.005848</td>\n",
              "      <td>-0.052318</td>\n",
              "      <td>-0.921055</td>\n",
              "      <td>0</td>\n",
              "    </tr>\n",
              "    <tr>\n",
              "      <th>1</th>\n",
              "      <td>1.661610</td>\n",
              "      <td>1.541158</td>\n",
              "      <td>1.242463</td>\n",
              "      <td>0.419516</td>\n",
              "      <td>1</td>\n",
              "    </tr>\n",
              "    <tr>\n",
              "      <th>2</th>\n",
              "      <td>-0.455652</td>\n",
              "      <td>-0.752331</td>\n",
              "      <td>-1.529237</td>\n",
              "      <td>1.444481</td>\n",
              "      <td>2</td>\n",
              "    </tr>\n",
              "    <tr>\n",
              "      <th>3</th>\n",
              "      <td>-0.212936</td>\n",
              "      <td>0.217021</td>\n",
              "      <td>0.339092</td>\n",
              "      <td>-0.942942</td>\n",
              "      <td>3</td>\n",
              "    </tr>\n",
              "  </tbody>\n",
              "</table>\n",
              "</div>\n",
              "      <button class=\"colab-df-convert\" onclick=\"convertToInteractive('df-d207a9cf-c35f-4c3a-8f8e-c13dbee664dc')\"\n",
              "              title=\"Convert this dataframe to an interactive table.\"\n",
              "              style=\"display:none;\">\n",
              "        \n",
              "  <svg xmlns=\"http://www.w3.org/2000/svg\" height=\"24px\"viewBox=\"0 0 24 24\"\n",
              "       width=\"24px\">\n",
              "    <path d=\"M0 0h24v24H0V0z\" fill=\"none\"/>\n",
              "    <path d=\"M18.56 5.44l.94 2.06.94-2.06 2.06-.94-2.06-.94-.94-2.06-.94 2.06-2.06.94zm-11 1L8.5 8.5l.94-2.06 2.06-.94-2.06-.94L8.5 2.5l-.94 2.06-2.06.94zm10 10l.94 2.06.94-2.06 2.06-.94-2.06-.94-.94-2.06-.94 2.06-2.06.94z\"/><path d=\"M17.41 7.96l-1.37-1.37c-.4-.4-.92-.59-1.43-.59-.52 0-1.04.2-1.43.59L10.3 9.45l-7.72 7.72c-.78.78-.78 2.05 0 2.83L4 21.41c.39.39.9.59 1.41.59.51 0 1.02-.2 1.41-.59l7.78-7.78 2.81-2.81c.8-.78.8-2.07 0-2.86zM5.41 20L4 18.59l7.72-7.72 1.47 1.35L5.41 20z\"/>\n",
              "  </svg>\n",
              "      </button>\n",
              "      \n",
              "  <style>\n",
              "    .colab-df-container {\n",
              "      display:flex;\n",
              "      flex-wrap:wrap;\n",
              "      gap: 12px;\n",
              "    }\n",
              "\n",
              "    .colab-df-convert {\n",
              "      background-color: #E8F0FE;\n",
              "      border: none;\n",
              "      border-radius: 50%;\n",
              "      cursor: pointer;\n",
              "      display: none;\n",
              "      fill: #1967D2;\n",
              "      height: 32px;\n",
              "      padding: 0 0 0 0;\n",
              "      width: 32px;\n",
              "    }\n",
              "\n",
              "    .colab-df-convert:hover {\n",
              "      background-color: #E2EBFA;\n",
              "      box-shadow: 0px 1px 2px rgba(60, 64, 67, 0.3), 0px 1px 3px 1px rgba(60, 64, 67, 0.15);\n",
              "      fill: #174EA6;\n",
              "    }\n",
              "\n",
              "    [theme=dark] .colab-df-convert {\n",
              "      background-color: #3B4455;\n",
              "      fill: #D2E3FC;\n",
              "    }\n",
              "\n",
              "    [theme=dark] .colab-df-convert:hover {\n",
              "      background-color: #434B5C;\n",
              "      box-shadow: 0px 1px 3px 1px rgba(0, 0, 0, 0.15);\n",
              "      filter: drop-shadow(0px 1px 2px rgba(0, 0, 0, 0.3));\n",
              "      fill: #FFFFFF;\n",
              "    }\n",
              "  </style>\n",
              "\n",
              "      <script>\n",
              "        const buttonEl =\n",
              "          document.querySelector('#df-d207a9cf-c35f-4c3a-8f8e-c13dbee664dc button.colab-df-convert');\n",
              "        buttonEl.style.display =\n",
              "          google.colab.kernel.accessAllowed ? 'block' : 'none';\n",
              "\n",
              "        async function convertToInteractive(key) {\n",
              "          const element = document.querySelector('#df-d207a9cf-c35f-4c3a-8f8e-c13dbee664dc');\n",
              "          const dataTable =\n",
              "            await google.colab.kernel.invokeFunction('convertToInteractive',\n",
              "                                                     [key], {});\n",
              "          if (!dataTable) return;\n",
              "\n",
              "          const docLinkHtml = 'Like what you see? Visit the ' +\n",
              "            '<a target=\"_blank\" href=https://colab.research.google.com/notebooks/data_table.ipynb>data table notebook</a>'\n",
              "            + ' to learn more about interactive tables.';\n",
              "          element.innerHTML = '';\n",
              "          dataTable['output_type'] = 'display_data';\n",
              "          await google.colab.output.renderOutput(dataTable, element);\n",
              "          const docLink = document.createElement('div');\n",
              "          docLink.innerHTML = docLinkHtml;\n",
              "          element.appendChild(docLink);\n",
              "        }\n",
              "      </script>\n",
              "    </div>\n",
              "  </div>\n",
              "  "
            ],
            "text/plain": [
              "   Ant1_real  Ant2_real  Ant1_imag  Ant2_imag  Label\n",
              "0  -0.993022  -1.005848  -0.052318  -0.921055      0\n",
              "1   1.661610   1.541158   1.242463   0.419516      1\n",
              "2  -0.455652  -0.752331  -1.529237   1.444481      2\n",
              "3  -0.212936   0.217021   0.339092  -0.942942      3"
            ]
          },
          "metadata": {},
          "execution_count": 21
        }
      ]
    },
    {
      "cell_type": "markdown",
      "source": [
        "#Preprocessing for MLP"
      ],
      "metadata": {
        "id": "NlfIRPKn0-dh"
      }
    },
    {
      "cell_type": "code",
      "source": [
        "xy_NN"
      ],
      "metadata": {
        "colab": {
          "base_uri": "https://localhost:8080/",
          "height": 423
        },
        "id": "m88R0xiBw5zl",
        "outputId": "a3c38046-0dd8-4375-87a8-4def8d622117"
      },
      "execution_count": 22,
      "outputs": [
        {
          "output_type": "execute_result",
          "data": {
            "text/html": [
              "\n",
              "  <div id=\"df-12132b47-dadd-425a-a9cc-4fa0f7566ef0\">\n",
              "    <div class=\"colab-df-container\">\n",
              "      <div>\n",
              "<style scoped>\n",
              "    .dataframe tbody tr th:only-of-type {\n",
              "        vertical-align: middle;\n",
              "    }\n",
              "\n",
              "    .dataframe tbody tr th {\n",
              "        vertical-align: top;\n",
              "    }\n",
              "\n",
              "    .dataframe thead th {\n",
              "        text-align: right;\n",
              "    }\n",
              "</style>\n",
              "<table border=\"1\" class=\"dataframe\">\n",
              "  <thead>\n",
              "    <tr style=\"text-align: right;\">\n",
              "      <th></th>\n",
              "      <th>Ant1_real</th>\n",
              "      <th>Ant2_real</th>\n",
              "      <th>Ant1_imag</th>\n",
              "      <th>Ant2_imag</th>\n",
              "      <th>Label</th>\n",
              "    </tr>\n",
              "  </thead>\n",
              "  <tbody>\n",
              "    <tr>\n",
              "      <th>0</th>\n",
              "      <td>-1.012792</td>\n",
              "      <td>-0.690182</td>\n",
              "      <td>-0.053109</td>\n",
              "      <td>-0.566915</td>\n",
              "      <td>0</td>\n",
              "    </tr>\n",
              "    <tr>\n",
              "      <th>1</th>\n",
              "      <td>0.398482</td>\n",
              "      <td>0.752412</td>\n",
              "      <td>0.666565</td>\n",
              "      <td>0.297830</td>\n",
              "      <td>1</td>\n",
              "    </tr>\n",
              "    <tr>\n",
              "      <th>2</th>\n",
              "      <td>-0.727112</td>\n",
              "      <td>-0.546593</td>\n",
              "      <td>-0.874020</td>\n",
              "      <td>0.958990</td>\n",
              "      <td>2</td>\n",
              "    </tr>\n",
              "    <tr>\n",
              "      <th>3</th>\n",
              "      <td>-0.598077</td>\n",
              "      <td>0.002437</td>\n",
              "      <td>0.164448</td>\n",
              "      <td>-0.581034</td>\n",
              "      <td>3</td>\n",
              "    </tr>\n",
              "    <tr>\n",
              "      <th>0</th>\n",
              "      <td>-0.952377</td>\n",
              "      <td>-0.691989</td>\n",
              "      <td>-0.070484</td>\n",
              "      <td>-0.539672</td>\n",
              "      <td>0</td>\n",
              "    </tr>\n",
              "    <tr>\n",
              "      <th>...</th>\n",
              "      <td>...</td>\n",
              "      <td>...</td>\n",
              "      <td>...</td>\n",
              "      <td>...</td>\n",
              "      <td>...</td>\n",
              "    </tr>\n",
              "    <tr>\n",
              "      <th>3</th>\n",
              "      <td>-0.572755</td>\n",
              "      <td>0.008813</td>\n",
              "      <td>0.129548</td>\n",
              "      <td>-0.578189</td>\n",
              "      <td>3</td>\n",
              "    </tr>\n",
              "    <tr>\n",
              "      <th>0</th>\n",
              "      <td>-0.961619</td>\n",
              "      <td>-0.670299</td>\n",
              "      <td>-0.066883</td>\n",
              "      <td>-0.540237</td>\n",
              "      <td>0</td>\n",
              "    </tr>\n",
              "    <tr>\n",
              "      <th>1</th>\n",
              "      <td>0.449655</td>\n",
              "      <td>0.772296</td>\n",
              "      <td>0.652791</td>\n",
              "      <td>0.324508</td>\n",
              "      <td>1</td>\n",
              "    </tr>\n",
              "    <tr>\n",
              "      <th>2</th>\n",
              "      <td>-0.675939</td>\n",
              "      <td>-0.526710</td>\n",
              "      <td>-0.887795</td>\n",
              "      <td>0.985668</td>\n",
              "      <td>2</td>\n",
              "    </tr>\n",
              "    <tr>\n",
              "      <th>3</th>\n",
              "      <td>-0.546904</td>\n",
              "      <td>0.022320</td>\n",
              "      <td>0.150673</td>\n",
              "      <td>-0.554356</td>\n",
              "      <td>3</td>\n",
              "    </tr>\n",
              "  </tbody>\n",
              "</table>\n",
              "<p>1204 rows × 5 columns</p>\n",
              "</div>\n",
              "      <button class=\"colab-df-convert\" onclick=\"convertToInteractive('df-12132b47-dadd-425a-a9cc-4fa0f7566ef0')\"\n",
              "              title=\"Convert this dataframe to an interactive table.\"\n",
              "              style=\"display:none;\">\n",
              "        \n",
              "  <svg xmlns=\"http://www.w3.org/2000/svg\" height=\"24px\"viewBox=\"0 0 24 24\"\n",
              "       width=\"24px\">\n",
              "    <path d=\"M0 0h24v24H0V0z\" fill=\"none\"/>\n",
              "    <path d=\"M18.56 5.44l.94 2.06.94-2.06 2.06-.94-2.06-.94-.94-2.06-.94 2.06-2.06.94zm-11 1L8.5 8.5l.94-2.06 2.06-.94-2.06-.94L8.5 2.5l-.94 2.06-2.06.94zm10 10l.94 2.06.94-2.06 2.06-.94-2.06-.94-.94-2.06-.94 2.06-2.06.94z\"/><path d=\"M17.41 7.96l-1.37-1.37c-.4-.4-.92-.59-1.43-.59-.52 0-1.04.2-1.43.59L10.3 9.45l-7.72 7.72c-.78.78-.78 2.05 0 2.83L4 21.41c.39.39.9.59 1.41.59.51 0 1.02-.2 1.41-.59l7.78-7.78 2.81-2.81c.8-.78.8-2.07 0-2.86zM5.41 20L4 18.59l7.72-7.72 1.47 1.35L5.41 20z\"/>\n",
              "  </svg>\n",
              "      </button>\n",
              "      \n",
              "  <style>\n",
              "    .colab-df-container {\n",
              "      display:flex;\n",
              "      flex-wrap:wrap;\n",
              "      gap: 12px;\n",
              "    }\n",
              "\n",
              "    .colab-df-convert {\n",
              "      background-color: #E8F0FE;\n",
              "      border: none;\n",
              "      border-radius: 50%;\n",
              "      cursor: pointer;\n",
              "      display: none;\n",
              "      fill: #1967D2;\n",
              "      height: 32px;\n",
              "      padding: 0 0 0 0;\n",
              "      width: 32px;\n",
              "    }\n",
              "\n",
              "    .colab-df-convert:hover {\n",
              "      background-color: #E2EBFA;\n",
              "      box-shadow: 0px 1px 2px rgba(60, 64, 67, 0.3), 0px 1px 3px 1px rgba(60, 64, 67, 0.15);\n",
              "      fill: #174EA6;\n",
              "    }\n",
              "\n",
              "    [theme=dark] .colab-df-convert {\n",
              "      background-color: #3B4455;\n",
              "      fill: #D2E3FC;\n",
              "    }\n",
              "\n",
              "    [theme=dark] .colab-df-convert:hover {\n",
              "      background-color: #434B5C;\n",
              "      box-shadow: 0px 1px 3px 1px rgba(0, 0, 0, 0.15);\n",
              "      filter: drop-shadow(0px 1px 2px rgba(0, 0, 0, 0.3));\n",
              "      fill: #FFFFFF;\n",
              "    }\n",
              "  </style>\n",
              "\n",
              "      <script>\n",
              "        const buttonEl =\n",
              "          document.querySelector('#df-12132b47-dadd-425a-a9cc-4fa0f7566ef0 button.colab-df-convert');\n",
              "        buttonEl.style.display =\n",
              "          google.colab.kernel.accessAllowed ? 'block' : 'none';\n",
              "\n",
              "        async function convertToInteractive(key) {\n",
              "          const element = document.querySelector('#df-12132b47-dadd-425a-a9cc-4fa0f7566ef0');\n",
              "          const dataTable =\n",
              "            await google.colab.kernel.invokeFunction('convertToInteractive',\n",
              "                                                     [key], {});\n",
              "          if (!dataTable) return;\n",
              "\n",
              "          const docLinkHtml = 'Like what you see? Visit the ' +\n",
              "            '<a target=\"_blank\" href=https://colab.research.google.com/notebooks/data_table.ipynb>data table notebook</a>'\n",
              "            + ' to learn more about interactive tables.';\n",
              "          element.innerHTML = '';\n",
              "          dataTable['output_type'] = 'display_data';\n",
              "          await google.colab.output.renderOutput(dataTable, element);\n",
              "          const docLink = document.createElement('div');\n",
              "          docLink.innerHTML = docLinkHtml;\n",
              "          element.appendChild(docLink);\n",
              "        }\n",
              "      </script>\n",
              "    </div>\n",
              "  </div>\n",
              "  "
            ],
            "text/plain": [
              "    Ant1_real  Ant2_real  Ant1_imag  Ant2_imag  Label\n",
              "0   -1.012792  -0.690182  -0.053109  -0.566915      0\n",
              "1    0.398482   0.752412   0.666565   0.297830      1\n",
              "2   -0.727112  -0.546593  -0.874020   0.958990      2\n",
              "3   -0.598077   0.002437   0.164448  -0.581034      3\n",
              "0   -0.952377  -0.691989  -0.070484  -0.539672      0\n",
              "..        ...        ...        ...        ...    ...\n",
              "3   -0.572755   0.008813   0.129548  -0.578189      3\n",
              "0   -0.961619  -0.670299  -0.066883  -0.540237      0\n",
              "1    0.449655   0.772296   0.652791   0.324508      1\n",
              "2   -0.675939  -0.526710  -0.887795   0.985668      2\n",
              "3   -0.546904   0.022320   0.150673  -0.554356      3\n",
              "\n",
              "[1204 rows x 5 columns]"
            ]
          },
          "metadata": {},
          "execution_count": 22
        }
      ]
    },
    {
      "cell_type": "code",
      "source": [
        "'''preprocessing for NN'''\n",
        "x_NN=xy_NN[['Ant1_real','Ant2_real','Ant1_imag','Ant2_imag']]\n",
        "y_NN=xy_NN['Label']\n",
        "'''Labels one hot encoding'''\n",
        "#y_NN=to_categorical(y_NN, num_classes=4)\n",
        "'''Spliting data to train and validation'''\n",
        "X_train_NN, X_test_NN, y_train_NN, y_test_NN = train_test_split(x_NN, y_NN, test_size=0.3, random_state=101)"
      ],
      "metadata": {
        "id": "PoetTn9uxIBM"
      },
      "execution_count": 23,
      "outputs": []
    },
    {
      "cell_type": "code",
      "source": [
        "'''Spliting features and labels for SVM & KNN'''\n",
        "x=xy[['Ant1_real','Ant2_real','Ant1_imag','Ant2_imag']]\n",
        "y=xy['Label']"
      ],
      "metadata": {
        "id": "QQPFkgHvvDIF"
      },
      "execution_count": 24,
      "outputs": []
    },
    {
      "cell_type": "code",
      "source": [
        "xy"
      ],
      "metadata": {
        "colab": {
          "base_uri": "https://localhost:8080/",
          "height": 174
        },
        "id": "tkKScYCtvDQj",
        "outputId": "948005b2-e8df-441b-db0f-3b0b3dc201d9"
      },
      "execution_count": 25,
      "outputs": [
        {
          "output_type": "execute_result",
          "data": {
            "text/html": [
              "\n",
              "  <div id=\"df-462c62c0-7120-457f-95a6-eb0b99f2df17\">\n",
              "    <div class=\"colab-df-container\">\n",
              "      <div>\n",
              "<style scoped>\n",
              "    .dataframe tbody tr th:only-of-type {\n",
              "        vertical-align: middle;\n",
              "    }\n",
              "\n",
              "    .dataframe tbody tr th {\n",
              "        vertical-align: top;\n",
              "    }\n",
              "\n",
              "    .dataframe thead th {\n",
              "        text-align: right;\n",
              "    }\n",
              "</style>\n",
              "<table border=\"1\" class=\"dataframe\">\n",
              "  <thead>\n",
              "    <tr style=\"text-align: right;\">\n",
              "      <th></th>\n",
              "      <th>Ant1_real</th>\n",
              "      <th>Ant2_real</th>\n",
              "      <th>Ant1_imag</th>\n",
              "      <th>Ant2_imag</th>\n",
              "      <th>Label</th>\n",
              "    </tr>\n",
              "  </thead>\n",
              "  <tbody>\n",
              "    <tr>\n",
              "      <th>0</th>\n",
              "      <td>-0.993022</td>\n",
              "      <td>-1.005848</td>\n",
              "      <td>-0.052318</td>\n",
              "      <td>-0.921055</td>\n",
              "      <td>0</td>\n",
              "    </tr>\n",
              "    <tr>\n",
              "      <th>1</th>\n",
              "      <td>1.661610</td>\n",
              "      <td>1.541158</td>\n",
              "      <td>1.242463</td>\n",
              "      <td>0.419516</td>\n",
              "      <td>1</td>\n",
              "    </tr>\n",
              "    <tr>\n",
              "      <th>2</th>\n",
              "      <td>-0.455652</td>\n",
              "      <td>-0.752331</td>\n",
              "      <td>-1.529237</td>\n",
              "      <td>1.444481</td>\n",
              "      <td>2</td>\n",
              "    </tr>\n",
              "    <tr>\n",
              "      <th>3</th>\n",
              "      <td>-0.212936</td>\n",
              "      <td>0.217021</td>\n",
              "      <td>0.339092</td>\n",
              "      <td>-0.942942</td>\n",
              "      <td>3</td>\n",
              "    </tr>\n",
              "  </tbody>\n",
              "</table>\n",
              "</div>\n",
              "      <button class=\"colab-df-convert\" onclick=\"convertToInteractive('df-462c62c0-7120-457f-95a6-eb0b99f2df17')\"\n",
              "              title=\"Convert this dataframe to an interactive table.\"\n",
              "              style=\"display:none;\">\n",
              "        \n",
              "  <svg xmlns=\"http://www.w3.org/2000/svg\" height=\"24px\"viewBox=\"0 0 24 24\"\n",
              "       width=\"24px\">\n",
              "    <path d=\"M0 0h24v24H0V0z\" fill=\"none\"/>\n",
              "    <path d=\"M18.56 5.44l.94 2.06.94-2.06 2.06-.94-2.06-.94-.94-2.06-.94 2.06-2.06.94zm-11 1L8.5 8.5l.94-2.06 2.06-.94-2.06-.94L8.5 2.5l-.94 2.06-2.06.94zm10 10l.94 2.06.94-2.06 2.06-.94-2.06-.94-.94-2.06-.94 2.06-2.06.94z\"/><path d=\"M17.41 7.96l-1.37-1.37c-.4-.4-.92-.59-1.43-.59-.52 0-1.04.2-1.43.59L10.3 9.45l-7.72 7.72c-.78.78-.78 2.05 0 2.83L4 21.41c.39.39.9.59 1.41.59.51 0 1.02-.2 1.41-.59l7.78-7.78 2.81-2.81c.8-.78.8-2.07 0-2.86zM5.41 20L4 18.59l7.72-7.72 1.47 1.35L5.41 20z\"/>\n",
              "  </svg>\n",
              "      </button>\n",
              "      \n",
              "  <style>\n",
              "    .colab-df-container {\n",
              "      display:flex;\n",
              "      flex-wrap:wrap;\n",
              "      gap: 12px;\n",
              "    }\n",
              "\n",
              "    .colab-df-convert {\n",
              "      background-color: #E8F0FE;\n",
              "      border: none;\n",
              "      border-radius: 50%;\n",
              "      cursor: pointer;\n",
              "      display: none;\n",
              "      fill: #1967D2;\n",
              "      height: 32px;\n",
              "      padding: 0 0 0 0;\n",
              "      width: 32px;\n",
              "    }\n",
              "\n",
              "    .colab-df-convert:hover {\n",
              "      background-color: #E2EBFA;\n",
              "      box-shadow: 0px 1px 2px rgba(60, 64, 67, 0.3), 0px 1px 3px 1px rgba(60, 64, 67, 0.15);\n",
              "      fill: #174EA6;\n",
              "    }\n",
              "\n",
              "    [theme=dark] .colab-df-convert {\n",
              "      background-color: #3B4455;\n",
              "      fill: #D2E3FC;\n",
              "    }\n",
              "\n",
              "    [theme=dark] .colab-df-convert:hover {\n",
              "      background-color: #434B5C;\n",
              "      box-shadow: 0px 1px 3px 1px rgba(0, 0, 0, 0.15);\n",
              "      filter: drop-shadow(0px 1px 2px rgba(0, 0, 0, 0.3));\n",
              "      fill: #FFFFFF;\n",
              "    }\n",
              "  </style>\n",
              "\n",
              "      <script>\n",
              "        const buttonEl =\n",
              "          document.querySelector('#df-462c62c0-7120-457f-95a6-eb0b99f2df17 button.colab-df-convert');\n",
              "        buttonEl.style.display =\n",
              "          google.colab.kernel.accessAllowed ? 'block' : 'none';\n",
              "\n",
              "        async function convertToInteractive(key) {\n",
              "          const element = document.querySelector('#df-462c62c0-7120-457f-95a6-eb0b99f2df17');\n",
              "          const dataTable =\n",
              "            await google.colab.kernel.invokeFunction('convertToInteractive',\n",
              "                                                     [key], {});\n",
              "          if (!dataTable) return;\n",
              "\n",
              "          const docLinkHtml = 'Like what you see? Visit the ' +\n",
              "            '<a target=\"_blank\" href=https://colab.research.google.com/notebooks/data_table.ipynb>data table notebook</a>'\n",
              "            + ' to learn more about interactive tables.';\n",
              "          element.innerHTML = '';\n",
              "          dataTable['output_type'] = 'display_data';\n",
              "          await google.colab.output.renderOutput(dataTable, element);\n",
              "          const docLink = document.createElement('div');\n",
              "          docLink.innerHTML = docLinkHtml;\n",
              "          element.appendChild(docLink);\n",
              "        }\n",
              "      </script>\n",
              "    </div>\n",
              "  </div>\n",
              "  "
            ],
            "text/plain": [
              "   Ant1_real  Ant2_real  Ant1_imag  Ant2_imag  Label\n",
              "0  -0.993022  -1.005848  -0.052318  -0.921055      0\n",
              "1   1.661610   1.541158   1.242463   0.419516      1\n",
              "2  -0.455652  -0.752331  -1.529237   1.444481      2\n",
              "3  -0.212936   0.217021   0.339092  -0.942942      3"
            ]
          },
          "metadata": {},
          "execution_count": 25
        }
      ]
    },
    {
      "cell_type": "code",
      "source": [
        "'''Spliting data to train and validation'''\n",
        "#X_train, X_test, y_train, y_test = train_test_split(x, y, test_size=0.000001, random_state=101)\n",
        "X_train=x\n",
        "y_train=y"
      ],
      "metadata": {
        "id": "CyRdviGDvDVk"
      },
      "execution_count": 26,
      "outputs": []
    },
    {
      "cell_type": "code",
      "source": [
        "X_train.shape"
      ],
      "metadata": {
        "colab": {
          "base_uri": "https://localhost:8080/"
        },
        "id": "qidmMccBvDX5",
        "outputId": "42b2b3f3-306c-4590-b714-6ce49a8ce3f2"
      },
      "execution_count": 27,
      "outputs": [
        {
          "output_type": "execute_result",
          "data": {
            "text/plain": [
              "(4, 4)"
            ]
          },
          "metadata": {},
          "execution_count": 27
        }
      ]
    },
    {
      "cell_type": "code",
      "source": [
        "y_train.shape"
      ],
      "metadata": {
        "colab": {
          "base_uri": "https://localhost:8080/"
        },
        "id": "bGEZXDgdvDao",
        "outputId": "fdbdb164-594b-44d7-81c5-d56b52689b99"
      },
      "execution_count": 28,
      "outputs": [
        {
          "output_type": "execute_result",
          "data": {
            "text/plain": [
              "(4,)"
            ]
          },
          "metadata": {},
          "execution_count": 28
        }
      ]
    },
    {
      "cell_type": "code",
      "source": [
        "class myCallback(tf.keras.callbacks.Callback):\n",
        "  def on_epoch_end(self, epoch, logs={}):\n",
        "    if(logs.get('accuracy')>0.97 and logs.get('val_loss')<0.1):\n",
        "      print(\"\\nReached 97% accuracy so cancelling training!\")\n",
        "      self.model.stop_training = True\n",
        "callbacks = myCallback()"
      ],
      "metadata": {
        "id": "55bYCjFny_IP"
      },
      "execution_count": 29,
      "outputs": []
    },
    {
      "cell_type": "markdown",
      "source": [
        "# Building neural network and training"
      ],
      "metadata": {
        "id": "h8YwCz66u46S"
      }
    },
    {
      "cell_type": "code",
      "source": [
        "model = Sequential()\n",
        "\n",
        "model.add(Input(shape=(4)))\n",
        "\n",
        "model.add(Dense(32, activation=keras.layers.LeakyReLU(alpha=0.01)))\n",
        "model.add(Dropout(rate=0.2))\n",
        "\n",
        "model.add(Dense(64, activation=keras.layers.LeakyReLU(alpha=0.01)))\n",
        "model.add(Dropout(rate=0.2))\n",
        "\n",
        "#model.add(Dropout(rate=0.1))\n",
        "#model.add(Dense(64, activation='relu'))\n",
        "model.add(Dense(32, activation=keras.layers.LeakyReLU(alpha=0.01)))\n",
        "model.add(Dropout(rate=0.2))\n",
        "\n",
        "model.add(Dense(4, activation='softmax'))\n"
      ],
      "metadata": {
        "id": "XPJIXBPuDTZh"
      },
      "execution_count": 30,
      "outputs": []
    },
    {
      "cell_type": "code",
      "source": [
        "plot_model(model, to_file='model.png', rankdir='LR')\n"
      ],
      "metadata": {
        "colab": {
          "base_uri": "https://localhost:8080/",
          "height": 90
        },
        "id": "93lbPLfwnYfr",
        "outputId": "3f0fcedc-29c5-4a26-9362-ae203f58be7c"
      },
      "execution_count": 31,
      "outputs": [
        {
          "output_type": "execute_result",
          "data": {
            "image/png": "[encoded data removed]",
            "text/plain": [
              "<IPython.core.display.Image object>"
            ]
          },
          "metadata": {},
          "execution_count": 31
        }
      ]
    },
    {
      "cell_type": "code",
      "source": [
        "model.compile(loss='sparse_categorical_crossentropy', optimizer='adam', metrics=['accuracy'])\n",
        "history = model.fit(X_train_NN, y_train_NN, batch_size=32, epochs=10, validation_data=(X_test_NN,y_test_NN),callbacks=[callbacks])"
      ],
      "metadata": {
        "colab": {
          "base_uri": "https://localhost:8080/"
        },
        "id": "jXg7zS__KbNp",
        "outputId": "aece5ab3-c8ff-4bdb-d304-7c618c4d5246"
      },
      "execution_count": 32,
      "outputs": [
        {
          "output_type": "stream",
          "name": "stdout",
          "text": [
            "Epoch 1/10\n",
            "27/27 [==============================] - 2s 31ms/step - loss: 1.2582 - accuracy: 0.5048 - val_loss: 1.0388 - val_accuracy: 0.7265\n",
            "Epoch 2/10\n",
            "27/27 [==============================] - 0s 5ms/step - loss: 0.8586 - accuracy: 0.8147 - val_loss: 0.5835 - val_accuracy: 0.7265\n",
            "Epoch 3/10\n",
            "27/27 [==============================] - 0s 6ms/step - loss: 0.4723 - accuracy: 0.8753 - val_loss: 0.2949 - val_accuracy: 1.0000\n",
            "Epoch 4/10\n",
            "27/27 [==============================] - 0s 7ms/step - loss: 0.2595 - accuracy: 0.9513 - val_loss: 0.1195 - val_accuracy: 1.0000\n",
            "Epoch 5/10\n",
            "13/27 [=============>................] - ETA: 0s - loss: 0.1415 - accuracy: 0.9784\n",
            "Reached 97% accuracy so cancelling training!\n",
            "27/27 [==============================] - 0s 6ms/step - loss: 0.1195 - accuracy: 0.9834 - val_loss: 0.0325 - val_accuracy: 1.0000\n"
          ]
        }
      ]
    },
    {
      "cell_type": "code",
      "source": [
        "model.summary()\n"
      ],
      "metadata": {
        "colab": {
          "base_uri": "https://localhost:8080/"
        },
        "id": "gvjX5EpfQ223",
        "outputId": "28e97283-b57f-4801-a8be-ce63d6adfc43"
      },
      "execution_count": 33,
      "outputs": [
        {
          "output_type": "stream",
          "name": "stdout",
          "text": [
            "Model: \"sequential\"\n",
            "_________________________________________________________________\n",
            " Layer (type)                Output Shape              Param #   \n",
            "=================================================================\n",
            " dense (Dense)               (None, 32)                160       \n",
            "                                                                 \n",
            " dropout (Dropout)           (None, 32)                0         \n",
            "                                                                 \n",
            " dense_1 (Dense)             (None, 64)                2112      \n",
            "                                                                 \n",
            " dropout_1 (Dropout)         (None, 64)                0         \n",
            "                                                                 \n",
            " dense_2 (Dense)             (None, 32)                2080      \n",
            "                                                                 \n",
            " dropout_2 (Dropout)         (None, 32)                0         \n",
            "                                                                 \n",
            " dense_3 (Dense)             (None, 4)                 132       \n",
            "                                                                 \n",
            "=================================================================\n",
            "Total params: 4,484\n",
            "Trainable params: 4,484\n",
            "Non-trainable params: 0\n",
            "_________________________________________________________________\n"
          ]
        }
      ]
    },
    {
      "cell_type": "code",
      "source": [
        "#plot_decision_regions(X_test_NN, y_test_NN, clf=model, legend=2)\n",
        "#plt.show()"
      ],
      "metadata": {
        "id": "ctI5_Woms2Rr"
      },
      "execution_count": 34,
      "outputs": []
    },
    {
      "cell_type": "code",
      "source": [
        "# Plot history: MSE\n",
        "plt.plot(history.history['loss'], label='training data')\n",
        "plt.plot(history.history['val_loss'], label='validation data')\n",
        "plt.title('SCCA')\n",
        "plt.ylabel('SCCA value')\n",
        "plt.xlabel('No. epoch')\n",
        "plt.legend(loc=\"upper left\")\n",
        "plt.show()"
      ],
      "metadata": {
        "colab": {
          "base_uri": "https://localhost:8080/",
          "height": 294
        },
        "id": "VtRY0wZQqQ_O",
        "outputId": "42cfa2c9-1b5c-4fb0-d6ca-54fe5f80afda"
      },
      "execution_count": 35,
      "outputs": [
        {
          "output_type": "display_data",
          "data": {
            "image/png": "[encoded data removed]",
            "text/plain": [
              "<Figure size 432x288 with 1 Axes>"
            ]
          },
          "metadata": {
            "needs_background": "light"
          }
        }
      ]
    },
    {
      "cell_type": "markdown",
      "source": [
        "# Training KNN and SVM model"
      ],
      "metadata": {
        "id": "tfUo1jOZvEfx"
      }
    },
    {
      "cell_type": "code",
      "source": [
        "rbf = svm.SVC(kernel = 'rbf', gamma = 0.5, C = 0.1).fit(X_train, y_train)\n",
        "poly = svm.SVC(kernel = 'poly', degree = 3, C = 1).fit(X_train, y_train)\n",
        "knn = KNeighborsClassifier(n_neighbors=1).fit(X_train,y_train)"
      ],
      "metadata": {
        "id": "CrNclVpqvlbM"
      },
      "execution_count": 36,
      "outputs": []
    },
    {
      "cell_type": "markdown",
      "source": [
        "# Testing models on test dataset "
      ],
      "metadata": {
        "id": "dCpcNEsovVqY"
      }
    },
    {
      "cell_type": "code",
      "source": [
        "poly_pred = poly.predict(x_test_svm)\n",
        "rbf_pred = rbf.predict(x_test_svm)\n",
        "knn_pred = knn.predict(x_test_svm)"
      ],
      "metadata": {
        "id": "gKG7WPpWvpKk"
      },
      "execution_count": 37,
      "outputs": []
    },
    {
      "cell_type": "code",
      "source": [
        "knn_accuracy = accuracy_score(y_test_svm, knn_pred)\n",
        "knn_f1 = f1_score(y_test_svm, knn_pred, average ='weighted')\n",
        "print('Accuracy (KNN): ', \"%.2f\" % (knn_accuracy*100))\n",
        "print('F1 (KNN): ', \"%.2f\" % (knn_f1*100))"
      ],
      "metadata": {
        "id": "rqpC4utgvPp-",
        "colab": {
          "base_uri": "https://localhost:8080/"
        },
        "outputId": "7a4b6b4b-989b-41d3-bcc3-b8cd3e378b5c"
      },
      "execution_count": 38,
      "outputs": [
        {
          "output_type": "stream",
          "name": "stdout",
          "text": [
            "Accuracy (KNN):  77.00\n",
            "F1 (KNN):  71.87\n"
          ]
        }
      ]
    },
    {
      "cell_type": "code",
      "source": [
        "poly_accuracy = accuracy_score(y_test_svm, poly_pred)\n",
        "poly_f1 = f1_score(y_test_svm, poly_pred, average = 'weighted')\n",
        "print('Accuracy (Polynomial Kernel): ', \"%.2f\" % (poly_accuracy*100))\n",
        "print('F1 (Polynomial Kernel): ', \"%.2f\" % (poly_f1*100))"
      ],
      "metadata": {
        "colab": {
          "base_uri": "https://localhost:8080/"
        },
        "id": "t2TRhEj2vpNO",
        "outputId": "fd81cb99-8e20-4580-c0ca-8c770a5bf4a9"
      },
      "execution_count": 39,
      "outputs": [
        {
          "output_type": "stream",
          "name": "stdout",
          "text": [
            "Accuracy (Polynomial Kernel):  26.50\n",
            "F1 (Polynomial Kernel):  16.33\n"
          ]
        }
      ]
    },
    {
      "cell_type": "code",
      "source": [
        "rbf_accuracy = accuracy_score(y_test_svm, rbf_pred)\n",
        "rbf_f1 = f1_score(y_test_svm, rbf_pred, average = 'weighted')\n",
        "print('Accuracy (RBF Kernel): ', \"%.2f\" % (rbf_accuracy*100))\n",
        "print('F1 (RBF Kernel): ', \"%.2f\" % (rbf_f1*100))"
      ],
      "metadata": {
        "colab": {
          "base_uri": "https://localhost:8080/"
        },
        "id": "5Fzn97D1vpQE",
        "outputId": "c03957d9-fc17-4ce8-8cd1-d26bd3d9c5dc"
      },
      "execution_count": 40,
      "outputs": [
        {
          "output_type": "stream",
          "name": "stdout",
          "text": [
            "Accuracy (RBF Kernel):  77.00\n",
            "F1 (RBF Kernel):  71.87\n"
          ]
        }
      ]
    },
    {
      "cell_type": "code",
      "source": [
        "'''Test the model'''\n",
        "NN_Accuracy = model.evaluate(x_test_nn, y_test_nn)"
      ],
      "metadata": {
        "colab": {
          "base_uri": "https://localhost:8080/"
        },
        "id": "qY-8zh_ZQ-e3",
        "outputId": "6df54879-2612-4408-fe0c-27557c28e0e7"
      },
      "execution_count": 41,
      "outputs": [
        {
          "output_type": "stream",
          "name": "stdout",
          "text": [
            "7/7 [==============================] - 0s 3ms/step - loss: 0.1682 - accuracy: 0.9600\n"
          ]
        }
      ]
    },
    {
      "cell_type": "markdown",
      "source": [
        "#Choosing K value"
      ],
      "metadata": {
        "id": "NeoiTpR6t09x"
      }
    },
    {
      "cell_type": "code",
      "source": [
        "'''error_rate = []\n",
        "\n",
        "for i in range(1,4):\n",
        "    knn = KNeighborsClassifier(n_neighbors=i)\n",
        "    knn.fit(X_train,y_train)\n",
        "    pred_i = knn.predict(m1)\n",
        "    error_rate.append(np.mean(pred_i != n1))'''"
      ],
      "metadata": {
        "colab": {
          "base_uri": "https://localhost:8080/",
          "height": 54
        },
        "id": "j6DXbwLPt0IT",
        "outputId": "e1ae9a59-44bd-4c6d-c02b-9147286d96b2"
      },
      "execution_count": 42,
      "outputs": [
        {
          "output_type": "execute_result",
          "data": {
            "application/vnd.google.colaboratory.intrinsic+json": {
              "type": "string"
            },
            "text/plain": [
              "'error_rate = []\\n\\nfor i in range(1,4):\\n    knn = KNeighborsClassifier(n_neighbors=i)\\n    knn.fit(X_train,y_train)\\n    pred_i = knn.predict(m1)\\n    error_rate.append(np.mean(pred_i != n1))'"
            ]
          },
          "metadata": {},
          "execution_count": 42
        }
      ]
    },
    {
      "cell_type": "code",
      "source": [
        "'''plt.figure(figsize=(10,6))\n",
        "plt.plot(range(1,40),error_rate,color='blue',ls='--',marker='o',markerfacecolor='red',markersize=10)\n",
        "plt.title('Error Rate vs. K Values')\n",
        "plt.xlabel('K')\n",
        "plt.ylabel('Error Rate')'''"
      ],
      "metadata": {
        "id": "JQlQKs_-t80B",
        "colab": {
          "base_uri": "https://localhost:8080/",
          "height": 54
        },
        "outputId": "1c9da840-959e-4d1e-d9bc-de7b50f878f3"
      },
      "execution_count": 43,
      "outputs": [
        {
          "output_type": "execute_result",
          "data": {
            "application/vnd.google.colaboratory.intrinsic+json": {
              "type": "string"
            },
            "text/plain": [
              "\"plt.figure(figsize=(10,6))\\nplt.plot(range(1,40),error_rate,color='blue',ls='--',marker='o',markerfacecolor='red',markersize=10)\\nplt.title('Error Rate vs. K Values')\\nplt.xlabel('K')\\nplt.ylabel('Error Rate')\""
            ]
          },
          "metadata": {},
          "execution_count": 43
        }
      ]
    }
  ]
}