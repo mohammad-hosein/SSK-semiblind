{
  "nbformat": 4,
  "nbformat_minor": 0,
  "metadata": {
    "colab": {
      "name": "PNN_SSK.ipynb",
      "provenance": [],
      "collapsed_sections": [],
      "authorship_tag": "ABX9TyPjQDVHgFUodfT/9D7Yl9iQ",
      "include_colab_link": true
    },
    "kernelspec": {
      "name": "python3",
      "display_name": "Python 3"
    },
    "language_info": {
      "name": "python"
    }
  },
  "cells": [
    {
      "cell_type": "markdown",
      "metadata": {
        "id": "view-in-github",
        "colab_type": "text"
      },
      "source": [
        "<a href=\"https://colab.research.google.com/github/mohammad-hosein/SSK-semiblind/blob/main/PNN_SSK.ipynb\" target=\"_parent\"><img src=\"https://colab.research.google.com/assets/colab-badge.svg\" alt=\"Open In Colab\"/></a>"
      ]
    },
    {
      "cell_type": "code",
      "execution_count": null,
      "metadata": {
        "id": "lScAEC5buZ19"
      },
      "outputs": [],
      "source": [
        "import numpy as np\n",
        "import math\n",
        "import pandas as pd\n",
        "import random\n",
        "import tensorflow as tf\n",
        "import keras\n",
        "from tensorflow.keras.layers import BatchNormalization, Dense, Input,Dropout\n",
        "from tensorflow.keras.utils import plot_model, to_categorical\n",
        "from tensorflow.keras.models import Sequential\n",
        "from sklearn.model_selection import train_test_split\n",
        "from sklearn import svm\n",
        "from mlxtend.plotting import plot_decision_regions\n",
        "from sklearn.preprocessing import StandardScaler\n",
        "import matplotlib.pyplot as plt\n",
        "from sklearn.metrics import accuracy_score,f1_score\n",
        "from sklearn.neighbors import KNeighborsClassifier\n",
        "import os\n",
        "os.getcwd()\n",
        "import time"
      ]
    },
    {
      "cell_type": "markdown",
      "source": [
        "# Generating datasets and preprocessing"
      ],
      "metadata": {
        "id": "_ghXxUqWtzCO"
      }
    },
    {
      "cell_type": "code",
      "source": [
        "'''Fading channel for specific number of antennas at transmitter and receiver side'''\n",
        "j = complex(0, 1) #Imaginary part\n",
        "def fading_channel (Nt, Nr):\n",
        "  h_real = np.random.normal(0, 0.5, size = (Nr, Nt))\n",
        "  h_img = np.random.normal(0, 0.5, size = (Nr, Nt))\n",
        "  H_Rayleigh = np.array(h_real + h_img*j, dtype = complex)\n",
        "  \n",
        "  return H_Rayleigh"
      ],
      "metadata": {
        "id": "HIpX9raqush5"
      },
      "execution_count": null,
      "outputs": []
    },
    {
      "cell_type": "code",
      "source": [
        "'''SSK Constellation set'''\n",
        "Constellation_set= np.zeros(shape= (4, 4))\n",
        "Constellation_set[0] = np.array([1, 0, 0, 0])\n",
        "Constellation_set[1] = np.array([0, 1, 0, 0])\n",
        "Constellation_set[2] = np.array([0, 0, 1, 0])\n",
        "Constellation_set[3] = np.array([0, 0, 0, 1])"
      ],
      "metadata": {
        "id": "smFQAvvMuu_2"
      },
      "execution_count": null,
      "outputs": []
    },
    {
      "cell_type": "code",
      "source": [
        "H_Rayleigh = fading_channel (4,2)"
      ],
      "metadata": {
        "id": "TNAkbVUmuzOw"
      },
      "execution_count": null,
      "outputs": []
    },
    {
      "cell_type": "code",
      "source": [
        "'''Complex noise'''\n",
        "def noise_complex (N0, Nr):\n",
        "  n_real = np.random.normal(0, N0, size = Nr)\n",
        "  n_img=np.random.normal(0, N0, size = Nr)\n",
        "  noise_complex=np.array(n_real + n_img*j, dtype = complex)\n",
        "  \n",
        "  return noise_complex"
      ],
      "metadata": {
        "id": "djASxRIhu2P1"
      },
      "execution_count": null,
      "outputs": []
    },
    {
      "cell_type": "code",
      "source": [
        "'''Creating pilot signals'''\n",
        "def training_pilots_at_receiver (Label):\n",
        "  i = 0\n",
        "  \n",
        "  y_receiver = np.zeros(shape = (4, 2), dtype = \"complex_\")\n",
        "  for i in range(Label):\n",
        "    y_receiver[i] = np.dot(H_Rayleigh, Constellation_set[i], out = None) + noise_complex (0.08, 2)\n",
        "    i += 1\n",
        "\n",
        "  y_receiver_real = y_receiver.real\n",
        "  y_receiver_imag = y_receiver.imag\n",
        "  y_receiver = np.concatenate((y_receiver_real, y_receiver_imag), axis = 1)\n",
        "  y_receiver_complex = pd.DataFrame(y_receiver, columns=['Ant1_real', 'Ant2_real', 'Ant1_imag', 'Ant2_imag'])\n",
        "  y_receiver_complex['Label'] = np.arange(0, 4) \n",
        "\n",
        "  return y_receiver_complex"
      ],
      "metadata": {
        "id": "EmzyzlK2u3rF"
      },
      "execution_count": null,
      "outputs": []
    },
    {
      "cell_type": "code",
      "source": [
        "training_pilots_at_receiver = training_pilots_at_receiver (4)"
      ],
      "metadata": {
        "id": "pmVWjiYMcN5R"
      },
      "execution_count": null,
      "outputs": []
    },
    {
      "cell_type": "code",
      "source": [
        "'''Creating test signals'''\n",
        "def test_ (packet_length):\n",
        "  #Define an empty dataframe\n",
        "  y_receive_test = pd.DataFrame()\n",
        "\n",
        "  for i in range(packet_length):\n",
        "    #Generating received signals\n",
        "    y_one_receive_signal = np.zeros(shape = (1, 2), dtype = \"complex_\")\n",
        "    \n",
        "    #Choosing a random constellation point\n",
        "    rand = random.randrange(0, 4, 1)\n",
        "    \n",
        "    #Y = HX+N \n",
        "    y_one_receive_signal = np.dot(H_Rayleigh, Constellation_set[rand], out = None) + noise_complex (0.08, 2)\n",
        "    \n",
        "    #Transforming complex signal to a two dimension integer\n",
        "    y_one_receive_signal_real = y_one_receive_signal.real\n",
        "    y_one_receive_signal_imag = y_one_receive_signal.imag\n",
        "    y_receive = np.concatenate((y_one_receive_signal_real,y_one_receive_signal_imag), axis = None)\n",
        "    \n",
        "    #Filling dataframe rows\n",
        "    y_receive_without_label = pd.DataFrame(y_receive.reshape((1, 4)), columns = ['Ant1_real', 'Ant2_real', 'Ant1_imag', 'Ant2_imag'])\n",
        "    \n",
        "    #Assigning related label to received pilots\n",
        "    if rand == 0 :\n",
        "      y_receive_without_label['Label']= 0\n",
        "    elif rand == 1 :\n",
        "      y_receive_without_label['Label']= 1\n",
        "    elif rand == 2 :\n",
        "      y_receive_without_label['Label']= 2\n",
        "    elif rand == 3 :\n",
        "      y_receive_without_label['Label']= 3\n",
        "    \n",
        "    #Join all test signals to data set\n",
        "    y_receive_test = pd.concat([y_receive_test, y_receive_without_label])\n",
        "\n",
        "  return y_receive_test"
      ],
      "metadata": {
        "id": "0m-sl6Dmu6x1"
      },
      "execution_count": null,
      "outputs": []
    },
    {
      "cell_type": "code",
      "source": [
        "def test_label (KNN_or_NN): #Depend on model\n",
        "  test = test_ (200)\n",
        "\n",
        "  #Test data for KNN\n",
        "  if KNN_or_NN == 1 :\n",
        "    test_features = test[['Ant1_real', 'Ant2_real', 'Ant1_imag', 'Ant2_imag']]\n",
        "    test_label = test['Label']\n",
        "    return test_features, test_label\n",
        "\n",
        "  #Test data for NN\n",
        "  elif KNN_or_NN == 0:\n",
        "    test_features = test[['Ant1_real', 'Ant2_real', 'Ant1_imag', 'Ant2_imag']]\n",
        "    test_label_NN = test['Label']\n",
        "    #test_label_categorical = to_categorical(test_label, num_classes = 4)\n",
        "    return test_features, test_label_NN"
      ],
      "metadata": {
        "id": "ich16KhGJ9Iz"
      },
      "execution_count": null,
      "outputs": []
    },
    {
      "cell_type": "code",
      "source": [
        "test_label (1)"
      ],
      "metadata": {
        "colab": {
          "base_uri": "https://localhost:8080/"
        },
        "id": "T-3L-P8hZ9wT",
        "outputId": "d8304d40-0ed3-402d-e4d3-cf6c1bc71bc8"
      },
      "execution_count": null,
      "outputs": [
        {
          "output_type": "execute_result",
          "data": {
            "text/plain": [
              "(    Ant1_real  Ant2_real  Ant1_imag  Ant2_imag\n",
              " 0   -0.507529  -0.467077  -0.544372  -0.246769\n",
              " 0    0.374539  -0.478619  -0.471623  -0.531016\n",
              " 0   -0.082008   0.556530  -0.202982   0.413463\n",
              " 0   -0.516808  -0.556569  -0.569642   0.002578\n",
              " 0    0.926076   0.574544  -0.692972   0.514474\n",
              " ..        ...        ...        ...        ...\n",
              " 0    0.461453  -0.313042  -0.336462  -0.548577\n",
              " 0   -0.563266  -0.418548  -0.519504  -0.145285\n",
              " 0    0.255169  -0.307013  -0.332961  -0.339640\n",
              " 0    0.894267   0.456515  -0.680567   0.753014\n",
              " 0    0.866068   0.511367  -0.760873   0.617457\n",
              " \n",
              " [200 rows x 4 columns], 0    0\n",
              " 0    1\n",
              " 0    3\n",
              " 0    0\n",
              " 0    2\n",
              "     ..\n",
              " 0    1\n",
              " 0    0\n",
              " 0    1\n",
              " 0    2\n",
              " 0    2\n",
              " Name: Label, Length: 200, dtype: int64)"
            ]
          },
          "metadata": {},
          "execution_count": 10
        }
      ]
    },
    {
      "cell_type": "code",
      "source": [
        "x_test_svm, y_test_svm = test_label (1)\n",
        "x_test_nn, y_test_nn = test_label (0)\n"
      ],
      "metadata": {
        "id": "VDwd_iHvLuOR"
      },
      "execution_count": null,
      "outputs": []
    },
    {
      "cell_type": "markdown",
      "source": [
        "# Generating virtual pilots (data augmentation)"
      ],
      "metadata": {
        "id": "U6thg7qouQJT"
      }
    },
    {
      "cell_type": "code",
      "source": [
        "'''Noise for data augmentation'''\n",
        "def noise_real (N0,Nr):\n",
        "  noise_real=np.random.normal(0, N0, size=Nr)\n",
        "  \n",
        "  return noise_real"
      ],
      "metadata": {
        "id": "O8cCcZB2u-FF"
      },
      "execution_count": null,
      "outputs": []
    },
    {
      "cell_type": "code",
      "source": [
        "def data_augmentation (sample_size, noise_variance):\n",
        "  #Generating virtual pilots based on actual pilots\n",
        "  augmented_data = pd.DataFrame()\n",
        "\n",
        "  for i in range(sample_size):\n",
        "    frame_augmented = training_pilots_at_receiver[['Ant1_real', 'Ant2_real', 'Ant1_imag', 'Ant2_imag']] + noise_real(noise_variance, 4)\n",
        "    frame_augmented['Label'] = np.arange(0, 4)\n",
        "    augmented_data = augmented_data.append(frame_augmented)\n",
        "    i += 1\n",
        "\n",
        "  return augmented_data"
      ],
      "metadata": {
        "id": "pbctavMGRjeo"
      },
      "execution_count": null,
      "outputs": []
    },
    {
      "cell_type": "code",
      "source": [
        "data_augmentation = data_augmentation(70, 0.02)"
      ],
      "metadata": {
        "id": "xzr5IG_FU73k"
      },
      "execution_count": null,
      "outputs": []
    },
    {
      "cell_type": "code",
      "source": [
        "xa_plt = data_augmentation['Ant1_real']\n",
        "ya_plt = data_augmentation['Ant1_imag']\n",
        "\n",
        "xa2_plt = data_augmentation['Ant2_real']\n",
        "ya2_plt = data_augmentation['Ant2_imag']\n",
        "\n",
        "x_plt = training_pilots_at_receiver['Ant1_real']\n",
        "y_plt = training_pilots_at_receiver['Ant1_imag']\n",
        "\n",
        "x2_plt = training_pilots_at_receiver['Ant2_real']\n",
        "y2_plt = training_pilots_at_receiver['Ant2_imag']"
      ],
      "metadata": {
        "id": "gMicZ9yKNsl1"
      },
      "execution_count": null,
      "outputs": []
    },
    {
      "cell_type": "code",
      "source": [
        "fig = plt.figure(figsize=(8,8))\n",
        "plt.subplot(2,2,1)\n",
        "plt.scatter(xa_plt, ya_plt,0.2,color ='red',marker='x')\n",
        "plt.title('Ant_1')\n",
        "plt.ylabel('With DA')\n",
        "\n",
        "plt.subplot(2,2,2)\n",
        "plt.scatter(xa2_plt, ya2_plt,0.2,color ='red',marker='x')\n",
        "plt.title('Ant_2')\n",
        "plt.subplot(2,2,3)\n",
        "plt.scatter(x_plt, y_plt,2,color ='red',marker='x')\n",
        "plt.ylabel('Without DA')\n",
        "\n",
        "plt.subplot(2,2,4)\n",
        "plt.scatter(x2_plt, y2_plt,2,color ='red',marker='x')\n",
        "plt.savefig('4.eps')"
      ],
      "metadata": {
        "colab": {
          "base_uri": "https://localhost:8080/",
          "height": 499
        },
        "id": "yfIm1NmgNcsG",
        "outputId": "4cbb027b-2c51-4081-bae7-a86fd0c6cbd5"
      },
      "execution_count": null,
      "outputs": [
        {
          "output_type": "display_data",
          "data": {
            "image/png": "[encoded data removed]",
            "text/plain": [
              "<Figure size 576x576 with 4 Axes>"
            ]
          },
          "metadata": {
            "needs_background": "light"
          }
        }
      ]
    },
    {
      "cell_type": "code",
      "source": [
        "print(data_augmentation.describe())\n",
        "print(training_pilots_at_receiver.describe())"
      ],
      "metadata": {
        "colab": {
          "base_uri": "https://localhost:8080/"
        },
        "id": "39hwDiYvAoXx",
        "outputId": "9e58e353-5a44-4a52-ffb8-3b5700b0c498"
      },
      "execution_count": null,
      "outputs": [
        {
          "output_type": "stream",
          "name": "stdout",
          "text": [
            "        Ant1_real   Ant2_real   Ant1_imag   Ant2_imag       Label\n",
            "count  280.000000  280.000000  280.000000  280.000000  280.000000\n",
            "mean     0.140326    0.193353   -0.438815    0.126428    1.500000\n",
            "std      0.512830    0.503660    0.146969    0.396068    1.120036\n",
            "min     -0.497803   -0.485081   -0.709513   -0.441338    0.000000\n",
            "25%     -0.282746   -0.256956   -0.508707   -0.175537    0.750000\n",
            "50%      0.049349    0.232592   -0.419072    0.150780    1.500000\n",
            "75%      0.469081    0.684757   -0.348192    0.462387    2.250000\n",
            "max      0.947047    0.800734   -0.203014    0.684058    3.000000\n",
            "       Ant1_real  Ant2_real  Ant1_imag  Ant2_imag     Label\n",
            "count   4.000000   4.000000   4.000000   4.000000  4.000000\n",
            "mean    0.141042   0.194324  -0.441754   0.129167  1.500000\n",
            "std     0.590657   0.579908   0.167644   0.455862  1.290994\n",
            "min    -0.441345  -0.430860  -0.663848  -0.397866  0.000000\n",
            "25%    -0.252489  -0.230288  -0.487891  -0.157253  0.750000\n",
            "50%     0.053406   0.231707  -0.423211   0.143877  1.500000\n",
            "75%     0.446937   0.656319  -0.377074   0.430297  2.250000\n",
            "max     0.898702   0.744743  -0.256746   0.626779  3.000000\n"
          ]
        }
      ]
    },
    {
      "cell_type": "markdown",
      "source": [
        "# Split dataset to train and test"
      ],
      "metadata": {
        "id": "5TuUK_qwulth"
      }
    },
    {
      "cell_type": "code",
      "source": [
        "'''Spliting features and labels'''\n",
        "#xy=pd.concat([data_augmentation, training_pilots_at_receiver])       #Enable when you want vp for SVM & KNN\n",
        "xy = training_pilots_at_receiver                      #Enable when you dont want vp for SVM & KNN\n",
        "xy_NN = pd.concat([data_augmentation, training_pilots_at_receiver])     #Enable when you want vp for NN\n",
        "#xy_NN = training_pilots_at_receiver                   #Enable when you dont want vp for NN"
      ],
      "metadata": {
        "id": "fIBCensrvCPd"
      },
      "execution_count": null,
      "outputs": []
    },
    {
      "cell_type": "code",
      "source": [
        "xy"
      ],
      "metadata": {
        "colab": {
          "base_uri": "https://localhost:8080/",
          "height": 175
        },
        "id": "0a42O1IoyBHx",
        "outputId": "b744896b-ee0e-4b14-b36e-d41f20da04b2"
      },
      "execution_count": null,
      "outputs": [
        {
          "output_type": "execute_result",
          "data": {
            "text/html": [
              "\n",
              "  <div id=\"df-b5d1af90-1266-4e5e-b014-25edc189536b\">\n",
              "    <div class=\"colab-df-container\">\n",
              "      <div>\n",
              "<style scoped>\n",
              "    .dataframe tbody tr th:only-of-type {\n",
              "        vertical-align: middle;\n",
              "    }\n",
              "\n",
              "    .dataframe tbody tr th {\n",
              "        vertical-align: top;\n",
              "    }\n",
              "\n",
              "    .dataframe thead th {\n",
              "        text-align: right;\n",
              "    }\n",
              "</style>\n",
              "<table border=\"1\" class=\"dataframe\">\n",
              "  <thead>\n",
              "    <tr style=\"text-align: right;\">\n",
              "      <th></th>\n",
              "      <th>Ant1_real</th>\n",
              "      <th>Ant2_real</th>\n",
              "      <th>Ant1_imag</th>\n",
              "      <th>Ant2_imag</th>\n",
              "      <th>Label</th>\n",
              "    </tr>\n",
              "  </thead>\n",
              "  <tbody>\n",
              "    <tr>\n",
              "      <th>0</th>\n",
              "      <td>-0.441345</td>\n",
              "      <td>-0.430860</td>\n",
              "      <td>-0.417183</td>\n",
              "      <td>-0.077049</td>\n",
              "      <td>0</td>\n",
              "    </tr>\n",
              "    <tr>\n",
              "      <th>1</th>\n",
              "      <td>0.296348</td>\n",
              "      <td>-0.163431</td>\n",
              "      <td>-0.429239</td>\n",
              "      <td>-0.397866</td>\n",
              "      <td>1</td>\n",
              "    </tr>\n",
              "    <tr>\n",
              "      <th>2</th>\n",
              "      <td>0.898702</td>\n",
              "      <td>0.626844</td>\n",
              "      <td>-0.663848</td>\n",
              "      <td>0.626779</td>\n",
              "      <td>2</td>\n",
              "    </tr>\n",
              "    <tr>\n",
              "      <th>3</th>\n",
              "      <td>-0.189537</td>\n",
              "      <td>0.744743</td>\n",
              "      <td>-0.256746</td>\n",
              "      <td>0.364802</td>\n",
              "      <td>3</td>\n",
              "    </tr>\n",
              "  </tbody>\n",
              "</table>\n",
              "</div>\n",
              "      <button class=\"colab-df-convert\" onclick=\"convertToInteractive('df-b5d1af90-1266-4e5e-b014-25edc189536b')\"\n",
              "              title=\"Convert this dataframe to an interactive table.\"\n",
              "              style=\"display:none;\">\n",
              "        \n",
              "  <svg xmlns=\"http://www.w3.org/2000/svg\" height=\"24px\"viewBox=\"0 0 24 24\"\n",
              "       width=\"24px\">\n",
              "    <path d=\"M0 0h24v24H0V0z\" fill=\"none\"/>\n",
              "    <path d=\"M18.56 5.44l.94 2.06.94-2.06 2.06-.94-2.06-.94-.94-2.06-.94 2.06-2.06.94zm-11 1L8.5 8.5l.94-2.06 2.06-.94-2.06-.94L8.5 2.5l-.94 2.06-2.06.94zm10 10l.94 2.06.94-2.06 2.06-.94-2.06-.94-.94-2.06-.94 2.06-2.06.94z\"/><path d=\"M17.41 7.96l-1.37-1.37c-.4-.4-.92-.59-1.43-.59-.52 0-1.04.2-1.43.59L10.3 9.45l-7.72 7.72c-.78.78-.78 2.05 0 2.83L4 21.41c.39.39.9.59 1.41.59.51 0 1.02-.2 1.41-.59l7.78-7.78 2.81-2.81c.8-.78.8-2.07 0-2.86zM5.41 20L4 18.59l7.72-7.72 1.47 1.35L5.41 20z\"/>\n",
              "  </svg>\n",
              "      </button>\n",
              "      \n",
              "  <style>\n",
              "    .colab-df-container {\n",
              "      display:flex;\n",
              "      flex-wrap:wrap;\n",
              "      gap: 12px;\n",
              "    }\n",
              "\n",
              "    .colab-df-convert {\n",
              "      background-color: #E8F0FE;\n",
              "      border: none;\n",
              "      border-radius: 50%;\n",
              "      cursor: pointer;\n",
              "      display: none;\n",
              "      fill: #1967D2;\n",
              "      height: 32px;\n",
              "      padding: 0 0 0 0;\n",
              "      width: 32px;\n",
              "    }\n",
              "\n",
              "    .colab-df-convert:hover {\n",
              "      background-color: #E2EBFA;\n",
              "      box-shadow: 0px 1px 2px rgba(60, 64, 67, 0.3), 0px 1px 3px 1px rgba(60, 64, 67, 0.15);\n",
              "      fill: #174EA6;\n",
              "    }\n",
              "\n",
              "    [theme=dark] .colab-df-convert {\n",
              "      background-color: #3B4455;\n",
              "      fill: #D2E3FC;\n",
              "    }\n",
              "\n",
              "    [theme=dark] .colab-df-convert:hover {\n",
              "      background-color: #434B5C;\n",
              "      box-shadow: 0px 1px 3px 1px rgba(0, 0, 0, 0.15);\n",
              "      filter: drop-shadow(0px 1px 2px rgba(0, 0, 0, 0.3));\n",
              "      fill: #FFFFFF;\n",
              "    }\n",
              "  </style>\n",
              "\n",
              "      <script>\n",
              "        const buttonEl =\n",
              "          document.querySelector('#df-b5d1af90-1266-4e5e-b014-25edc189536b button.colab-df-convert');\n",
              "        buttonEl.style.display =\n",
              "          google.colab.kernel.accessAllowed ? 'block' : 'none';\n",
              "\n",
              "        async function convertToInteractive(key) {\n",
              "          const element = document.querySelector('#df-b5d1af90-1266-4e5e-b014-25edc189536b');\n",
              "          const dataTable =\n",
              "            await google.colab.kernel.invokeFunction('convertToInteractive',\n",
              "                                                     [key], {});\n",
              "          if (!dataTable) return;\n",
              "\n",
              "          const docLinkHtml = 'Like what you see? Visit the ' +\n",
              "            '<a target=\"_blank\" href=https://colab.research.google.com/notebooks/data_table.ipynb>data table notebook</a>'\n",
              "            + ' to learn more about interactive tables.';\n",
              "          element.innerHTML = '';\n",
              "          dataTable['output_type'] = 'display_data';\n",
              "          await google.colab.output.renderOutput(dataTable, element);\n",
              "          const docLink = document.createElement('div');\n",
              "          docLink.innerHTML = docLinkHtml;\n",
              "          element.appendChild(docLink);\n",
              "        }\n",
              "      </script>\n",
              "    </div>\n",
              "  </div>\n",
              "  "
            ],
            "text/plain": [
              "   Ant1_real  Ant2_real  Ant1_imag  Ant2_imag  Label\n",
              "0  -0.441345  -0.430860  -0.417183  -0.077049      0\n",
              "1   0.296348  -0.163431  -0.429239  -0.397866      1\n",
              "2   0.898702   0.626844  -0.663848   0.626779      2\n",
              "3  -0.189537   0.744743  -0.256746   0.364802      3"
            ]
          },
          "metadata": {},
          "execution_count": 19
        }
      ]
    },
    {
      "cell_type": "markdown",
      "source": [
        "#Preprocessing for KNN & SVM"
      ],
      "metadata": {
        "id": "ZTV_I4tBt83G"
      }
    },
    {
      "cell_type": "code",
      "source": [
        "scaler = StandardScaler()"
      ],
      "metadata": {
        "id": "kKGZbuZDt8Wh"
      },
      "execution_count": null,
      "outputs": []
    },
    {
      "cell_type": "code",
      "source": [
        "scaler.fit(xy.drop('Label',axis=1))"
      ],
      "metadata": {
        "id": "TECqsW20u2Bn",
        "colab": {
          "base_uri": "https://localhost:8080/"
        },
        "outputId": "368e3117-a0ed-40f3-c0d4-edb5f801d3fe"
      },
      "execution_count": null,
      "outputs": [
        {
          "output_type": "execute_result",
          "data": {
            "text/plain": [
              "StandardScaler()"
            ]
          },
          "metadata": {},
          "execution_count": 21
        }
      ]
    },
    {
      "cell_type": "code",
      "source": [
        "scaled_features = scaler.transform(xy.drop('Label',axis=1))"
      ],
      "metadata": {
        "id": "NZDjbYmvvHx1"
      },
      "execution_count": null,
      "outputs": []
    },
    {
      "cell_type": "code",
      "source": [
        "xy = pd.DataFrame(scaled_features,columns=xy.columns[:-1])\n",
        "xy['Label']=np.arange(0,4)\n",
        "xy"
      ],
      "metadata": {
        "id": "i7-PEREivI83",
        "colab": {
          "base_uri": "https://localhost:8080/",
          "height": 175
        },
        "outputId": "3fb21098-0cf5-4767-ff89-b637f7cb6242"
      },
      "execution_count": null,
      "outputs": [
        {
          "output_type": "execute_result",
          "data": {
            "text/html": [
              "\n",
              "  <div id=\"df-b857290e-fe3a-4ebf-beba-f5fd73c4ea9a\">\n",
              "    <div class=\"colab-df-container\">\n",
              "      <div>\n",
              "<style scoped>\n",
              "    .dataframe tbody tr th:only-of-type {\n",
              "        vertical-align: middle;\n",
              "    }\n",
              "\n",
              "    .dataframe tbody tr th {\n",
              "        vertical-align: top;\n",
              "    }\n",
              "\n",
              "    .dataframe thead th {\n",
              "        text-align: right;\n",
              "    }\n",
              "</style>\n",
              "<table border=\"1\" class=\"dataframe\">\n",
              "  <thead>\n",
              "    <tr style=\"text-align: right;\">\n",
              "      <th></th>\n",
              "      <th>Ant1_real</th>\n",
              "      <th>Ant2_real</th>\n",
              "      <th>Ant1_imag</th>\n",
              "      <th>Ant2_imag</th>\n",
              "      <th>Label</th>\n",
              "    </tr>\n",
              "  </thead>\n",
              "  <tbody>\n",
              "    <tr>\n",
              "      <th>0</th>\n",
              "      <td>-1.138534</td>\n",
              "      <td>-1.244855</td>\n",
              "      <td>0.169239</td>\n",
              "      <td>-0.522344</td>\n",
              "      <td>0</td>\n",
              "    </tr>\n",
              "    <tr>\n",
              "      <th>1</th>\n",
              "      <td>0.303614</td>\n",
              "      <td>-0.712354</td>\n",
              "      <td>0.086201</td>\n",
              "      <td>-1.334977</td>\n",
              "      <td>1</td>\n",
              "    </tr>\n",
              "    <tr>\n",
              "      <th>2</th>\n",
              "      <td>1.481183</td>\n",
              "      <td>0.861226</td>\n",
              "      <td>-1.529737</td>\n",
              "      <td>1.260455</td>\n",
              "      <td>2</td>\n",
              "    </tr>\n",
              "    <tr>\n",
              "      <th>3</th>\n",
              "      <td>-0.646263</td>\n",
              "      <td>1.095983</td>\n",
              "      <td>1.274297</td>\n",
              "      <td>0.596866</td>\n",
              "      <td>3</td>\n",
              "    </tr>\n",
              "  </tbody>\n",
              "</table>\n",
              "</div>\n",
              "      <button class=\"colab-df-convert\" onclick=\"convertToInteractive('df-b857290e-fe3a-4ebf-beba-f5fd73c4ea9a')\"\n",
              "              title=\"Convert this dataframe to an interactive table.\"\n",
              "              style=\"display:none;\">\n",
              "        \n",
              "  <svg xmlns=\"http://www.w3.org/2000/svg\" height=\"24px\"viewBox=\"0 0 24 24\"\n",
              "       width=\"24px\">\n",
              "    <path d=\"M0 0h24v24H0V0z\" fill=\"none\"/>\n",
              "    <path d=\"M18.56 5.44l.94 2.06.94-2.06 2.06-.94-2.06-.94-.94-2.06-.94 2.06-2.06.94zm-11 1L8.5 8.5l.94-2.06 2.06-.94-2.06-.94L8.5 2.5l-.94 2.06-2.06.94zm10 10l.94 2.06.94-2.06 2.06-.94-2.06-.94-.94-2.06-.94 2.06-2.06.94z\"/><path d=\"M17.41 7.96l-1.37-1.37c-.4-.4-.92-.59-1.43-.59-.52 0-1.04.2-1.43.59L10.3 9.45l-7.72 7.72c-.78.78-.78 2.05 0 2.83L4 21.41c.39.39.9.59 1.41.59.51 0 1.02-.2 1.41-.59l7.78-7.78 2.81-2.81c.8-.78.8-2.07 0-2.86zM5.41 20L4 18.59l7.72-7.72 1.47 1.35L5.41 20z\"/>\n",
              "  </svg>\n",
              "      </button>\n",
              "      \n",
              "  <style>\n",
              "    .colab-df-container {\n",
              "      display:flex;\n",
              "      flex-wrap:wrap;\n",
              "      gap: 12px;\n",
              "    }\n",
              "\n",
              "    .colab-df-convert {\n",
              "      background-color: #E8F0FE;\n",
              "      border: none;\n",
              "      border-radius: 50%;\n",
              "      cursor: pointer;\n",
              "      display: none;\n",
              "      fill: #1967D2;\n",
              "      height: 32px;\n",
              "      padding: 0 0 0 0;\n",
              "      width: 32px;\n",
              "    }\n",
              "\n",
              "    .colab-df-convert:hover {\n",
              "      background-color: #E2EBFA;\n",
              "      box-shadow: 0px 1px 2px rgba(60, 64, 67, 0.3), 0px 1px 3px 1px rgba(60, 64, 67, 0.15);\n",
              "      fill: #174EA6;\n",
              "    }\n",
              "\n",
              "    [theme=dark] .colab-df-convert {\n",
              "      background-color: #3B4455;\n",
              "      fill: #D2E3FC;\n",
              "    }\n",
              "\n",
              "    [theme=dark] .colab-df-convert:hover {\n",
              "      background-color: #434B5C;\n",
              "      box-shadow: 0px 1px 3px 1px rgba(0, 0, 0, 0.15);\n",
              "      filter: drop-shadow(0px 1px 2px rgba(0, 0, 0, 0.3));\n",
              "      fill: #FFFFFF;\n",
              "    }\n",
              "  </style>\n",
              "\n",
              "      <script>\n",
              "        const buttonEl =\n",
              "          document.querySelector('#df-b857290e-fe3a-4ebf-beba-f5fd73c4ea9a button.colab-df-convert');\n",
              "        buttonEl.style.display =\n",
              "          google.colab.kernel.accessAllowed ? 'block' : 'none';\n",
              "\n",
              "        async function convertToInteractive(key) {\n",
              "          const element = document.querySelector('#df-b857290e-fe3a-4ebf-beba-f5fd73c4ea9a');\n",
              "          const dataTable =\n",
              "            await google.colab.kernel.invokeFunction('convertToInteractive',\n",
              "                                                     [key], {});\n",
              "          if (!dataTable) return;\n",
              "\n",
              "          const docLinkHtml = 'Like what you see? Visit the ' +\n",
              "            '<a target=\"_blank\" href=https://colab.research.google.com/notebooks/data_table.ipynb>data table notebook</a>'\n",
              "            + ' to learn more about interactive tables.';\n",
              "          element.innerHTML = '';\n",
              "          dataTable['output_type'] = 'display_data';\n",
              "          await google.colab.output.renderOutput(dataTable, element);\n",
              "          const docLink = document.createElement('div');\n",
              "          docLink.innerHTML = docLinkHtml;\n",
              "          element.appendChild(docLink);\n",
              "        }\n",
              "      </script>\n",
              "    </div>\n",
              "  </div>\n",
              "  "
            ],
            "text/plain": [
              "   Ant1_real  Ant2_real  Ant1_imag  Ant2_imag  Label\n",
              "0  -1.138534  -1.244855   0.169239  -0.522344      0\n",
              "1   0.303614  -0.712354   0.086201  -1.334977      1\n",
              "2   1.481183   0.861226  -1.529737   1.260455      2\n",
              "3  -0.646263   1.095983   1.274297   0.596866      3"
            ]
          },
          "metadata": {},
          "execution_count": 23
        }
      ]
    },
    {
      "cell_type": "markdown",
      "source": [
        "#Preprocessing for PNN"
      ],
      "metadata": {
        "id": "NlfIRPKn0-dh"
      }
    },
    {
      "cell_type": "code",
      "source": [
        "xy_NN"
      ],
      "metadata": {
        "colab": {
          "base_uri": "https://localhost:8080/",
          "height": 424
        },
        "id": "m88R0xiBw5zl",
        "outputId": "080ac101-8b9e-461e-d275-5c65b8bc71e0"
      },
      "execution_count": null,
      "outputs": [
        {
          "output_type": "execute_result",
          "data": {
            "text/html": [
              "\n",
              "  <div id=\"df-bfbeb7db-0b8e-4206-b5b6-b3c9b4eb2a63\">\n",
              "    <div class=\"colab-df-container\">\n",
              "      <div>\n",
              "<style scoped>\n",
              "    .dataframe tbody tr th:only-of-type {\n",
              "        vertical-align: middle;\n",
              "    }\n",
              "\n",
              "    .dataframe tbody tr th {\n",
              "        vertical-align: top;\n",
              "    }\n",
              "\n",
              "    .dataframe thead th {\n",
              "        text-align: right;\n",
              "    }\n",
              "</style>\n",
              "<table border=\"1\" class=\"dataframe\">\n",
              "  <thead>\n",
              "    <tr style=\"text-align: right;\">\n",
              "      <th></th>\n",
              "      <th>Ant1_real</th>\n",
              "      <th>Ant2_real</th>\n",
              "      <th>Ant1_imag</th>\n",
              "      <th>Ant2_imag</th>\n",
              "      <th>Label</th>\n",
              "    </tr>\n",
              "  </thead>\n",
              "  <tbody>\n",
              "    <tr>\n",
              "      <th>0</th>\n",
              "      <td>-0.426347</td>\n",
              "      <td>-0.430431</td>\n",
              "      <td>-0.404016</td>\n",
              "      <td>-0.078542</td>\n",
              "      <td>0</td>\n",
              "    </tr>\n",
              "    <tr>\n",
              "      <th>1</th>\n",
              "      <td>0.311347</td>\n",
              "      <td>-0.163001</td>\n",
              "      <td>-0.416072</td>\n",
              "      <td>-0.399360</td>\n",
              "      <td>1</td>\n",
              "    </tr>\n",
              "    <tr>\n",
              "      <th>2</th>\n",
              "      <td>0.913701</td>\n",
              "      <td>0.627274</td>\n",
              "      <td>-0.650681</td>\n",
              "      <td>0.625285</td>\n",
              "      <td>2</td>\n",
              "    </tr>\n",
              "    <tr>\n",
              "      <th>3</th>\n",
              "      <td>-0.174538</td>\n",
              "      <td>0.745172</td>\n",
              "      <td>-0.243579</td>\n",
              "      <td>0.363308</td>\n",
              "      <td>3</td>\n",
              "    </tr>\n",
              "    <tr>\n",
              "      <th>0</th>\n",
              "      <td>-0.398012</td>\n",
              "      <td>-0.421274</td>\n",
              "      <td>-0.384904</td>\n",
              "      <td>-0.089355</td>\n",
              "      <td>0</td>\n",
              "    </tr>\n",
              "    <tr>\n",
              "      <th>...</th>\n",
              "      <td>...</td>\n",
              "      <td>...</td>\n",
              "      <td>...</td>\n",
              "      <td>...</td>\n",
              "      <td>...</td>\n",
              "    </tr>\n",
              "    <tr>\n",
              "      <th>3</th>\n",
              "      <td>-0.176794</td>\n",
              "      <td>0.727229</td>\n",
              "      <td>-0.259313</td>\n",
              "      <td>0.380813</td>\n",
              "      <td>3</td>\n",
              "    </tr>\n",
              "    <tr>\n",
              "      <th>0</th>\n",
              "      <td>-0.441345</td>\n",
              "      <td>-0.430860</td>\n",
              "      <td>-0.417183</td>\n",
              "      <td>-0.077049</td>\n",
              "      <td>0</td>\n",
              "    </tr>\n",
              "    <tr>\n",
              "      <th>1</th>\n",
              "      <td>0.296348</td>\n",
              "      <td>-0.163431</td>\n",
              "      <td>-0.429239</td>\n",
              "      <td>-0.397866</td>\n",
              "      <td>1</td>\n",
              "    </tr>\n",
              "    <tr>\n",
              "      <th>2</th>\n",
              "      <td>0.898702</td>\n",
              "      <td>0.626844</td>\n",
              "      <td>-0.663848</td>\n",
              "      <td>0.626779</td>\n",
              "      <td>2</td>\n",
              "    </tr>\n",
              "    <tr>\n",
              "      <th>3</th>\n",
              "      <td>-0.189537</td>\n",
              "      <td>0.744743</td>\n",
              "      <td>-0.256746</td>\n",
              "      <td>0.364802</td>\n",
              "      <td>3</td>\n",
              "    </tr>\n",
              "  </tbody>\n",
              "</table>\n",
              "<p>284 rows × 5 columns</p>\n",
              "</div>\n",
              "      <button class=\"colab-df-convert\" onclick=\"convertToInteractive('df-bfbeb7db-0b8e-4206-b5b6-b3c9b4eb2a63')\"\n",
              "              title=\"Convert this dataframe to an interactive table.\"\n",
              "              style=\"display:none;\">\n",
              "        \n",
              "  <svg xmlns=\"http://www.w3.org/2000/svg\" height=\"24px\"viewBox=\"0 0 24 24\"\n",
              "       width=\"24px\">\n",
              "    <path d=\"M0 0h24v24H0V0z\" fill=\"none\"/>\n",
              "    <path d=\"M18.56 5.44l.94 2.06.94-2.06 2.06-.94-2.06-.94-.94-2.06-.94 2.06-2.06.94zm-11 1L8.5 8.5l.94-2.06 2.06-.94-2.06-.94L8.5 2.5l-.94 2.06-2.06.94zm10 10l.94 2.06.94-2.06 2.06-.94-2.06-.94-.94-2.06-.94 2.06-2.06.94z\"/><path d=\"M17.41 7.96l-1.37-1.37c-.4-.4-.92-.59-1.43-.59-.52 0-1.04.2-1.43.59L10.3 9.45l-7.72 7.72c-.78.78-.78 2.05 0 2.83L4 21.41c.39.39.9.59 1.41.59.51 0 1.02-.2 1.41-.59l7.78-7.78 2.81-2.81c.8-.78.8-2.07 0-2.86zM5.41 20L4 18.59l7.72-7.72 1.47 1.35L5.41 20z\"/>\n",
              "  </svg>\n",
              "      </button>\n",
              "      \n",
              "  <style>\n",
              "    .colab-df-container {\n",
              "      display:flex;\n",
              "      flex-wrap:wrap;\n",
              "      gap: 12px;\n",
              "    }\n",
              "\n",
              "    .colab-df-convert {\n",
              "      background-color: #E8F0FE;\n",
              "      border: none;\n",
              "      border-radius: 50%;\n",
              "      cursor: pointer;\n",
              "      display: none;\n",
              "      fill: #1967D2;\n",
              "      height: 32px;\n",
              "      padding: 0 0 0 0;\n",
              "      width: 32px;\n",
              "    }\n",
              "\n",
              "    .colab-df-convert:hover {\n",
              "      background-color: #E2EBFA;\n",
              "      box-shadow: 0px 1px 2px rgba(60, 64, 67, 0.3), 0px 1px 3px 1px rgba(60, 64, 67, 0.15);\n",
              "      fill: #174EA6;\n",
              "    }\n",
              "\n",
              "    [theme=dark] .colab-df-convert {\n",
              "      background-color: #3B4455;\n",
              "      fill: #D2E3FC;\n",
              "    }\n",
              "\n",
              "    [theme=dark] .colab-df-convert:hover {\n",
              "      background-color: #434B5C;\n",
              "      box-shadow: 0px 1px 3px 1px rgba(0, 0, 0, 0.15);\n",
              "      filter: drop-shadow(0px 1px 2px rgba(0, 0, 0, 0.3));\n",
              "      fill: #FFFFFF;\n",
              "    }\n",
              "  </style>\n",
              "\n",
              "      <script>\n",
              "        const buttonEl =\n",
              "          document.querySelector('#df-bfbeb7db-0b8e-4206-b5b6-b3c9b4eb2a63 button.colab-df-convert');\n",
              "        buttonEl.style.display =\n",
              "          google.colab.kernel.accessAllowed ? 'block' : 'none';\n",
              "\n",
              "        async function convertToInteractive(key) {\n",
              "          const element = document.querySelector('#df-bfbeb7db-0b8e-4206-b5b6-b3c9b4eb2a63');\n",
              "          const dataTable =\n",
              "            await google.colab.kernel.invokeFunction('convertToInteractive',\n",
              "                                                     [key], {});\n",
              "          if (!dataTable) return;\n",
              "\n",
              "          const docLinkHtml = 'Like what you see? Visit the ' +\n",
              "            '<a target=\"_blank\" href=https://colab.research.google.com/notebooks/data_table.ipynb>data table notebook</a>'\n",
              "            + ' to learn more about interactive tables.';\n",
              "          element.innerHTML = '';\n",
              "          dataTable['output_type'] = 'display_data';\n",
              "          await google.colab.output.renderOutput(dataTable, element);\n",
              "          const docLink = document.createElement('div');\n",
              "          docLink.innerHTML = docLinkHtml;\n",
              "          element.appendChild(docLink);\n",
              "        }\n",
              "      </script>\n",
              "    </div>\n",
              "  </div>\n",
              "  "
            ],
            "text/plain": [
              "    Ant1_real  Ant2_real  Ant1_imag  Ant2_imag  Label\n",
              "0   -0.426347  -0.430431  -0.404016  -0.078542      0\n",
              "1    0.311347  -0.163001  -0.416072  -0.399360      1\n",
              "2    0.913701   0.627274  -0.650681   0.625285      2\n",
              "3   -0.174538   0.745172  -0.243579   0.363308      3\n",
              "0   -0.398012  -0.421274  -0.384904  -0.089355      0\n",
              "..        ...        ...        ...        ...    ...\n",
              "3   -0.176794   0.727229  -0.259313   0.380813      3\n",
              "0   -0.441345  -0.430860  -0.417183  -0.077049      0\n",
              "1    0.296348  -0.163431  -0.429239  -0.397866      1\n",
              "2    0.898702   0.626844  -0.663848   0.626779      2\n",
              "3   -0.189537   0.744743  -0.256746   0.364802      3\n",
              "\n",
              "[284 rows x 5 columns]"
            ]
          },
          "metadata": {},
          "execution_count": 24
        }
      ]
    },
    {
      "cell_type": "code",
      "source": [
        "'''preprocessing for NN'''\n",
        "x_NN=xy_NN[['Ant1_real','Ant2_real','Ant1_imag','Ant2_imag']]\n",
        "y_NN=xy_NN['Label']\n",
        "'''Labels one hot encoding'''\n",
        "#y_NN=to_categorical(y_NN, num_classes=4)\n",
        "'''Spliting data to train and validation'''\n",
        "X_train_NN, X_test_NN, y_train_NN, y_test_NN = train_test_split(x_NN, y_NN, test_size=0.3, random_state=101)"
      ],
      "metadata": {
        "id": "PoetTn9uxIBM"
      },
      "execution_count": null,
      "outputs": []
    },
    {
      "cell_type": "code",
      "source": [
        "'''Spliting features and labels for SVM & KNN'''\n",
        "x=xy[['Ant1_real','Ant2_real','Ant1_imag','Ant2_imag']]\n",
        "y=xy['Label']"
      ],
      "metadata": {
        "id": "QQPFkgHvvDIF"
      },
      "execution_count": null,
      "outputs": []
    },
    {
      "cell_type": "code",
      "source": [
        "xy"
      ],
      "metadata": {
        "colab": {
          "base_uri": "https://localhost:8080/",
          "height": 175
        },
        "id": "tkKScYCtvDQj",
        "outputId": "8a3e7b2b-84cd-4ae6-a517-272a26b9df03"
      },
      "execution_count": null,
      "outputs": [
        {
          "output_type": "execute_result",
          "data": {
            "text/html": [
              "\n",
              "  <div id=\"df-128e2643-0185-4503-9765-14e7445b1e84\">\n",
              "    <div class=\"colab-df-container\">\n",
              "      <div>\n",
              "<style scoped>\n",
              "    .dataframe tbody tr th:only-of-type {\n",
              "        vertical-align: middle;\n",
              "    }\n",
              "\n",
              "    .dataframe tbody tr th {\n",
              "        vertical-align: top;\n",
              "    }\n",
              "\n",
              "    .dataframe thead th {\n",
              "        text-align: right;\n",
              "    }\n",
              "</style>\n",
              "<table border=\"1\" class=\"dataframe\">\n",
              "  <thead>\n",
              "    <tr style=\"text-align: right;\">\n",
              "      <th></th>\n",
              "      <th>Ant1_real</th>\n",
              "      <th>Ant2_real</th>\n",
              "      <th>Ant1_imag</th>\n",
              "      <th>Ant2_imag</th>\n",
              "      <th>Label</th>\n",
              "    </tr>\n",
              "  </thead>\n",
              "  <tbody>\n",
              "    <tr>\n",
              "      <th>0</th>\n",
              "      <td>-1.138534</td>\n",
              "      <td>-1.244855</td>\n",
              "      <td>0.169239</td>\n",
              "      <td>-0.522344</td>\n",
              "      <td>0</td>\n",
              "    </tr>\n",
              "    <tr>\n",
              "      <th>1</th>\n",
              "      <td>0.303614</td>\n",
              "      <td>-0.712354</td>\n",
              "      <td>0.086201</td>\n",
              "      <td>-1.334977</td>\n",
              "      <td>1</td>\n",
              "    </tr>\n",
              "    <tr>\n",
              "      <th>2</th>\n",
              "      <td>1.481183</td>\n",
              "      <td>0.861226</td>\n",
              "      <td>-1.529737</td>\n",
              "      <td>1.260455</td>\n",
              "      <td>2</td>\n",
              "    </tr>\n",
              "    <tr>\n",
              "      <th>3</th>\n",
              "      <td>-0.646263</td>\n",
              "      <td>1.095983</td>\n",
              "      <td>1.274297</td>\n",
              "      <td>0.596866</td>\n",
              "      <td>3</td>\n",
              "    </tr>\n",
              "  </tbody>\n",
              "</table>\n",
              "</div>\n",
              "      <button class=\"colab-df-convert\" onclick=\"convertToInteractive('df-128e2643-0185-4503-9765-14e7445b1e84')\"\n",
              "              title=\"Convert this dataframe to an interactive table.\"\n",
              "              style=\"display:none;\">\n",
              "        \n",
              "  <svg xmlns=\"http://www.w3.org/2000/svg\" height=\"24px\"viewBox=\"0 0 24 24\"\n",
              "       width=\"24px\">\n",
              "    <path d=\"M0 0h24v24H0V0z\" fill=\"none\"/>\n",
              "    <path d=\"M18.56 5.44l.94 2.06.94-2.06 2.06-.94-2.06-.94-.94-2.06-.94 2.06-2.06.94zm-11 1L8.5 8.5l.94-2.06 2.06-.94-2.06-.94L8.5 2.5l-.94 2.06-2.06.94zm10 10l.94 2.06.94-2.06 2.06-.94-2.06-.94-.94-2.06-.94 2.06-2.06.94z\"/><path d=\"M17.41 7.96l-1.37-1.37c-.4-.4-.92-.59-1.43-.59-.52 0-1.04.2-1.43.59L10.3 9.45l-7.72 7.72c-.78.78-.78 2.05 0 2.83L4 21.41c.39.39.9.59 1.41.59.51 0 1.02-.2 1.41-.59l7.78-7.78 2.81-2.81c.8-.78.8-2.07 0-2.86zM5.41 20L4 18.59l7.72-7.72 1.47 1.35L5.41 20z\"/>\n",
              "  </svg>\n",
              "      </button>\n",
              "      \n",
              "  <style>\n",
              "    .colab-df-container {\n",
              "      display:flex;\n",
              "      flex-wrap:wrap;\n",
              "      gap: 12px;\n",
              "    }\n",
              "\n",
              "    .colab-df-convert {\n",
              "      background-color: #E8F0FE;\n",
              "      border: none;\n",
              "      border-radius: 50%;\n",
              "      cursor: pointer;\n",
              "      display: none;\n",
              "      fill: #1967D2;\n",
              "      height: 32px;\n",
              "      padding: 0 0 0 0;\n",
              "      width: 32px;\n",
              "    }\n",
              "\n",
              "    .colab-df-convert:hover {\n",
              "      background-color: #E2EBFA;\n",
              "      box-shadow: 0px 1px 2px rgba(60, 64, 67, 0.3), 0px 1px 3px 1px rgba(60, 64, 67, 0.15);\n",
              "      fill: #174EA6;\n",
              "    }\n",
              "\n",
              "    [theme=dark] .colab-df-convert {\n",
              "      background-color: #3B4455;\n",
              "      fill: #D2E3FC;\n",
              "    }\n",
              "\n",
              "    [theme=dark] .colab-df-convert:hover {\n",
              "      background-color: #434B5C;\n",
              "      box-shadow: 0px 1px 3px 1px rgba(0, 0, 0, 0.15);\n",
              "      filter: drop-shadow(0px 1px 2px rgba(0, 0, 0, 0.3));\n",
              "      fill: #FFFFFF;\n",
              "    }\n",
              "  </style>\n",
              "\n",
              "      <script>\n",
              "        const buttonEl =\n",
              "          document.querySelector('#df-128e2643-0185-4503-9765-14e7445b1e84 button.colab-df-convert');\n",
              "        buttonEl.style.display =\n",
              "          google.colab.kernel.accessAllowed ? 'block' : 'none';\n",
              "\n",
              "        async function convertToInteractive(key) {\n",
              "          const element = document.querySelector('#df-128e2643-0185-4503-9765-14e7445b1e84');\n",
              "          const dataTable =\n",
              "            await google.colab.kernel.invokeFunction('convertToInteractive',\n",
              "                                                     [key], {});\n",
              "          if (!dataTable) return;\n",
              "\n",
              "          const docLinkHtml = 'Like what you see? Visit the ' +\n",
              "            '<a target=\"_blank\" href=https://colab.research.google.com/notebooks/data_table.ipynb>data table notebook</a>'\n",
              "            + ' to learn more about interactive tables.';\n",
              "          element.innerHTML = '';\n",
              "          dataTable['output_type'] = 'display_data';\n",
              "          await google.colab.output.renderOutput(dataTable, element);\n",
              "          const docLink = document.createElement('div');\n",
              "          docLink.innerHTML = docLinkHtml;\n",
              "          element.appendChild(docLink);\n",
              "        }\n",
              "      </script>\n",
              "    </div>\n",
              "  </div>\n",
              "  "
            ],
            "text/plain": [
              "   Ant1_real  Ant2_real  Ant1_imag  Ant2_imag  Label\n",
              "0  -1.138534  -1.244855   0.169239  -0.522344      0\n",
              "1   0.303614  -0.712354   0.086201  -1.334977      1\n",
              "2   1.481183   0.861226  -1.529737   1.260455      2\n",
              "3  -0.646263   1.095983   1.274297   0.596866      3"
            ]
          },
          "metadata": {},
          "execution_count": 27
        }
      ]
    },
    {
      "cell_type": "code",
      "source": [
        "'''Spliting data to train and validation'''\n",
        "#X_train, X_test, y_train, y_test = train_test_split(x, y, test_size=0.000001, random_state=101)\n",
        "X_train=x\n",
        "y_train=y"
      ],
      "metadata": {
        "id": "CyRdviGDvDVk"
      },
      "execution_count": null,
      "outputs": []
    },
    {
      "cell_type": "code",
      "source": [
        "X_train.shape"
      ],
      "metadata": {
        "colab": {
          "base_uri": "https://localhost:8080/"
        },
        "id": "qidmMccBvDX5",
        "outputId": "225166c5-f419-443f-c807-f6e79deb6f86"
      },
      "execution_count": null,
      "outputs": [
        {
          "output_type": "execute_result",
          "data": {
            "text/plain": [
              "(4, 4)"
            ]
          },
          "metadata": {},
          "execution_count": 29
        }
      ]
    },
    {
      "cell_type": "code",
      "source": [
        "y_train.shape"
      ],
      "metadata": {
        "colab": {
          "base_uri": "https://localhost:8080/"
        },
        "id": "bGEZXDgdvDao",
        "outputId": "1929ff2a-ac9d-45af-8448-d0ef735d7129"
      },
      "execution_count": null,
      "outputs": [
        {
          "output_type": "execute_result",
          "data": {
            "text/plain": [
              "(4,)"
            ]
          },
          "metadata": {},
          "execution_count": 30
        }
      ]
    },
    {
      "cell_type": "code",
      "source": [
        "class myCallback(tf.keras.callbacks.Callback):\n",
        "  def on_epoch_end(self, epoch, logs={}):\n",
        "    if(logs.get('accuracy')>0.97 and logs.get('loss')<0.07):\n",
        "      print(\"\\nReached 97% accuracy so cancelling training!\")\n",
        "      self.model.stop_training = True\n",
        "callbacks = myCallback()"
      ],
      "metadata": {
        "id": "55bYCjFny_IP"
      },
      "execution_count": null,
      "outputs": []
    },
    {
      "cell_type": "markdown",
      "source": [
        "# Building neural network and training"
      ],
      "metadata": {
        "id": "h8YwCz66u46S"
      }
    },
    {
      "cell_type": "code",
      "source": [
        "model = Sequential()\n",
        "model.add(Input(shape=(4)))\n",
        "model.add(Dense(64, activation=keras.layers.LeakyReLU(alpha=0.01)))\n",
        "model.add(Dense(4, activation='softmax'))"
      ],
      "metadata": {
        "id": "XPJIXBPuDTZh"
      },
      "execution_count": null,
      "outputs": []
    },
    {
      "cell_type": "code",
      "source": [
        "plot_model(model, to_file='model.png', rankdir='LR')\n"
      ],
      "metadata": {
        "colab": {
          "base_uri": "https://localhost:8080/",
          "height": 90
        },
        "id": "93lbPLfwnYfr",
        "outputId": "bc8f182b-bd1c-47e2-bdb8-1d338f072160"
      },
      "execution_count": null,
      "outputs": [
        {
          "output_type": "execute_result",
          "data": {
            "image/png": "[encoded data removed]",
            "text/plain": [
              "<IPython.core.display.Image object>"
            ]
          },
          "metadata": {},
          "execution_count": 33
        }
      ]
    },
    {
      "cell_type": "code",
      "source": [
        "Start = int(round(time.time() * 1000))"
      ],
      "metadata": {
        "id": "5gV_bgEEVkLW"
      },
      "execution_count": null,
      "outputs": []
    },
    {
      "cell_type": "code",
      "source": [
        "model.compile(loss='sparse_categorical_crossentropy', optimizer='adam', metrics=['accuracy'])\n",
        "history = model.fit(X_train_NN, y_train_NN, batch_size=32, epochs=50, validation_data=(X_test_NN,y_test_NN),callbacks=[callbacks])"
      ],
      "metadata": {
        "colab": {
          "base_uri": "https://localhost:8080/"
        },
        "id": "jXg7zS__KbNp",
        "outputId": "ada81f13-8d51-48cd-abe2-adc6dec58daf"
      },
      "execution_count": null,
      "outputs": [
        {
          "output_type": "stream",
          "name": "stdout",
          "text": [
            "Epoch 1/50\n",
            "7/7 [==============================] - 1s 57ms/step - loss: 1.3267 - accuracy: 0.5202 - val_loss: 1.2977 - val_accuracy: 0.4535\n",
            "Epoch 2/50\n",
            "7/7 [==============================] - 0s 11ms/step - loss: 1.2645 - accuracy: 0.5202 - val_loss: 1.2371 - val_accuracy: 0.4535\n",
            "Epoch 3/50\n",
            "7/7 [==============================] - 0s 11ms/step - loss: 1.2051 - accuracy: 0.6869 - val_loss: 1.1766 - val_accuracy: 0.7558\n",
            "Epoch 4/50\n",
            "7/7 [==============================] - 0s 17ms/step - loss: 1.1456 - accuracy: 0.9192 - val_loss: 1.1184 - val_accuracy: 1.0000\n",
            "Epoch 5/50\n",
            "7/7 [==============================] - 0s 15ms/step - loss: 1.0871 - accuracy: 1.0000 - val_loss: 1.0602 - val_accuracy: 1.0000\n",
            "Epoch 6/50\n",
            "7/7 [==============================] - 0s 12ms/step - loss: 1.0297 - accuracy: 1.0000 - val_loss: 1.0023 - val_accuracy: 1.0000\n",
            "Epoch 7/50\n",
            "7/7 [==============================] - 0s 11ms/step - loss: 0.9722 - accuracy: 1.0000 - val_loss: 0.9448 - val_accuracy: 1.0000\n",
            "Epoch 8/50\n",
            "7/7 [==============================] - 0s 14ms/step - loss: 0.9158 - accuracy: 1.0000 - val_loss: 0.8894 - val_accuracy: 1.0000\n",
            "Epoch 9/50\n",
            "7/7 [==============================] - 0s 10ms/step - loss: 0.8605 - accuracy: 1.0000 - val_loss: 0.8349 - val_accuracy: 1.0000\n",
            "Epoch 10/50\n",
            "7/7 [==============================] - 0s 10ms/step - loss: 0.8068 - accuracy: 1.0000 - val_loss: 0.7820 - val_accuracy: 1.0000\n",
            "Epoch 11/50\n",
            "7/7 [==============================] - 0s 11ms/step - loss: 0.7546 - accuracy: 1.0000 - val_loss: 0.7327 - val_accuracy: 1.0000\n",
            "Epoch 12/50\n",
            "7/7 [==============================] - 0s 11ms/step - loss: 0.7041 - accuracy: 1.0000 - val_loss: 0.6835 - val_accuracy: 1.0000\n",
            "Epoch 13/50\n",
            "7/7 [==============================] - 0s 11ms/step - loss: 0.6555 - accuracy: 1.0000 - val_loss: 0.6364 - val_accuracy: 1.0000\n",
            "Epoch 14/50\n",
            "7/7 [==============================] - 0s 10ms/step - loss: 0.6087 - accuracy: 1.0000 - val_loss: 0.5901 - val_accuracy: 1.0000\n",
            "Epoch 15/50\n",
            "7/7 [==============================] - 0s 17ms/step - loss: 0.5640 - accuracy: 1.0000 - val_loss: 0.5469 - val_accuracy: 1.0000\n",
            "Epoch 16/50\n",
            "7/7 [==============================] - 0s 12ms/step - loss: 0.5223 - accuracy: 1.0000 - val_loss: 0.5050 - val_accuracy: 1.0000\n",
            "Epoch 17/50\n",
            "7/7 [==============================] - 0s 18ms/step - loss: 0.4830 - accuracy: 1.0000 - val_loss: 0.4674 - val_accuracy: 1.0000\n",
            "Epoch 18/50\n",
            "7/7 [==============================] - 0s 19ms/step - loss: 0.4463 - accuracy: 1.0000 - val_loss: 0.4334 - val_accuracy: 1.0000\n",
            "Epoch 19/50\n",
            "7/7 [==============================] - 0s 10ms/step - loss: 0.4125 - accuracy: 1.0000 - val_loss: 0.4008 - val_accuracy: 1.0000\n",
            "Epoch 20/50\n",
            "7/7 [==============================] - 0s 12ms/step - loss: 0.3809 - accuracy: 1.0000 - val_loss: 0.3706 - val_accuracy: 1.0000\n",
            "Epoch 21/50\n",
            "7/7 [==============================] - 0s 13ms/step - loss: 0.3523 - accuracy: 1.0000 - val_loss: 0.3437 - val_accuracy: 1.0000\n",
            "Epoch 22/50\n",
            "7/7 [==============================] - 0s 11ms/step - loss: 0.3260 - accuracy: 1.0000 - val_loss: 0.3193 - val_accuracy: 1.0000\n",
            "Epoch 23/50\n",
            "7/7 [==============================] - 0s 11ms/step - loss: 0.3018 - accuracy: 1.0000 - val_loss: 0.2965 - val_accuracy: 1.0000\n",
            "Epoch 24/50\n",
            "7/7 [==============================] - 0s 13ms/step - loss: 0.2797 - accuracy: 1.0000 - val_loss: 0.2756 - val_accuracy: 1.0000\n",
            "Epoch 25/50\n",
            "7/7 [==============================] - 0s 12ms/step - loss: 0.2591 - accuracy: 1.0000 - val_loss: 0.2556 - val_accuracy: 1.0000\n",
            "Epoch 26/50\n",
            "7/7 [==============================] - 0s 10ms/step - loss: 0.2402 - accuracy: 1.0000 - val_loss: 0.2366 - val_accuracy: 1.0000\n",
            "Epoch 27/50\n",
            "7/7 [==============================] - 0s 11ms/step - loss: 0.2227 - accuracy: 1.0000 - val_loss: 0.2194 - val_accuracy: 1.0000\n",
            "Epoch 28/50\n",
            "7/7 [==============================] - 0s 7ms/step - loss: 0.2064 - accuracy: 1.0000 - val_loss: 0.2031 - val_accuracy: 1.0000\n",
            "Epoch 29/50\n",
            "7/7 [==============================] - 0s 10ms/step - loss: 0.1910 - accuracy: 1.0000 - val_loss: 0.1874 - val_accuracy: 1.0000\n",
            "Epoch 30/50\n",
            "7/7 [==============================] - 0s 16ms/step - loss: 0.1769 - accuracy: 1.0000 - val_loss: 0.1733 - val_accuracy: 1.0000\n",
            "Epoch 31/50\n",
            "7/7 [==============================] - 0s 23ms/step - loss: 0.1644 - accuracy: 1.0000 - val_loss: 0.1608 - val_accuracy: 1.0000\n",
            "Epoch 32/50\n",
            "7/7 [==============================] - 0s 14ms/step - loss: 0.1526 - accuracy: 1.0000 - val_loss: 0.1497 - val_accuracy: 1.0000\n",
            "Epoch 33/50\n",
            "7/7 [==============================] - 0s 10ms/step - loss: 0.1423 - accuracy: 1.0000 - val_loss: 0.1396 - val_accuracy: 1.0000\n",
            "Epoch 34/50\n",
            "7/7 [==============================] - 0s 10ms/step - loss: 0.1328 - accuracy: 1.0000 - val_loss: 0.1305 - val_accuracy: 1.0000\n",
            "Epoch 35/50\n",
            "7/7 [==============================] - 0s 10ms/step - loss: 0.1241 - accuracy: 1.0000 - val_loss: 0.1224 - val_accuracy: 1.0000\n",
            "Epoch 36/50\n",
            "7/7 [==============================] - 0s 10ms/step - loss: 0.1161 - accuracy: 1.0000 - val_loss: 0.1147 - val_accuracy: 1.0000\n",
            "Epoch 37/50\n",
            "7/7 [==============================] - 0s 10ms/step - loss: 0.1086 - accuracy: 1.0000 - val_loss: 0.1070 - val_accuracy: 1.0000\n",
            "Epoch 38/50\n",
            "7/7 [==============================] - 0s 19ms/step - loss: 0.1013 - accuracy: 1.0000 - val_loss: 0.0999 - val_accuracy: 1.0000\n",
            "Epoch 39/50\n",
            "7/7 [==============================] - 0s 16ms/step - loss: 0.0949 - accuracy: 1.0000 - val_loss: 0.0932 - val_accuracy: 1.0000\n",
            "Epoch 40/50\n",
            "7/7 [==============================] - 0s 12ms/step - loss: 0.0885 - accuracy: 1.0000 - val_loss: 0.0872 - val_accuracy: 1.0000\n",
            "Epoch 41/50\n",
            "7/7 [==============================] - 0s 11ms/step - loss: 0.0831 - accuracy: 1.0000 - val_loss: 0.0818 - val_accuracy: 1.0000\n",
            "Epoch 42/50\n",
            "7/7 [==============================] - 0s 13ms/step - loss: 0.0780 - accuracy: 1.0000 - val_loss: 0.0770 - val_accuracy: 1.0000\n",
            "Epoch 43/50\n",
            "7/7 [==============================] - 0s 13ms/step - loss: 0.0733 - accuracy: 1.0000 - val_loss: 0.0726 - val_accuracy: 1.0000\n",
            "Epoch 44/50\n",
            "1/7 [===>..........................] - ETA: 0s - loss: 0.0645 - accuracy: 1.0000\n",
            "Reached 97% accuracy so cancelling training!\n",
            "7/7 [==============================] - 0s 23ms/step - loss: 0.0692 - accuracy: 1.0000 - val_loss: 0.0685 - val_accuracy: 1.0000\n"
          ]
        }
      ]
    },
    {
      "cell_type": "code",
      "source": [
        "End = int(round(time.time() * 1000))\n",
        "print(End-Start)"
      ],
      "metadata": {
        "colab": {
          "base_uri": "https://localhost:8080/"
        },
        "id": "Mcn5Rlw-Vru7",
        "outputId": "bf463cea-79f2-4960-d7d6-41e665f9e1d2"
      },
      "execution_count": null,
      "outputs": [
        {
          "output_type": "stream",
          "name": "stdout",
          "text": [
            "5649\n"
          ]
        }
      ]
    },
    {
      "cell_type": "code",
      "source": [
        "model.summary()\n"
      ],
      "metadata": {
        "colab": {
          "base_uri": "https://localhost:8080/"
        },
        "id": "gvjX5EpfQ223",
        "outputId": "e3a60243-d845-45c1-aca0-ba3926608cf8"
      },
      "execution_count": null,
      "outputs": [
        {
          "output_type": "stream",
          "name": "stdout",
          "text": [
            "Model: \"sequential\"\n",
            "_________________________________________________________________\n",
            " Layer (type)                Output Shape              Param #   \n",
            "=================================================================\n",
            " dense (Dense)               (None, 64)                320       \n",
            "                                                                 \n",
            " dense_1 (Dense)             (None, 4)                 260       \n",
            "                                                                 \n",
            "=================================================================\n",
            "Total params: 580\n",
            "Trainable params: 580\n",
            "Non-trainable params: 0\n",
            "_________________________________________________________________\n"
          ]
        }
      ]
    },
    {
      "cell_type": "code",
      "source": [
        "#plot_decision_regions(X_test_NN, y_test_NN, clf=model, legend=2)\n",
        "#plt.show()"
      ],
      "metadata": {
        "id": "ctI5_Woms2Rr"
      },
      "execution_count": null,
      "outputs": []
    },
    {
      "cell_type": "code",
      "source": [
        "# Plot history\n",
        "plt.plot(history.history['loss'], label='training data')\n",
        "plt.plot(history.history['val_loss'], label='validation data')\n",
        "#plt.title('SCCA')\n",
        "plt.ylabel('SCCA loss')\n",
        "plt.xlabel('No. epoch')\n",
        "plt.legend(loc=\"upper right\")\n",
        "plt.savefig('14.pdf')"
      ],
      "metadata": {
        "colab": {
          "base_uri": "https://localhost:8080/",
          "height": 279
        },
        "id": "VtRY0wZQqQ_O",
        "outputId": "932b16d7-c206-48cd-b3eb-d6ae7b786d01"
      },
      "execution_count": null,
      "outputs": [
        {
          "output_type": "display_data",
          "data": {
            "image/png": "[encoded data removed]",
            "text/plain": [
              "<Figure size 432x288 with 1 Axes>"
            ]
          },
          "metadata": {
            "needs_background": "light"
          }
        }
      ]
    },
    {
      "cell_type": "markdown",
      "source": [
        "# Training KNN and SVM model"
      ],
      "metadata": {
        "id": "tfUo1jOZvEfx"
      }
    },
    {
      "cell_type": "code",
      "source": [
        "rbf = svm.SVC(kernel = 'rbf', gamma = 0.5, C = 0.1).fit(X_train, y_train)\n",
        "poly = svm.SVC(kernel = 'poly', degree = 3, C = 1).fit(X_train, y_train)\n",
        "knn = KNeighborsClassifier(n_neighbors=1).fit(X_train,y_train)"
      ],
      "metadata": {
        "id": "CrNclVpqvlbM"
      },
      "execution_count": null,
      "outputs": []
    },
    {
      "cell_type": "markdown",
      "source": [
        "# Testing models on test dataset "
      ],
      "metadata": {
        "id": "dCpcNEsovVqY"
      }
    },
    {
      "cell_type": "code",
      "source": [
        "poly_pred = poly.predict(x_test_svm)\n",
        "rbf_pred = rbf.predict(x_test_svm)\n",
        "knn_pred = knn.predict(x_test_svm)"
      ],
      "metadata": {
        "id": "gKG7WPpWvpKk"
      },
      "execution_count": null,
      "outputs": []
    },
    {
      "cell_type": "code",
      "source": [
        "knn_accuracy = accuracy_score(y_test_svm, knn_pred)\n",
        "knn_f1 = f1_score(y_test_svm, knn_pred, average ='weighted')\n",
        "print('Accuracy (KNN): ', \"%.2f\" % (knn_accuracy*100))\n",
        "print('F1 (KNN): ', \"%.2f\" % (knn_f1*100))"
      ],
      "metadata": {
        "id": "rqpC4utgvPp-",
        "colab": {
          "base_uri": "https://localhost:8080/"
        },
        "outputId": "2b68c413-e92e-461e-a94b-b6e970a8ab10"
      },
      "execution_count": null,
      "outputs": [
        {
          "output_type": "stream",
          "name": "stdout",
          "text": [
            "Accuracy (KNN):  100.00\n",
            "F1 (KNN):  100.00\n"
          ]
        }
      ]
    },
    {
      "cell_type": "code",
      "source": [
        "poly_accuracy = accuracy_score(y_test_svm, poly_pred)\n",
        "poly_f1 = f1_score(y_test_svm, poly_pred, average = 'weighted')\n",
        "print('Accuracy (Polynomial Kernel): ', \"%.2f\" % (poly_accuracy*100))\n",
        "print('F1 (Polynomial Kernel): ', \"%.2f\" % (poly_f1*100))"
      ],
      "metadata": {
        "colab": {
          "base_uri": "https://localhost:8080/"
        },
        "id": "t2TRhEj2vpNO",
        "outputId": "80d45068-a46e-4c32-b970-0b8724b56e02"
      },
      "execution_count": null,
      "outputs": [
        {
          "output_type": "stream",
          "name": "stdout",
          "text": [
            "Accuracy (Polynomial Kernel):  21.50\n",
            "F1 (Polynomial Kernel):  7.61\n"
          ]
        }
      ]
    },
    {
      "cell_type": "code",
      "source": [
        "rbf_accuracy = accuracy_score(y_test_svm, rbf_pred)\n",
        "rbf_f1 = f1_score(y_test_svm, rbf_pred, average = 'weighted')\n",
        "print('Accuracy (RBF Kernel): ', \"%.2f\" % (rbf_accuracy*100))\n",
        "print('F1 (RBF Kernel): ', \"%.2f\" % (rbf_f1*100))"
      ],
      "metadata": {
        "colab": {
          "base_uri": "https://localhost:8080/"
        },
        "id": "5Fzn97D1vpQE",
        "outputId": "bbc89d64-70f3-4733-de0f-370789727f1e"
      },
      "execution_count": null,
      "outputs": [
        {
          "output_type": "stream",
          "name": "stdout",
          "text": [
            "Accuracy (RBF Kernel):  100.00\n",
            "F1 (RBF Kernel):  100.00\n"
          ]
        }
      ]
    },
    {
      "cell_type": "code",
      "source": [
        "'''Test the model'''\n",
        "NN_Accuracy = model.evaluate(x_test_nn, y_test_nn)"
      ],
      "metadata": {
        "colab": {
          "base_uri": "https://localhost:8080/"
        },
        "id": "qY-8zh_ZQ-e3",
        "outputId": "4bdd05c2-a627-4fac-d2f1-407115d8757e"
      },
      "execution_count": null,
      "outputs": [
        {
          "output_type": "stream",
          "name": "stdout",
          "text": [
            "7/7 [==============================] - 0s 4ms/step - loss: 0.0732 - accuracy: 1.0000\n"
          ]
        }
      ]
    },
    {
      "cell_type": "markdown",
      "source": [
        "#Choosing K value"
      ],
      "metadata": {
        "id": "NeoiTpR6t09x"
      }
    },
    {
      "cell_type": "code",
      "source": [
        "'''error_rate = []\n",
        "\n",
        "for i in range(1,4):\n",
        "    knn = KNeighborsClassifier(n_neighbors=i)\n",
        "    knn.fit(X_train,y_train)\n",
        "    pred_i = knn.predict(m1)\n",
        "    error_rate.append(np.mean(pred_i != n1))'''"
      ],
      "metadata": {
        "colab": {
          "base_uri": "https://localhost:8080/",
          "height": 53
        },
        "id": "j6DXbwLPt0IT",
        "outputId": "ac084e04-780a-410b-f7d6-deded710b7da"
      },
      "execution_count": null,
      "outputs": [
        {
          "output_type": "execute_result",
          "data": {
            "application/vnd.google.colaboratory.intrinsic+json": {
              "type": "string"
            },
            "text/plain": [
              "'error_rate = []\\n\\nfor i in range(1,4):\\n    knn = KNeighborsClassifier(n_neighbors=i)\\n    knn.fit(X_train,y_train)\\n    pred_i = knn.predict(m1)\\n    error_rate.append(np.mean(pred_i != n1))'"
            ]
          },
          "metadata": {},
          "execution_count": 46
        }
      ]
    },
    {
      "cell_type": "code",
      "source": [
        "'''plt.figure(figsize=(10,6))\n",
        "plt.plot(range(1,40),error_rate,color='blue',ls='--',marker='o',markerfacecolor='red',markersize=10)\n",
        "plt.title('Error Rate vs. K Values')\n",
        "plt.xlabel('K')\n",
        "plt.ylabel('Error Rate')'''"
      ],
      "metadata": {
        "id": "JQlQKs_-t80B",
        "colab": {
          "base_uri": "https://localhost:8080/",
          "height": 53
        },
        "outputId": "39d864a2-887a-44b6-b7aa-d50db17830b4"
      },
      "execution_count": null,
      "outputs": [
        {
          "output_type": "execute_result",
          "data": {
            "application/vnd.google.colaboratory.intrinsic+json": {
              "type": "string"
            },
            "text/plain": [
              "\"plt.figure(figsize=(10,6))\\nplt.plot(range(1,40),error_rate,color='blue',ls='--',marker='o',markerfacecolor='red',markersize=10)\\nplt.title('Error Rate vs. K Values')\\nplt.xlabel('K')\\nplt.ylabel('Error Rate')\""
            ]
          },
          "metadata": {},
          "execution_count": 47
        }
      ]
    }
  ]
}