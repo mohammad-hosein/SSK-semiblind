{
  "nbformat": 4,
  "nbformat_minor": 0,
  "metadata": {
    "colab": {
      "name": "Copy of Semi blind MLP_Paper.ipynb",
      "provenance": [],
      "collapsed_sections": [],
      "authorship_tag": "ABX9TyNXEEnxUOcwcRg3MyEvZTBn",
      "include_colab_link": true
    },
    "kernelspec": {
      "name": "python3",
      "display_name": "Python 3"
    },
    "language_info": {
      "name": "python"
    }
  },
  "cells": [
    {
      "cell_type": "markdown",
      "metadata": {
        "id": "view-in-github",
        "colab_type": "text"
      },
      "source": [
        "<a href=\"https://colab.research.google.com/github/mohammad-hosein/Semi-Blind-MLP/blob/main/Copy_of_Semi_blind_MLP_Paper.ipynb\" target=\"_parent\"><img src=\"https://colab.research.google.com/assets/colab-badge.svg\" alt=\"Open In Colab\"/></a>"
      ]
    },
    {
      "cell_type": "code",
      "execution_count": 1,
      "metadata": {
        "id": "lScAEC5buZ19"
      },
      "outputs": [],
      "source": [
        "import numpy as np\n",
        "import math\n",
        "import pandas as pd\n",
        "import tensorflow as tf\n",
        "import random\n",
        "from tensorflow import keras\n",
        "from tensorflow.keras import layers\n",
        "from tensorflow.keras.layers import Dense, Input,Dropout\n",
        "from tensorflow.keras.models import Sequential\n",
        "from tensorflow.keras.utils import to_categorical\n",
        "from sklearn.model_selection import train_test_split\n",
        "from sklearn import svm\n",
        "from sklearn.preprocessing import StandardScaler\n",
        "import matplotlib.pyplot as plt\n",
        "from sklearn.metrics import accuracy_score\n",
        "from sklearn.metrics import f1_score\n",
        "from sklearn.neighbors import KNeighborsClassifier"
      ]
    },
    {
      "cell_type": "markdown",
      "source": [
        "# Generating datasets and preprocessing"
      ],
      "metadata": {
        "id": "_ghXxUqWtzCO"
      }
    },
    {
      "cell_type": "code",
      "source": [
        "'''Fading channel for specific number of antennas at transmitter and receiver side'''\n",
        "j = complex(0, 1) #Imaginary part\n",
        "def fading_channel (Nt, Nr):\n",
        "  h_real = np.random.normal(0, 0.5, size = (Nr, Nt))\n",
        "  h_img = np.random.normal(0, 0.5, size = (Nr, Nt))\n",
        "  H_Rayleigh = np.array(h_real + h_img*j, dtype = complex)\n",
        "  \n",
        "  return H_Rayleigh"
      ],
      "metadata": {
        "id": "HIpX9raqush5"
      },
      "execution_count": 2,
      "outputs": []
    },
    {
      "cell_type": "code",
      "source": [
        "'''SSK Constellation set'''\n",
        "Constellation_set= np.zeros(shape= (4, 4))\n",
        "Constellation_set[0] = np.array([1, 0, 0, 0])\n",
        "Constellation_set[1] = np.array([0, 1, 0, 0])\n",
        "Constellation_set[2] = np.array([0, 0, 1, 0])\n",
        "Constellation_set[3] = np.array([0, 0, 0, 1])"
      ],
      "metadata": {
        "id": "smFQAvvMuu_2"
      },
      "execution_count": 3,
      "outputs": []
    },
    {
      "cell_type": "code",
      "source": [
        "H_Rayleigh = fading_channel (4,2)"
      ],
      "metadata": {
        "id": "TNAkbVUmuzOw"
      },
      "execution_count": 4,
      "outputs": []
    },
    {
      "cell_type": "code",
      "source": [
        "'''Complex noise'''\n",
        "def noise_complex (N0, Nr):\n",
        "  n_real = np.random.normal(0, N0, size = Nr)\n",
        "  n_img=np.random.normal(0, N0, size = Nr)\n",
        "  noise_complex=np.array(n_real + n_img*j, dtype = complex)\n",
        "  \n",
        "  return noise_complex"
      ],
      "metadata": {
        "id": "djASxRIhu2P1"
      },
      "execution_count": 5,
      "outputs": []
    },
    {
      "cell_type": "code",
      "source": [
        "'''Creating pilot signals'''\n",
        "def training_pilots_at_receiver (Label):\n",
        "  i = 0\n",
        "  \n",
        "  y_receiver = np.zeros(shape = (4, 2), dtype = \"complex_\")\n",
        "  for i in range(Label):\n",
        "    y_receiver[i] = np.dot(H_Rayleigh, Constellation_set[i], out = None) + noise_complex (0.1, 2)\n",
        "    i += 1\n",
        "\n",
        "  y_receiver_real = y_receiver.real\n",
        "  y_receiver_imag = y_receiver.imag\n",
        "  y_receiver = np.concatenate((y_receiver_real, y_receiver_imag), axis = 1)\n",
        "  y_receiver_complex = pd.DataFrame(y_receiver, columns=['Ant1_real', 'Ant2_real', 'Ant1_imag', 'Ant2_imag'])\n",
        "  y_receiver_complex['Label'] = np.arange(0, 4) \n",
        "\n",
        "  return y_receiver_complex"
      ],
      "metadata": {
        "id": "EmzyzlK2u3rF"
      },
      "execution_count": 6,
      "outputs": []
    },
    {
      "cell_type": "code",
      "source": [
        "training_pilots_at_receiver = training_pilots_at_receiver (4)"
      ],
      "metadata": {
        "id": "pmVWjiYMcN5R"
      },
      "execution_count": 7,
      "outputs": []
    },
    {
      "cell_type": "code",
      "source": [
        "'''Creating test signals'''\n",
        "def test_ (packet_length):\n",
        "  #Define an empty dataframe\n",
        "  y_receive_test = pd.DataFrame()\n",
        "\n",
        "  for i in range(packet_length):\n",
        "    #Generating received signals\n",
        "    y_one_receive_signal = np.zeros(shape = (1, 2), dtype = \"complex_\")\n",
        "    \n",
        "    #Choosing a random constellation point\n",
        "    rand = random.randrange(0, 4, 1)\n",
        "    \n",
        "    #Y = HX+N \n",
        "    y_one_receive_signal = np.dot(H_Rayleigh, Constellation_set[rand], out = None) + noise_complex (0.1, 2)\n",
        "    \n",
        "    #Transforming complex signal to a two dimension integer\n",
        "    y_one_receive_signal_real = y_one_receive_signal.real\n",
        "    y_one_receive_signal_imag = y_one_receive_signal.imag\n",
        "    y_receive = np.concatenate((y_one_receive_signal_real,y_one_receive_signal_imag), axis = None)\n",
        "    \n",
        "    #Filling dataframe rows\n",
        "    y_receive_without_label = pd.DataFrame(y_receive.reshape((1, 4)), columns = ['Ant1_real', 'Ant2_real', 'Ant1_imag', 'Ant2_imag'])\n",
        "    \n",
        "    #Assigning related label to received pilots\n",
        "    if rand == 0 :\n",
        "      y_receive_without_label['Label']= 0\n",
        "    elif rand == 1 :\n",
        "      y_receive_without_label['Label']= 1\n",
        "    elif rand == 2 :\n",
        "      y_receive_without_label['Label']= 2\n",
        "    elif rand == 3 :\n",
        "      y_receive_without_label['Label']= 3\n",
        "    \n",
        "    #Join all test signals to data set\n",
        "    y_receive_test = pd.concat([y_receive_test, y_receive_without_label])\n",
        "\n",
        "  return y_receive_test"
      ],
      "metadata": {
        "id": "0m-sl6Dmu6x1"
      },
      "execution_count": 8,
      "outputs": []
    },
    {
      "cell_type": "code",
      "source": [
        "def test_label (KNN_or_NN): #Depend on model\n",
        "  test = test_ (2000)\n",
        "\n",
        "  #Test data for KNN\n",
        "  if KNN_or_NN == 1 :\n",
        "    test_features = test[['Ant1_real', 'Ant2_real', 'Ant1_imag', 'Ant2_imag']]\n",
        "    test_label = test['Label']\n",
        "    return test_features, test_label\n",
        "\n",
        "  #Test data for NN\n",
        "  elif KNN_or_NN == 0:\n",
        "    test_features = test[['Ant1_real', 'Ant2_real', 'Ant1_imag', 'Ant2_imag']]\n",
        "    test_label = test['Label']\n",
        "    test_label_categorical = to_categorical(test_label, num_classes = 4)\n",
        "    return test_features, test_label_categorical"
      ],
      "metadata": {
        "id": "ich16KhGJ9Iz"
      },
      "execution_count": 9,
      "outputs": []
    },
    {
      "cell_type": "code",
      "source": [
        "test_label (1)"
      ],
      "metadata": {
        "colab": {
          "base_uri": "https://localhost:8080/"
        },
        "id": "T-3L-P8hZ9wT",
        "outputId": "9dacdc4c-0f10-41c8-87ed-faec3f8e4204"
      },
      "execution_count": 10,
      "outputs": [
        {
          "output_type": "execute_result",
          "data": {
            "text/plain": [
              "(    Ant1_real  Ant2_real  Ant1_imag  Ant2_imag\n",
              " 0   -0.099294   0.708766  -0.179159  -0.685387\n",
              " 0    0.435817   0.383128   0.198074   0.051889\n",
              " 0    0.308560  -0.235767   0.231946   0.471874\n",
              " 0   -0.105692   0.508818  -0.158930  -0.679716\n",
              " 0    0.215384   0.344180  -0.089760   0.075243\n",
              " ..        ...        ...        ...        ...\n",
              " 0    0.089977   0.574765  -0.154180  -0.571171\n",
              " 0    0.439689   0.418626  -0.064513  -0.045399\n",
              " 0    0.602776   0.545105   0.114216   0.096548\n",
              " 0    0.171038   0.324386  -0.008940   0.121382\n",
              " 0   -0.203006   0.849035  -0.281237  -0.694930\n",
              " \n",
              " [2000 rows x 4 columns], 0    2\n",
              " 0    3\n",
              " 0    0\n",
              " 0    2\n",
              " 0    3\n",
              "     ..\n",
              " 0    2\n",
              " 0    3\n",
              " 0    3\n",
              " 0    3\n",
              " 0    2\n",
              " Name: Label, Length: 2000, dtype: int64)"
            ]
          },
          "metadata": {},
          "execution_count": 10
        }
      ]
    },
    {
      "cell_type": "code",
      "source": [
        "test_label (0)"
      ],
      "metadata": {
        "colab": {
          "base_uri": "https://localhost:8080/"
        },
        "id": "Yso1D5-dcv-I",
        "outputId": "27bba21f-7110-410a-ce9d-62e9aebb85ea"
      },
      "execution_count": 11,
      "outputs": [
        {
          "output_type": "execute_result",
          "data": {
            "text/plain": [
              "(    Ant1_real  Ant2_real  Ant1_imag  Ant2_imag\n",
              " 0    0.300557   0.470942   0.106826   0.300141\n",
              " 0    0.195874   0.191029   0.789898  -0.255384\n",
              " 0   -0.212535   0.672780  -0.263801  -0.762225\n",
              " 0   -0.056447   0.837857  -0.131285  -0.797899\n",
              " 0    0.194243   0.261004   0.976005  -0.323597\n",
              " ..        ...        ...        ...        ...\n",
              " 0   -0.009293   0.553809  -0.083532  -0.564354\n",
              " 0    0.025323   0.831427  -0.239296  -0.655446\n",
              " 0   -0.039351   0.654494  -0.367115  -0.631083\n",
              " 0    0.440962   0.292328   0.920044  -0.373680\n",
              " 0   -0.096135   0.708343  -0.240253  -0.756861\n",
              " \n",
              " [2000 rows x 4 columns], array([[0., 0., 0., 1.],\n",
              "        [0., 1., 0., 0.],\n",
              "        [0., 0., 1., 0.],\n",
              "        ...,\n",
              "        [0., 0., 1., 0.],\n",
              "        [0., 1., 0., 0.],\n",
              "        [0., 0., 1., 0.]], dtype=float32))"
            ]
          },
          "metadata": {},
          "execution_count": 11
        }
      ]
    },
    {
      "cell_type": "code",
      "source": [
        "x_test_svm, y_test_svm = test_label (1)\n",
        "x_test_nn, y_test_nn = test_label (0)\n"
      ],
      "metadata": {
        "id": "VDwd_iHvLuOR"
      },
      "execution_count": 12,
      "outputs": []
    },
    {
      "cell_type": "markdown",
      "source": [
        "# Generating virtual pilots (data augmentation)"
      ],
      "metadata": {
        "id": "U6thg7qouQJT"
      }
    },
    {
      "cell_type": "code",
      "source": [
        "'''Noise for data augmentation'''\n",
        "def noise_real (N0,Nr):\n",
        "  noise_real=np.random.normal(0, N0, size=Nr)\n",
        "  \n",
        "  return noise_real"
      ],
      "metadata": {
        "id": "O8cCcZB2u-FF"
      },
      "execution_count": 13,
      "outputs": []
    },
    {
      "cell_type": "code",
      "source": [
        "def data_augmentation (sample_size, noise_variance):\n",
        "  #Generating virtual pilots based on actual pilots\n",
        "  augmented_data = pd.DataFrame()\n",
        "\n",
        "  for i in range(sample_size):\n",
        "    frame_augmented = training_pilots_at_receiver[['Ant1_real', 'Ant2_real', 'Ant1_imag', 'Ant2_imag']] + noise_real(noise_variance, 4)\n",
        "    frame_augmented['Label'] = np.arange(0, 4)\n",
        "    augmented_data = augmented_data.append(frame_augmented)\n",
        "    i += 1\n",
        "\n",
        "  return augmented_data"
      ],
      "metadata": {
        "id": "pbctavMGRjeo"
      },
      "execution_count": 14,
      "outputs": []
    },
    {
      "cell_type": "code",
      "source": [
        "data_augmentation = data_augmentation(50, 0.03)"
      ],
      "metadata": {
        "id": "xzr5IG_FU73k"
      },
      "execution_count": 15,
      "outputs": []
    },
    {
      "cell_type": "code",
      "source": [
        "print(data_augmentation.describe())\n",
        "print(training_pilots_at_receiver.describe())"
      ],
      "metadata": {
        "colab": {
          "base_uri": "https://localhost:8080/"
        },
        "id": "39hwDiYvAoXx",
        "outputId": "e88ddf8f-dfa1-4ed2-e21e-d49582230e58"
      },
      "execution_count": 16,
      "outputs": [
        {
          "output_type": "stream",
          "name": "stdout",
          "text": [
            "        Ant1_real   Ant2_real   Ant1_imag   Ant2_imag      Label\n",
            "count  200.000000  200.000000  200.000000  200.000000  200.00000\n",
            "mean     0.132527    0.263313    0.281909   -0.152827    1.50000\n",
            "std      0.228139    0.233171    0.446038    0.450185    1.12084\n",
            "min     -0.292560   -0.105619   -0.295815   -0.885362    0.00000\n",
            "25%     -0.049733    0.114037   -0.083915   -0.491381    0.75000\n",
            "50%      0.140340    0.238990    0.177482   -0.124142    1.50000\n",
            "75%      0.274269    0.386964    0.534047    0.200408    2.25000\n",
            "max      0.508384    0.683499    1.031453    0.466322    3.00000\n",
            "       Ant1_real  Ant2_real  Ant1_imag  Ant2_imag     Label\n",
            "count   4.000000   4.000000   4.000000   4.000000  4.000000\n",
            "mean    0.138103   0.265526   0.286552  -0.151789  1.500000\n",
            "std     0.259640   0.266350   0.512470   0.517231  1.290994\n",
            "min    -0.178235  -0.031945  -0.208354  -0.789444  0.000000\n",
            "25%     0.021074   0.151980  -0.033233  -0.435901  0.750000\n",
            "50%     0.141007   0.239899   0.191384  -0.109100  1.500000\n",
            "75%     0.258037   0.353445   0.511169   0.175013  2.250000\n",
            "max     0.448632   0.614249   0.971796   0.400489  3.000000\n"
          ]
        }
      ]
    },
    {
      "cell_type": "markdown",
      "source": [
        "# Split dataset to train and test"
      ],
      "metadata": {
        "id": "5TuUK_qwulth"
      }
    },
    {
      "cell_type": "code",
      "source": [
        "'''Spliting features and labels'''\n",
        "#xy=pd.concat([l,q1])       #Enable when you want vp for SVM & KNN\n",
        "xy = training_pilots_at_receiver                      #Enable when you dont want vp for SVM & KNN\n",
        "xy_NN = pd.concat([data_augmentation, training_pilots_at_receiver])     #Enable when you want vp for NN\n",
        "#xy_NN=q1                   #Enable when you dont want vp for NN"
      ],
      "metadata": {
        "id": "fIBCensrvCPd"
      },
      "execution_count": 17,
      "outputs": []
    },
    {
      "cell_type": "code",
      "source": [
        "xy"
      ],
      "metadata": {
        "colab": {
          "base_uri": "https://localhost:8080/",
          "height": 175
        },
        "id": "0a42O1IoyBHx",
        "outputId": "bdac50ef-184e-4f44-c344-4366714662ed"
      },
      "execution_count": 18,
      "outputs": [
        {
          "output_type": "execute_result",
          "data": {
            "text/html": [
              "\n",
              "  <div id=\"df-ca60da4b-d8e6-42ac-a027-8eb678e57eca\">\n",
              "    <div class=\"colab-df-container\">\n",
              "      <div>\n",
              "<style scoped>\n",
              "    .dataframe tbody tr th:only-of-type {\n",
              "        vertical-align: middle;\n",
              "    }\n",
              "\n",
              "    .dataframe tbody tr th {\n",
              "        vertical-align: top;\n",
              "    }\n",
              "\n",
              "    .dataframe thead th {\n",
              "        text-align: right;\n",
              "    }\n",
              "</style>\n",
              "<table border=\"1\" class=\"dataframe\">\n",
              "  <thead>\n",
              "    <tr style=\"text-align: right;\">\n",
              "      <th></th>\n",
              "      <th>Ant1_real</th>\n",
              "      <th>Ant2_real</th>\n",
              "      <th>Ant1_imag</th>\n",
              "      <th>Ant2_imag</th>\n",
              "      <th>Label</th>\n",
              "    </tr>\n",
              "  </thead>\n",
              "  <tbody>\n",
              "    <tr>\n",
              "      <th>0</th>\n",
              "      <td>0.087510</td>\n",
              "      <td>-0.031945</td>\n",
              "      <td>0.357627</td>\n",
              "      <td>0.400489</td>\n",
              "      <td>0</td>\n",
              "    </tr>\n",
              "    <tr>\n",
              "      <th>1</th>\n",
              "      <td>0.194505</td>\n",
              "      <td>0.266510</td>\n",
              "      <td>0.971796</td>\n",
              "      <td>-0.318054</td>\n",
              "      <td>1</td>\n",
              "    </tr>\n",
              "    <tr>\n",
              "      <th>2</th>\n",
              "      <td>-0.178235</td>\n",
              "      <td>0.614249</td>\n",
              "      <td>-0.208354</td>\n",
              "      <td>-0.789444</td>\n",
              "      <td>2</td>\n",
              "    </tr>\n",
              "    <tr>\n",
              "      <th>3</th>\n",
              "      <td>0.448632</td>\n",
              "      <td>0.213288</td>\n",
              "      <td>0.025141</td>\n",
              "      <td>0.099854</td>\n",
              "      <td>3</td>\n",
              "    </tr>\n",
              "  </tbody>\n",
              "</table>\n",
              "</div>\n",
              "      <button class=\"colab-df-convert\" onclick=\"convertToInteractive('df-ca60da4b-d8e6-42ac-a027-8eb678e57eca')\"\n",
              "              title=\"Convert this dataframe to an interactive table.\"\n",
              "              style=\"display:none;\">\n",
              "        \n",
              "  <svg xmlns=\"http://www.w3.org/2000/svg\" height=\"24px\"viewBox=\"0 0 24 24\"\n",
              "       width=\"24px\">\n",
              "    <path d=\"M0 0h24v24H0V0z\" fill=\"none\"/>\n",
              "    <path d=\"M18.56 5.44l.94 2.06.94-2.06 2.06-.94-2.06-.94-.94-2.06-.94 2.06-2.06.94zm-11 1L8.5 8.5l.94-2.06 2.06-.94-2.06-.94L8.5 2.5l-.94 2.06-2.06.94zm10 10l.94 2.06.94-2.06 2.06-.94-2.06-.94-.94-2.06-.94 2.06-2.06.94z\"/><path d=\"M17.41 7.96l-1.37-1.37c-.4-.4-.92-.59-1.43-.59-.52 0-1.04.2-1.43.59L10.3 9.45l-7.72 7.72c-.78.78-.78 2.05 0 2.83L4 21.41c.39.39.9.59 1.41.59.51 0 1.02-.2 1.41-.59l7.78-7.78 2.81-2.81c.8-.78.8-2.07 0-2.86zM5.41 20L4 18.59l7.72-7.72 1.47 1.35L5.41 20z\"/>\n",
              "  </svg>\n",
              "      </button>\n",
              "      \n",
              "  <style>\n",
              "    .colab-df-container {\n",
              "      display:flex;\n",
              "      flex-wrap:wrap;\n",
              "      gap: 12px;\n",
              "    }\n",
              "\n",
              "    .colab-df-convert {\n",
              "      background-color: #E8F0FE;\n",
              "      border: none;\n",
              "      border-radius: 50%;\n",
              "      cursor: pointer;\n",
              "      display: none;\n",
              "      fill: #1967D2;\n",
              "      height: 32px;\n",
              "      padding: 0 0 0 0;\n",
              "      width: 32px;\n",
              "    }\n",
              "\n",
              "    .colab-df-convert:hover {\n",
              "      background-color: #E2EBFA;\n",
              "      box-shadow: 0px 1px 2px rgba(60, 64, 67, 0.3), 0px 1px 3px 1px rgba(60, 64, 67, 0.15);\n",
              "      fill: #174EA6;\n",
              "    }\n",
              "\n",
              "    [theme=dark] .colab-df-convert {\n",
              "      background-color: #3B4455;\n",
              "      fill: #D2E3FC;\n",
              "    }\n",
              "\n",
              "    [theme=dark] .colab-df-convert:hover {\n",
              "      background-color: #434B5C;\n",
              "      box-shadow: 0px 1px 3px 1px rgba(0, 0, 0, 0.15);\n",
              "      filter: drop-shadow(0px 1px 2px rgba(0, 0, 0, 0.3));\n",
              "      fill: #FFFFFF;\n",
              "    }\n",
              "  </style>\n",
              "\n",
              "      <script>\n",
              "        const buttonEl =\n",
              "          document.querySelector('#df-ca60da4b-d8e6-42ac-a027-8eb678e57eca button.colab-df-convert');\n",
              "        buttonEl.style.display =\n",
              "          google.colab.kernel.accessAllowed ? 'block' : 'none';\n",
              "\n",
              "        async function convertToInteractive(key) {\n",
              "          const element = document.querySelector('#df-ca60da4b-d8e6-42ac-a027-8eb678e57eca');\n",
              "          const dataTable =\n",
              "            await google.colab.kernel.invokeFunction('convertToInteractive',\n",
              "                                                     [key], {});\n",
              "          if (!dataTable) return;\n",
              "\n",
              "          const docLinkHtml = 'Like what you see? Visit the ' +\n",
              "            '<a target=\"_blank\" href=https://colab.research.google.com/notebooks/data_table.ipynb>data table notebook</a>'\n",
              "            + ' to learn more about interactive tables.';\n",
              "          element.innerHTML = '';\n",
              "          dataTable['output_type'] = 'display_data';\n",
              "          await google.colab.output.renderOutput(dataTable, element);\n",
              "          const docLink = document.createElement('div');\n",
              "          docLink.innerHTML = docLinkHtml;\n",
              "          element.appendChild(docLink);\n",
              "        }\n",
              "      </script>\n",
              "    </div>\n",
              "  </div>\n",
              "  "
            ],
            "text/plain": [
              "   Ant1_real  Ant2_real  Ant1_imag  Ant2_imag  Label\n",
              "0   0.087510  -0.031945   0.357627   0.400489      0\n",
              "1   0.194505   0.266510   0.971796  -0.318054      1\n",
              "2  -0.178235   0.614249  -0.208354  -0.789444      2\n",
              "3   0.448632   0.213288   0.025141   0.099854      3"
            ]
          },
          "metadata": {},
          "execution_count": 18
        }
      ]
    },
    {
      "cell_type": "markdown",
      "source": [
        "#Preprocessing for KNN & SVM"
      ],
      "metadata": {
        "id": "ZTV_I4tBt83G"
      }
    },
    {
      "cell_type": "code",
      "source": [
        "scaler = StandardScaler()"
      ],
      "metadata": {
        "id": "kKGZbuZDt8Wh"
      },
      "execution_count": 19,
      "outputs": []
    },
    {
      "cell_type": "code",
      "source": [
        "scaler.fit(xy.drop('Label',axis=1))"
      ],
      "metadata": {
        "colab": {
          "base_uri": "https://localhost:8080/"
        },
        "id": "TECqsW20u2Bn",
        "outputId": "48ed74e6-3736-4d1e-e647-319af2cd7ac1"
      },
      "execution_count": 20,
      "outputs": [
        {
          "output_type": "execute_result",
          "data": {
            "text/plain": [
              "StandardScaler()"
            ]
          },
          "metadata": {},
          "execution_count": 20
        }
      ]
    },
    {
      "cell_type": "code",
      "source": [
        "scaled_features = scaler.transform(xy.drop('Label',axis=1))"
      ],
      "metadata": {
        "id": "NZDjbYmvvHx1"
      },
      "execution_count": 21,
      "outputs": []
    },
    {
      "cell_type": "code",
      "source": [
        "xy = pd.DataFrame(scaled_features,columns=xy.columns[:-1])\n",
        "xy['Label']=np.arange(0,4)\n",
        "xy"
      ],
      "metadata": {
        "colab": {
          "base_uri": "https://localhost:8080/",
          "height": 175
        },
        "id": "i7-PEREivI83",
        "outputId": "66eaba1d-ac16-4d3d-8456-826b7f22b101"
      },
      "execution_count": 22,
      "outputs": [
        {
          "output_type": "execute_result",
          "data": {
            "text/html": [
              "\n",
              "  <div id=\"df-580d249a-75f3-4c4e-982f-b39d2cdd4432\">\n",
              "    <div class=\"colab-df-container\">\n",
              "      <div>\n",
              "<style scoped>\n",
              "    .dataframe tbody tr th:only-of-type {\n",
              "        vertical-align: middle;\n",
              "    }\n",
              "\n",
              "    .dataframe tbody tr th {\n",
              "        vertical-align: top;\n",
              "    }\n",
              "\n",
              "    .dataframe thead th {\n",
              "        text-align: right;\n",
              "    }\n",
              "</style>\n",
              "<table border=\"1\" class=\"dataframe\">\n",
              "  <thead>\n",
              "    <tr style=\"text-align: right;\">\n",
              "      <th></th>\n",
              "      <th>Ant1_real</th>\n",
              "      <th>Ant2_real</th>\n",
              "      <th>Ant1_imag</th>\n",
              "      <th>Ant2_imag</th>\n",
              "      <th>Label</th>\n",
              "    </tr>\n",
              "  </thead>\n",
              "  <tbody>\n",
              "    <tr>\n",
              "      <th>0</th>\n",
              "      <td>-0.225006</td>\n",
              "      <td>-1.289619</td>\n",
              "      <td>0.160145</td>\n",
              "      <td>1.232942</td>\n",
              "      <td>0</td>\n",
              "    </tr>\n",
              "    <tr>\n",
              "      <th>1</th>\n",
              "      <td>0.250838</td>\n",
              "      <td>0.004269</td>\n",
              "      <td>1.543993</td>\n",
              "      <td>-0.371181</td>\n",
              "      <td>1</td>\n",
              "    </tr>\n",
              "    <tr>\n",
              "      <th>2</th>\n",
              "      <td>-1.406853</td>\n",
              "      <td>1.511813</td>\n",
              "      <td>-1.115124</td>\n",
              "      <td>-1.423544</td>\n",
              "      <td>2</td>\n",
              "    </tr>\n",
              "    <tr>\n",
              "      <th>3</th>\n",
              "      <td>1.381021</td>\n",
              "      <td>-0.226463</td>\n",
              "      <td>-0.589014</td>\n",
              "      <td>0.561784</td>\n",
              "      <td>3</td>\n",
              "    </tr>\n",
              "  </tbody>\n",
              "</table>\n",
              "</div>\n",
              "      <button class=\"colab-df-convert\" onclick=\"convertToInteractive('df-580d249a-75f3-4c4e-982f-b39d2cdd4432')\"\n",
              "              title=\"Convert this dataframe to an interactive table.\"\n",
              "              style=\"display:none;\">\n",
              "        \n",
              "  <svg xmlns=\"http://www.w3.org/2000/svg\" height=\"24px\"viewBox=\"0 0 24 24\"\n",
              "       width=\"24px\">\n",
              "    <path d=\"M0 0h24v24H0V0z\" fill=\"none\"/>\n",
              "    <path d=\"M18.56 5.44l.94 2.06.94-2.06 2.06-.94-2.06-.94-.94-2.06-.94 2.06-2.06.94zm-11 1L8.5 8.5l.94-2.06 2.06-.94-2.06-.94L8.5 2.5l-.94 2.06-2.06.94zm10 10l.94 2.06.94-2.06 2.06-.94-2.06-.94-.94-2.06-.94 2.06-2.06.94z\"/><path d=\"M17.41 7.96l-1.37-1.37c-.4-.4-.92-.59-1.43-.59-.52 0-1.04.2-1.43.59L10.3 9.45l-7.72 7.72c-.78.78-.78 2.05 0 2.83L4 21.41c.39.39.9.59 1.41.59.51 0 1.02-.2 1.41-.59l7.78-7.78 2.81-2.81c.8-.78.8-2.07 0-2.86zM5.41 20L4 18.59l7.72-7.72 1.47 1.35L5.41 20z\"/>\n",
              "  </svg>\n",
              "      </button>\n",
              "      \n",
              "  <style>\n",
              "    .colab-df-container {\n",
              "      display:flex;\n",
              "      flex-wrap:wrap;\n",
              "      gap: 12px;\n",
              "    }\n",
              "\n",
              "    .colab-df-convert {\n",
              "      background-color: #E8F0FE;\n",
              "      border: none;\n",
              "      border-radius: 50%;\n",
              "      cursor: pointer;\n",
              "      display: none;\n",
              "      fill: #1967D2;\n",
              "      height: 32px;\n",
              "      padding: 0 0 0 0;\n",
              "      width: 32px;\n",
              "    }\n",
              "\n",
              "    .colab-df-convert:hover {\n",
              "      background-color: #E2EBFA;\n",
              "      box-shadow: 0px 1px 2px rgba(60, 64, 67, 0.3), 0px 1px 3px 1px rgba(60, 64, 67, 0.15);\n",
              "      fill: #174EA6;\n",
              "    }\n",
              "\n",
              "    [theme=dark] .colab-df-convert {\n",
              "      background-color: #3B4455;\n",
              "      fill: #D2E3FC;\n",
              "    }\n",
              "\n",
              "    [theme=dark] .colab-df-convert:hover {\n",
              "      background-color: #434B5C;\n",
              "      box-shadow: 0px 1px 3px 1px rgba(0, 0, 0, 0.15);\n",
              "      filter: drop-shadow(0px 1px 2px rgba(0, 0, 0, 0.3));\n",
              "      fill: #FFFFFF;\n",
              "    }\n",
              "  </style>\n",
              "\n",
              "      <script>\n",
              "        const buttonEl =\n",
              "          document.querySelector('#df-580d249a-75f3-4c4e-982f-b39d2cdd4432 button.colab-df-convert');\n",
              "        buttonEl.style.display =\n",
              "          google.colab.kernel.accessAllowed ? 'block' : 'none';\n",
              "\n",
              "        async function convertToInteractive(key) {\n",
              "          const element = document.querySelector('#df-580d249a-75f3-4c4e-982f-b39d2cdd4432');\n",
              "          const dataTable =\n",
              "            await google.colab.kernel.invokeFunction('convertToInteractive',\n",
              "                                                     [key], {});\n",
              "          if (!dataTable) return;\n",
              "\n",
              "          const docLinkHtml = 'Like what you see? Visit the ' +\n",
              "            '<a target=\"_blank\" href=https://colab.research.google.com/notebooks/data_table.ipynb>data table notebook</a>'\n",
              "            + ' to learn more about interactive tables.';\n",
              "          element.innerHTML = '';\n",
              "          dataTable['output_type'] = 'display_data';\n",
              "          await google.colab.output.renderOutput(dataTable, element);\n",
              "          const docLink = document.createElement('div');\n",
              "          docLink.innerHTML = docLinkHtml;\n",
              "          element.appendChild(docLink);\n",
              "        }\n",
              "      </script>\n",
              "    </div>\n",
              "  </div>\n",
              "  "
            ],
            "text/plain": [
              "   Ant1_real  Ant2_real  Ant1_imag  Ant2_imag  Label\n",
              "0  -0.225006  -1.289619   0.160145   1.232942      0\n",
              "1   0.250838   0.004269   1.543993  -0.371181      1\n",
              "2  -1.406853   1.511813  -1.115124  -1.423544      2\n",
              "3   1.381021  -0.226463  -0.589014   0.561784      3"
            ]
          },
          "metadata": {},
          "execution_count": 22
        }
      ]
    },
    {
      "cell_type": "markdown",
      "source": [
        "#Preprocessing for MLP"
      ],
      "metadata": {
        "id": "NlfIRPKn0-dh"
      }
    },
    {
      "cell_type": "code",
      "source": [
        "xy_NN"
      ],
      "metadata": {
        "colab": {
          "base_uri": "https://localhost:8080/",
          "height": 424
        },
        "id": "m88R0xiBw5zl",
        "outputId": "b445d24c-4b15-4a18-e9c6-851c0d116270"
      },
      "execution_count": 23,
      "outputs": [
        {
          "output_type": "execute_result",
          "data": {
            "text/html": [
              "\n",
              "  <div id=\"df-b1722fcd-b778-4d0e-89bd-7842efd4bb56\">\n",
              "    <div class=\"colab-df-container\">\n",
              "      <div>\n",
              "<style scoped>\n",
              "    .dataframe tbody tr th:only-of-type {\n",
              "        vertical-align: middle;\n",
              "    }\n",
              "\n",
              "    .dataframe tbody tr th {\n",
              "        vertical-align: top;\n",
              "    }\n",
              "\n",
              "    .dataframe thead th {\n",
              "        text-align: right;\n",
              "    }\n",
              "</style>\n",
              "<table border=\"1\" class=\"dataframe\">\n",
              "  <thead>\n",
              "    <tr style=\"text-align: right;\">\n",
              "      <th></th>\n",
              "      <th>Ant1_real</th>\n",
              "      <th>Ant2_real</th>\n",
              "      <th>Ant1_imag</th>\n",
              "      <th>Ant2_imag</th>\n",
              "      <th>Label</th>\n",
              "    </tr>\n",
              "  </thead>\n",
              "  <tbody>\n",
              "    <tr>\n",
              "      <th>0</th>\n",
              "      <td>0.058622</td>\n",
              "      <td>0.005896</td>\n",
              "      <td>0.328110</td>\n",
              "      <td>0.413490</td>\n",
              "      <td>0</td>\n",
              "    </tr>\n",
              "    <tr>\n",
              "      <th>1</th>\n",
              "      <td>0.165617</td>\n",
              "      <td>0.304352</td>\n",
              "      <td>0.942278</td>\n",
              "      <td>-0.305053</td>\n",
              "      <td>1</td>\n",
              "    </tr>\n",
              "    <tr>\n",
              "      <th>2</th>\n",
              "      <td>-0.207122</td>\n",
              "      <td>0.652091</td>\n",
              "      <td>-0.237871</td>\n",
              "      <td>-0.776444</td>\n",
              "      <td>2</td>\n",
              "    </tr>\n",
              "    <tr>\n",
              "      <th>3</th>\n",
              "      <td>0.419745</td>\n",
              "      <td>0.251130</td>\n",
              "      <td>-0.004377</td>\n",
              "      <td>0.112854</td>\n",
              "      <td>3</td>\n",
              "    </tr>\n",
              "    <tr>\n",
              "      <th>0</th>\n",
              "      <td>0.112763</td>\n",
              "      <td>-0.068906</td>\n",
              "      <td>0.353043</td>\n",
              "      <td>0.389358</td>\n",
              "      <td>0</td>\n",
              "    </tr>\n",
              "    <tr>\n",
              "      <th>...</th>\n",
              "      <td>...</td>\n",
              "      <td>...</td>\n",
              "      <td>...</td>\n",
              "      <td>...</td>\n",
              "      <td>...</td>\n",
              "    </tr>\n",
              "    <tr>\n",
              "      <th>3</th>\n",
              "      <td>0.449977</td>\n",
              "      <td>0.242625</td>\n",
              "      <td>0.062426</td>\n",
              "      <td>0.134471</td>\n",
              "      <td>3</td>\n",
              "    </tr>\n",
              "    <tr>\n",
              "      <th>0</th>\n",
              "      <td>0.087510</td>\n",
              "      <td>-0.031945</td>\n",
              "      <td>0.357627</td>\n",
              "      <td>0.400489</td>\n",
              "      <td>0</td>\n",
              "    </tr>\n",
              "    <tr>\n",
              "      <th>1</th>\n",
              "      <td>0.194505</td>\n",
              "      <td>0.266510</td>\n",
              "      <td>0.971796</td>\n",
              "      <td>-0.318054</td>\n",
              "      <td>1</td>\n",
              "    </tr>\n",
              "    <tr>\n",
              "      <th>2</th>\n",
              "      <td>-0.178235</td>\n",
              "      <td>0.614249</td>\n",
              "      <td>-0.208354</td>\n",
              "      <td>-0.789444</td>\n",
              "      <td>2</td>\n",
              "    </tr>\n",
              "    <tr>\n",
              "      <th>3</th>\n",
              "      <td>0.448632</td>\n",
              "      <td>0.213288</td>\n",
              "      <td>0.025141</td>\n",
              "      <td>0.099854</td>\n",
              "      <td>3</td>\n",
              "    </tr>\n",
              "  </tbody>\n",
              "</table>\n",
              "<p>204 rows × 5 columns</p>\n",
              "</div>\n",
              "      <button class=\"colab-df-convert\" onclick=\"convertToInteractive('df-b1722fcd-b778-4d0e-89bd-7842efd4bb56')\"\n",
              "              title=\"Convert this dataframe to an interactive table.\"\n",
              "              style=\"display:none;\">\n",
              "        \n",
              "  <svg xmlns=\"http://www.w3.org/2000/svg\" height=\"24px\"viewBox=\"0 0 24 24\"\n",
              "       width=\"24px\">\n",
              "    <path d=\"M0 0h24v24H0V0z\" fill=\"none\"/>\n",
              "    <path d=\"M18.56 5.44l.94 2.06.94-2.06 2.06-.94-2.06-.94-.94-2.06-.94 2.06-2.06.94zm-11 1L8.5 8.5l.94-2.06 2.06-.94-2.06-.94L8.5 2.5l-.94 2.06-2.06.94zm10 10l.94 2.06.94-2.06 2.06-.94-2.06-.94-.94-2.06-.94 2.06-2.06.94z\"/><path d=\"M17.41 7.96l-1.37-1.37c-.4-.4-.92-.59-1.43-.59-.52 0-1.04.2-1.43.59L10.3 9.45l-7.72 7.72c-.78.78-.78 2.05 0 2.83L4 21.41c.39.39.9.59 1.41.59.51 0 1.02-.2 1.41-.59l7.78-7.78 2.81-2.81c.8-.78.8-2.07 0-2.86zM5.41 20L4 18.59l7.72-7.72 1.47 1.35L5.41 20z\"/>\n",
              "  </svg>\n",
              "      </button>\n",
              "      \n",
              "  <style>\n",
              "    .colab-df-container {\n",
              "      display:flex;\n",
              "      flex-wrap:wrap;\n",
              "      gap: 12px;\n",
              "    }\n",
              "\n",
              "    .colab-df-convert {\n",
              "      background-color: #E8F0FE;\n",
              "      border: none;\n",
              "      border-radius: 50%;\n",
              "      cursor: pointer;\n",
              "      display: none;\n",
              "      fill: #1967D2;\n",
              "      height: 32px;\n",
              "      padding: 0 0 0 0;\n",
              "      width: 32px;\n",
              "    }\n",
              "\n",
              "    .colab-df-convert:hover {\n",
              "      background-color: #E2EBFA;\n",
              "      box-shadow: 0px 1px 2px rgba(60, 64, 67, 0.3), 0px 1px 3px 1px rgba(60, 64, 67, 0.15);\n",
              "      fill: #174EA6;\n",
              "    }\n",
              "\n",
              "    [theme=dark] .colab-df-convert {\n",
              "      background-color: #3B4455;\n",
              "      fill: #D2E3FC;\n",
              "    }\n",
              "\n",
              "    [theme=dark] .colab-df-convert:hover {\n",
              "      background-color: #434B5C;\n",
              "      box-shadow: 0px 1px 3px 1px rgba(0, 0, 0, 0.15);\n",
              "      filter: drop-shadow(0px 1px 2px rgba(0, 0, 0, 0.3));\n",
              "      fill: #FFFFFF;\n",
              "    }\n",
              "  </style>\n",
              "\n",
              "      <script>\n",
              "        const buttonEl =\n",
              "          document.querySelector('#df-b1722fcd-b778-4d0e-89bd-7842efd4bb56 button.colab-df-convert');\n",
              "        buttonEl.style.display =\n",
              "          google.colab.kernel.accessAllowed ? 'block' : 'none';\n",
              "\n",
              "        async function convertToInteractive(key) {\n",
              "          const element = document.querySelector('#df-b1722fcd-b778-4d0e-89bd-7842efd4bb56');\n",
              "          const dataTable =\n",
              "            await google.colab.kernel.invokeFunction('convertToInteractive',\n",
              "                                                     [key], {});\n",
              "          if (!dataTable) return;\n",
              "\n",
              "          const docLinkHtml = 'Like what you see? Visit the ' +\n",
              "            '<a target=\"_blank\" href=https://colab.research.google.com/notebooks/data_table.ipynb>data table notebook</a>'\n",
              "            + ' to learn more about interactive tables.';\n",
              "          element.innerHTML = '';\n",
              "          dataTable['output_type'] = 'display_data';\n",
              "          await google.colab.output.renderOutput(dataTable, element);\n",
              "          const docLink = document.createElement('div');\n",
              "          docLink.innerHTML = docLinkHtml;\n",
              "          element.appendChild(docLink);\n",
              "        }\n",
              "      </script>\n",
              "    </div>\n",
              "  </div>\n",
              "  "
            ],
            "text/plain": [
              "    Ant1_real  Ant2_real  Ant1_imag  Ant2_imag  Label\n",
              "0    0.058622   0.005896   0.328110   0.413490      0\n",
              "1    0.165617   0.304352   0.942278  -0.305053      1\n",
              "2   -0.207122   0.652091  -0.237871  -0.776444      2\n",
              "3    0.419745   0.251130  -0.004377   0.112854      3\n",
              "0    0.112763  -0.068906   0.353043   0.389358      0\n",
              "..        ...        ...        ...        ...    ...\n",
              "3    0.449977   0.242625   0.062426   0.134471      3\n",
              "0    0.087510  -0.031945   0.357627   0.400489      0\n",
              "1    0.194505   0.266510   0.971796  -0.318054      1\n",
              "2   -0.178235   0.614249  -0.208354  -0.789444      2\n",
              "3    0.448632   0.213288   0.025141   0.099854      3\n",
              "\n",
              "[204 rows x 5 columns]"
            ]
          },
          "metadata": {},
          "execution_count": 23
        }
      ]
    },
    {
      "cell_type": "code",
      "source": [
        "'''preprocessing for NN'''\n",
        "x_NN=xy_NN[['Ant1_real','Ant2_real','Ant1_imag','Ant2_imag']]\n",
        "y_NN=xy_NN['Label']\n",
        "'''Labels one hot encoding'''\n",
        "y_NN=to_categorical(y_NN, num_classes=4)\n",
        "'''Spliting data to train and validation'''\n",
        "X_train_NN, X_test_NN, y_train_NN, y_test_NN = train_test_split(x_NN, y_NN, test_size=0.3, random_state=101)"
      ],
      "metadata": {
        "id": "PoetTn9uxIBM"
      },
      "execution_count": 24,
      "outputs": []
    },
    {
      "cell_type": "code",
      "source": [
        "'''Spliting features and labels for SVM & KNN'''\n",
        "x=xy[['Ant1_real','Ant2_real','Ant1_imag','Ant2_imag']]\n",
        "y=xy['Label']"
      ],
      "metadata": {
        "id": "QQPFkgHvvDIF"
      },
      "execution_count": 25,
      "outputs": []
    },
    {
      "cell_type": "code",
      "source": [
        "xy"
      ],
      "metadata": {
        "colab": {
          "base_uri": "https://localhost:8080/",
          "height": 175
        },
        "id": "tkKScYCtvDQj",
        "outputId": "08b96840-fb86-42a4-dc6e-42d27bb72745"
      },
      "execution_count": 26,
      "outputs": [
        {
          "output_type": "execute_result",
          "data": {
            "text/html": [
              "\n",
              "  <div id=\"df-7ff5463d-1aef-421d-a9a6-694591dc5400\">\n",
              "    <div class=\"colab-df-container\">\n",
              "      <div>\n",
              "<style scoped>\n",
              "    .dataframe tbody tr th:only-of-type {\n",
              "        vertical-align: middle;\n",
              "    }\n",
              "\n",
              "    .dataframe tbody tr th {\n",
              "        vertical-align: top;\n",
              "    }\n",
              "\n",
              "    .dataframe thead th {\n",
              "        text-align: right;\n",
              "    }\n",
              "</style>\n",
              "<table border=\"1\" class=\"dataframe\">\n",
              "  <thead>\n",
              "    <tr style=\"text-align: right;\">\n",
              "      <th></th>\n",
              "      <th>Ant1_real</th>\n",
              "      <th>Ant2_real</th>\n",
              "      <th>Ant1_imag</th>\n",
              "      <th>Ant2_imag</th>\n",
              "      <th>Label</th>\n",
              "    </tr>\n",
              "  </thead>\n",
              "  <tbody>\n",
              "    <tr>\n",
              "      <th>0</th>\n",
              "      <td>-0.225006</td>\n",
              "      <td>-1.289619</td>\n",
              "      <td>0.160145</td>\n",
              "      <td>1.232942</td>\n",
              "      <td>0</td>\n",
              "    </tr>\n",
              "    <tr>\n",
              "      <th>1</th>\n",
              "      <td>0.250838</td>\n",
              "      <td>0.004269</td>\n",
              "      <td>1.543993</td>\n",
              "      <td>-0.371181</td>\n",
              "      <td>1</td>\n",
              "    </tr>\n",
              "    <tr>\n",
              "      <th>2</th>\n",
              "      <td>-1.406853</td>\n",
              "      <td>1.511813</td>\n",
              "      <td>-1.115124</td>\n",
              "      <td>-1.423544</td>\n",
              "      <td>2</td>\n",
              "    </tr>\n",
              "    <tr>\n",
              "      <th>3</th>\n",
              "      <td>1.381021</td>\n",
              "      <td>-0.226463</td>\n",
              "      <td>-0.589014</td>\n",
              "      <td>0.561784</td>\n",
              "      <td>3</td>\n",
              "    </tr>\n",
              "  </tbody>\n",
              "</table>\n",
              "</div>\n",
              "      <button class=\"colab-df-convert\" onclick=\"convertToInteractive('df-7ff5463d-1aef-421d-a9a6-694591dc5400')\"\n",
              "              title=\"Convert this dataframe to an interactive table.\"\n",
              "              style=\"display:none;\">\n",
              "        \n",
              "  <svg xmlns=\"http://www.w3.org/2000/svg\" height=\"24px\"viewBox=\"0 0 24 24\"\n",
              "       width=\"24px\">\n",
              "    <path d=\"M0 0h24v24H0V0z\" fill=\"none\"/>\n",
              "    <path d=\"M18.56 5.44l.94 2.06.94-2.06 2.06-.94-2.06-.94-.94-2.06-.94 2.06-2.06.94zm-11 1L8.5 8.5l.94-2.06 2.06-.94-2.06-.94L8.5 2.5l-.94 2.06-2.06.94zm10 10l.94 2.06.94-2.06 2.06-.94-2.06-.94-.94-2.06-.94 2.06-2.06.94z\"/><path d=\"M17.41 7.96l-1.37-1.37c-.4-.4-.92-.59-1.43-.59-.52 0-1.04.2-1.43.59L10.3 9.45l-7.72 7.72c-.78.78-.78 2.05 0 2.83L4 21.41c.39.39.9.59 1.41.59.51 0 1.02-.2 1.41-.59l7.78-7.78 2.81-2.81c.8-.78.8-2.07 0-2.86zM5.41 20L4 18.59l7.72-7.72 1.47 1.35L5.41 20z\"/>\n",
              "  </svg>\n",
              "      </button>\n",
              "      \n",
              "  <style>\n",
              "    .colab-df-container {\n",
              "      display:flex;\n",
              "      flex-wrap:wrap;\n",
              "      gap: 12px;\n",
              "    }\n",
              "\n",
              "    .colab-df-convert {\n",
              "      background-color: #E8F0FE;\n",
              "      border: none;\n",
              "      border-radius: 50%;\n",
              "      cursor: pointer;\n",
              "      display: none;\n",
              "      fill: #1967D2;\n",
              "      height: 32px;\n",
              "      padding: 0 0 0 0;\n",
              "      width: 32px;\n",
              "    }\n",
              "\n",
              "    .colab-df-convert:hover {\n",
              "      background-color: #E2EBFA;\n",
              "      box-shadow: 0px 1px 2px rgba(60, 64, 67, 0.3), 0px 1px 3px 1px rgba(60, 64, 67, 0.15);\n",
              "      fill: #174EA6;\n",
              "    }\n",
              "\n",
              "    [theme=dark] .colab-df-convert {\n",
              "      background-color: #3B4455;\n",
              "      fill: #D2E3FC;\n",
              "    }\n",
              "\n",
              "    [theme=dark] .colab-df-convert:hover {\n",
              "      background-color: #434B5C;\n",
              "      box-shadow: 0px 1px 3px 1px rgba(0, 0, 0, 0.15);\n",
              "      filter: drop-shadow(0px 1px 2px rgba(0, 0, 0, 0.3));\n",
              "      fill: #FFFFFF;\n",
              "    }\n",
              "  </style>\n",
              "\n",
              "      <script>\n",
              "        const buttonEl =\n",
              "          document.querySelector('#df-7ff5463d-1aef-421d-a9a6-694591dc5400 button.colab-df-convert');\n",
              "        buttonEl.style.display =\n",
              "          google.colab.kernel.accessAllowed ? 'block' : 'none';\n",
              "\n",
              "        async function convertToInteractive(key) {\n",
              "          const element = document.querySelector('#df-7ff5463d-1aef-421d-a9a6-694591dc5400');\n",
              "          const dataTable =\n",
              "            await google.colab.kernel.invokeFunction('convertToInteractive',\n",
              "                                                     [key], {});\n",
              "          if (!dataTable) return;\n",
              "\n",
              "          const docLinkHtml = 'Like what you see? Visit the ' +\n",
              "            '<a target=\"_blank\" href=https://colab.research.google.com/notebooks/data_table.ipynb>data table notebook</a>'\n",
              "            + ' to learn more about interactive tables.';\n",
              "          element.innerHTML = '';\n",
              "          dataTable['output_type'] = 'display_data';\n",
              "          await google.colab.output.renderOutput(dataTable, element);\n",
              "          const docLink = document.createElement('div');\n",
              "          docLink.innerHTML = docLinkHtml;\n",
              "          element.appendChild(docLink);\n",
              "        }\n",
              "      </script>\n",
              "    </div>\n",
              "  </div>\n",
              "  "
            ],
            "text/plain": [
              "   Ant1_real  Ant2_real  Ant1_imag  Ant2_imag  Label\n",
              "0  -0.225006  -1.289619   0.160145   1.232942      0\n",
              "1   0.250838   0.004269   1.543993  -0.371181      1\n",
              "2  -1.406853   1.511813  -1.115124  -1.423544      2\n",
              "3   1.381021  -0.226463  -0.589014   0.561784      3"
            ]
          },
          "metadata": {},
          "execution_count": 26
        }
      ]
    },
    {
      "cell_type": "code",
      "source": [
        "'''Spliting data to train and validation'''\n",
        "#X_train, X_test, y_train, y_test = train_test_split(x, y, test_size=0.000001, random_state=101)\n",
        "X_train=x\n",
        "y_train=y"
      ],
      "metadata": {
        "id": "CyRdviGDvDVk"
      },
      "execution_count": 27,
      "outputs": []
    },
    {
      "cell_type": "code",
      "source": [
        "X_train.shape"
      ],
      "metadata": {
        "colab": {
          "base_uri": "https://localhost:8080/"
        },
        "id": "qidmMccBvDX5",
        "outputId": "a7a7afcb-cfee-482e-d2c7-34ef179b7dbd"
      },
      "execution_count": 28,
      "outputs": [
        {
          "output_type": "execute_result",
          "data": {
            "text/plain": [
              "(4, 4)"
            ]
          },
          "metadata": {},
          "execution_count": 28
        }
      ]
    },
    {
      "cell_type": "code",
      "source": [
        "y_train.shape"
      ],
      "metadata": {
        "colab": {
          "base_uri": "https://localhost:8080/"
        },
        "id": "bGEZXDgdvDao",
        "outputId": "11dd46ab-14cc-4688-ba92-e6512b246106"
      },
      "execution_count": 29,
      "outputs": [
        {
          "output_type": "execute_result",
          "data": {
            "text/plain": [
              "(4,)"
            ]
          },
          "metadata": {},
          "execution_count": 29
        }
      ]
    },
    {
      "cell_type": "markdown",
      "source": [
        "# Building neural network and training"
      ],
      "metadata": {
        "id": "h8YwCz66u46S"
      }
    },
    {
      "cell_type": "code",
      "source": [
        "model = Sequential()\n",
        "model.add(Input(shape=(4)))\n",
        "model.add(Dense(32, activation='relu'))\n",
        "model.add(Dense(64, activation='relu'))\n",
        "model.add(Dropout(rate=0.1))\n",
        "#model.add(Dense(64, activation='relu'))\n",
        "model.add(Dropout(rate=0.5))\n",
        "model.add(Dense(32, activation='relu'))\n",
        "model.add(Dense(4, activation='softmax'))\n"
      ],
      "metadata": {
        "id": "XPJIXBPuDTZh"
      },
      "execution_count": 30,
      "outputs": []
    },
    {
      "cell_type": "code",
      "source": [
        "model.compile(loss='categorical_crossentropy', optimizer='adam', metrics=['accuracy'])\n",
        "NN=model.fit(X_train_NN, y_train_NN, batch_size=8, epochs=8, validation_data=(X_test_NN,y_test_NN))"
      ],
      "metadata": {
        "colab": {
          "base_uri": "https://localhost:8080/"
        },
        "id": "jXg7zS__KbNp",
        "outputId": "be58c53e-c1ed-4563-b543-caca3b12025a"
      },
      "execution_count": 31,
      "outputs": [
        {
          "output_type": "stream",
          "name": "stdout",
          "text": [
            "Epoch 1/6\n",
            "18/18 [==============================] - 3s 73ms/step - loss: 1.3824 - accuracy: 0.2394 - val_loss: 1.3335 - val_accuracy: 0.8387\n",
            "Epoch 2/6\n",
            "18/18 [==============================] - 0s 13ms/step - loss: 1.3057 - accuracy: 0.6127 - val_loss: 1.2279 - val_accuracy: 0.8065\n",
            "Epoch 3/6\n",
            "18/18 [==============================] - 0s 13ms/step - loss: 1.2044 - accuracy: 0.7183 - val_loss: 1.0644 - val_accuracy: 0.9032\n",
            "Epoch 4/6\n",
            "18/18 [==============================] - 0s 18ms/step - loss: 1.0081 - accuracy: 0.8099 - val_loss: 0.8292 - val_accuracy: 0.9677\n",
            "Epoch 5/6\n",
            "18/18 [==============================] - 0s 12ms/step - loss: 0.8066 - accuracy: 0.8099 - val_loss: 0.5788 - val_accuracy: 0.9677\n",
            "Epoch 6/6\n",
            "18/18 [==============================] - 0s 11ms/step - loss: 0.5868 - accuracy: 0.8732 - val_loss: 0.3841 - val_accuracy: 0.9839\n"
          ]
        }
      ]
    },
    {
      "cell_type": "code",
      "source": [
        "model.summary()\n"
      ],
      "metadata": {
        "colab": {
          "base_uri": "https://localhost:8080/"
        },
        "id": "gvjX5EpfQ223",
        "outputId": "55903546-cec2-43c1-b56f-bee99b28c23e"
      },
      "execution_count": 32,
      "outputs": [
        {
          "output_type": "stream",
          "name": "stdout",
          "text": [
            "Model: \"sequential\"\n",
            "_________________________________________________________________\n",
            " Layer (type)                Output Shape              Param #   \n",
            "=================================================================\n",
            " dense (Dense)               (None, 32)                160       \n",
            "                                                                 \n",
            " dense_1 (Dense)             (None, 64)                2112      \n",
            "                                                                 \n",
            " dropout (Dropout)           (None, 64)                0         \n",
            "                                                                 \n",
            " dropout_1 (Dropout)         (None, 64)                0         \n",
            "                                                                 \n",
            " dense_2 (Dense)             (None, 32)                2080      \n",
            "                                                                 \n",
            " dense_3 (Dense)             (None, 4)                 132       \n",
            "                                                                 \n",
            "=================================================================\n",
            "Total params: 4,484\n",
            "Trainable params: 4,484\n",
            "Non-trainable params: 0\n",
            "_________________________________________________________________\n"
          ]
        }
      ]
    },
    {
      "cell_type": "markdown",
      "source": [
        "# Training KNN and SVM model"
      ],
      "metadata": {
        "id": "tfUo1jOZvEfx"
      }
    },
    {
      "cell_type": "code",
      "source": [
        "rbf = svm.SVC(kernel = 'rbf', gamma = 0.5, C = 0.1).fit(X_train, y_train)\n",
        "poly = svm.SVC(kernel = 'poly', degree = 3, C = 1).fit(X_train, y_train)\n",
        "knn = KNeighborsClassifier(n_neighbors=1).fit(X_train,y_train)"
      ],
      "metadata": {
        "id": "CrNclVpqvlbM"
      },
      "execution_count": 33,
      "outputs": []
    },
    {
      "cell_type": "markdown",
      "source": [
        "# Testing models on test dataset "
      ],
      "metadata": {
        "id": "dCpcNEsovVqY"
      }
    },
    {
      "cell_type": "code",
      "source": [
        "poly_pred = poly.predict(x_test_svm)\n",
        "rbf_pred = rbf.predict(x_test_svm)\n",
        "knn_pred = knn.predict(x_test_svm)"
      ],
      "metadata": {
        "id": "gKG7WPpWvpKk"
      },
      "execution_count": 34,
      "outputs": []
    },
    {
      "cell_type": "code",
      "source": [
        "knn_accuracy = accuracy_score(y_test_svm, knn_pred)\n",
        "knn_f1 = f1_score(y_test_svm, knn_pred, average ='weighted')\n",
        "print('Accuracy (KNN): ', \"%.2f\" % (knn_accuracy*100))\n",
        "print('F1 (KNN): ', \"%.2f\" % (knn_f1*100))"
      ],
      "metadata": {
        "id": "rqpC4utgvPp-",
        "colab": {
          "base_uri": "https://localhost:8080/"
        },
        "outputId": "513dbef6-8147-4cf2-eafb-a688d99299bb"
      },
      "execution_count": 35,
      "outputs": [
        {
          "output_type": "stream",
          "name": "stdout",
          "text": [
            "Accuracy (KNN):  71.55\n",
            "F1 (KNN):  70.67\n"
          ]
        }
      ]
    },
    {
      "cell_type": "code",
      "source": [
        "poly_accuracy = accuracy_score(y_test_svm, poly_pred)\n",
        "poly_f1 = f1_score(y_test_svm, poly_pred, average = 'weighted')\n",
        "print('Accuracy (Polynomial Kernel): ', \"%.2f\" % (poly_accuracy*100))\n",
        "print('F1 (Polynomial Kernel): ', \"%.2f\" % (poly_f1*100))"
      ],
      "metadata": {
        "colab": {
          "base_uri": "https://localhost:8080/"
        },
        "id": "t2TRhEj2vpNO",
        "outputId": "61dc6ac7-3b4d-4143-d04e-21ce07ad0201"
      },
      "execution_count": 36,
      "outputs": [
        {
          "output_type": "stream",
          "name": "stdout",
          "text": [
            "Accuracy (Polynomial Kernel):  25.45\n",
            "F1 (Polynomial Kernel):  11.55\n"
          ]
        }
      ]
    },
    {
      "cell_type": "code",
      "source": [
        "rbf_accuracy = accuracy_score(y_test_svm, rbf_pred)\n",
        "rbf_f1 = f1_score(y_test_svm, rbf_pred, average = 'weighted')\n",
        "print('Accuracy (RBF Kernel): ', \"%.2f\" % (rbf_accuracy*100))\n",
        "print('F1 (RBF Kernel): ', \"%.2f\" % (rbf_f1*100))"
      ],
      "metadata": {
        "colab": {
          "base_uri": "https://localhost:8080/"
        },
        "id": "5Fzn97D1vpQE",
        "outputId": "653d90b8-22ec-4b95-8965-9ea4e4d32e31"
      },
      "execution_count": 37,
      "outputs": [
        {
          "output_type": "stream",
          "name": "stdout",
          "text": [
            "Accuracy (RBF Kernel):  71.55\n",
            "F1 (RBF Kernel):  70.67\n"
          ]
        }
      ]
    },
    {
      "cell_type": "code",
      "source": [
        "'''Test the model'''\n",
        "NN_Accuracy = model.evaluate(x_test_nn, y_test_nn)"
      ],
      "metadata": {
        "colab": {
          "base_uri": "https://localhost:8080/"
        },
        "id": "qY-8zh_ZQ-e3",
        "outputId": "151e19a2-8b81-4c7a-eabd-077c37dd8846"
      },
      "execution_count": 38,
      "outputs": [
        {
          "output_type": "stream",
          "name": "stdout",
          "text": [
            "63/63 [==============================] - 0s 2ms/step - loss: 0.4387 - accuracy: 0.9305\n"
          ]
        }
      ]
    },
    {
      "cell_type": "markdown",
      "source": [
        "#Choosing K value"
      ],
      "metadata": {
        "id": "NeoiTpR6t09x"
      }
    },
    {
      "cell_type": "code",
      "source": [
        "'''error_rate = []\n",
        "\n",
        "for i in range(1,40):\n",
        "    knn = KNeighborsClassifier(n_neighbors=i)\n",
        "    knn.fit(X_train,y_train)\n",
        "    pred_i = knn.predict(m1)\n",
        "    error_rate.append(np.mean(pred_i != n1))'''"
      ],
      "metadata": {
        "colab": {
          "base_uri": "https://localhost:8080/",
          "height": 53
        },
        "id": "j6DXbwLPt0IT",
        "outputId": "80e0ad57-9fb4-4be0-cb71-d1e5539104f5"
      },
      "execution_count": 39,
      "outputs": [
        {
          "output_type": "execute_result",
          "data": {
            "application/vnd.google.colaboratory.intrinsic+json": {
              "type": "string"
            },
            "text/plain": [
              "'error_rate = []\\n\\nfor i in range(1,40):\\n    knn = KNeighborsClassifier(n_neighbors=i)\\n    knn.fit(X_train,y_train)\\n    pred_i = knn.predict(m1)\\n    error_rate.append(np.mean(pred_i != n1))'"
            ]
          },
          "metadata": {},
          "execution_count": 39
        }
      ]
    },
    {
      "cell_type": "code",
      "source": [
        "'''plt.figure(figsize=(10,6))\n",
        "plt.plot(range(1,40),error_rate,color='blue',ls='--',marker='o',markerfacecolor='red',markersize=10)\n",
        "plt.title('Error Rate vs. K Values')\n",
        "plt.xlabel('K')\n",
        "plt.ylabel('Error Rate')'''"
      ],
      "metadata": {
        "id": "JQlQKs_-t80B",
        "colab": {
          "base_uri": "https://localhost:8080/",
          "height": 53
        },
        "outputId": "1b0c7dd8-2c41-48e0-a793-a0f97d9f98fd"
      },
      "execution_count": 40,
      "outputs": [
        {
          "output_type": "execute_result",
          "data": {
            "application/vnd.google.colaboratory.intrinsic+json": {
              "type": "string"
            },
            "text/plain": [
              "\"plt.figure(figsize=(10,6))\\nplt.plot(range(1,40),error_rate,color='blue',ls='--',marker='o',markerfacecolor='red',markersize=10)\\nplt.title('Error Rate vs. K Values')\\nplt.xlabel('K')\\nplt.ylabel('Error Rate')\""
            ]
          },
          "metadata": {},
          "execution_count": 40
        }
      ]
    }
  ]
}