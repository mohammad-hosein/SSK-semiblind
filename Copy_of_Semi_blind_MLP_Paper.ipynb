{
  "nbformat": 4,
  "nbformat_minor": 0,
  "metadata": {
    "colab": {
      "name": "Copy of Semi blind MLP_Paper.ipynb",
      "provenance": [],
      "collapsed_sections": [],
      "authorship_tag": "ABX9TyN2B6Rh3zB9Bt7KMeiJWI46",
      "include_colab_link": true
    },
    "kernelspec": {
      "name": "python3",
      "display_name": "Python 3"
    },
    "language_info": {
      "name": "python"
    }
  },
  "cells": [
    {
      "cell_type": "markdown",
      "metadata": {
        "id": "view-in-github",
        "colab_type": "text"
      },
      "source": [
        "<a href=\"https://colab.research.google.com/github/mohammad-hosein/Semi-Blind-MLP/blob/main/Copy_of_Semi_blind_MLP_Paper.ipynb\" target=\"_parent\"><img src=\"https://colab.research.google.com/assets/colab-badge.svg\" alt=\"Open In Colab\"/></a>"
      ]
    },
    {
      "cell_type": "code",
      "execution_count": 1,
      "metadata": {
        "id": "lScAEC5buZ19"
      },
      "outputs": [],
      "source": [
        "import numpy as np\n",
        "import math\n",
        "import pandas as pd\n",
        "import tensorflow as tf\n",
        "import random\n",
        "from tensorflow import keras\n",
        "from tensorflow.keras import layers\n",
        "from tensorflow.keras.layers import Dense, Input,Dropout\n",
        "from tensorflow.keras.models import Sequential\n",
        "from tensorflow.keras.utils import to_categorical\n",
        "from sklearn.model_selection import train_test_split\n",
        "from sklearn import svm\n",
        "from sklearn.preprocessing import StandardScaler\n",
        "import matplotlib.pyplot as plt\n",
        "from sklearn.metrics import accuracy_score\n",
        "from sklearn.metrics import f1_score\n",
        "from sklearn.neighbors import KNeighborsClassifier"
      ]
    },
    {
      "cell_type": "markdown",
      "source": [
        "# Generating datasets and preprocessing"
      ],
      "metadata": {
        "id": "_ghXxUqWtzCO"
      }
    },
    {
      "cell_type": "code",
      "source": [
        "'''Fading channel for specific number of antennas at transmitter and receiver side'''\n",
        "j = complex(0, 1) #Imaginary part\n",
        "def fading_channel (Nt, Nr):\n",
        "  h_real = np.random.normal(0, 0.5, size = (Nr, Nt))\n",
        "  h_img = np.random.normal(0, 0.5, size = (Nr, Nt))\n",
        "  H_Rayleigh = np.array(h_real + h_img*j, dtype = complex)\n",
        "  \n",
        "  return H_Rayleigh"
      ],
      "metadata": {
        "id": "HIpX9raqush5"
      },
      "execution_count": 2,
      "outputs": []
    },
    {
      "cell_type": "code",
      "source": [
        "'''SSK Constellation set'''\n",
        "Constellation_set= np.zeros(shape= (4, 4))\n",
        "Constellation_set[0] = np.array([1, 0, 0, 0])\n",
        "Constellation_set[1] = np.array([0, 1, 0, 0])\n",
        "Constellation_set[2] = np.array([0, 0, 1, 0])\n",
        "Constellation_set[3] = np.array([0, 0, 0, 1])"
      ],
      "metadata": {
        "id": "smFQAvvMuu_2"
      },
      "execution_count": 3,
      "outputs": []
    },
    {
      "cell_type": "code",
      "source": [
        "H_Rayleigh = fading_channel (4,2)"
      ],
      "metadata": {
        "id": "TNAkbVUmuzOw"
      },
      "execution_count": 4,
      "outputs": []
    },
    {
      "cell_type": "code",
      "source": [
        "'''Complex noise'''\n",
        "def noise_complex (N0, Nr):\n",
        "  n_real = np.random.normal(0, N0, size = Nr)\n",
        "  n_img=np.random.normal(0, N0, size = Nr)\n",
        "  noise_complex=np.array(n_real + n_img*j, dtype = complex)\n",
        "  \n",
        "  return noise_complex"
      ],
      "metadata": {
        "id": "djASxRIhu2P1"
      },
      "execution_count": 5,
      "outputs": []
    },
    {
      "cell_type": "code",
      "source": [
        "'''Creating pilot signals'''\n",
        "def training_pilots_at_receiver (Label):\n",
        "  i = 0\n",
        "  \n",
        "  y_receiver = np.zeros(shape = (4, 2), dtype = \"complex_\")\n",
        "  for i in range(Label):\n",
        "    y_receiver[i] = np.dot(H_Rayleigh, Constellation_set[i], out = None) + noise_complex (0.125, 2)\n",
        "    i += 1\n",
        "\n",
        "  y_receiver_real = y_receiver.real\n",
        "  y_receiver_imag = y_receiver.imag\n",
        "  y_receiver = np.concatenate((y_receiver_real, y_receiver_imag), axis = 1)\n",
        "  y_receiver_complex = pd.DataFrame(y_receiver, columns=['Ant1_real', 'Ant2_real', 'Ant1_imag', 'Ant2_imag'])\n",
        "  y_receiver_complex['Label'] = np.arange(0, 4) \n",
        "\n",
        "  return y_receiver_complex"
      ],
      "metadata": {
        "id": "EmzyzlK2u3rF"
      },
      "execution_count": 6,
      "outputs": []
    },
    {
      "cell_type": "code",
      "source": [
        "training_pilots_at_receiver = training_pilots_at_receiver (4)"
      ],
      "metadata": {
        "id": "pmVWjiYMcN5R"
      },
      "execution_count": 7,
      "outputs": []
    },
    {
      "cell_type": "code",
      "source": [
        "'''Creating test signals'''\n",
        "def test_ (packet_length):\n",
        "  #Define an empty dataframe\n",
        "  y_receive_test = pd.DataFrame()\n",
        "\n",
        "  for i in range(packet_length):\n",
        "    #Generating received signals\n",
        "    y_one_receive_signal = np.zeros(shape = (1, 2), dtype = \"complex_\")\n",
        "    \n",
        "    #Choosing a random constellation point\n",
        "    rand = random.randrange(0, 4, 1)\n",
        "    \n",
        "    #Y = HX+N \n",
        "    y_one_receive_signal = np.dot(H_Rayleigh, Constellation_set[rand], out = None) + noise_complex (0.125, 2)\n",
        "    \n",
        "    #Transforming complex signal to a two dimension integer\n",
        "    y_one_receive_signal_real = y_one_receive_signal.real\n",
        "    y_one_receive_signal_imag = y_one_receive_signal.imag\n",
        "    y_receive = np.concatenate((y_one_receive_signal_real,y_one_receive_signal_imag), axis = None)\n",
        "    \n",
        "    #Filling dataframe rows\n",
        "    y_receive_without_label = pd.DataFrame(y_receive.reshape((1, 4)), columns = ['Ant1_real', 'Ant2_real', 'Ant1_imag', 'Ant2_imag'])\n",
        "    \n",
        "    #Assigning related label to received pilots\n",
        "    if rand == 0 :\n",
        "      y_receive_without_label['Label']= 0\n",
        "    elif rand == 1 :\n",
        "      y_receive_without_label['Label']= 1\n",
        "    elif rand == 2 :\n",
        "      y_receive_without_label['Label']= 2\n",
        "    elif rand == 3 :\n",
        "      y_receive_without_label['Label']= 3\n",
        "    \n",
        "    #Join all test signals to data set\n",
        "    y_receive_test = pd.concat([y_receive_test, y_receive_without_label])\n",
        "\n",
        "  return y_receive_test"
      ],
      "metadata": {
        "id": "0m-sl6Dmu6x1"
      },
      "execution_count": 8,
      "outputs": []
    },
    {
      "cell_type": "code",
      "source": [
        "def test_label (KNN_or_NN): #Depend on model\n",
        "  test = test_ (200)\n",
        "\n",
        "  #Test data for KNN\n",
        "  if KNN_or_NN == 1 :\n",
        "    test_features = test[['Ant1_real', 'Ant2_real', 'Ant1_imag', 'Ant2_imag']]\n",
        "    test_label = test['Label']\n",
        "    return test_features, test_label\n",
        "\n",
        "  #Test data for NN\n",
        "  elif KNN_or_NN == 0:\n",
        "    test_features = test[['Ant1_real', 'Ant2_real', 'Ant1_imag', 'Ant2_imag']]\n",
        "    test_label = test['Label']\n",
        "    test_label_categorical = to_categorical(test_label, num_classes = 4)\n",
        "    return test_features, test_label_categorical"
      ],
      "metadata": {
        "id": "ich16KhGJ9Iz"
      },
      "execution_count": 9,
      "outputs": []
    },
    {
      "cell_type": "code",
      "source": [
        "test_label (1)"
      ],
      "metadata": {
        "colab": {
          "base_uri": "https://localhost:8080/"
        },
        "id": "T-3L-P8hZ9wT",
        "outputId": "85df726f-bd0d-480f-8666-87241b523b64"
      },
      "execution_count": 10,
      "outputs": [
        {
          "output_type": "execute_result",
          "data": {
            "text/plain": [
              "(    Ant1_real  Ant2_real  Ant1_imag  Ant2_imag\n",
              " 0    0.477289  -0.310802   0.051603  -0.905267\n",
              " 0   -0.568458  -0.514007   0.472715   0.654406\n",
              " 0    0.597114  -0.123244   0.708140   0.230836\n",
              " 0    0.622697   0.424735   0.091835   0.005969\n",
              " 0    0.570806   0.499970   0.203818   0.045949\n",
              " ..        ...        ...        ...        ...\n",
              " 0    0.473130  -0.277434   0.579772   0.103731\n",
              " 0    0.539695   0.403564   0.395414  -0.147677\n",
              " 0    0.416850  -0.016903   0.864814  -0.034508\n",
              " 0    0.413672   0.669421   0.211405  -0.359897\n",
              " 0    0.471310  -0.142767   0.511670   0.293930\n",
              " \n",
              " [200 rows x 4 columns], 0    1\n",
              " 0    0\n",
              " 0    3\n",
              " 0    2\n",
              " 0    2\n",
              "     ..\n",
              " 0    3\n",
              " 0    2\n",
              " 0    3\n",
              " 0    2\n",
              " 0    3\n",
              " Name: Label, Length: 200, dtype: int64)"
            ]
          },
          "metadata": {},
          "execution_count": 10
        }
      ]
    },
    {
      "cell_type": "code",
      "source": [
        "test_label (0)"
      ],
      "metadata": {
        "colab": {
          "base_uri": "https://localhost:8080/"
        },
        "id": "Yso1D5-dcv-I",
        "outputId": "a49db9b5-97ae-4a22-893c-d2eb3b7bd0da"
      },
      "execution_count": 11,
      "outputs": [
        {
          "output_type": "execute_result",
          "data": {
            "text/plain": [
              "(    Ant1_real  Ant2_real  Ant1_imag  Ant2_imag\n",
              " 0   -0.529378  -0.415758   0.487021   0.626086\n",
              " 0    0.645665  -0.088325   0.130522  -0.974428\n",
              " 0    0.423440  -0.147977   0.652170   0.099311\n",
              " 0    0.476588   0.568266   0.202508  -0.202732\n",
              " 0    0.365248   0.079458   0.796021   0.198768\n",
              " ..        ...        ...        ...        ...\n",
              " 0    0.580577   0.513170   0.347229  -0.000606\n",
              " 0    0.467000  -0.421636  -0.170278  -0.693808\n",
              " 0   -0.539157  -0.317080   0.644253   0.674635\n",
              " 0   -0.520211  -0.295581   0.529492   0.550386\n",
              " 0    0.581981  -0.301690  -0.285489  -0.835393\n",
              " \n",
              " [200 rows x 4 columns], array([[1., 0., 0., 0.],\n",
              "        [0., 1., 0., 0.],\n",
              "        [0., 0., 0., 1.],\n",
              "        [0., 0., 1., 0.],\n",
              "        [0., 0., 0., 1.],\n",
              "        [0., 0., 1., 0.],\n",
              "        [0., 1., 0., 0.],\n",
              "        [0., 0., 1., 0.],\n",
              "        [1., 0., 0., 0.],\n",
              "        [0., 0., 0., 1.],\n",
              "        [1., 0., 0., 0.],\n",
              "        [0., 0., 0., 1.],\n",
              "        [0., 1., 0., 0.],\n",
              "        [0., 0., 1., 0.],\n",
              "        [0., 0., 0., 1.],\n",
              "        [0., 1., 0., 0.],\n",
              "        [0., 0., 0., 1.],\n",
              "        [0., 1., 0., 0.],\n",
              "        [1., 0., 0., 0.],\n",
              "        [0., 1., 0., 0.],\n",
              "        [0., 0., 1., 0.],\n",
              "        [0., 1., 0., 0.],\n",
              "        [0., 0., 0., 1.],\n",
              "        [0., 0., 1., 0.],\n",
              "        [1., 0., 0., 0.],\n",
              "        [0., 0., 1., 0.],\n",
              "        [0., 1., 0., 0.],\n",
              "        [0., 0., 1., 0.],\n",
              "        [1., 0., 0., 0.],\n",
              "        [0., 0., 0., 1.],\n",
              "        [0., 1., 0., 0.],\n",
              "        [1., 0., 0., 0.],\n",
              "        [1., 0., 0., 0.],\n",
              "        [1., 0., 0., 0.],\n",
              "        [0., 0., 1., 0.],\n",
              "        [0., 0., 0., 1.],\n",
              "        [0., 0., 0., 1.],\n",
              "        [0., 0., 1., 0.],\n",
              "        [0., 1., 0., 0.],\n",
              "        [1., 0., 0., 0.],\n",
              "        [0., 0., 0., 1.],\n",
              "        [0., 0., 0., 1.],\n",
              "        [1., 0., 0., 0.],\n",
              "        [0., 0., 1., 0.],\n",
              "        [0., 1., 0., 0.],\n",
              "        [1., 0., 0., 0.],\n",
              "        [0., 1., 0., 0.],\n",
              "        [0., 0., 0., 1.],\n",
              "        [0., 0., 1., 0.],\n",
              "        [0., 0., 1., 0.],\n",
              "        [0., 0., 0., 1.],\n",
              "        [0., 0., 1., 0.],\n",
              "        [0., 0., 0., 1.],\n",
              "        [1., 0., 0., 0.],\n",
              "        [0., 0., 0., 1.],\n",
              "        [0., 1., 0., 0.],\n",
              "        [0., 0., 0., 1.],\n",
              "        [0., 0., 0., 1.],\n",
              "        [0., 1., 0., 0.],\n",
              "        [0., 0., 1., 0.],\n",
              "        [0., 0., 1., 0.],\n",
              "        [0., 0., 0., 1.],\n",
              "        [0., 0., 1., 0.],\n",
              "        [0., 0., 0., 1.],\n",
              "        [1., 0., 0., 0.],\n",
              "        [1., 0., 0., 0.],\n",
              "        [1., 0., 0., 0.],\n",
              "        [0., 0., 0., 1.],\n",
              "        [0., 1., 0., 0.],\n",
              "        [1., 0., 0., 0.],\n",
              "        [0., 0., 0., 1.],\n",
              "        [1., 0., 0., 0.],\n",
              "        [0., 0., 0., 1.],\n",
              "        [0., 1., 0., 0.],\n",
              "        [0., 0., 0., 1.],\n",
              "        [0., 1., 0., 0.],\n",
              "        [1., 0., 0., 0.],\n",
              "        [0., 0., 1., 0.],\n",
              "        [0., 0., 1., 0.],\n",
              "        [0., 0., 1., 0.],\n",
              "        [1., 0., 0., 0.],\n",
              "        [0., 0., 0., 1.],\n",
              "        [0., 1., 0., 0.],\n",
              "        [0., 0., 0., 1.],\n",
              "        [0., 1., 0., 0.],\n",
              "        [0., 0., 1., 0.],\n",
              "        [0., 0., 0., 1.],\n",
              "        [0., 1., 0., 0.],\n",
              "        [0., 0., 1., 0.],\n",
              "        [0., 0., 1., 0.],\n",
              "        [0., 1., 0., 0.],\n",
              "        [0., 0., 0., 1.],\n",
              "        [0., 0., 1., 0.],\n",
              "        [0., 1., 0., 0.],\n",
              "        [0., 0., 1., 0.],\n",
              "        [0., 0., 0., 1.],\n",
              "        [0., 1., 0., 0.],\n",
              "        [1., 0., 0., 0.],\n",
              "        [0., 1., 0., 0.],\n",
              "        [0., 0., 1., 0.],\n",
              "        [1., 0., 0., 0.],\n",
              "        [0., 1., 0., 0.],\n",
              "        [0., 0., 0., 1.],\n",
              "        [0., 0., 0., 1.],\n",
              "        [0., 0., 0., 1.],\n",
              "        [1., 0., 0., 0.],\n",
              "        [0., 0., 0., 1.],\n",
              "        [1., 0., 0., 0.],\n",
              "        [0., 0., 1., 0.],\n",
              "        [0., 1., 0., 0.],\n",
              "        [0., 0., 1., 0.],\n",
              "        [0., 0., 1., 0.],\n",
              "        [1., 0., 0., 0.],\n",
              "        [0., 0., 0., 1.],\n",
              "        [0., 0., 0., 1.],\n",
              "        [0., 0., 1., 0.],\n",
              "        [0., 0., 1., 0.],\n",
              "        [0., 0., 1., 0.],\n",
              "        [0., 0., 0., 1.],\n",
              "        [0., 1., 0., 0.],\n",
              "        [0., 0., 0., 1.],\n",
              "        [1., 0., 0., 0.],\n",
              "        [1., 0., 0., 0.],\n",
              "        [0., 0., 1., 0.],\n",
              "        [0., 1., 0., 0.],\n",
              "        [1., 0., 0., 0.],\n",
              "        [0., 0., 1., 0.],\n",
              "        [0., 0., 0., 1.],\n",
              "        [0., 1., 0., 0.],\n",
              "        [0., 1., 0., 0.],\n",
              "        [0., 1., 0., 0.],\n",
              "        [1., 0., 0., 0.],\n",
              "        [0., 0., 1., 0.],\n",
              "        [1., 0., 0., 0.],\n",
              "        [1., 0., 0., 0.],\n",
              "        [1., 0., 0., 0.],\n",
              "        [0., 0., 1., 0.],\n",
              "        [1., 0., 0., 0.],\n",
              "        [1., 0., 0., 0.],\n",
              "        [0., 0., 0., 1.],\n",
              "        [0., 0., 0., 1.],\n",
              "        [0., 0., 0., 1.],\n",
              "        [0., 0., 0., 1.],\n",
              "        [0., 0., 1., 0.],\n",
              "        [0., 0., 1., 0.],\n",
              "        [0., 0., 1., 0.],\n",
              "        [0., 0., 0., 1.],\n",
              "        [0., 0., 1., 0.],\n",
              "        [0., 0., 1., 0.],\n",
              "        [0., 0., 0., 1.],\n",
              "        [0., 0., 1., 0.],\n",
              "        [1., 0., 0., 0.],\n",
              "        [0., 0., 1., 0.],\n",
              "        [0., 1., 0., 0.],\n",
              "        [0., 1., 0., 0.],\n",
              "        [0., 1., 0., 0.],\n",
              "        [0., 1., 0., 0.],\n",
              "        [0., 1., 0., 0.],\n",
              "        [0., 0., 1., 0.],\n",
              "        [0., 0., 0., 1.],\n",
              "        [0., 1., 0., 0.],\n",
              "        [1., 0., 0., 0.],\n",
              "        [0., 1., 0., 0.],\n",
              "        [0., 0., 0., 1.],\n",
              "        [0., 1., 0., 0.],\n",
              "        [1., 0., 0., 0.],\n",
              "        [0., 1., 0., 0.],\n",
              "        [0., 0., 0., 1.],\n",
              "        [0., 0., 0., 1.],\n",
              "        [1., 0., 0., 0.],\n",
              "        [0., 0., 0., 1.],\n",
              "        [0., 0., 0., 1.],\n",
              "        [0., 0., 1., 0.],\n",
              "        [1., 0., 0., 0.],\n",
              "        [1., 0., 0., 0.],\n",
              "        [0., 1., 0., 0.],\n",
              "        [1., 0., 0., 0.],\n",
              "        [0., 1., 0., 0.],\n",
              "        [0., 1., 0., 0.],\n",
              "        [1., 0., 0., 0.],\n",
              "        [1., 0., 0., 0.],\n",
              "        [0., 0., 1., 0.],\n",
              "        [0., 0., 0., 1.],\n",
              "        [1., 0., 0., 0.],\n",
              "        [0., 0., 1., 0.],\n",
              "        [0., 1., 0., 0.],\n",
              "        [1., 0., 0., 0.],\n",
              "        [0., 0., 0., 1.],\n",
              "        [0., 0., 0., 1.],\n",
              "        [1., 0., 0., 0.],\n",
              "        [1., 0., 0., 0.],\n",
              "        [0., 1., 0., 0.],\n",
              "        [0., 0., 1., 0.],\n",
              "        [0., 1., 0., 0.],\n",
              "        [0., 1., 0., 0.],\n",
              "        [0., 0., 1., 0.],\n",
              "        [0., 1., 0., 0.],\n",
              "        [1., 0., 0., 0.],\n",
              "        [1., 0., 0., 0.],\n",
              "        [0., 1., 0., 0.]], dtype=float32))"
            ]
          },
          "metadata": {},
          "execution_count": 11
        }
      ]
    },
    {
      "cell_type": "code",
      "source": [
        "x_test_svm, y_test_svm = test_label (1)\n",
        "x_test_nn, y_test_nn = test_label (0)\n"
      ],
      "metadata": {
        "id": "VDwd_iHvLuOR"
      },
      "execution_count": 12,
      "outputs": []
    },
    {
      "cell_type": "markdown",
      "source": [
        "# Generating virtual pilots (data augmentation)"
      ],
      "metadata": {
        "id": "U6thg7qouQJT"
      }
    },
    {
      "cell_type": "code",
      "source": [
        "'''Noise for data augmentation'''\n",
        "def noise_real (N0,Nr):\n",
        "  noise_real=np.random.normal(0, N0, size=Nr)\n",
        "  \n",
        "  return noise_real"
      ],
      "metadata": {
        "id": "O8cCcZB2u-FF"
      },
      "execution_count": 13,
      "outputs": []
    },
    {
      "cell_type": "code",
      "source": [
        "def data_augmentation (sample_size, noise_variance):\n",
        "  #Generating virtual pilots based on actual pilots\n",
        "  augmented_data = pd.DataFrame()\n",
        "\n",
        "  for i in range(sample_size):\n",
        "    frame_augmented = training_pilots_at_receiver[['Ant1_real', 'Ant2_real', 'Ant1_imag', 'Ant2_imag']] + noise_real(noise_variance, 4)\n",
        "    frame_augmented['Label'] = np.arange(0, 4)\n",
        "    augmented_data = augmented_data.append(frame_augmented)\n",
        "    i += 1\n",
        "\n",
        "  return augmented_data"
      ],
      "metadata": {
        "id": "pbctavMGRjeo"
      },
      "execution_count": 14,
      "outputs": []
    },
    {
      "cell_type": "code",
      "source": [
        "data_augmentation = data_augmentation(300, 0.06)"
      ],
      "metadata": {
        "id": "xzr5IG_FU73k"
      },
      "execution_count": 15,
      "outputs": []
    },
    {
      "cell_type": "code",
      "source": [
        "print(data_augmentation.describe())\n",
        "print(training_pilots_at_receiver.describe())"
      ],
      "metadata": {
        "colab": {
          "base_uri": "https://localhost:8080/"
        },
        "id": "39hwDiYvAoXx",
        "outputId": "74f034e2-08ca-4611-f93a-18e172569ef1"
      },
      "execution_count": 16,
      "outputs": [
        {
          "output_type": "stream",
          "name": "stdout",
          "text": [
            "         Ant1_real    Ant2_real    Ant1_imag    Ant2_imag      Label\n",
            "count  1200.000000  1200.000000  1200.000000  1200.000000  1200.0000\n",
            "mean      0.338501     0.027417     0.273934     0.030190     1.5000\n",
            "std       0.398863     0.433486     0.310010     0.499291     1.1185\n",
            "min      -0.502298    -0.591992    -0.338928    -0.757118     0.0000\n",
            "25%       0.135909    -0.329983     0.044944    -0.392173     0.7500\n",
            "50%       0.498152    -0.101113     0.354615    -0.034998     1.5000\n",
            "75%       0.631097     0.309645     0.539951     0.381153     2.2500\n",
            "max       0.820100     0.898623     0.752654     0.923022     3.0000\n",
            "       Ant1_real  Ant2_real  Ant1_imag  Ant2_imag     Label\n",
            "count   4.000000   4.000000   4.000000   4.000000  4.000000\n",
            "mean    0.342993   0.029634   0.268600   0.026251  1.500000\n",
            "std     0.455399   0.495166   0.351766   0.571931  1.290994\n",
            "min    -0.320795  -0.388098  -0.202019  -0.586703  0.000000\n",
            "25%     0.238837  -0.298676   0.105114  -0.305829  0.750000\n",
            "50%     0.502731  -0.104674   0.346905  -0.032724  1.500000\n",
            "75%     0.606887   0.223636   0.510391   0.299356  2.250000\n",
            "max     0.687304   0.715980   0.582608   0.757155  3.000000\n"
          ]
        }
      ]
    },
    {
      "cell_type": "markdown",
      "source": [
        "# Split dataset to train and test"
      ],
      "metadata": {
        "id": "5TuUK_qwulth"
      }
    },
    {
      "cell_type": "code",
      "source": [
        "'''Spliting features and labels'''\n",
        "#xy=pd.concat([data_augmentation, training_pilots_at_receiver])       #Enable when you want vp for SVM & KNN\n",
        "xy = training_pilots_at_receiver                      #Enable when you dont want vp for SVM & KNN\n",
        "xy_NN = pd.concat([data_augmentation, training_pilots_at_receiver])     #Enable when you want vp for NN\n",
        "#xy_NN = training_pilots_at_receiver                   #Enable when you dont want vp for NN"
      ],
      "metadata": {
        "id": "fIBCensrvCPd"
      },
      "execution_count": 17,
      "outputs": []
    },
    {
      "cell_type": "code",
      "source": [
        "xy"
      ],
      "metadata": {
        "colab": {
          "base_uri": "https://localhost:8080/",
          "height": 175
        },
        "id": "0a42O1IoyBHx",
        "outputId": "62f5de2d-8134-4c65-e2ce-40842570656f"
      },
      "execution_count": 18,
      "outputs": [
        {
          "output_type": "execute_result",
          "data": {
            "text/html": [
              "\n",
              "  <div id=\"df-bae30f18-6450-465e-b242-b5891e6ab3d2\">\n",
              "    <div class=\"colab-df-container\">\n",
              "      <div>\n",
              "<style scoped>\n",
              "    .dataframe tbody tr th:only-of-type {\n",
              "        vertical-align: middle;\n",
              "    }\n",
              "\n",
              "    .dataframe tbody tr th {\n",
              "        vertical-align: top;\n",
              "    }\n",
              "\n",
              "    .dataframe thead th {\n",
              "        text-align: right;\n",
              "    }\n",
              "</style>\n",
              "<table border=\"1\" class=\"dataframe\">\n",
              "  <thead>\n",
              "    <tr style=\"text-align: right;\">\n",
              "      <th></th>\n",
              "      <th>Ant1_real</th>\n",
              "      <th>Ant2_real</th>\n",
              "      <th>Ant1_imag</th>\n",
              "      <th>Ant2_imag</th>\n",
              "      <th>Label</th>\n",
              "    </tr>\n",
              "  </thead>\n",
              "  <tbody>\n",
              "    <tr>\n",
              "      <th>0</th>\n",
              "      <td>-0.320795</td>\n",
              "      <td>-0.388098</td>\n",
              "      <td>0.582608</td>\n",
              "      <td>0.757155</td>\n",
              "      <td>0</td>\n",
              "    </tr>\n",
              "    <tr>\n",
              "      <th>1</th>\n",
              "      <td>0.580081</td>\n",
              "      <td>-0.268869</td>\n",
              "      <td>-0.202019</td>\n",
              "      <td>-0.586703</td>\n",
              "      <td>1</td>\n",
              "    </tr>\n",
              "    <tr>\n",
              "      <th>2</th>\n",
              "      <td>0.687304</td>\n",
              "      <td>0.715980</td>\n",
              "      <td>0.207492</td>\n",
              "      <td>-0.212204</td>\n",
              "      <td>2</td>\n",
              "    </tr>\n",
              "    <tr>\n",
              "      <th>3</th>\n",
              "      <td>0.425381</td>\n",
              "      <td>0.059521</td>\n",
              "      <td>0.486319</td>\n",
              "      <td>0.146756</td>\n",
              "      <td>3</td>\n",
              "    </tr>\n",
              "  </tbody>\n",
              "</table>\n",
              "</div>\n",
              "      <button class=\"colab-df-convert\" onclick=\"convertToInteractive('df-bae30f18-6450-465e-b242-b5891e6ab3d2')\"\n",
              "              title=\"Convert this dataframe to an interactive table.\"\n",
              "              style=\"display:none;\">\n",
              "        \n",
              "  <svg xmlns=\"http://www.w3.org/2000/svg\" height=\"24px\"viewBox=\"0 0 24 24\"\n",
              "       width=\"24px\">\n",
              "    <path d=\"M0 0h24v24H0V0z\" fill=\"none\"/>\n",
              "    <path d=\"M18.56 5.44l.94 2.06.94-2.06 2.06-.94-2.06-.94-.94-2.06-.94 2.06-2.06.94zm-11 1L8.5 8.5l.94-2.06 2.06-.94-2.06-.94L8.5 2.5l-.94 2.06-2.06.94zm10 10l.94 2.06.94-2.06 2.06-.94-2.06-.94-.94-2.06-.94 2.06-2.06.94z\"/><path d=\"M17.41 7.96l-1.37-1.37c-.4-.4-.92-.59-1.43-.59-.52 0-1.04.2-1.43.59L10.3 9.45l-7.72 7.72c-.78.78-.78 2.05 0 2.83L4 21.41c.39.39.9.59 1.41.59.51 0 1.02-.2 1.41-.59l7.78-7.78 2.81-2.81c.8-.78.8-2.07 0-2.86zM5.41 20L4 18.59l7.72-7.72 1.47 1.35L5.41 20z\"/>\n",
              "  </svg>\n",
              "      </button>\n",
              "      \n",
              "  <style>\n",
              "    .colab-df-container {\n",
              "      display:flex;\n",
              "      flex-wrap:wrap;\n",
              "      gap: 12px;\n",
              "    }\n",
              "\n",
              "    .colab-df-convert {\n",
              "      background-color: #E8F0FE;\n",
              "      border: none;\n",
              "      border-radius: 50%;\n",
              "      cursor: pointer;\n",
              "      display: none;\n",
              "      fill: #1967D2;\n",
              "      height: 32px;\n",
              "      padding: 0 0 0 0;\n",
              "      width: 32px;\n",
              "    }\n",
              "\n",
              "    .colab-df-convert:hover {\n",
              "      background-color: #E2EBFA;\n",
              "      box-shadow: 0px 1px 2px rgba(60, 64, 67, 0.3), 0px 1px 3px 1px rgba(60, 64, 67, 0.15);\n",
              "      fill: #174EA6;\n",
              "    }\n",
              "\n",
              "    [theme=dark] .colab-df-convert {\n",
              "      background-color: #3B4455;\n",
              "      fill: #D2E3FC;\n",
              "    }\n",
              "\n",
              "    [theme=dark] .colab-df-convert:hover {\n",
              "      background-color: #434B5C;\n",
              "      box-shadow: 0px 1px 3px 1px rgba(0, 0, 0, 0.15);\n",
              "      filter: drop-shadow(0px 1px 2px rgba(0, 0, 0, 0.3));\n",
              "      fill: #FFFFFF;\n",
              "    }\n",
              "  </style>\n",
              "\n",
              "      <script>\n",
              "        const buttonEl =\n",
              "          document.querySelector('#df-bae30f18-6450-465e-b242-b5891e6ab3d2 button.colab-df-convert');\n",
              "        buttonEl.style.display =\n",
              "          google.colab.kernel.accessAllowed ? 'block' : 'none';\n",
              "\n",
              "        async function convertToInteractive(key) {\n",
              "          const element = document.querySelector('#df-bae30f18-6450-465e-b242-b5891e6ab3d2');\n",
              "          const dataTable =\n",
              "            await google.colab.kernel.invokeFunction('convertToInteractive',\n",
              "                                                     [key], {});\n",
              "          if (!dataTable) return;\n",
              "\n",
              "          const docLinkHtml = 'Like what you see? Visit the ' +\n",
              "            '<a target=\"_blank\" href=https://colab.research.google.com/notebooks/data_table.ipynb>data table notebook</a>'\n",
              "            + ' to learn more about interactive tables.';\n",
              "          element.innerHTML = '';\n",
              "          dataTable['output_type'] = 'display_data';\n",
              "          await google.colab.output.renderOutput(dataTable, element);\n",
              "          const docLink = document.createElement('div');\n",
              "          docLink.innerHTML = docLinkHtml;\n",
              "          element.appendChild(docLink);\n",
              "        }\n",
              "      </script>\n",
              "    </div>\n",
              "  </div>\n",
              "  "
            ],
            "text/plain": [
              "   Ant1_real  Ant2_real  Ant1_imag  Ant2_imag  Label\n",
              "0  -0.320795  -0.388098   0.582608   0.757155      0\n",
              "1   0.580081  -0.268869  -0.202019  -0.586703      1\n",
              "2   0.687304   0.715980   0.207492  -0.212204      2\n",
              "3   0.425381   0.059521   0.486319   0.146756      3"
            ]
          },
          "metadata": {},
          "execution_count": 18
        }
      ]
    },
    {
      "cell_type": "markdown",
      "source": [
        "#Preprocessing for KNN & SVM"
      ],
      "metadata": {
        "id": "ZTV_I4tBt83G"
      }
    },
    {
      "cell_type": "code",
      "source": [
        "scaler = StandardScaler()"
      ],
      "metadata": {
        "id": "kKGZbuZDt8Wh"
      },
      "execution_count": 19,
      "outputs": []
    },
    {
      "cell_type": "code",
      "source": [
        "scaler.fit(xy.drop('Label',axis=1))"
      ],
      "metadata": {
        "id": "TECqsW20u2Bn"
      },
      "execution_count": 20,
      "outputs": []
    },
    {
      "cell_type": "code",
      "source": [
        "scaled_features = scaler.transform(xy.drop('Label',axis=1))"
      ],
      "metadata": {
        "id": "NZDjbYmvvHx1"
      },
      "execution_count": 21,
      "outputs": []
    },
    {
      "cell_type": "code",
      "source": [
        "xy = pd.DataFrame(scaled_features,columns=xy.columns[:-1])\n",
        "xy['Label']=np.arange(0,4)\n",
        "xy"
      ],
      "metadata": {
        "id": "i7-PEREivI83"
      },
      "execution_count": 22,
      "outputs": []
    },
    {
      "cell_type": "markdown",
      "source": [
        "#Preprocessing for MLP"
      ],
      "metadata": {
        "id": "NlfIRPKn0-dh"
      }
    },
    {
      "cell_type": "code",
      "source": [
        "xy_NN"
      ],
      "metadata": {
        "colab": {
          "base_uri": "https://localhost:8080/",
          "height": 424
        },
        "id": "m88R0xiBw5zl",
        "outputId": "566901bc-580f-4448-f4bf-93ea13e84dda"
      },
      "execution_count": 23,
      "outputs": [
        {
          "output_type": "execute_result",
          "data": {
            "text/html": [
              "\n",
              "  <div id=\"df-4a065f88-276b-4ee1-875f-a0a663a97a28\">\n",
              "    <div class=\"colab-df-container\">\n",
              "      <div>\n",
              "<style scoped>\n",
              "    .dataframe tbody tr th:only-of-type {\n",
              "        vertical-align: middle;\n",
              "    }\n",
              "\n",
              "    .dataframe tbody tr th {\n",
              "        vertical-align: top;\n",
              "    }\n",
              "\n",
              "    .dataframe thead th {\n",
              "        text-align: right;\n",
              "    }\n",
              "</style>\n",
              "<table border=\"1\" class=\"dataframe\">\n",
              "  <thead>\n",
              "    <tr style=\"text-align: right;\">\n",
              "      <th></th>\n",
              "      <th>Ant1_real</th>\n",
              "      <th>Ant2_real</th>\n",
              "      <th>Ant1_imag</th>\n",
              "      <th>Ant2_imag</th>\n",
              "      <th>Label</th>\n",
              "    </tr>\n",
              "  </thead>\n",
              "  <tbody>\n",
              "    <tr>\n",
              "      <th>0</th>\n",
              "      <td>-0.334541</td>\n",
              "      <td>-0.359698</td>\n",
              "      <td>0.555407</td>\n",
              "      <td>0.808901</td>\n",
              "      <td>0</td>\n",
              "    </tr>\n",
              "    <tr>\n",
              "      <th>1</th>\n",
              "      <td>0.566335</td>\n",
              "      <td>-0.240469</td>\n",
              "      <td>-0.229220</td>\n",
              "      <td>-0.534957</td>\n",
              "      <td>1</td>\n",
              "    </tr>\n",
              "    <tr>\n",
              "      <th>2</th>\n",
              "      <td>0.673558</td>\n",
              "      <td>0.744380</td>\n",
              "      <td>0.180290</td>\n",
              "      <td>-0.160458</td>\n",
              "      <td>2</td>\n",
              "    </tr>\n",
              "    <tr>\n",
              "      <th>3</th>\n",
              "      <td>0.411635</td>\n",
              "      <td>0.087922</td>\n",
              "      <td>0.459118</td>\n",
              "      <td>0.198503</td>\n",
              "      <td>3</td>\n",
              "    </tr>\n",
              "    <tr>\n",
              "      <th>0</th>\n",
              "      <td>-0.265096</td>\n",
              "      <td>-0.453052</td>\n",
              "      <td>0.617969</td>\n",
              "      <td>0.721873</td>\n",
              "      <td>0</td>\n",
              "    </tr>\n",
              "    <tr>\n",
              "      <th>...</th>\n",
              "      <td>...</td>\n",
              "      <td>...</td>\n",
              "      <td>...</td>\n",
              "      <td>...</td>\n",
              "      <td>...</td>\n",
              "    </tr>\n",
              "    <tr>\n",
              "      <th>3</th>\n",
              "      <td>0.531712</td>\n",
              "      <td>0.074944</td>\n",
              "      <td>0.479903</td>\n",
              "      <td>0.143022</td>\n",
              "      <td>3</td>\n",
              "    </tr>\n",
              "    <tr>\n",
              "      <th>0</th>\n",
              "      <td>-0.320795</td>\n",
              "      <td>-0.388098</td>\n",
              "      <td>0.582608</td>\n",
              "      <td>0.757155</td>\n",
              "      <td>0</td>\n",
              "    </tr>\n",
              "    <tr>\n",
              "      <th>1</th>\n",
              "      <td>0.580081</td>\n",
              "      <td>-0.268869</td>\n",
              "      <td>-0.202019</td>\n",
              "      <td>-0.586703</td>\n",
              "      <td>1</td>\n",
              "    </tr>\n",
              "    <tr>\n",
              "      <th>2</th>\n",
              "      <td>0.687304</td>\n",
              "      <td>0.715980</td>\n",
              "      <td>0.207492</td>\n",
              "      <td>-0.212204</td>\n",
              "      <td>2</td>\n",
              "    </tr>\n",
              "    <tr>\n",
              "      <th>3</th>\n",
              "      <td>0.425381</td>\n",
              "      <td>0.059521</td>\n",
              "      <td>0.486319</td>\n",
              "      <td>0.146756</td>\n",
              "      <td>3</td>\n",
              "    </tr>\n",
              "  </tbody>\n",
              "</table>\n",
              "<p>1204 rows × 5 columns</p>\n",
              "</div>\n",
              "      <button class=\"colab-df-convert\" onclick=\"convertToInteractive('df-4a065f88-276b-4ee1-875f-a0a663a97a28')\"\n",
              "              title=\"Convert this dataframe to an interactive table.\"\n",
              "              style=\"display:none;\">\n",
              "        \n",
              "  <svg xmlns=\"http://www.w3.org/2000/svg\" height=\"24px\"viewBox=\"0 0 24 24\"\n",
              "       width=\"24px\">\n",
              "    <path d=\"M0 0h24v24H0V0z\" fill=\"none\"/>\n",
              "    <path d=\"M18.56 5.44l.94 2.06.94-2.06 2.06-.94-2.06-.94-.94-2.06-.94 2.06-2.06.94zm-11 1L8.5 8.5l.94-2.06 2.06-.94-2.06-.94L8.5 2.5l-.94 2.06-2.06.94zm10 10l.94 2.06.94-2.06 2.06-.94-2.06-.94-.94-2.06-.94 2.06-2.06.94z\"/><path d=\"M17.41 7.96l-1.37-1.37c-.4-.4-.92-.59-1.43-.59-.52 0-1.04.2-1.43.59L10.3 9.45l-7.72 7.72c-.78.78-.78 2.05 0 2.83L4 21.41c.39.39.9.59 1.41.59.51 0 1.02-.2 1.41-.59l7.78-7.78 2.81-2.81c.8-.78.8-2.07 0-2.86zM5.41 20L4 18.59l7.72-7.72 1.47 1.35L5.41 20z\"/>\n",
              "  </svg>\n",
              "      </button>\n",
              "      \n",
              "  <style>\n",
              "    .colab-df-container {\n",
              "      display:flex;\n",
              "      flex-wrap:wrap;\n",
              "      gap: 12px;\n",
              "    }\n",
              "\n",
              "    .colab-df-convert {\n",
              "      background-color: #E8F0FE;\n",
              "      border: none;\n",
              "      border-radius: 50%;\n",
              "      cursor: pointer;\n",
              "      display: none;\n",
              "      fill: #1967D2;\n",
              "      height: 32px;\n",
              "      padding: 0 0 0 0;\n",
              "      width: 32px;\n",
              "    }\n",
              "\n",
              "    .colab-df-convert:hover {\n",
              "      background-color: #E2EBFA;\n",
              "      box-shadow: 0px 1px 2px rgba(60, 64, 67, 0.3), 0px 1px 3px 1px rgba(60, 64, 67, 0.15);\n",
              "      fill: #174EA6;\n",
              "    }\n",
              "\n",
              "    [theme=dark] .colab-df-convert {\n",
              "      background-color: #3B4455;\n",
              "      fill: #D2E3FC;\n",
              "    }\n",
              "\n",
              "    [theme=dark] .colab-df-convert:hover {\n",
              "      background-color: #434B5C;\n",
              "      box-shadow: 0px 1px 3px 1px rgba(0, 0, 0, 0.15);\n",
              "      filter: drop-shadow(0px 1px 2px rgba(0, 0, 0, 0.3));\n",
              "      fill: #FFFFFF;\n",
              "    }\n",
              "  </style>\n",
              "\n",
              "      <script>\n",
              "        const buttonEl =\n",
              "          document.querySelector('#df-4a065f88-276b-4ee1-875f-a0a663a97a28 button.colab-df-convert');\n",
              "        buttonEl.style.display =\n",
              "          google.colab.kernel.accessAllowed ? 'block' : 'none';\n",
              "\n",
              "        async function convertToInteractive(key) {\n",
              "          const element = document.querySelector('#df-4a065f88-276b-4ee1-875f-a0a663a97a28');\n",
              "          const dataTable =\n",
              "            await google.colab.kernel.invokeFunction('convertToInteractive',\n",
              "                                                     [key], {});\n",
              "          if (!dataTable) return;\n",
              "\n",
              "          const docLinkHtml = 'Like what you see? Visit the ' +\n",
              "            '<a target=\"_blank\" href=https://colab.research.google.com/notebooks/data_table.ipynb>data table notebook</a>'\n",
              "            + ' to learn more about interactive tables.';\n",
              "          element.innerHTML = '';\n",
              "          dataTable['output_type'] = 'display_data';\n",
              "          await google.colab.output.renderOutput(dataTable, element);\n",
              "          const docLink = document.createElement('div');\n",
              "          docLink.innerHTML = docLinkHtml;\n",
              "          element.appendChild(docLink);\n",
              "        }\n",
              "      </script>\n",
              "    </div>\n",
              "  </div>\n",
              "  "
            ],
            "text/plain": [
              "    Ant1_real  Ant2_real  Ant1_imag  Ant2_imag  Label\n",
              "0   -0.334541  -0.359698   0.555407   0.808901      0\n",
              "1    0.566335  -0.240469  -0.229220  -0.534957      1\n",
              "2    0.673558   0.744380   0.180290  -0.160458      2\n",
              "3    0.411635   0.087922   0.459118   0.198503      3\n",
              "0   -0.265096  -0.453052   0.617969   0.721873      0\n",
              "..        ...        ...        ...        ...    ...\n",
              "3    0.531712   0.074944   0.479903   0.143022      3\n",
              "0   -0.320795  -0.388098   0.582608   0.757155      0\n",
              "1    0.580081  -0.268869  -0.202019  -0.586703      1\n",
              "2    0.687304   0.715980   0.207492  -0.212204      2\n",
              "3    0.425381   0.059521   0.486319   0.146756      3\n",
              "\n",
              "[1204 rows x 5 columns]"
            ]
          },
          "metadata": {},
          "execution_count": 23
        }
      ]
    },
    {
      "cell_type": "code",
      "source": [
        "'''preprocessing for NN'''\n",
        "x_NN=xy_NN[['Ant1_real','Ant2_real','Ant1_imag','Ant2_imag']]\n",
        "y_NN=xy_NN['Label']\n",
        "'''Labels one hot encoding'''\n",
        "y_NN=to_categorical(y_NN, num_classes=4)\n",
        "'''Spliting data to train and validation'''\n",
        "X_train_NN, X_test_NN, y_train_NN, y_test_NN = train_test_split(x_NN, y_NN, test_size=0.3, random_state=101)"
      ],
      "metadata": {
        "id": "PoetTn9uxIBM"
      },
      "execution_count": 24,
      "outputs": []
    },
    {
      "cell_type": "code",
      "source": [
        "'''Spliting features and labels for SVM & KNN'''\n",
        "x=xy[['Ant1_real','Ant2_real','Ant1_imag','Ant2_imag']]\n",
        "y=xy['Label']"
      ],
      "metadata": {
        "id": "QQPFkgHvvDIF"
      },
      "execution_count": 25,
      "outputs": []
    },
    {
      "cell_type": "code",
      "source": [
        "xy"
      ],
      "metadata": {
        "colab": {
          "base_uri": "https://localhost:8080/",
          "height": 175
        },
        "id": "tkKScYCtvDQj",
        "outputId": "71837ae5-a31f-4cd3-b414-a2dc57c897fd"
      },
      "execution_count": 26,
      "outputs": [
        {
          "output_type": "execute_result",
          "data": {
            "text/html": [
              "\n",
              "  <div id=\"df-961f233f-2822-4ba3-8e2a-bd8b17602816\">\n",
              "    <div class=\"colab-df-container\">\n",
              "      <div>\n",
              "<style scoped>\n",
              "    .dataframe tbody tr th:only-of-type {\n",
              "        vertical-align: middle;\n",
              "    }\n",
              "\n",
              "    .dataframe tbody tr th {\n",
              "        vertical-align: top;\n",
              "    }\n",
              "\n",
              "    .dataframe thead th {\n",
              "        text-align: right;\n",
              "    }\n",
              "</style>\n",
              "<table border=\"1\" class=\"dataframe\">\n",
              "  <thead>\n",
              "    <tr style=\"text-align: right;\">\n",
              "      <th></th>\n",
              "      <th>Ant1_real</th>\n",
              "      <th>Ant2_real</th>\n",
              "      <th>Ant1_imag</th>\n",
              "      <th>Ant2_imag</th>\n",
              "      <th>Label</th>\n",
              "    </tr>\n",
              "  </thead>\n",
              "  <tbody>\n",
              "    <tr>\n",
              "      <th>0</th>\n",
              "      <td>-0.320795</td>\n",
              "      <td>-0.388098</td>\n",
              "      <td>0.582608</td>\n",
              "      <td>0.757155</td>\n",
              "      <td>0</td>\n",
              "    </tr>\n",
              "    <tr>\n",
              "      <th>1</th>\n",
              "      <td>0.580081</td>\n",
              "      <td>-0.268869</td>\n",
              "      <td>-0.202019</td>\n",
              "      <td>-0.586703</td>\n",
              "      <td>1</td>\n",
              "    </tr>\n",
              "    <tr>\n",
              "      <th>2</th>\n",
              "      <td>0.687304</td>\n",
              "      <td>0.715980</td>\n",
              "      <td>0.207492</td>\n",
              "      <td>-0.212204</td>\n",
              "      <td>2</td>\n",
              "    </tr>\n",
              "    <tr>\n",
              "      <th>3</th>\n",
              "      <td>0.425381</td>\n",
              "      <td>0.059521</td>\n",
              "      <td>0.486319</td>\n",
              "      <td>0.146756</td>\n",
              "      <td>3</td>\n",
              "    </tr>\n",
              "  </tbody>\n",
              "</table>\n",
              "</div>\n",
              "      <button class=\"colab-df-convert\" onclick=\"convertToInteractive('df-961f233f-2822-4ba3-8e2a-bd8b17602816')\"\n",
              "              title=\"Convert this dataframe to an interactive table.\"\n",
              "              style=\"display:none;\">\n",
              "        \n",
              "  <svg xmlns=\"http://www.w3.org/2000/svg\" height=\"24px\"viewBox=\"0 0 24 24\"\n",
              "       width=\"24px\">\n",
              "    <path d=\"M0 0h24v24H0V0z\" fill=\"none\"/>\n",
              "    <path d=\"M18.56 5.44l.94 2.06.94-2.06 2.06-.94-2.06-.94-.94-2.06-.94 2.06-2.06.94zm-11 1L8.5 8.5l.94-2.06 2.06-.94-2.06-.94L8.5 2.5l-.94 2.06-2.06.94zm10 10l.94 2.06.94-2.06 2.06-.94-2.06-.94-.94-2.06-.94 2.06-2.06.94z\"/><path d=\"M17.41 7.96l-1.37-1.37c-.4-.4-.92-.59-1.43-.59-.52 0-1.04.2-1.43.59L10.3 9.45l-7.72 7.72c-.78.78-.78 2.05 0 2.83L4 21.41c.39.39.9.59 1.41.59.51 0 1.02-.2 1.41-.59l7.78-7.78 2.81-2.81c.8-.78.8-2.07 0-2.86zM5.41 20L4 18.59l7.72-7.72 1.47 1.35L5.41 20z\"/>\n",
              "  </svg>\n",
              "      </button>\n",
              "      \n",
              "  <style>\n",
              "    .colab-df-container {\n",
              "      display:flex;\n",
              "      flex-wrap:wrap;\n",
              "      gap: 12px;\n",
              "    }\n",
              "\n",
              "    .colab-df-convert {\n",
              "      background-color: #E8F0FE;\n",
              "      border: none;\n",
              "      border-radius: 50%;\n",
              "      cursor: pointer;\n",
              "      display: none;\n",
              "      fill: #1967D2;\n",
              "      height: 32px;\n",
              "      padding: 0 0 0 0;\n",
              "      width: 32px;\n",
              "    }\n",
              "\n",
              "    .colab-df-convert:hover {\n",
              "      background-color: #E2EBFA;\n",
              "      box-shadow: 0px 1px 2px rgba(60, 64, 67, 0.3), 0px 1px 3px 1px rgba(60, 64, 67, 0.15);\n",
              "      fill: #174EA6;\n",
              "    }\n",
              "\n",
              "    [theme=dark] .colab-df-convert {\n",
              "      background-color: #3B4455;\n",
              "      fill: #D2E3FC;\n",
              "    }\n",
              "\n",
              "    [theme=dark] .colab-df-convert:hover {\n",
              "      background-color: #434B5C;\n",
              "      box-shadow: 0px 1px 3px 1px rgba(0, 0, 0, 0.15);\n",
              "      filter: drop-shadow(0px 1px 2px rgba(0, 0, 0, 0.3));\n",
              "      fill: #FFFFFF;\n",
              "    }\n",
              "  </style>\n",
              "\n",
              "      <script>\n",
              "        const buttonEl =\n",
              "          document.querySelector('#df-961f233f-2822-4ba3-8e2a-bd8b17602816 button.colab-df-convert');\n",
              "        buttonEl.style.display =\n",
              "          google.colab.kernel.accessAllowed ? 'block' : 'none';\n",
              "\n",
              "        async function convertToInteractive(key) {\n",
              "          const element = document.querySelector('#df-961f233f-2822-4ba3-8e2a-bd8b17602816');\n",
              "          const dataTable =\n",
              "            await google.colab.kernel.invokeFunction('convertToInteractive',\n",
              "                                                     [key], {});\n",
              "          if (!dataTable) return;\n",
              "\n",
              "          const docLinkHtml = 'Like what you see? Visit the ' +\n",
              "            '<a target=\"_blank\" href=https://colab.research.google.com/notebooks/data_table.ipynb>data table notebook</a>'\n",
              "            + ' to learn more about interactive tables.';\n",
              "          element.innerHTML = '';\n",
              "          dataTable['output_type'] = 'display_data';\n",
              "          await google.colab.output.renderOutput(dataTable, element);\n",
              "          const docLink = document.createElement('div');\n",
              "          docLink.innerHTML = docLinkHtml;\n",
              "          element.appendChild(docLink);\n",
              "        }\n",
              "      </script>\n",
              "    </div>\n",
              "  </div>\n",
              "  "
            ],
            "text/plain": [
              "   Ant1_real  Ant2_real  Ant1_imag  Ant2_imag  Label\n",
              "0  -0.320795  -0.388098   0.582608   0.757155      0\n",
              "1   0.580081  -0.268869  -0.202019  -0.586703      1\n",
              "2   0.687304   0.715980   0.207492  -0.212204      2\n",
              "3   0.425381   0.059521   0.486319   0.146756      3"
            ]
          },
          "metadata": {},
          "execution_count": 26
        }
      ]
    },
    {
      "cell_type": "code",
      "source": [
        "'''Spliting data to train and validation'''\n",
        "#X_train, X_test, y_train, y_test = train_test_split(x, y, test_size=0.000001, random_state=101)\n",
        "X_train=x\n",
        "y_train=y"
      ],
      "metadata": {
        "id": "CyRdviGDvDVk"
      },
      "execution_count": 27,
      "outputs": []
    },
    {
      "cell_type": "code",
      "source": [
        "X_train.shape"
      ],
      "metadata": {
        "colab": {
          "base_uri": "https://localhost:8080/"
        },
        "id": "qidmMccBvDX5",
        "outputId": "09aea8fb-38d8-4a5d-d7a3-fd0c4fba0109"
      },
      "execution_count": 28,
      "outputs": [
        {
          "output_type": "execute_result",
          "data": {
            "text/plain": [
              "(4, 4)"
            ]
          },
          "metadata": {},
          "execution_count": 28
        }
      ]
    },
    {
      "cell_type": "code",
      "source": [
        "y_train.shape"
      ],
      "metadata": {
        "colab": {
          "base_uri": "https://localhost:8080/"
        },
        "id": "bGEZXDgdvDao",
        "outputId": "919fd078-ec4f-4c24-b4a6-149a819a2441"
      },
      "execution_count": 29,
      "outputs": [
        {
          "output_type": "execute_result",
          "data": {
            "text/plain": [
              "(4,)"
            ]
          },
          "metadata": {},
          "execution_count": 29
        }
      ]
    },
    {
      "cell_type": "code",
      "source": [
        "class myCallback(tf.keras.callbacks.Callback):\n",
        "  def on_epoch_end(self, epoch, logs={}):\n",
        "    if(logs.get('accuracy')>0.95 and logs.get('val_loss')<0.1):\n",
        "      print(\"\\nReached 99% accuracy so cancelling training!\")\n",
        "      self.model.stop_training = True\n",
        "callbacks = myCallback()"
      ],
      "metadata": {
        "id": "55bYCjFny_IP"
      },
      "execution_count": 30,
      "outputs": []
    },
    {
      "cell_type": "markdown",
      "source": [
        "# Building neural network and training"
      ],
      "metadata": {
        "id": "h8YwCz66u46S"
      }
    },
    {
      "cell_type": "code",
      "source": [
        "model = Sequential()\n",
        "model.add(Input(shape=(4)))\n",
        "model.add(Dense(32, activation=keras.layers.LeakyReLU(alpha=0.01)))\n",
        "model.add(Dense(64, activation=keras.layers.LeakyReLU(alpha=0.01)))\n",
        "#model.add(Dropout(rate=0.1))\n",
        "#model.add(Dense(64, activation='relu'))\n",
        "model.add(Dropout(rate=0.2))\n",
        "model.add(Dense(32, activation=keras.layers.LeakyReLU(alpha=0.01)))\n",
        "model.add(Dense(4, activation='softmax'))\n"
      ],
      "metadata": {
        "id": "XPJIXBPuDTZh"
      },
      "execution_count": 31,
      "outputs": []
    },
    {
      "cell_type": "code",
      "source": [
        "model.compile(loss='categorical_crossentropy', optimizer='adam', metrics=['accuracy'])\n",
        "NN=model.fit(X_train_NN, y_train_NN, batch_size=32, epochs=10, validation_data=(X_test_NN,y_test_NN),callbacks=[callbacks])"
      ],
      "metadata": {
        "colab": {
          "base_uri": "https://localhost:8080/"
        },
        "id": "jXg7zS__KbNp",
        "outputId": "f09da251-8459-4acc-82b6-06115172bbdb"
      },
      "execution_count": 32,
      "outputs": [
        {
          "output_type": "stream",
          "name": "stdout",
          "text": [
            "Epoch 1/10\n",
            "27/27 [==============================] - 4s 47ms/step - loss: 1.1685 - accuracy: 0.8539 - val_loss: 0.9322 - val_accuracy: 0.9365\n",
            "Epoch 2/10\n",
            "27/27 [==============================] - 0s 12ms/step - loss: 0.6905 - accuracy: 0.9608 - val_loss: 0.4322 - val_accuracy: 1.0000\n",
            "Epoch 3/10\n",
            "27/27 [==============================] - 0s 11ms/step - loss: 0.2694 - accuracy: 0.9988 - val_loss: 0.1109 - val_accuracy: 1.0000\n",
            "Epoch 4/10\n",
            "17/27 [=================>............] - ETA: 0s - loss: 0.0820 - accuracy: 1.0000\n",
            "Reached 99% accuracy so cancelling training!\n",
            "27/27 [==============================] - 0s 10ms/step - loss: 0.0692 - accuracy: 1.0000 - val_loss: 0.0242 - val_accuracy: 1.0000\n"
          ]
        }
      ]
    },
    {
      "cell_type": "code",
      "source": [
        "model.summary()\n"
      ],
      "metadata": {
        "colab": {
          "base_uri": "https://localhost:8080/"
        },
        "id": "gvjX5EpfQ223",
        "outputId": "84a22229-13b0-44ad-926d-8e980942e88a"
      },
      "execution_count": 33,
      "outputs": [
        {
          "output_type": "stream",
          "name": "stdout",
          "text": [
            "Model: \"sequential\"\n",
            "_________________________________________________________________\n",
            " Layer (type)                Output Shape              Param #   \n",
            "=================================================================\n",
            " dense (Dense)               (None, 32)                160       \n",
            "                                                                 \n",
            " dense_1 (Dense)             (None, 64)                2112      \n",
            "                                                                 \n",
            " dropout (Dropout)           (None, 64)                0         \n",
            "                                                                 \n",
            " dense_2 (Dense)             (None, 32)                2080      \n",
            "                                                                 \n",
            " dense_3 (Dense)             (None, 4)                 132       \n",
            "                                                                 \n",
            "=================================================================\n",
            "Total params: 4,484\n",
            "Trainable params: 4,484\n",
            "Non-trainable params: 0\n",
            "_________________________________________________________________\n"
          ]
        }
      ]
    },
    {
      "cell_type": "markdown",
      "source": [
        "# Training KNN and SVM model"
      ],
      "metadata": {
        "id": "tfUo1jOZvEfx"
      }
    },
    {
      "cell_type": "code",
      "source": [
        "rbf = svm.SVC(kernel = 'rbf', gamma = 0.5, C = 0.1).fit(X_train, y_train)\n",
        "poly = svm.SVC(kernel = 'poly', degree = 3, C = 1).fit(X_train, y_train)\n",
        "knn = KNeighborsClassifier(n_neighbors=1).fit(X_train,y_train)"
      ],
      "metadata": {
        "id": "CrNclVpqvlbM"
      },
      "execution_count": 34,
      "outputs": []
    },
    {
      "cell_type": "markdown",
      "source": [
        "# Testing models on test dataset "
      ],
      "metadata": {
        "id": "dCpcNEsovVqY"
      }
    },
    {
      "cell_type": "code",
      "source": [
        "poly_pred = poly.predict(x_test_svm)\n",
        "rbf_pred = rbf.predict(x_test_svm)\n",
        "knn_pred = knn.predict(x_test_svm)"
      ],
      "metadata": {
        "id": "gKG7WPpWvpKk"
      },
      "execution_count": 35,
      "outputs": []
    },
    {
      "cell_type": "code",
      "source": [
        "knn_accuracy = accuracy_score(y_test_svm, knn_pred)\n",
        "knn_f1 = f1_score(y_test_svm, knn_pred, average ='weighted')\n",
        "print('Accuracy (KNN): ', \"%.2f\" % (knn_accuracy*100))\n",
        "print('F1 (KNN): ', \"%.2f\" % (knn_f1*100))"
      ],
      "metadata": {
        "id": "rqpC4utgvPp-",
        "colab": {
          "base_uri": "https://localhost:8080/"
        },
        "outputId": "48cd856b-93d7-4eec-fc11-9679182a5a33"
      },
      "execution_count": 36,
      "outputs": [
        {
          "output_type": "stream",
          "name": "stdout",
          "text": [
            "Accuracy (KNN):  97.50\n",
            "F1 (KNN):  97.48\n"
          ]
        }
      ]
    },
    {
      "cell_type": "code",
      "source": [
        "poly_accuracy = accuracy_score(y_test_svm, poly_pred)\n",
        "poly_f1 = f1_score(y_test_svm, poly_pred, average = 'weighted')\n",
        "print('Accuracy (Polynomial Kernel): ', \"%.2f\" % (poly_accuracy*100))\n",
        "print('F1 (Polynomial Kernel): ', \"%.2f\" % (poly_f1*100))"
      ],
      "metadata": {
        "colab": {
          "base_uri": "https://localhost:8080/"
        },
        "id": "t2TRhEj2vpNO",
        "outputId": "c373524d-37f4-44dc-edb1-fe9e7b2d23b1"
      },
      "execution_count": 37,
      "outputs": [
        {
          "output_type": "stream",
          "name": "stdout",
          "text": [
            "Accuracy (Polynomial Kernel):  85.50\n",
            "F1 (Polynomial Kernel):  85.06\n"
          ]
        }
      ]
    },
    {
      "cell_type": "code",
      "source": [
        "rbf_accuracy = accuracy_score(y_test_svm, rbf_pred)\n",
        "rbf_f1 = f1_score(y_test_svm, rbf_pred, average = 'weighted')\n",
        "print('Accuracy (RBF Kernel): ', \"%.2f\" % (rbf_accuracy*100))\n",
        "print('F1 (RBF Kernel): ', \"%.2f\" % (rbf_f1*100))"
      ],
      "metadata": {
        "colab": {
          "base_uri": "https://localhost:8080/"
        },
        "id": "5Fzn97D1vpQE",
        "outputId": "88a90ba8-2a7d-41ce-873c-f3d4950086e1"
      },
      "execution_count": 38,
      "outputs": [
        {
          "output_type": "stream",
          "name": "stdout",
          "text": [
            "Accuracy (RBF Kernel):  97.50\n",
            "F1 (RBF Kernel):  97.48\n"
          ]
        }
      ]
    },
    {
      "cell_type": "code",
      "source": [
        "'''Test the model'''\n",
        "NN_Accuracy = model.evaluate(x_test_nn, y_test_nn)"
      ],
      "metadata": {
        "colab": {
          "base_uri": "https://localhost:8080/"
        },
        "id": "qY-8zh_ZQ-e3",
        "outputId": "e9ef183c-ff7e-4b22-9bf2-a36afd354623"
      },
      "execution_count": 39,
      "outputs": [
        {
          "output_type": "stream",
          "name": "stdout",
          "text": [
            "7/7 [==============================] - 0s 5ms/step - loss: 0.0684 - accuracy: 1.0000\n"
          ]
        }
      ]
    },
    {
      "cell_type": "markdown",
      "source": [
        "#Choosing K value"
      ],
      "metadata": {
        "id": "NeoiTpR6t09x"
      }
    },
    {
      "cell_type": "code",
      "source": [
        "'''error_rate = []\n",
        "\n",
        "for i in range(1,4):\n",
        "    knn = KNeighborsClassifier(n_neighbors=i)\n",
        "    knn.fit(X_train,y_train)\n",
        "    pred_i = knn.predict(m1)\n",
        "    error_rate.append(np.mean(pred_i != n1))'''"
      ],
      "metadata": {
        "colab": {
          "base_uri": "https://localhost:8080/",
          "height": 53
        },
        "id": "j6DXbwLPt0IT",
        "outputId": "71a5581a-0482-4542-bde8-20220728664c"
      },
      "execution_count": 40,
      "outputs": [
        {
          "output_type": "execute_result",
          "data": {
            "application/vnd.google.colaboratory.intrinsic+json": {
              "type": "string"
            },
            "text/plain": [
              "'error_rate = []\\n\\nfor i in range(1,4):\\n    knn = KNeighborsClassifier(n_neighbors=i)\\n    knn.fit(X_train,y_train)\\n    pred_i = knn.predict(m1)\\n    error_rate.append(np.mean(pred_i != n1))'"
            ]
          },
          "metadata": {},
          "execution_count": 40
        }
      ]
    },
    {
      "cell_type": "code",
      "source": [
        "'''plt.figure(figsize=(10,6))\n",
        "plt.plot(range(1,40),error_rate,color='blue',ls='--',marker='o',markerfacecolor='red',markersize=10)\n",
        "plt.title('Error Rate vs. K Values')\n",
        "plt.xlabel('K')\n",
        "plt.ylabel('Error Rate')'''"
      ],
      "metadata": {
        "id": "JQlQKs_-t80B",
        "colab": {
          "base_uri": "https://localhost:8080/",
          "height": 53
        },
        "outputId": "c9730d06-cd4e-46e4-909e-1715eebb4493"
      },
      "execution_count": 41,
      "outputs": [
        {
          "output_type": "execute_result",
          "data": {
            "application/vnd.google.colaboratory.intrinsic+json": {
              "type": "string"
            },
            "text/plain": [
              "\"plt.figure(figsize=(10,6))\\nplt.plot(range(1,40),error_rate,color='blue',ls='--',marker='o',markerfacecolor='red',markersize=10)\\nplt.title('Error Rate vs. K Values')\\nplt.xlabel('K')\\nplt.ylabel('Error Rate')\""
            ]
          },
          "metadata": {},
          "execution_count": 41
        }
      ]
    }
  ]
}