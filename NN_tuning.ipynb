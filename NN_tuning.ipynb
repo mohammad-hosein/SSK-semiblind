{
  "nbformat": 4,
  "nbformat_minor": 0,
  "metadata": {
    "colab": {
      "name": "NN_tuning.ipynb",
      "provenance": [],
      "authorship_tag": "ABX9TyNuflxUj4D2GRbICZMM97lf",
      "include_colab_link": true
    },
    "kernelspec": {
      "name": "python3",
      "display_name": "Python 3"
    },
    "language_info": {
      "name": "python"
    }
  },
  "cells": [
    {
      "cell_type": "markdown",
      "metadata": {
        "id": "view-in-github",
        "colab_type": "text"
      },
      "source": [
        "<a href=\"https://colab.research.google.com/github/mohammad-hosein/Semi-Blind-MLP/blob/main/NN_tuning.ipynb\" target=\"_parent\"><img src=\"https://colab.research.google.com/assets/colab-badge.svg\" alt=\"Open In Colab\"/></a>"
      ]
    },
    {
      "cell_type": "code",
      "execution_count": 1,
      "metadata": {
        "id": "G37hfKVdF65Q"
      },
      "outputs": [],
      "source": [
        "import numpy as np\n",
        "import pandas as pd\n",
        "import tensorflow as tf\n",
        "import random\n",
        "from tensorflow import keras\n",
        "from tensorflow.keras import layers\n",
        "from tensorflow.keras.layers import Dense, Input,Dropout\n",
        "from tensorflow.keras.models import Sequential\n",
        "from tensorflow.keras.utils import to_categorical\n",
        "from sklearn.model_selection import train_test_split\n"
      ]
    },
    {
      "cell_type": "code",
      "source": [
        "'''Fading channel for specific number of antennas at transmitter and receiver side'''\n",
        "j=complex(0,1)\n",
        "def fading_channel (Nt,Nr):\n",
        "  h_real=np.random.normal(0, 0.5, size=(Nr, Nt))\n",
        "  h_img=np.random.normal(0, 0.5, size=(Nr, Nt))\n",
        "  H=np.array(h_real + h_img*j, dtype=complex)\n",
        "  return H"
      ],
      "metadata": {
        "id": "VTl7dHMsGM0z"
      },
      "execution_count": 2,
      "outputs": []
    },
    {
      "cell_type": "code",
      "source": [
        "'''SSK Constellation set'''\n",
        "Constellation_set= np.zeros(shape= (4,4))\n",
        "Constellation_set[0]= np.array([1,0,0,0])\n",
        "Constellation_set[1]= np.array([0,1,0,0])\n",
        "Constellation_set[2]= np.array([0,0,1,0])\n",
        "Constellation_set[3]= np.array([0,0,0,1])"
      ],
      "metadata": {
        "id": "Mgt64JvBGP0J"
      },
      "execution_count": 3,
      "outputs": []
    },
    {
      "cell_type": "code",
      "source": [
        "H=fading_channel (4,2)"
      ],
      "metadata": {
        "id": "wv-t2AGIGP9_"
      },
      "execution_count": 4,
      "outputs": []
    },
    {
      "cell_type": "code",
      "source": [
        "'''Complex noise'''\n",
        "def noise (N0,Nr):\n",
        "  n_real=np.random.normal(0, N0, size=Nr)\n",
        "  n_img=np.random.normal(0, N0, size=Nr)\n",
        "  noise=np.array(n_real + n_img*j, dtype=complex)\n",
        "  return noise"
      ],
      "metadata": {
        "id": "hgRY997MGQAX"
      },
      "execution_count": 5,
      "outputs": []
    },
    {
      "cell_type": "code",
      "source": [
        "'''Creating pilot signals'''\n",
        "def training (Label):\n",
        "  i= 0\n",
        "  y= np.zeros(shape= (4,2),dtype = \"complex_\")\n",
        "  for i in range(Label):\n",
        "    y[i]=np.dot(H, Constellation_set[i], out=None)+noise (0.1,2)\n",
        "    i=i+1\n",
        "  y_real=y.real\n",
        "  y_imag=y.imag\n",
        "  y1= np.concatenate((y_real,y_imag), axis=1)\n",
        "  y2= pd.DataFrame(y1, columns=['Ant1_real','Ant2_real','Ant1_imag','Ant2_imag'])\n",
        "  y2['Label']=np.arange(0,4)\n",
        "  return y2"
      ],
      "metadata": {
        "id": "EGlogZlFGQDG"
      },
      "execution_count": 6,
      "outputs": []
    },
    {
      "cell_type": "code",
      "source": [
        "'''Creating test signals'''\n",
        "def test_ (size):\n",
        "  y3=pd.DataFrame()\n",
        "  for i in range(size):\n",
        "    y= np.zeros(shape=(1,2),dtype = \"complex_\")\n",
        "    rand=random.randrange(0, 4, 1)\n",
        "    y=np.dot(H, Constellation_set[rand], out=None)+noise (0.1,2)\n",
        "    y_real=y.real\n",
        "    y_imag=y.imag\n",
        "    y1= np.concatenate((y_real,y_imag), axis=None)\n",
        "    y2=pd.DataFrame(y1.reshape((1,4)),columns=['Ant1_real','Ant2_real','Ant1_imag','Ant2_imag'])\n",
        "    if rand == 0 :\n",
        "      y2['Label']= 0\n",
        "    elif rand == 1 :\n",
        "      y2['Label']= 1\n",
        "    elif rand == 2 :\n",
        "      y2['Label']= 2\n",
        "    elif rand == 3 :\n",
        "      y2['Label']= 3\n",
        "    y3=pd.concat([y3,y2])\n",
        "  return y3"
      ],
      "metadata": {
        "id": "epVbwGfmGQFq"
      },
      "execution_count": 7,
      "outputs": []
    },
    {
      "cell_type": "code",
      "source": [
        "test=test_ (2000)"
      ],
      "metadata": {
        "id": "zAq1nGO-GQIC"
      },
      "execution_count": 8,
      "outputs": []
    },
    {
      "cell_type": "code",
      "source": [
        "n1=test['Label']\n",
        "m1_NN=test[['Ant1_real','Ant2_real','Ant1_imag','Ant2_imag']]\n",
        "n1_NN=test['Label']\n",
        "n1_NN=to_categorical(n1, num_classes=4)"
      ],
      "metadata": {
        "id": "xtvFswFAGQKV"
      },
      "execution_count": 9,
      "outputs": []
    },
    {
      "cell_type": "code",
      "source": [
        "'''Noise for data augmentation'''\n",
        "def noise_real (N0,Nr):\n",
        "  n_real=np.random.normal(0, N0, size=Nr)\n",
        "  return n_real"
      ],
      "metadata": {
        "id": "uMADWD_gGQMo"
      },
      "execution_count": 10,
      "outputs": []
    },
    {
      "cell_type": "code",
      "source": [
        "'''Data augmentation'''\n",
        "q1=training (4)\n",
        "l=pd.DataFrame()\n",
        "for i in range(500):\n",
        "  qs=q1[['Ant1_real','Ant2_real','Ant1_imag','Ant2_imag']]+noise_real(0.01,4)\n",
        "  qs['Label']=np.arange(0,4)\n",
        "  l = l.append(qs)\n",
        "  i=i+1"
      ],
      "metadata": {
        "id": "WGwa2-GmGQPB"
      },
      "execution_count": 11,
      "outputs": []
    },
    {
      "cell_type": "code",
      "source": [
        "xy_NN=pd.concat([l,q1])"
      ],
      "metadata": {
        "id": "qYtZVB3jGQRL"
      },
      "execution_count": 12,
      "outputs": []
    },
    {
      "cell_type": "code",
      "source": [
        "'''preprocessing for NN'''\n",
        "x_NN=xy_NN[['Ant1_real','Ant2_real','Ant1_imag','Ant2_imag']]\n",
        "y_NN=xy_NN['Label']\n",
        "'''Labels one hot encoding'''\n",
        "y_NN=to_categorical(y_NN, num_classes=4)\n",
        "'''Spliting data to train and validation'''\n",
        "X_train_NN, X_test_NN, y_train_NN, y_test_NN = train_test_split(x_NN, y_NN, test_size=0.3, random_state=101)"
      ],
      "metadata": {
        "id": "WLgyK5mjGQTE"
      },
      "execution_count": 13,
      "outputs": []
    },
    {
      "cell_type": "code",
      "source": [
        "pip install keras-tuner --upgrade"
      ],
      "metadata": {
        "colab": {
          "base_uri": "https://localhost:8080/"
        },
        "id": "yBF32ELrHvum",
        "outputId": "240fdef4-5460-49a8-f7e6-8d3d0f405172"
      },
      "execution_count": 15,
      "outputs": [
        {
          "output_type": "stream",
          "name": "stdout",
          "text": [
            "Collecting keras-tuner\n",
            "  Downloading keras_tuner-1.1.0-py3-none-any.whl (98 kB)\n",
            "\u001b[?25l\r\u001b[K     |███▍                            | 10 kB 18.1 MB/s eta 0:00:01\r\u001b[K     |██████▊                         | 20 kB 23.4 MB/s eta 0:00:01\r\u001b[K     |██████████                      | 30 kB 11.6 MB/s eta 0:00:01\r\u001b[K     |█████████████▍                  | 40 kB 9.3 MB/s eta 0:00:01\r\u001b[K     |████████████████▊               | 51 kB 5.2 MB/s eta 0:00:01\r\u001b[K     |████████████████████            | 61 kB 5.7 MB/s eta 0:00:01\r\u001b[K     |███████████████████████▍        | 71 kB 5.4 MB/s eta 0:00:01\r\u001b[K     |██████████████████████████▊     | 81 kB 6.0 MB/s eta 0:00:01\r\u001b[K     |██████████████████████████████  | 92 kB 4.7 MB/s eta 0:00:01\r\u001b[K     |████████████████████████████████| 98 kB 2.7 MB/s \n",
            "\u001b[?25hRequirement already satisfied: packaging in /usr/local/lib/python3.7/dist-packages (from keras-tuner) (21.3)\n",
            "Requirement already satisfied: scipy in /usr/local/lib/python3.7/dist-packages (from keras-tuner) (1.4.1)\n",
            "Requirement already satisfied: ipython in /usr/local/lib/python3.7/dist-packages (from keras-tuner) (5.5.0)\n",
            "Collecting kt-legacy\n",
            "  Downloading kt_legacy-1.0.4-py3-none-any.whl (9.6 kB)\n",
            "Requirement already satisfied: requests in /usr/local/lib/python3.7/dist-packages (from keras-tuner) (2.23.0)\n",
            "Requirement already satisfied: tensorboard in /usr/local/lib/python3.7/dist-packages (from keras-tuner) (2.7.0)\n",
            "Requirement already satisfied: numpy in /usr/local/lib/python3.7/dist-packages (from keras-tuner) (1.19.5)\n",
            "Requirement already satisfied: decorator in /usr/local/lib/python3.7/dist-packages (from ipython->keras-tuner) (4.4.2)\n",
            "Requirement already satisfied: simplegeneric>0.8 in /usr/local/lib/python3.7/dist-packages (from ipython->keras-tuner) (0.8.1)\n",
            "Requirement already satisfied: pexpect in /usr/local/lib/python3.7/dist-packages (from ipython->keras-tuner) (4.8.0)\n",
            "Requirement already satisfied: pygments in /usr/local/lib/python3.7/dist-packages (from ipython->keras-tuner) (2.6.1)\n",
            "Requirement already satisfied: pickleshare in /usr/local/lib/python3.7/dist-packages (from ipython->keras-tuner) (0.7.5)\n",
            "Requirement already satisfied: traitlets>=4.2 in /usr/local/lib/python3.7/dist-packages (from ipython->keras-tuner) (5.1.1)\n",
            "Requirement already satisfied: prompt-toolkit<2.0.0,>=1.0.4 in /usr/local/lib/python3.7/dist-packages (from ipython->keras-tuner) (1.0.18)\n",
            "Requirement already satisfied: setuptools>=18.5 in /usr/local/lib/python3.7/dist-packages (from ipython->keras-tuner) (57.4.0)\n",
            "Requirement already satisfied: six>=1.9.0 in /usr/local/lib/python3.7/dist-packages (from prompt-toolkit<2.0.0,>=1.0.4->ipython->keras-tuner) (1.15.0)\n",
            "Requirement already satisfied: wcwidth in /usr/local/lib/python3.7/dist-packages (from prompt-toolkit<2.0.0,>=1.0.4->ipython->keras-tuner) (0.2.5)\n",
            "Requirement already satisfied: pyparsing!=3.0.5,>=2.0.2 in /usr/local/lib/python3.7/dist-packages (from packaging->keras-tuner) (3.0.6)\n",
            "Requirement already satisfied: ptyprocess>=0.5 in /usr/local/lib/python3.7/dist-packages (from pexpect->ipython->keras-tuner) (0.7.0)\n",
            "Requirement already satisfied: idna<3,>=2.5 in /usr/local/lib/python3.7/dist-packages (from requests->keras-tuner) (2.10)\n",
            "Requirement already satisfied: certifi>=2017.4.17 in /usr/local/lib/python3.7/dist-packages (from requests->keras-tuner) (2021.10.8)\n",
            "Requirement already satisfied: chardet<4,>=3.0.2 in /usr/local/lib/python3.7/dist-packages (from requests->keras-tuner) (3.0.4)\n",
            "Requirement already satisfied: urllib3!=1.25.0,!=1.25.1,<1.26,>=1.21.1 in /usr/local/lib/python3.7/dist-packages (from requests->keras-tuner) (1.24.3)\n",
            "Requirement already satisfied: grpcio>=1.24.3 in /usr/local/lib/python3.7/dist-packages (from tensorboard->keras-tuner) (1.42.0)\n",
            "Requirement already satisfied: protobuf>=3.6.0 in /usr/local/lib/python3.7/dist-packages (from tensorboard->keras-tuner) (3.17.3)\n",
            "Requirement already satisfied: tensorboard-plugin-wit>=1.6.0 in /usr/local/lib/python3.7/dist-packages (from tensorboard->keras-tuner) (1.8.0)\n",
            "Requirement already satisfied: werkzeug>=0.11.15 in /usr/local/lib/python3.7/dist-packages (from tensorboard->keras-tuner) (1.0.1)\n",
            "Requirement already satisfied: markdown>=2.6.8 in /usr/local/lib/python3.7/dist-packages (from tensorboard->keras-tuner) (3.3.6)\n",
            "Requirement already satisfied: google-auth-oauthlib<0.5,>=0.4.1 in /usr/local/lib/python3.7/dist-packages (from tensorboard->keras-tuner) (0.4.6)\n",
            "Requirement already satisfied: google-auth<3,>=1.6.3 in /usr/local/lib/python3.7/dist-packages (from tensorboard->keras-tuner) (1.35.0)\n",
            "Requirement already satisfied: wheel>=0.26 in /usr/local/lib/python3.7/dist-packages (from tensorboard->keras-tuner) (0.37.0)\n",
            "Requirement already satisfied: tensorboard-data-server<0.7.0,>=0.6.0 in /usr/local/lib/python3.7/dist-packages (from tensorboard->keras-tuner) (0.6.1)\n",
            "Requirement already satisfied: absl-py>=0.4 in /usr/local/lib/python3.7/dist-packages (from tensorboard->keras-tuner) (0.12.0)\n",
            "Requirement already satisfied: pyasn1-modules>=0.2.1 in /usr/local/lib/python3.7/dist-packages (from google-auth<3,>=1.6.3->tensorboard->keras-tuner) (0.2.8)\n",
            "Requirement already satisfied: rsa<5,>=3.1.4 in /usr/local/lib/python3.7/dist-packages (from google-auth<3,>=1.6.3->tensorboard->keras-tuner) (4.8)\n",
            "Requirement already satisfied: cachetools<5.0,>=2.0.0 in /usr/local/lib/python3.7/dist-packages (from google-auth<3,>=1.6.3->tensorboard->keras-tuner) (4.2.4)\n",
            "Requirement already satisfied: requests-oauthlib>=0.7.0 in /usr/local/lib/python3.7/dist-packages (from google-auth-oauthlib<0.5,>=0.4.1->tensorboard->keras-tuner) (1.3.0)\n",
            "Requirement already satisfied: importlib-metadata>=4.4 in /usr/local/lib/python3.7/dist-packages (from markdown>=2.6.8->tensorboard->keras-tuner) (4.8.2)\n",
            "Requirement already satisfied: zipp>=0.5 in /usr/local/lib/python3.7/dist-packages (from importlib-metadata>=4.4->markdown>=2.6.8->tensorboard->keras-tuner) (3.6.0)\n",
            "Requirement already satisfied: typing-extensions>=3.6.4 in /usr/local/lib/python3.7/dist-packages (from importlib-metadata>=4.4->markdown>=2.6.8->tensorboard->keras-tuner) (3.10.0.2)\n",
            "Requirement already satisfied: pyasn1<0.5.0,>=0.4.6 in /usr/local/lib/python3.7/dist-packages (from pyasn1-modules>=0.2.1->google-auth<3,>=1.6.3->tensorboard->keras-tuner) (0.4.8)\n",
            "Requirement already satisfied: oauthlib>=3.0.0 in /usr/local/lib/python3.7/dist-packages (from requests-oauthlib>=0.7.0->google-auth-oauthlib<0.5,>=0.4.1->tensorboard->keras-tuner) (3.1.1)\n",
            "Installing collected packages: kt-legacy, keras-tuner\n",
            "Successfully installed keras-tuner-1.1.0 kt-legacy-1.0.4\n"
          ]
        }
      ]
    },
    {
      "cell_type": "code",
      "source": [
        "\n",
        "import keras_tuner as kt"
      ],
      "metadata": {
        "id": "b1oWxF8tGQVb"
      },
      "execution_count": 17,
      "outputs": []
    },
    {
      "cell_type": "code",
      "source": [
        "def build_model(hp):\n",
        "    model = keras.Sequential()\n",
        "    # Tune the number of layers.\n",
        "    for i in range(hp.Int(\"num_layers\", 1, 4)):\n",
        "        model.add(\n",
        "            layers.Dense(\n",
        "                # Tune number of units separately.\n",
        "                units=hp.Int(f\"units_{i}\", min_value=8, max_value=512, step=8),\n",
        "                activation=hp.Choice(\"activation\", [\"relu\", \"tanh\"]),\n",
        "            )\n",
        "        )\n",
        "    if hp.Boolean(\"dropout\"):\n",
        "        model.add(layers.Dropout(rate=0.25))\n",
        "    model.add(layers.Dense(4, activation=\"softmax\"))\n",
        "    learning_rate = hp.Float(\"lr\", min_value=1e-4, max_value=1e-2, sampling=\"log\")\n",
        "    model.compile(\n",
        "        optimizer=keras.optimizers.Adam(learning_rate=learning_rate),\n",
        "        loss=\"categorical_crossentropy\",\n",
        "        metrics=[\"accuracy\"],\n",
        "    )\n",
        "    return model\n",
        "\n",
        "\n",
        "build_model(kt.HyperParameters())"
      ],
      "metadata": {
        "colab": {
          "base_uri": "https://localhost:8080/"
        },
        "id": "3hCVLbQ4GruB",
        "outputId": "4183a60c-5778-4716-e134-6b279ab43519"
      },
      "execution_count": 18,
      "outputs": [
        {
          "output_type": "execute_result",
          "data": {
            "text/plain": [
              "<keras.engine.sequential.Sequential at 0x7fb2aab7d410>"
            ]
          },
          "metadata": {},
          "execution_count": 18
        }
      ]
    },
    {
      "cell_type": "code",
      "source": [
        "tuner = kt.RandomSearch(\n",
        "    hypermodel=build_model,\n",
        "    objective=\"val_accuracy\",\n",
        "    max_trials=10,\n",
        "    executions_per_trial=5,\n",
        "    overwrite=True,\n",
        "    directory=\"my_dir\",\n",
        "    project_name=\"helloworld\",\n",
        ")"
      ],
      "metadata": {
        "id": "eo_VPMUPGrzh"
      },
      "execution_count": 19,
      "outputs": []
    },
    {
      "cell_type": "code",
      "source": [
        "tuner.search_space_summary()"
      ],
      "metadata": {
        "colab": {
          "base_uri": "https://localhost:8080/"
        },
        "id": "SbQ8jtY6Gr1z",
        "outputId": "0ecbd55a-c9c4-4161-e919-8f5c0574b438"
      },
      "execution_count": 20,
      "outputs": [
        {
          "output_type": "stream",
          "name": "stdout",
          "text": [
            "Search space summary\n",
            "Default search space size: 5\n",
            "num_layers (Int)\n",
            "{'default': None, 'conditions': [], 'min_value': 1, 'max_value': 4, 'step': 1, 'sampling': None}\n",
            "units_0 (Int)\n",
            "{'default': None, 'conditions': [], 'min_value': 8, 'max_value': 512, 'step': 8, 'sampling': None}\n",
            "activation (Choice)\n",
            "{'default': 'relu', 'conditions': [], 'values': ['relu', 'tanh'], 'ordered': False}\n",
            "dropout (Boolean)\n",
            "{'default': False, 'conditions': []}\n",
            "lr (Float)\n",
            "{'default': 0.0001, 'conditions': [], 'min_value': 0.0001, 'max_value': 0.01, 'step': None, 'sampling': 'log'}\n"
          ]
        }
      ]
    },
    {
      "cell_type": "code",
      "source": [
        "tuner.search(X_train_NN, y_train_NN, epochs=3, validation_data=(m1_NN,n1_NN))"
      ],
      "metadata": {
        "colab": {
          "base_uri": "https://localhost:8080/"
        },
        "id": "bVFlhdCMGr4F",
        "outputId": "bcc41be7-9997-456b-dba8-d3710acbe38d"
      },
      "execution_count": 21,
      "outputs": [
        {
          "output_type": "stream",
          "name": "stdout",
          "text": [
            "Trial 10 Complete [00h 00m 09s]\n",
            "val_accuracy: 0.9707000136375428\n",
            "\n",
            "Best val_accuracy So Far: 1.0\n",
            "Total elapsed time: 00h 01m 45s\n",
            "INFO:tensorflow:Oracle triggered exit\n"
          ]
        }
      ]
    },
    {
      "cell_type": "code",
      "source": [
        "# Get the top 2 models.\n",
        "models = tuner.get_best_models(num_models=2)\n",
        "best_model = models[0]\n",
        "# Build the model.\n",
        "# Needed for `Sequential` without specified `input_shape`.\n",
        "best_model.build(input_shape=(None, 4))\n",
        "best_model.summary()"
      ],
      "metadata": {
        "colab": {
          "base_uri": "https://localhost:8080/"
        },
        "id": "BOCLr8D1Gr7G",
        "outputId": "b417d9f8-a3cd-4310-e424-8b0db0c4f45b"
      },
      "execution_count": 22,
      "outputs": [
        {
          "output_type": "stream",
          "name": "stdout",
          "text": [
            "Model: \"sequential\"\n",
            "_________________________________________________________________\n",
            " Layer (type)                Output Shape              Param #   \n",
            "=================================================================\n",
            " dense (Dense)               (None, 464)               2320      \n",
            "                                                                 \n",
            " dense_1 (Dense)             (None, 472)               219480    \n",
            "                                                                 \n",
            " dense_2 (Dense)             (None, 216)               102168    \n",
            "                                                                 \n",
            " dropout (Dropout)           (None, 216)               0         \n",
            "                                                                 \n",
            " dense_3 (Dense)             (None, 4)                 868       \n",
            "                                                                 \n",
            "=================================================================\n",
            "Total params: 324,836\n",
            "Trainable params: 324,836\n",
            "Non-trainable params: 0\n",
            "_________________________________________________________________\n"
          ]
        }
      ]
    },
    {
      "cell_type": "code",
      "source": [
        "tuner.results_summary()"
      ],
      "metadata": {
        "id": "CXV59EouGr-O"
      },
      "execution_count": null,
      "outputs": []
    },
    {
      "cell_type": "code",
      "source": [
        "best_hps = tuner.get_best_hyperparameters(5)\n",
        "# Build the model with the best hp.\n",
        "model = build_model(best_hps[0])"
      ],
      "metadata": {
        "id": "RvPmjYkbG-gg"
      },
      "execution_count": 24,
      "outputs": []
    },
    {
      "cell_type": "code",
      "source": [
        "model = Sequential()\n",
        "model.add(Input(shape=(4)))\n",
        "model.add(Dense(464, activation='relu'))\n",
        "model.add(Dense(472, activation='relu'))\n",
        "model.add(Dense(216, activation='relu'))\n",
        "model.add(Dropout(rate=0.25))\n",
        "model.add(Dense(4, activation='softmax'))"
      ],
      "metadata": {
        "id": "T8OeZmn9G-n4"
      },
      "execution_count": 28,
      "outputs": []
    },
    {
      "cell_type": "code",
      "source": [
        "model.compile(loss='categorical_crossentropy', optimizer='adam', metrics=['accuracy'])\n",
        "NN=model.fit(X_train_NN, y_train_NN, batch_size=1, epochs=3, validation_data=(X_test_NN,y_test_NN))\n"
      ],
      "metadata": {
        "colab": {
          "base_uri": "https://localhost:8080/"
        },
        "id": "aTFRpwzsG-qO",
        "outputId": "2f0f6407-d9aa-48c8-80b3-5e9ca2010db5"
      },
      "execution_count": 30,
      "outputs": [
        {
          "output_type": "stream",
          "name": "stdout",
          "text": [
            "Epoch 1/3\n",
            "1402/1402 [==============================] - 10s 6ms/step - loss: 0.0210 - accuracy: 0.9964 - val_loss: 1.0366e-06 - val_accuracy: 1.0000\n",
            "Epoch 2/3\n",
            "1402/1402 [==============================] - 6s 4ms/step - loss: 3.5907e-06 - accuracy: 1.0000 - val_loss: 1.4238e-07 - val_accuracy: 1.0000\n",
            "Epoch 3/3\n",
            "1402/1402 [==============================] - 6s 4ms/step - loss: 1.0367e-06 - accuracy: 1.0000 - val_loss: 1.3267e-08 - val_accuracy: 1.0000\n"
          ]
        }
      ]
    },
    {
      "cell_type": "code",
      "source": [
        "NN_Accuracy=model.evaluate(m1_NN, n1_NN)\n"
      ],
      "metadata": {
        "colab": {
          "base_uri": "https://localhost:8080/"
        },
        "id": "QjaCSEq5G-s3",
        "outputId": "a4129fc1-dc14-4991-e2da-b881b44a12bc"
      },
      "execution_count": 31,
      "outputs": [
        {
          "output_type": "stream",
          "name": "stdout",
          "text": [
            "63/63 [==============================] - 1s 5ms/step - loss: 6.1329e-04 - accuracy: 1.0000\n"
          ]
        }
      ]
    }
  ]
}